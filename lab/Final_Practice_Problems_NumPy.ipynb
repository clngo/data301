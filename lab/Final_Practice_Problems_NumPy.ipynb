{
  "cells": [
    {
      "cell_type": "markdown",
      "metadata": {
        "id": "X4MEbD4Cmldu"
      },
      "source": [
        "Book: Python Data Science Handbook:\n",
        "\n",
        "https://github.com/jakevdp/PythonDataScienceHandbook"
      ]
    },
    {
      "cell_type": "markdown",
      "metadata": {
        "id": "EEI9qfEaA961"
      },
      "source": [
        "**Task:** For each line of code, add a comment in your own words describing what that statement does. For example: `np.arange(1, 5)  # generates integers from 1 (inclusive) to 5 (exclusive)`\n"
      ]
    },
    {
      "cell_type": "code",
      "execution_count": 2,
      "metadata": {
        "id": "pUloXLCSriYv"
      },
      "outputs": [],
      "source": [
        "import numpy as np"
      ]
    },
    {
      "cell_type": "markdown",
      "metadata": {
        "id": "Ds-Z3QUYrmA_"
      },
      "source": [
        "A numpy array is sort of like a list:"
      ]
    },
    {
      "cell_type": "markdown",
      "metadata": {
        "id": "Ll74OIudr9j-"
      },
      "source": [
        "### Creating arrays\n",
        "\n",
        "ndarrays are typically created using two main methods:\n",
        "1. From existing data (usually lists or tuples) using `np.array()`, like we saw above; or,\n",
        "2. Using built-in functions such as `np.arange()`, `np.linspace()`, `np.zeros()`, etc."
      ]
    },
    {
      "cell_type": "markdown",
      "metadata": {
        "id": "C0XE26SMsCMV"
      },
      "source": [
        "Just like you can have \"multi-dimensional lists\" (by nesting lists in lists), you can have multi-dimensional arrays. Write the code to Create a multi-dimensional numpy array of you choice.  "
      ]
    },
    {
      "cell_type": "code",
      "execution_count": null,
      "metadata": {
        "id": "pwfCnnIOsMhw"
      },
      "outputs": [
        {
          "data": {
            "text/plain": [
              "array([1, 2, 3, 4, 5, 6])"
            ]
          },
          "execution_count": 3,
          "metadata": {},
          "output_type": "execute_result"
        }
      ],
      "source": [
        "np.arange(1, 7) # from including 1 to  excluding 7, return all indexes between"
      ]
    },
    {
      "cell_type": "code",
      "execution_count": null,
      "metadata": {
        "id": "ywGd7vXUsOQM"
      },
      "outputs": [
        {
          "data": {
            "text/plain": [
              "array([ 0,  2,  4,  6,  8, 10])"
            ]
          },
          "execution_count": 4,
          "metadata": {},
          "output_type": "execute_result"
        }
      ],
      "source": [
        "np.arange(0, 11, 2) # steps of 2 starting from 0"
      ]
    },
    {
      "cell_type": "code",
      "execution_count": 23,
      "metadata": {},
      "outputs": [
        {
          "data": {
            "text/plain": [
              "array([ 1,  4,  7, 10, 13])"
            ]
          },
          "execution_count": 23,
          "metadata": {},
          "output_type": "execute_result"
        }
      ],
      "source": [
        "np.arange(1, 15, 3)"
      ]
    },
    {
      "cell_type": "code",
      "execution_count": 30,
      "metadata": {
        "id": "Y7HAUJPFsP2T"
      },
      "outputs": [
        {
          "data": {
            "text/plain": [
              "array([ 0.        ,  1.11111111,  2.22222222,  3.33333333,  4.44444444,\n",
              "        5.55555556,  6.66666667,  7.77777778,  8.88888889, 10.        ])"
            ]
          },
          "execution_count": 30,
          "metadata": {},
          "output_type": "execute_result"
        }
      ],
      "source": [
        "np.linspace(0, 10, 10) # 10 evenly spaced values between 0 and 10 "
      ]
    },
    {
      "cell_type": "code",
      "execution_count": 31,
      "metadata": {},
      "outputs": [
        {
          "data": {
            "text/plain": [
              "array([ 1.,  2.,  3.,  4.,  5.,  6.,  7.,  8.,  9., 10.])"
            ]
          },
          "execution_count": 31,
          "metadata": {},
          "output_type": "execute_result"
        }
      ],
      "source": [
        "np.linspace(1, 10, 10) # 10 evenly spaced values between 1 and 10 "
      ]
    },
    {
      "cell_type": "code",
      "execution_count": 29,
      "metadata": {},
      "outputs": [
        {
          "data": {
            "text/plain": [
              "array([ 0.        ,  0.52631579,  1.05263158,  1.57894737,  2.10526316,\n",
              "        2.63157895,  3.15789474,  3.68421053,  4.21052632,  4.73684211,\n",
              "        5.26315789,  5.78947368,  6.31578947,  6.84210526,  7.36842105,\n",
              "        7.89473684,  8.42105263,  8.94736842,  9.47368421, 10.        ])"
            ]
          },
          "execution_count": 29,
          "metadata": {},
          "output_type": "execute_result"
        }
      ],
      "source": [
        "np.linspace(0, 10, 20) # 20 evenly spaced evalues between 0 and 10 "
      ]
    },
    {
      "cell_type": "code",
      "execution_count": null,
      "metadata": {
        "id": "4930uMRHsRdq"
      },
      "outputs": [
        {
          "data": {
            "text/plain": [
              "array([[1., 1.],\n",
              "       [1., 1.]])"
            ]
          },
          "execution_count": 32,
          "metadata": {},
          "output_type": "execute_result"
        }
      ],
      "source": [
        "np.ones((2, 2)) # (x, y) where there are x number of 1s and y number of 1s"
      ]
    },
    {
      "cell_type": "code",
      "execution_count": 33,
      "metadata": {},
      "outputs": [
        {
          "data": {
            "text/plain": [
              "array([[[1., 1., 1.],\n",
              "        [1., 1., 1.]],\n",
              "\n",
              "       [[1., 1., 1.],\n",
              "        [1., 1., 1.]],\n",
              "\n",
              "       [[1., 1., 1.],\n",
              "        [1., 1., 1.]]])"
            ]
          },
          "execution_count": 33,
          "metadata": {},
          "output_type": "execute_result"
        }
      ],
      "source": [
        "np.ones((3, 2, 3))"
      ]
    },
    {
      "cell_type": "code",
      "execution_count": null,
      "metadata": {
        "id": "EcCOZWEPsS_p"
      },
      "outputs": [
        {
          "data": {
            "text/plain": [
              "array([[0., 0., 0.],\n",
              "       [0., 0., 0.]])"
            ]
          },
          "execution_count": 7,
          "metadata": {},
          "output_type": "execute_result"
        }
      ],
      "source": [
        "np.zeros((2, 3)) "
      ]
    },
    {
      "cell_type": "code",
      "execution_count": null,
      "metadata": {
        "id": "w3TZrLSasVOf"
      },
      "outputs": [
        {
          "data": {
            "text/plain": [
              "array([[3.14, 3.14, 3.14],\n",
              "       [3.14, 3.14, 3.14],\n",
              "       [3.14, 3.14, 3.14]])"
            ]
          },
          "execution_count": 8,
          "metadata": {},
          "output_type": "execute_result"
        }
      ],
      "source": [
        "np.full((3, 3), 3.14) #np.full(tuple, val); tuple is the matrix shape"
      ]
    },
    {
      "cell_type": "code",
      "execution_count": 9,
      "metadata": {
        "id": "JqT7GXsEsZXb"
      },
      "outputs": [
        {
          "data": {
            "text/plain": [
              "array([[[3.14, 3.14, 3.14],\n",
              "        [3.14, 3.14, 3.14],\n",
              "        [3.14, 3.14, 3.14]],\n",
              "\n",
              "       [[3.14, 3.14, 3.14],\n",
              "        [3.14, 3.14, 3.14],\n",
              "        [3.14, 3.14, 3.14]],\n",
              "\n",
              "       [[3.14, 3.14, 3.14],\n",
              "        [3.14, 3.14, 3.14],\n",
              "        [3.14, 3.14, 3.14]]])"
            ]
          },
          "execution_count": 9,
          "metadata": {},
          "output_type": "execute_result"
        }
      ],
      "source": [
        "np.full((3, 3, 3), 3.14)"
      ]
    },
    {
      "cell_type": "code",
      "execution_count": 81,
      "metadata": {
        "id": "-qS-_iVisbcW"
      },
      "outputs": [
        {
          "data": {
            "text/plain": [
              "array([[0.50146397, 0.95424625],\n",
              "       [0.23961338, 0.44890314],\n",
              "       [0.18060505, 0.79283792],\n",
              "       [0.58613614, 0.15523133],\n",
              "       [0.06572246, 0.23659718]])"
            ]
          },
          "execution_count": 81,
          "metadata": {},
          "output_type": "execute_result"
        }
      ],
      "source": [
        "np.random.rand(5, 2)"
      ]
    },
    {
      "cell_type": "code",
      "execution_count": null,
      "metadata": {
        "id": "ea27UYUwsiHz"
      },
      "outputs": [
        {
          "data": {
            "text/plain": [
              "array([[0.50895576, 0.5293743 ],\n",
              "       [0.29490365, 0.92651717],\n",
              "       [0.33015624, 0.7404551 ],\n",
              "       [0.91501725, 0.31869092],\n",
              "       [0.8586952 , 0.46594522]])"
            ]
          },
          "execution_count": 11,
          "metadata": {},
          "output_type": "execute_result"
        }
      ],
      "source": [
        "x = np.random.rand(5, 2) # generate random values of a 5x2 matrix\n",
        "x"
      ]
    },
    {
      "cell_type": "code",
      "execution_count": null,
      "metadata": {
        "id": "SEcFU2MEskOu"
      },
      "outputs": [
        {
          "data": {
            "text/plain": [
              "array([[0.50895576, 0.29490365, 0.33015624, 0.91501725, 0.8586952 ],\n",
              "       [0.5293743 , 0.92651717, 0.7404551 , 0.31869092, 0.46594522]])"
            ]
          },
          "execution_count": 82,
          "metadata": {},
          "output_type": "execute_result"
        }
      ],
      "source": [
        "x.transpose() # from 5x2 to 2x5"
      ]
    },
    {
      "cell_type": "code",
      "execution_count": null,
      "metadata": {
        "id": "RpUyAflSslvC"
      },
      "outputs": [
        {
          "data": {
            "text/plain": [
              "np.float64(0.5888710798911585)"
            ]
          },
          "execution_count": 13,
          "metadata": {},
          "output_type": "execute_result"
        }
      ],
      "source": [
        "x.mean() # sum of all elements divided by total number of elements"
      ]
    },
    {
      "cell_type": "code",
      "execution_count": null,
      "metadata": {
        "id": "QudbbYynsoC-"
      },
      "outputs": [
        {
          "data": {
            "text/plain": [
              "array([[0, 0],\n",
              "       [0, 0],\n",
              "       [0, 0],\n",
              "       [0, 0],\n",
              "       [0, 0]])"
            ]
          },
          "execution_count": 83,
          "metadata": {},
          "output_type": "execute_result"
        }
      ],
      "source": [
        "x.astype(int) # disregards the decimal values; just the integer; no rounding"
      ]
    },
    {
      "cell_type": "code",
      "execution_count": 86,
      "metadata": {},
      "outputs": [
        {
          "name": "stdout",
          "output_type": "stream",
          "text": [
            "[1.2 2.3 3.4]\n"
          ]
        },
        {
          "data": {
            "text/plain": [
              "array([1, 2, 3])"
            ]
          },
          "execution_count": 86,
          "metadata": {},
          "output_type": "execute_result"
        }
      ],
      "source": [
        "test = np.array([1.2, 2.3, 3.4])\n",
        "print(test)\n",
        "test.astype(int)"
      ]
    },
    {
      "cell_type": "markdown",
      "metadata": {
        "id": "QoYIoccisrBt"
      },
      "source": [
        "As you just saw above, arrays can be of any dimension, shape and size you desire. In fact, there are three main array attributes you need to know to work out the characteristics of an array:\n",
        "- `.ndim`: the number of dimensions of an array\n",
        "- `.shape`: the number of elements in each dimension (like calling `len()` on each dimension)\n",
        "- `.size`: the total number of elements in an array (i.e., the product of `.shape`)"
      ]
    },
    {
      "cell_type": "code",
      "execution_count": 101,
      "metadata": {
        "id": "RFQJHW3dFi96"
      },
      "outputs": [
        {
          "name": "stdout",
          "output_type": "stream",
          "text": [
            "1D Arrays\n",
            "[0.49554272 0.6969972  0.37583105]\n",
            "[2 1 2]\n",
            "[1 2 3]\n",
            "\n",
            "2D Arrays\n",
            "[[0.65103219]\n",
            " [0.73985699]\n",
            " [0.60962393]]\n",
            "[[0]\n",
            " [3]\n",
            " [2]]\n",
            "[[1]\n",
            " [2]\n",
            " [3]]\n"
          ]
        }
      ],
      "source": [
        "import numpy as np  # import the NumPy library for numerical operations\n",
        "\n",
        "# Create a 1D array of length 3\n",
        "print(\"1D Arrays\")\n",
        "arr = np.random.rand(3)\n",
        "print(arr)\n",
        "\n",
        "arr = np.random.randint((3), size=(3))\n",
        "print(arr)\n",
        "\n",
        "arr = np.array([1, 2, 3])\n",
        "print(arr)\n",
        "\n",
        "# Create a 2D column vector (3×1)\n",
        "print(\"\\n2D Arrays\")\n",
        "arr = np.random.rand(3, 1)\n",
        "print(arr)\n",
        "\n",
        "arr = np.random.randint(5, size=(3, 1))\n",
        "print(arr)\n",
        "\n",
        "arr = np.array([[1], [2], [3]])\n",
        "print(arr)\n",
        "# Add the 1D array `a` to each row of the column vector `b` via broadcasting\n",
        "\n",
        "# `a` (shape (3,)) is broadcast to shape (3,3) to match `b` (shape (3,1))\n"
      ]
    },
    {
      "cell_type": "markdown",
      "metadata": {
        "id": "X-YPjoO2TkW6"
      },
      "source": [
        "**Practice Task**:\n",
        "\n",
        "* Change a to be `np.array([2, 4, 6, 8])` and `b` to be `np.array([[10], [20]])`.\n",
        "\n",
        "* Explain (next to each line) why the shapes are or are not compatible for broadcasting."
      ]
    },
    {
      "cell_type": "code",
      "execution_count": 16,
      "metadata": {
        "id": "Nvj3sv3OlXVg"
      },
      "outputs": [],
      "source": [
        "\n",
        "\n",
        "# Create a 1D float array\n",
        "\n",
        "\n",
        "# Apply the sine ufunc to every element of x\n",
        "\n",
        "\n",
        "# Square each element of y using a ufunc\n",
        "\n",
        "\n",
        "# Compute the exponential of each element in z\n",
        "\n"
      ]
    },
    {
      "cell_type": "markdown",
      "metadata": {
        "id": "W6-lGv1rlb5b"
      },
      "source": [
        "Practice Task:\n",
        "\n",
        "Replace `np.sin(x)` with `np.log(x + 1)` and explain why we added +1 inside the log.\n",
        "\n",
        "Use `np.maximum(y, 0.5)` on the `y` array to threshold all values below 0.5 to 0.5. Write a comment for that line."
      ]
    },
    {
      "cell_type": "code",
      "execution_count": 17,
      "metadata": {
        "id": "40P_0y0YwzuG"
      },
      "outputs": [
        {
          "ename": "NameError",
          "evalue": "name 'pd' is not defined",
          "output_type": "error",
          "traceback": [
            "\u001b[0;31m---------------------------------------------------------------------------\u001b[0m",
            "\u001b[0;31mNameError\u001b[0m                                 Traceback (most recent call last)",
            "Cell \u001b[0;32mIn[17], line 3\u001b[0m\n\u001b[1;32m      1\u001b[0m \u001b[38;5;66;03m# Create a Pandas Series from a Python list\u001b[39;00m\n\u001b[1;32m      2\u001b[0m data \u001b[38;5;241m=\u001b[39m [\u001b[38;5;241m100\u001b[39m, \u001b[38;5;241m200\u001b[39m, \u001b[38;5;241m300\u001b[39m, \u001b[38;5;241m400\u001b[39m]            \u001b[38;5;66;03m# a simple Python list of integers\u001b[39;00m\n\u001b[0;32m----> 3\u001b[0m s \u001b[38;5;241m=\u001b[39m \u001b[43mpd\u001b[49m\u001b[38;5;241m.\u001b[39mSeries(data)                    \u001b[38;5;66;03m# s is now a Series: 0→100, 1→200, 2→300, 3→400\u001b[39;00m\n\u001b[1;32m      5\u001b[0m \u001b[38;5;66;03m# Create a Series with a custom index\u001b[39;00m\n\u001b[1;32m      6\u001b[0m labels \u001b[38;5;241m=\u001b[39m [\u001b[38;5;124m'\u001b[39m\u001b[38;5;124ma\u001b[39m\u001b[38;5;124m'\u001b[39m, \u001b[38;5;124m'\u001b[39m\u001b[38;5;124mb\u001b[39m\u001b[38;5;124m'\u001b[39m, \u001b[38;5;124m'\u001b[39m\u001b[38;5;124mc\u001b[39m\u001b[38;5;124m'\u001b[39m, \u001b[38;5;124m'\u001b[39m\u001b[38;5;124md\u001b[39m\u001b[38;5;124m'\u001b[39m]          \u001b[38;5;66;03m# custom index labels\u001b[39;00m\n",
            "\u001b[0;31mNameError\u001b[0m: name 'pd' is not defined"
          ]
        }
      ],
      "source": [
        "\n",
        "\n",
        "# Create a Pandas Series from a Python list\n",
        "data = [100, 200, 300, 400]            # a simple Python list of integers\n",
        "s = pd.Series(data)                    # s is now a Series: 0→100, 1→200, 2→300, 3→400\n",
        "\n",
        "# Create a Series with a custom index\n",
        "labels = ['a', 'b', 'c', 'd']          # custom index labels\n",
        "s2 = pd.Series(data, index=labels)     # s2 is now a Series: a→100, b→200, c→300, d→400\n",
        "\n",
        "# Access element by position\n",
        "val_pos = s[2]                         # val_pos = 300 (integer at position 2)\n",
        "\n",
        "# Access element by label\n",
        "val_lbl = s2['c']                      # val_lbl = 300 (integer at label 'c')\n",
        "\n",
        "# Perform vectorized arithmetic on the Series\n",
        "s3 = s + 50                            # adds 50 to each element: [150, 250, 350, 450]\n"
      ]
    },
    {
      "cell_type": "markdown",
      "metadata": {
        "id": "rxCkkLbZ3DWy"
      },
      "source": [
        "* Practice Task:\n",
        "\n",
        "Create a Series of floating‐point values `[1.5, 2.5, 3.5]` with index `['x', 'y', 'z']`.\n",
        "\n",
        "Multiply that Series by 2 and explain in a comment what happens to both values and index."
      ]
    },
    {
      "cell_type": "code",
      "execution_count": null,
      "metadata": {
        "id": "RSj8oBdU3Z00"
      },
      "outputs": [],
      "source": [
        "\n",
        "\n",
        "# Construct a DataFrame from a dictionary of lists: list of names, list of ages, list of float scores\n",
        "\n",
        "df = pd.DataFrame(dict_data)                  # df is now a DataFrame with columns 'Name', 'Age', 'Score'\n",
        "\n",
        "# display the first 5 rows (here only 3 rows exist)\n",
        "\n",
        "# Add a new column 'AgePlusFive' by doing arithmetic on existing columns: increase current age by 5\n",
        "\n",
        "\n",
        "# Compute the mean of the 'Score' column\n",
        "\n",
        "\n",
        "# Filter rows where Score is greater than 80\n"
      ]
    },
    {
      "cell_type": "markdown",
      "metadata": {
        "id": "jnmJjWfx3hD4"
      },
      "source": [
        "- Create a DataFrame with columns ['Item', 'Price', 'Quantity'] of your own choosing (at least 4 rows).\n",
        "\n",
        "- Add a column 'TotalValue' = Price * Quantity and comment on what that line does.\n",
        "\n",
        "- Filter out all rows where 'TotalValue' < 50 and explain."
      ]
    },
    {
      "cell_type": "code",
      "execution_count": null,
      "metadata": {
        "id": "SVvrNpjn-s5-"
      },
      "outputs": [],
      "source": [
        "import pandas as pd  # import pandas for data manipulation\n",
        "\n",
        "# Create a sample DataFrame with categories and values\n",
        "data = {\n",
        "    'Department': ['Sales', 'Sales', 'HR', 'HR', 'IT', 'IT', 'IT'],  # department labels\n",
        "    'Employee': ['E1', 'E2', 'E3', 'E4', 'E5', 'E6', 'E7'],          # employee IDs\n",
        "    'Salary': [50000, 55000, 45000, 47000, 60000, 62000, 61000]       # salaries\n",
        "}\n",
        "df = pd.DataFrame(data)                                           # create the DataFrame\n",
        "\n",
        "# Group rows by 'Department'\n",
        "grouped = df.groupby('Department')                                 # returns a GroupBy object\n",
        "\n",
        "# Compute the average salary in each department\n",
        "avg_salary = grouped['Salary'].mean()                               # Series: avg salary per department\n",
        "\n",
        "# Compute multiple aggregations (min, max, and sum) on 'Salary'\n",
        "agg_salary = grouped['Salary'].agg(['min', 'max', 'sum'])           # DataFrame with min, max, sum per department\n",
        "\n",
        "# Get the number of employees in each department\n",
        "count_employees = grouped['Employee'].count()                        # Series: count of employees per dept\n"
      ]
    },
    {
      "cell_type": "markdown",
      "metadata": {
        "id": "WbTBxSMW-wqr"
      },
      "source": [
        "Practice Task:\n",
        "\n",
        "- Using the same df, compute the median salary per department and comment on your code.\n",
        "\n",
        "- Add a new column 'YearsAtCompany' with hypothetical values, then find the total years per department using .sum(). Explain each line."
      ]
    },
    {
      "cell_type": "code",
      "execution_count": null,
      "metadata": {
        "id": "uG2XKurY-0ED"
      },
      "outputs": [],
      "source": [
        "import pandas as pd  # import pandas to create pivot tables\n",
        "\n",
        "# Create a DataFrame showing sales of products in different regions and quarters\n",
        "data = {\n",
        "    'Region': ['North', 'North', 'South', 'South', 'East', 'East', 'West', 'West'],  # region labels\n",
        "    'Quarter': ['Q1', 'Q2', 'Q1', 'Q2', 'Q1', 'Q2', 'Q1', 'Q2'],                    # quarter labels\n",
        "    'Product': ['A', 'A', 'B', 'B', 'A', 'B', 'A', 'B'],                             # product IDs\n",
        "    'Revenue': [200, 250, 180, 210, 220, 230, 190, 205]                              # revenue numbers\n",
        "}\n",
        "df = pd.DataFrame(data)  # create the DataFrame\n",
        "\n",
        "# Create a pivot table summarizing revenue by Region (rows) and Product (columns)\n",
        "pivot1 = df.pivot_table(\n",
        "    values='Revenue',            # values to aggregate\n",
        "    index='Region',              # rows\n",
        "    columns='Product',           # columns\n",
        "    aggfunc='sum',               # how to aggregate\n",
        "    fill_value=0                 # replace missing entries with 0\n",
        ")\n",
        "# pivot1 looks like:\n",
        "# Product    A    B\n",
        "# Region\n",
        "# East     220  230\n",
        "# North    450    0\n",
        "# South      0  390\n",
        "# West     190  205\n",
        "\n",
        "# Create another pivot table that shows average revenue per quarter and product\n",
        "pivot2 = df.pivot_table(\n",
        "    values='Revenue',            # values to aggregate\n",
        "    index='Quarter',             # rows\n",
        "    columns='Product',           # columns\n",
        "    aggfunc='mean',              # average\n",
        "    margins=True                 # add row/column totals\n",
        ")\n",
        "# pivot2 looks like:\n",
        "# Product       A      B    All\n",
        "# Quarter\n",
        "# Q1        203.333  189.333  392.667\n",
        "# Q2        235.000  215.000  450.000\n",
        "# All       219.167  202.167  421.333\n"
      ]
    },
    {
      "cell_type": "markdown",
      "metadata": {
        "id": "reP9Qy61-3KB"
      },
      "source": [
        "Practice Task:\n",
        "\n",
        "- What is a Pivot table?\n",
        "\n",
        "- Using the same df, create a pivot table that shows maximum revenue by Region and Quarter. Comment each line.\n",
        "\n",
        "- Explain in a comment what `margins=True` does in a pivot table."
      ]
    },
    {
      "cell_type": "code",
      "execution_count": null,
      "metadata": {
        "id": "blCpuNjg-2rt"
      },
      "outputs": [],
      "source": [
        "import numpy as np    # import NumPy for numerical array operations\n",
        "import pandas as pd   # import pandas for DataFrame creation\n",
        "\n",
        "# 1. Generate random data for 5 days of sales of 3 different items\n",
        "np.random.seed(42)                       # seed the RNG so results are reproducible\n",
        "sales_array = np.random.randint(10, 100, size=(5, 3))\n",
        "# sales_array is a 5×3 array of random integers between 10 (inclusive) and 100 (exclusive)\n",
        "\n",
        "# 2. Create a Date index for those 5 days\n",
        "dates = pd.date_range(start='2025-06-01', periods=5, freq='D')\n",
        "# dates is a DatetimeIndex: 2025-06-01, 2025-06-02, …, 2025-06-05\n",
        "\n",
        "# 3. Build a DataFrame from the NumPy array, using dates as the index and item names as columns\n",
        "items = ['ItemA', 'ItemB', 'ItemC']       # list of column names\n",
        "df_sales = pd.DataFrame(sales_array, index=dates, columns=items)\n",
        "# df_sales now looks like:\n",
        "#             ItemA  ItemB  ItemC\n",
        "# 2025-06-01     52     93     15\n",
        "# 2025-06-02     72     61     21\n",
        "# 2025-06-03     83     87     75\n",
        "# 2025-06-04     89     13     10\n",
        "# 2025-06-05     26     55     15\n",
        "\n",
        "# 4. Calculate the total sales per day (sum across columns)\n",
        "\n",
        "# adds a 'Total' column: each row is the sum of ItemA + ItemB + ItemC for that date\n",
        "\n",
        "# 5. Find the average sales for each item over the 5-day period\n",
        "\n",
        "# returns a Series with avg of ItemA, ItemB, ItemC over all dates\n",
        "\n",
        "# 6. Suppose a promotion doubles all sales for ItemB; apply broadcasting to update only ItemB\n",
        "\n",
        "\n",
        "\n",
        "# 7. Recompute the daily totals after the promotion\n",
        "\n"
      ]
    },
    {
      "cell_type": "markdown",
      "metadata": {
        "id": "G1I2YyjjAdOD"
      },
      "source": [
        "Practice Task:\n",
        "\n",
        "- Before Step 6, create a new column 'DiscountedA' equal to 80% of ItemA sales (i.e., multiply ItemA by 0.8). Comment on that line.\n",
        "\n",
        "- After Step 7, filter the DataFrame to show only the days where 'NewTotal' > 200 and explain how your filtering works."
      ]
    },
    {
      "cell_type": "code",
      "execution_count": null,
      "metadata": {
        "id": "V5SEcyGiAc5N"
      },
      "outputs": [],
      "source": []
    },
    {
      "cell_type": "markdown",
      "metadata": {
        "id": "ju7i5mKOAimE"
      },
      "source": [
        "**Answer the following questions:**\n",
        "\n",
        "- How does NumPy broadcasting or a Pandas method work in this context?\n",
        "\n",
        "- What is the effect of each arithmetic or aggregation operation?\n",
        "\n",
        "- What is the meaning of the following arguments:  `axis=1`, `aggfunc='sum'`, `fill_value=0` ?"
      ]
    }
  ],
  "metadata": {
    "colab": {
      "provenance": []
    },
    "kernelspec": {
      "display_name": "Python 3",
      "language": "python",
      "name": "python3"
    },
    "language_info": {
      "codemirror_mode": {
        "name": "ipython",
        "version": 3
      },
      "file_extension": ".py",
      "mimetype": "text/x-python",
      "name": "python",
      "nbconvert_exporter": "python",
      "pygments_lexer": "ipython3",
      "version": "3.10.12"
    }
  },
  "nbformat": 4,
  "nbformat_minor": 0
}
