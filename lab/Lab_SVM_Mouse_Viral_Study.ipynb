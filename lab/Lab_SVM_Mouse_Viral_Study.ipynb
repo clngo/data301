{
  "cells": [
    {
      "cell_type": "markdown",
      "id": "8c507d8b",
      "metadata": {
        "id": "8c507d8b"
      },
      "source": [
        "# SVM Classification on Mouse Viral Study Dataset\n",
        "\n",
        "Task is to train an SVM classifier to predict infection status based on medicine dosages given to mice.\n",
        "\n",
        "Our goal with SVM is to create the best separating hyperplane. The data shown here simulates a medical study in which mice infected with a virus were given various doses of two medicines and then checked 2 weeks later to see if they were still infected. Given this data, our goal is to create a classifcation model than predict (given two dosage measurements) if they mouse will still be infected with the virus.\n",
        "\n",
        "-- determine whether dataset is linearly or non-linearly separable. Which plot method did you use for this task?\n",
        "\n",
        "-- based on your observation select a linear or nonlinear svm classifier\n",
        "\n",
        "\n",
        "-- Create a train/test split. Using the train split, train the upon the  datasets using SVM classifier with the k fold cross-validation. Keep aside the test split.\n",
        "\n",
        "-- Display average confusion matrix after the K fold CV is over.\n",
        "\n",
        "-- report train fold accuracy and validation fold accuracy for each fold and the average CV accuracy after the K fold. Determine overfitting/underfitting for each model.  \n",
        "\n",
        "-- Describe in your own words how you determined if there is any under/overfitting.\n",
        "\n",
        "-- Retrain on the entire train split that you created earlier. Using this trained model, test on the dataset that you kep aside to report generalization performance."
      ]
    },
    {
      "cell_type": "code",
      "execution_count": 73,
      "id": "f5a8f4d1",
      "metadata": {},
      "outputs": [],
      "source": [
        "import pandas as pd"
      ]
    },
    {
      "cell_type": "code",
      "execution_count": 74,
      "id": "4e85bf9c",
      "metadata": {},
      "outputs": [
        {
          "data": {
            "text/html": [
              "<div>\n",
              "<style scoped>\n",
              "    .dataframe tbody tr th:only-of-type {\n",
              "        vertical-align: middle;\n",
              "    }\n",
              "\n",
              "    .dataframe tbody tr th {\n",
              "        vertical-align: top;\n",
              "    }\n",
              "\n",
              "    .dataframe thead th {\n",
              "        text-align: right;\n",
              "    }\n",
              "</style>\n",
              "<table border=\"1\" class=\"dataframe\">\n",
              "  <thead>\n",
              "    <tr style=\"text-align: right;\">\n",
              "      <th></th>\n",
              "      <th>Med_1_mL</th>\n",
              "      <th>Med_2_mL</th>\n",
              "      <th>Virus Present</th>\n",
              "    </tr>\n",
              "  </thead>\n",
              "  <tbody>\n",
              "    <tr>\n",
              "      <th>0</th>\n",
              "      <td>6.508231</td>\n",
              "      <td>8.582531</td>\n",
              "      <td>0</td>\n",
              "    </tr>\n",
              "    <tr>\n",
              "      <th>1</th>\n",
              "      <td>4.126116</td>\n",
              "      <td>3.073459</td>\n",
              "      <td>1</td>\n",
              "    </tr>\n",
              "    <tr>\n",
              "      <th>2</th>\n",
              "      <td>6.427870</td>\n",
              "      <td>6.369758</td>\n",
              "      <td>0</td>\n",
              "    </tr>\n",
              "    <tr>\n",
              "      <th>3</th>\n",
              "      <td>3.672953</td>\n",
              "      <td>4.905215</td>\n",
              "      <td>1</td>\n",
              "    </tr>\n",
              "    <tr>\n",
              "      <th>4</th>\n",
              "      <td>1.580321</td>\n",
              "      <td>2.440562</td>\n",
              "      <td>1</td>\n",
              "    </tr>\n",
              "    <tr>\n",
              "      <th>...</th>\n",
              "      <td>...</td>\n",
              "      <td>...</td>\n",
              "      <td>...</td>\n",
              "    </tr>\n",
              "    <tr>\n",
              "      <th>395</th>\n",
              "      <td>2.884122</td>\n",
              "      <td>3.271748</td>\n",
              "      <td>1</td>\n",
              "    </tr>\n",
              "    <tr>\n",
              "      <th>396</th>\n",
              "      <td>7.290855</td>\n",
              "      <td>9.488672</td>\n",
              "      <td>0</td>\n",
              "    </tr>\n",
              "    <tr>\n",
              "      <th>397</th>\n",
              "      <td>7.895325</td>\n",
              "      <td>8.272529</td>\n",
              "      <td>0</td>\n",
              "    </tr>\n",
              "    <tr>\n",
              "      <th>398</th>\n",
              "      <td>2.690592</td>\n",
              "      <td>2.674979</td>\n",
              "      <td>1</td>\n",
              "    </tr>\n",
              "    <tr>\n",
              "      <th>399</th>\n",
              "      <td>7.587821</td>\n",
              "      <td>9.473968</td>\n",
              "      <td>0</td>\n",
              "    </tr>\n",
              "  </tbody>\n",
              "</table>\n",
              "<p>400 rows × 3 columns</p>\n",
              "</div>"
            ],
            "text/plain": [
              "     Med_1_mL  Med_2_mL  Virus Present\n",
              "0    6.508231  8.582531              0\n",
              "1    4.126116  3.073459              1\n",
              "2    6.427870  6.369758              0\n",
              "3    3.672953  4.905215              1\n",
              "4    1.580321  2.440562              1\n",
              "..        ...       ...            ...\n",
              "395  2.884122  3.271748              1\n",
              "396  7.290855  9.488672              0\n",
              "397  7.895325  8.272529              0\n",
              "398  2.690592  2.674979              1\n",
              "399  7.587821  9.473968              0\n",
              "\n",
              "[400 rows x 3 columns]"
            ]
          },
          "execution_count": 74,
          "metadata": {},
          "output_type": "execute_result"
        }
      ],
      "source": [
        "df = pd.read_csv(\"mouse_viral_study.csv\")\n",
        "df  \n"
      ]
    },
    {
      "cell_type": "code",
      "execution_count": 75,
      "id": "76a76d93",
      "metadata": {},
      "outputs": [
        {
          "name": "stdout",
          "output_type": "stream",
          "text": [
            "Missing values per column:\n",
            "Med_1_mL         0\n",
            "Med_2_mL         0\n",
            "Virus Present    0\n",
            "dtype: int64\n"
          ]
        }
      ],
      "source": [
        "# Identify and handle any missing data.\n",
        "print(\"Missing values per column:\")\n",
        "print(df.isnull().sum())"
      ]
    },
    {
      "cell_type": "code",
      "execution_count": 76,
      "id": "5b3770e5",
      "metadata": {},
      "outputs": [
        {
          "data": {
            "image/png": "[encoded data removed]",
            "text/plain": [
              "<Figure size 800x600 with 1 Axes>"
            ]
          },
          "metadata": {},
          "output_type": "display_data"
        }
      ],
      "source": [
        "import matplotlib.pyplot as plt\n",
        "plt.figure(figsize=(8,6))\n",
        "for label in df['Virus Present'].unique():\n",
        "    subset = df[df['Virus Present'] == label]\n",
        "    plt.scatter(subset['Med_1_mL'], subset['Med_2_mL'], label=f'Virus Present: {label}')\n",
        "plt.xlabel('Med_1_mL')\n",
        "plt.ylabel('Med_2_mL')\n",
        "plt.title('Medicine Dosages vs Infection Status')\n",
        "plt.legend()\n",
        "plt.grid(True)\n",
        "plt.show()"
      ]
    },
    {
      "cell_type": "code",
      "execution_count": 83,
      "id": "61907543",
      "metadata": {},
      "outputs": [
        {
          "name": "stdout",
          "output_type": "stream",
          "text": [
            "Virus presence counts in the dataset:\n",
            "Virus Present\n",
            "0    200\n",
            "1    200\n",
            "Name: count, dtype: int64\n"
          ]
        }
      ],
      "source": [
        "# Count the number of samples with and without the virus\n",
        "print(\"Virus presence counts in the dataset:\")\n",
        "print(df['Virus Present'].value_counts())\n"
      ]
    },
    {
      "cell_type": "markdown",
      "id": "e27e323e",
      "metadata": {},
      "source": [
        "As shown on the graph, this graph shows us our dataset is inearly separable. Based off these observations, I will choose to utilize a linear SVM classifier without needing to use RBF kernel."
      ]
    },
    {
      "cell_type": "code",
      "execution_count": 77,
      "id": "583f8352",
      "metadata": {},
      "outputs": [],
      "source": [
        "# Shuffle the dataset and Split the dataset into 70% train and 30% test.\n",
        "from sklearn.model_selection import train_test_split\n",
        "\n",
        "X = df[[\"Med_1_mL\", \"Med_2_mL\"]]\n",
        "y = df[\"Virus Present\"]\n",
        "X_train, X_test,y_train,y_test = train_test_split(X,y,train_size=0.7,shuffle=True)\n",
        "X_train_np = X_train.to_numpy()\n",
        "y_train_np = y_train.to_numpy()"
      ]
    },
    {
      "cell_type": "markdown",
      "id": "997a7349",
      "metadata": {},
      "source": [
        "# K-Folds Cross Validation Implementation"
      ]
    },
    {
      "cell_type": "code",
      "execution_count": 78,
      "id": "ae28d1ac",
      "metadata": {},
      "outputs": [],
      "source": [
        "from sklearn.svm import SVC\n",
        "from sklearn.model_selection import KFold\n",
        "from sklearn.metrics import accuracy_score, confusion_matrix\n",
        "\n",
        "# number of folds\n",
        "k = 5\n",
        "\n",
        "# Initialize lists to store predictions and accuracies\n",
        "train_accuracies = []\n",
        "val_accuracies = []\n",
        "conf_matrix = []\n"
      ]
    },
    {
      "cell_type": "code",
      "execution_count": 79,
      "id": "18f66f99",
      "metadata": {},
      "outputs": [
        {
          "name": "stdout",
          "output_type": "stream",
          "text": [
            "Fold 1: Train Accuracy = 1.0000, Validation Accuracy = 1.0000\n",
            "Fold 2: Train Accuracy = 1.0000, Validation Accuracy = 1.0000\n",
            "Fold 3: Train Accuracy = 1.0000, Validation Accuracy = 1.0000\n",
            "Fold 4: Train Accuracy = 1.0000, Validation Accuracy = 1.0000\n",
            "Fold 5: Train Accuracy = 1.0000, Validation Accuracy = 1.0000\n"
          ]
        }
      ],
      "source": [
        "import numpy as np\n",
        "\n",
        "# Create a KFold instance\n",
        "kf = KFold(n_splits=k, shuffle=True)\n",
        "\n",
        "# Perform k-fold cross-validation\n",
        "for i, (train_index, val_index) in enumerate(kf.split(X_train)):\n",
        "    # Split the data into training and test sets\n",
        "    xtraining, ytraining = X_train_np[train_index], y_train_np[train_index]\n",
        "    xtesting, ytesting = X_train_np[val_index], y_train_np[val_index]\n",
        "\n",
        "    # Train the model\n",
        "    SVC_classifier = SVC(kernel='linear')\n",
        "    SVC_classifier.fit(xtraining, ytraining)\n",
        "\n",
        "\n",
        "    # Training accuracy\n",
        "    y_train_pred = SVC_classifier.predict(xtraining)\n",
        "    train_acc = accuracy_score(ytraining, y_train_pred)\n",
        "    train_accuracies.append(train_acc)\n",
        "    \n",
        "    # Validation accuracy\n",
        "    y_val_pred = SVC_classifier.predict(xtesting)\n",
        "    val_acc = accuracy_score(ytesting, y_val_pred)\n",
        "    val_accuracies.append(val_acc)\n",
        "\n",
        "    # Confusion matrix on validation \n",
        "    conf_matrix.append(confusion_matrix(ytesting, y_val_pred))\n",
        "\n",
        "    print(f\"Fold {i+1}: Train Accuracy = {train_acc:.4f}, Validation Accuracy = {val_acc:.4f}\")\n"
      ]
    },
    {
      "cell_type": "code",
      "execution_count": 80,
      "id": "6549a0a7",
      "metadata": {},
      "outputs": [
        {
          "name": "stdout",
          "output_type": "stream",
          "text": [
            "\n",
            "Average Confusion Matrix across folds:\n",
            "[[29.8  0. ]\n",
            " [ 0.  26.2]]\n",
            "\n",
            "Average Train Accuracy: 1.0000\n",
            "Average Validation Accuracy: 1.0000\n"
          ]
        }
      ],
      "source": [
        "# Average confusion matrix\n",
        "avg_conf_matrix = np.mean(conf_matrix, axis=0)\n",
        "print(\"\\nAverage Confusion Matrix across folds:\")\n",
        "print(avg_conf_matrix)\n",
        "\n",
        "print(f\"\\nAverage Train Accuracy: {np.mean(train_accuracies):.4f}\")\n",
        "print(f\"Average Validation Accuracy: {np.mean(val_accuracies):.4f}\")"
      ]
    },
    {
      "cell_type": "code",
      "execution_count": 81,
      "id": "3b0fc6ca",
      "metadata": {},
      "outputs": [
        {
          "name": "stdout",
          "output_type": "stream",
          "text": [
            "\n",
            "Overfitting/Underfitting assessment:\n",
            "Model appears well balanced (no obvious overfitting or underfitting).\n"
          ]
        }
      ],
      "source": [
        "# Determine overfitting/underfitting\n",
        "print(\"\\nOverfitting/Underfitting assessment:\")\n",
        "if np.mean(train_accuracies) > np.mean(val_accuracies) + 0.05:\n",
        "    print(\"Model shows signs of overfitting (training accuracy significantly higher than validation accuracy).\")\n",
        "elif np.mean(train_accuracies) < 0.7 and np.mean(val_accuracies) < 0.7:\n",
        "    print(\"Model may be underfitting (both accuracies are low).\")\n",
        "else:\n",
        "    print(\"Model appears well balanced (no obvious overfitting or underfitting).\")"
      ]
    },
    {
      "cell_type": "code",
      "execution_count": 82,
      "id": "d6b543d9",
      "metadata": {},
      "outputs": [
        {
          "name": "stdout",
          "output_type": "stream",
          "text": [
            "\n",
            "Test Set Accuracy: 1.0000\n",
            "Test Set Confusion Matrix:\n",
            "[[51  0]\n",
            " [ 0 69]]\n"
          ]
        }
      ],
      "source": [
        "# Retrain on full training data\n",
        "final_model = SVC(kernel='linear')\n",
        "final_model.fit(X_train_np, y_train_np)\n",
        "\n",
        "# Test performance on held-out test data\n",
        "y_test_pred = final_model.predict(X_test.to_numpy())\n",
        "test_accuracy = accuracy_score(y_test, y_test_pred)\n",
        "test_conf_matrix = confusion_matrix(y_test, y_test_pred)\n",
        "\n",
        "print(f\"\\nTest Set Accuracy: {test_accuracy:.4f}\")\n",
        "print(\"Test Set Confusion Matrix:\")\n",
        "print(test_conf_matrix)\n"
      ]
    }
  ],
  "metadata": {
    "colab": {
      "provenance": []
    },
    "kernelspec": {
      "display_name": "Python 3",
      "language": "python",
      "name": "python3"
    },
    "language_info": {
      "codemirror_mode": {
        "name": "ipython",
        "version": 3
      },
      "file_extension": ".py",
      "mimetype": "text/x-python",
      "name": "python",
      "nbconvert_exporter": "python",
      "pygments_lexer": "ipython3",
      "version": "3.10.12"
    }
  },
  "nbformat": 4,
  "nbformat_minor": 5
}
