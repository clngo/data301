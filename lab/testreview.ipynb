{
 "cells": [
  {
   "cell_type": "code",
   "execution_count": 2,
   "id": "65cbc795",
   "metadata": {},
   "outputs": [],
   "source": [
    "import numpy as np\n"
   ]
  },
  {
   "cell_type": "code",
   "execution_count": 3,
   "id": "4705bb49",
   "metadata": {},
   "outputs": [
    {
     "name": "stdout",
     "output_type": "stream",
     "text": [
      "[[4 9 4]\n",
      " [3 1 5]\n",
      " [3 8 0]]\n",
      "[[5 8 7]\n",
      " [5 3 2]\n",
      " [9 0 9]]\n",
      "addition: [[ 9 17 11]\n",
      " [ 8  4  7]\n",
      " [12  8  9]]\n",
      "subtraction: [[-1  1 -3]\n",
      " [-2 -2  3]\n",
      " [-6  8 -9]]\n"
     ]
    }
   ],
   "source": [
    "arr1 = np.random.randint(0, 10, size=(3, 3))\n",
    "print(arr1)\n",
    "arr2 = np.random.randint(0, 10, size=(3, 3))\n",
    "print(arr2)\n",
    "\n",
    "print(\"addition:\", arr1 + arr2)\n",
    "print(\"subtraction:\", arr1 - arr2)\n"
   ]
  },
  {
   "cell_type": "code",
   "execution_count": 4,
   "id": "267dc784",
   "metadata": {},
   "outputs": [
    {
     "name": "stdout",
     "output_type": "stream",
     "text": [
      "b1 [[0.01966696 0.07341023]\n",
      " [0.60706548 0.56865249]\n",
      " [0.76164945 0.69608927]]\n",
      "b2 [[0.50152888 0.53790674 0.35019488]\n",
      " [0.69187306 0.70015687 0.71168753]]\n",
      "3\n"
     ]
    }
   ],
   "source": [
    "b1 = np.random.rand(3, 2) # 3x2 random 0-1\n",
    "print(\"b1\", b1)\n",
    "\n",
    "b2 = np.random.rand(2, 3) # 2x3 random 01\n",
    "print(\"b2\", b2)\n",
    "\n",
    "test = np.random.randint(3, 4) # random integer from 3-4\n",
    "print(test)"
   ]
  },
  {
   "cell_type": "code",
   "execution_count": 5,
   "id": "ee0727b8",
   "metadata": {},
   "outputs": [
    {
     "name": "stdout",
     "output_type": "stream",
     "text": [
      "[1.         1.10204082 1.20408163 1.30612245 1.40816327 1.51020408\n",
      " 1.6122449  1.71428571 1.81632653 1.91836735 2.02040816 2.12244898\n",
      " 2.2244898  2.32653061 2.42857143 2.53061224 2.63265306 2.73469388\n",
      " 2.83673469 2.93877551 3.04081633 3.14285714 3.24489796 3.34693878\n",
      " 3.44897959 3.55102041 3.65306122 3.75510204 3.85714286 3.95918367\n",
      " 4.06122449 4.16326531 4.26530612 4.36734694 4.46938776 4.57142857\n",
      " 4.67346939 4.7755102  4.87755102 4.97959184 5.08163265 5.18367347\n",
      " 5.28571429 5.3877551  5.48979592 5.59183673 5.69387755 5.79591837\n",
      " 5.89795918 6.        ]\n",
      "[1. 2. 3. 4. 5. 6.]\n",
      "(6,)\n",
      "[[1. 2. 3.]\n",
      " [4. 5. 6.]]\n",
      "[0.         0.11111111 0.22222222 0.33333333 0.44444444 0.55555556\n",
      " 0.66666667 0.77777778 0.88888889 1.        ]\n",
      "[0.  0.1 0.2 0.3 0.4 0.5 0.6 0.7 0.8 0.9 1. ]\n"
     ]
    }
   ],
   "source": [
    "\n",
    "\n",
    "\n",
    "\n",
    "# https://numpy.org/doc/stable/reference/generated/numpy.linspace.html\n",
    "b5 = np.linspace(1, 6)  \n",
    "print(b5)\n",
    "\n",
    "b5 = np.linspace(1, 6, 6)\n",
    "print(b5)\n",
    "print(b5.shape)\n",
    "\n",
    "b6 = b5.reshape(2, 3)\n",
    "print(b6)\n",
    "\n",
    "\n",
    "\n",
    "x = np.linspace(0, 1, 10) \n",
    "print(x)\n",
    "\n",
    "# num_points = int((end - start) / step) + 1\n",
    "# 1 / 0.1 + 1 = 11\n",
    "x = np.linspace(0, 1, 11)\n",
    "print(x)\n",
    "\n"
   ]
  },
  {
   "cell_type": "code",
   "execution_count": null,
   "id": "0924e87b",
   "metadata": {},
   "outputs": [
    {
     "name": "stdout",
     "output_type": "stream",
     "text": [
      "(5,)\n",
      "5\n",
      "1\n"
     ]
    }
   ],
   "source": [
    "a6 = np.ones(5)\n",
    "print(a6.shape)\n",
    "print(a6.shape[0])\n",
    "print(a6.ndim)"
   ]
  },
  {
   "cell_type": "code",
   "execution_count": 7,
   "id": "65ef9f25",
   "metadata": {},
   "outputs": [
    {
     "name": "stdout",
     "output_type": "stream",
     "text": [
      "[1 3 5 7 9]\n",
      "(5,)\n",
      "[[1 3 5 7 9]]\n",
      "False\n"
     ]
    }
   ],
   "source": [
    "x5 = np.arange(1, 10, 2)\n",
    "print(x5)\n",
    "print(x5.shape)\n",
    "x5 = np.arange(1, 10, 2).reshape(1, 5)\n",
    "print(x5)\n",
    "print(np.all(x5 % 2 == 0)) # all elements of array\n"
   ]
  },
  {
   "cell_type": "markdown",
   "id": "ca8b50ba",
   "metadata": {},
   "source": [
    "### Label-based Extraction: Indexing with `.loc`\n",
    "\n",
    "For the more complex task of extracting data with specific column or index labels, we can use `.loc`.   In Pandas, `.loc[]` is an accessor method used to access rows and columns in a DataFrame by label (not by position).\n",
    "\n",
    "The **labels** (commonly referred to as the **indices**) are the bold text on the far *left* of a `DataFrame`, while the **column labels** are the column names found at the *top* of a `DataFrame`.\n",
    "```\n",
    "df.loc[row_label, column_label]\n",
    "```\n",
    "\n",
    "To grab data with `.loc`, we must specify the row and column label(s) where the data exists. The row labels are the first argument to the `.loc` function; the column labels are the second.\n",
    "\n",
    "Arguments to `.loc` can be:\n",
    "\n",
    "- A single value.\n",
    "- A slice.\n",
    "- A list.\n",
    "\n",
    "\n",
    "### Integer-based Extraction: Indexing with `.iloc`\n",
    "\n",
    "Slicing with `.iloc` works similarly to `.loc`. However, `.iloc` uses the *index positions* of rows and columns rather than the labels (think to yourself: **loc** uses **lables**; **iloc** uses **indices**). The arguments to the `.iloc` function also behave similarly — single values, lists, indices, and any combination of these are permitted.\n",
    "\n",
    "\n",
    "\n",
    "###   `.loc[]` vs `.iloc[]`?\n",
    "\n",
    "| Feature     | `.loc[]`                 | `.iloc[]`               |\n",
    "|-------------|--------------------------|--------------------------|\n",
    "| Access by   | **Label**                | **Integer position**     |\n",
    "| Example     | `df.loc[\"A\"]`            | `df.iloc[0]`             |\n",
    "\n",
    "---\n"
   ]
  },
  {
   "cell_type": "code",
   "execution_count": 8,
   "id": "bcf2c761",
   "metadata": {},
   "outputs": [
    {
     "name": "stdout",
     "output_type": "stream",
     "text": [
      "iloc: \n",
      "Alice\n",
      "Alice\n",
      "other thing\n",
      "1    Alice\n",
      "2      Bob\n",
      "3     Rita\n",
      "dtype: object\n",
      "1    Alice\n",
      "2      Bob\n",
      "3     Rita\n",
      "dtype: object\n",
      "seaprarate\n",
      "1    Alice\n",
      "2      Bob\n",
      "3     Rita\n",
      "dtype: object\n",
      "2      Bob\n",
      "3     Rita\n",
      "4    Molly\n",
      "dtype: object\n",
      "1    Alice\n",
      "2      Bob\n",
      "dtype: object\n"
     ]
    }
   ],
   "source": [
    "import pandas as pd\n",
    "d = {'1': 'Alice', '2': 'Bob', '3': 'Rita',\n",
    "'4': 'Molly', '5': 'Ryan'}\n",
    "S = pd.Series(d)\n",
    "\n",
    "print(\"iloc: \")\n",
    "print(S.iloc[0])\n",
    "print(S.loc[\"1\"])\n",
    "\n",
    "print(\"other thing\")\n",
    "print(S.iloc[0:3])\n",
    "print(S.loc[\"1\": \"3\"])\n",
    "\n",
    "print(\"seaprarate\")\n",
    "print(S.iloc[:3])\n",
    "print(S.iloc[1:4])\n",
    "print(S.iloc[:2])\n",
    "\n",
    "\n",
    "#iloc = integer location - selects rows and columns by position, not label\n",
    "# first arg : - selects all rows \n",
    "# second arg :2 - select columns starting fromm 0 up to (but not including 2)"
   ]
  },
  {
   "cell_type": "code",
   "execution_count": 9,
   "id": "e35f6f9d",
   "metadata": {},
   "outputs": [
    {
     "name": "stdout",
     "output_type": "stream",
     "text": [
      "     A    B    C  D\n",
      "0  1.0  NaN  7.0  1\n",
      "1  NaN  5.0  8.0  2\n",
      "2  3.0  6.0  NaN  3\n",
      "3  4.0  4.0  4.0  4\n"
     ]
    }
   ],
   "source": [
    "# Example DataFrame\n",
    "data = {'A': [1, np.nan, 3, 4],\n",
    "        'B': [np.nan, 5, 6, 4],\n",
    "        'C': [7, 8, np.nan, 4],\n",
    "        'D': [1, 2, 3, 4]}\n",
    "\n",
    "example_df1 = pd.DataFrame(data)\n",
    "example_df2 = pd.DataFrame(data)\n",
    "\n",
    "print(example_df1)\n"
   ]
  },
  {
   "cell_type": "code",
   "execution_count": 10,
   "id": "6dbf53a7",
   "metadata": {},
   "outputs": [
    {
     "name": "stdout",
     "output_type": "stream",
     "text": [
      "       A      B      C      D\n",
      "0  False   True  False  False\n",
      "1   True  False  False  False\n",
      "2  False  False   True  False\n",
      "3  False  False  False  False\n",
      "A    bool\n",
      "B    bool\n",
      "C    bool\n",
      "D    bool\n",
      "dtype: object\n"
     ]
    }
   ],
   "source": [
    "mask = example_df1.isnull()\n",
    "print(mask)\n",
    "print(mask.dtypes)"
   ]
  },
  {
   "cell_type": "code",
   "execution_count": 11,
   "id": "0522d378",
   "metadata": {},
   "outputs": [
    {
     "name": "stdout",
     "output_type": "stream",
     "text": [
      "     A    B    C  D\n",
      "3  4.0  4.0  4.0  4\n"
     ]
    }
   ],
   "source": [
    "df1_cleaned1 = example_df1.dropna() # removes ROWS with missing values\n",
    "print(df1_cleaned1)"
   ]
  },
  {
   "cell_type": "code",
   "execution_count": 12,
   "id": "266386bb",
   "metadata": {},
   "outputs": [
    {
     "name": "stdout",
     "output_type": "stream",
     "text": [
      "   D\n",
      "0  1\n",
      "1  2\n",
      "2  3\n",
      "3  4\n"
     ]
    }
   ],
   "source": [
    "df1_cleaned2 = example_df1.dropna(axis=1) # removes COLUMNS with missing values\n",
    "print(df1_cleaned2)"
   ]
  },
  {
   "cell_type": "code",
   "execution_count": 13,
   "id": "01a0c5eb",
   "metadata": {},
   "outputs": [
    {
     "name": "stdout",
     "output_type": "stream",
     "text": [
      "       A      B      C  D\n",
      "0    1.0  199.0    7.0  1\n",
      "1  199.0    5.0    8.0  2\n",
      "2    3.0    6.0  199.0  3\n",
      "3    4.0    4.0    4.0  4\n"
     ]
    }
   ],
   "source": [
    "\n",
    "# Replacing NaN values with 199\n",
    "example_df2.fillna(199, inplace=True)\n",
    "\n",
    "print(example_df2)"
   ]
  },
  {
   "cell_type": "markdown",
   "id": "1e019683",
   "metadata": {},
   "source": [
    "You are given the following toy dataset representing sales data for a small store. Some of the\n",
    "values are missing (represented by NaN). Which method would you use to impute the missing\n",
    "values in the Sales and Profit columns, and why?"
   ]
  },
  {
   "cell_type": "code",
   "execution_count": 14,
   "id": "d3880f1c",
   "metadata": {},
   "outputs": [
    {
     "data": {
      "text/html": [
       "<div>\n",
       "<style scoped>\n",
       "    .dataframe tbody tr th:only-of-type {\n",
       "        vertical-align: middle;\n",
       "    }\n",
       "\n",
       "    .dataframe tbody tr th {\n",
       "        vertical-align: top;\n",
       "    }\n",
       "\n",
       "    .dataframe thead th {\n",
       "        text-align: right;\n",
       "    }\n",
       "</style>\n",
       "<table border=\"1\" class=\"dataframe\">\n",
       "  <thead>\n",
       "    <tr style=\"text-align: right;\">\n",
       "      <th></th>\n",
       "      <th>Product</th>\n",
       "      <th>Sales</th>\n",
       "      <th>Profit</th>\n",
       "    </tr>\n",
       "  </thead>\n",
       "  <tbody>\n",
       "    <tr>\n",
       "      <th>0</th>\n",
       "      <td>A</td>\n",
       "      <td>100.0</td>\n",
       "      <td>20.0</td>\n",
       "    </tr>\n",
       "    <tr>\n",
       "      <th>1</th>\n",
       "      <td>B</td>\n",
       "      <td>NaN</td>\n",
       "      <td>30.0</td>\n",
       "    </tr>\n",
       "    <tr>\n",
       "      <th>2</th>\n",
       "      <td>C</td>\n",
       "      <td>150.0</td>\n",
       "      <td>NaN</td>\n",
       "    </tr>\n",
       "    <tr>\n",
       "      <th>3</th>\n",
       "      <td>D</td>\n",
       "      <td>NaN</td>\n",
       "      <td>40.0</td>\n",
       "    </tr>\n",
       "    <tr>\n",
       "      <th>4</th>\n",
       "      <td>E</td>\n",
       "      <td>200.0</td>\n",
       "      <td>50.0</td>\n",
       "    </tr>\n",
       "  </tbody>\n",
       "</table>\n",
       "</div>"
      ],
      "text/plain": [
       "  Product  Sales  Profit\n",
       "0       A  100.0    20.0\n",
       "1       B    NaN    30.0\n",
       "2       C  150.0     NaN\n",
       "3       D    NaN    40.0\n",
       "4       E  200.0    50.0"
      ]
     },
     "execution_count": 14,
     "metadata": {},
     "output_type": "execute_result"
    }
   ],
   "source": [
    "store = {\"Product\": [\"A\", \"B\", \"C\", \"D\", \"E\"],\n",
    "         \"Sales\": [100, np.nan, 150, np.nan, 200],\n",
    "         \"Profit\": [20, 30, np.nan, 40, 50]}\n",
    "dfstore = pd.DataFrame(store)\n",
    "dfstore.head()"
   ]
  },
  {
   "cell_type": "code",
   "execution_count": 15,
   "id": "c8e88028",
   "metadata": {},
   "outputs": [
    {
     "data": {
      "text/html": [
       "<div>\n",
       "<style scoped>\n",
       "    .dataframe tbody tr th:only-of-type {\n",
       "        vertical-align: middle;\n",
       "    }\n",
       "\n",
       "    .dataframe tbody tr th {\n",
       "        vertical-align: top;\n",
       "    }\n",
       "\n",
       "    .dataframe thead th {\n",
       "        text-align: right;\n",
       "    }\n",
       "</style>\n",
       "<table border=\"1\" class=\"dataframe\">\n",
       "  <thead>\n",
       "    <tr style=\"text-align: right;\">\n",
       "      <th></th>\n",
       "      <th>Product</th>\n",
       "      <th>Sales</th>\n",
       "      <th>Profit</th>\n",
       "    </tr>\n",
       "  </thead>\n",
       "  <tbody>\n",
       "    <tr>\n",
       "      <th>0</th>\n",
       "      <td>A</td>\n",
       "      <td>100.0</td>\n",
       "      <td>20.0</td>\n",
       "    </tr>\n",
       "    <tr>\n",
       "      <th>4</th>\n",
       "      <td>E</td>\n",
       "      <td>200.0</td>\n",
       "      <td>50.0</td>\n",
       "    </tr>\n",
       "  </tbody>\n",
       "</table>\n",
       "</div>"
      ],
      "text/plain": [
       "  Product  Sales  Profit\n",
       "0       A  100.0    20.0\n",
       "4       E  200.0    50.0"
      ]
     },
     "execution_count": 15,
     "metadata": {},
     "output_type": "execute_result"
    }
   ],
   "source": [
    "dfstore = dfstore.dropna(subset=['Sales', \"Profit\"])\n",
    "dfstore\n"
   ]
  },
  {
   "cell_type": "code",
   "execution_count": 16,
   "id": "2c064a6f",
   "metadata": {},
   "outputs": [
    {
     "name": "stdout",
     "output_type": "stream",
     "text": [
      "150.0\n"
     ]
    },
    {
     "data": {
      "text/html": [
       "<div>\n",
       "<style scoped>\n",
       "    .dataframe tbody tr th:only-of-type {\n",
       "        vertical-align: middle;\n",
       "    }\n",
       "\n",
       "    .dataframe tbody tr th {\n",
       "        vertical-align: top;\n",
       "    }\n",
       "\n",
       "    .dataframe thead th {\n",
       "        text-align: right;\n",
       "    }\n",
       "</style>\n",
       "<table border=\"1\" class=\"dataframe\">\n",
       "  <thead>\n",
       "    <tr style=\"text-align: right;\">\n",
       "      <th></th>\n",
       "      <th>Product</th>\n",
       "      <th>Sales</th>\n",
       "      <th>Profit</th>\n",
       "    </tr>\n",
       "  </thead>\n",
       "  <tbody>\n",
       "    <tr>\n",
       "      <th>0</th>\n",
       "      <td>A</td>\n",
       "      <td>100.0</td>\n",
       "      <td>20.0</td>\n",
       "    </tr>\n",
       "    <tr>\n",
       "      <th>4</th>\n",
       "      <td>E</td>\n",
       "      <td>200.0</td>\n",
       "      <td>50.0</td>\n",
       "    </tr>\n",
       "  </tbody>\n",
       "</table>\n",
       "</div>"
      ],
      "text/plain": [
       "  Product  Sales  Profit\n",
       "0       A  100.0    20.0\n",
       "4       E  200.0    50.0"
      ]
     },
     "execution_count": 16,
     "metadata": {},
     "output_type": "execute_result"
    }
   ],
   "source": [
    "# mean imputation\n",
    "\n",
    "meansales = dfstore[\"Sales\"].mean()\n",
    "print(meansales)\n",
    "dfstore[\"Sales\"] = dfstore[\"Sales\"].fillna(meansales)\n",
    "dfstore.head()"
   ]
  },
  {
   "cell_type": "code",
   "execution_count": 17,
   "id": "2641ac18",
   "metadata": {},
   "outputs": [
    {
     "name": "stdout",
     "output_type": "stream",
     "text": [
      "35.0\n"
     ]
    },
    {
     "data": {
      "text/html": [
       "<div>\n",
       "<style scoped>\n",
       "    .dataframe tbody tr th:only-of-type {\n",
       "        vertical-align: middle;\n",
       "    }\n",
       "\n",
       "    .dataframe tbody tr th {\n",
       "        vertical-align: top;\n",
       "    }\n",
       "\n",
       "    .dataframe thead th {\n",
       "        text-align: right;\n",
       "    }\n",
       "</style>\n",
       "<table border=\"1\" class=\"dataframe\">\n",
       "  <thead>\n",
       "    <tr style=\"text-align: right;\">\n",
       "      <th></th>\n",
       "      <th>Product</th>\n",
       "      <th>Sales</th>\n",
       "      <th>Profit</th>\n",
       "    </tr>\n",
       "  </thead>\n",
       "  <tbody>\n",
       "    <tr>\n",
       "      <th>0</th>\n",
       "      <td>A</td>\n",
       "      <td>100.0</td>\n",
       "      <td>20.0</td>\n",
       "    </tr>\n",
       "    <tr>\n",
       "      <th>4</th>\n",
       "      <td>E</td>\n",
       "      <td>200.0</td>\n",
       "      <td>50.0</td>\n",
       "    </tr>\n",
       "  </tbody>\n",
       "</table>\n",
       "</div>"
      ],
      "text/plain": [
       "  Product  Sales  Profit\n",
       "0       A  100.0    20.0\n",
       "4       E  200.0    50.0"
      ]
     },
     "execution_count": 17,
     "metadata": {},
     "output_type": "execute_result"
    }
   ],
   "source": [
    "meanprofit = dfstore[\"Profit\"].mean()\n",
    "print(meanprofit)\n",
    "dfstore[\"Profit\"] = dfstore[\"Profit\"].fillna(meanprofit)\n",
    "dfstore.head()"
   ]
  },
  {
   "cell_type": "markdown",
   "id": "8bd0deb7",
   "metadata": {},
   "source": [
    "Calculating loss example: Practice\n",
    "- Consider weight = -3.6 and bias = 30\n",
    "- If the model predicts that a 2,370-pound car gets 21.5 miles per gallon, but it actually gets 24 miles\n",
    "per gallon,\n",
    "- Calculate the loss: (target – predicted)^2"
   ]
  },
  {
   "cell_type": "code",
   "execution_count": 18,
   "id": "3025d77e",
   "metadata": {},
   "outputs": [
    {
     "name": "stdout",
     "output_type": "stream",
     "text": [
      "21.468\n",
      "6.25\n"
     ]
    }
   ],
   "source": [
    "# y = w*x + b -> 21.5 = -3.6 * 2370 + 30\n",
    "predicted = 30 + (-3.6 * 2.37)\n",
    "print(predicted)\n",
    "loss = (24 - 21.5) ** 2\n",
    "print(loss)"
   ]
  },
  {
   "cell_type": "code",
   "execution_count": 19,
   "id": "1fd86d91",
   "metadata": {},
   "outputs": [],
   "source": [
    "# Example DataFrame\n",
    "data = {'A': [1, np.nan, 3, 4],\n",
    "        'B': [np.nan, 5, 6, 4],\n",
    "        'C': [7, 8, np.nan, 4],\n",
    "        'D': [1, 2, 3, 4]}\n",
    "\n",
    "example_df1 = pd.DataFrame(data)"
   ]
  },
  {
   "cell_type": "code",
   "execution_count": 20,
   "id": "1526276a",
   "metadata": {},
   "outputs": [
    {
     "data": {
      "text/html": [
       "<div>\n",
       "<style scoped>\n",
       "    .dataframe tbody tr th:only-of-type {\n",
       "        vertical-align: middle;\n",
       "    }\n",
       "\n",
       "    .dataframe tbody tr th {\n",
       "        vertical-align: top;\n",
       "    }\n",
       "\n",
       "    .dataframe thead th {\n",
       "        text-align: right;\n",
       "    }\n",
       "</style>\n",
       "<table border=\"1\" class=\"dataframe\">\n",
       "  <thead>\n",
       "    <tr style=\"text-align: right;\">\n",
       "      <th></th>\n",
       "      <th>A</th>\n",
       "      <th>B</th>\n",
       "      <th>C</th>\n",
       "      <th>D</th>\n",
       "    </tr>\n",
       "  </thead>\n",
       "  <tbody>\n",
       "    <tr>\n",
       "      <th>0</th>\n",
       "      <td>1.0</td>\n",
       "      <td>NaN</td>\n",
       "      <td>7.0</td>\n",
       "      <td>1</td>\n",
       "    </tr>\n",
       "    <tr>\n",
       "      <th>1</th>\n",
       "      <td>NaN</td>\n",
       "      <td>5.0</td>\n",
       "      <td>8.0</td>\n",
       "      <td>2</td>\n",
       "    </tr>\n",
       "    <tr>\n",
       "      <th>2</th>\n",
       "      <td>3.0</td>\n",
       "      <td>6.0</td>\n",
       "      <td>NaN</td>\n",
       "      <td>3</td>\n",
       "    </tr>\n",
       "    <tr>\n",
       "      <th>3</th>\n",
       "      <td>4.0</td>\n",
       "      <td>4.0</td>\n",
       "      <td>4.0</td>\n",
       "      <td>4</td>\n",
       "    </tr>\n",
       "  </tbody>\n",
       "</table>\n",
       "</div>"
      ],
      "text/plain": [
       "     A    B    C  D\n",
       "0  1.0  NaN  7.0  1\n",
       "1  NaN  5.0  8.0  2\n",
       "2  3.0  6.0  NaN  3\n",
       "3  4.0  4.0  4.0  4"
      ]
     },
     "execution_count": 20,
     "metadata": {},
     "output_type": "execute_result"
    }
   ],
   "source": [
    "example_df1"
   ]
  },
  {
   "cell_type": "code",
   "execution_count": 21,
   "id": "fbdf1bc0",
   "metadata": {},
   "outputs": [
    {
     "name": "stdout",
     "output_type": "stream",
     "text": [
      "[ 1  2  3  4  5  6  7  8  9 10 11 12 13 14 15 16 17 18 19 20]\n"
     ]
    },
    {
     "data": {
      "text/plain": [
       "array([-1,  2,  3,  4,  5,  6,  7,  8,  9, 10, 11, 12, 13, 14, 15, 16, 17,\n",
       "       18, 19,  1])"
      ]
     },
     "execution_count": 21,
     "metadata": {},
     "output_type": "execute_result"
    }
   ],
   "source": [
    "# 8.Create random vector of size 20 and replace the maximum value by 1 and minimum value by -1\n",
    "import random\n",
    "arr = np.array([1, 2, 3, 4, 5, 6, 7, 8, 9, 10, 11, 12, 13, 14, 15, 16, 17, 18, 19, 20])\n",
    "print(arr)\n",
    "\n",
    "arr[arr == arr.min()] = -1\n",
    "arr[arr == arr.max()] = 1\n",
    "arr"
   ]
  },
  {
   "cell_type": "code",
   "execution_count": 22,
   "id": "35dd6f4d",
   "metadata": {},
   "outputs": [
    {
     "name": "stdout",
     "output_type": "stream",
     "text": [
      "[[18  8 12  5  8  6  8 12 17  9  6 10  8 13 12 19 20  5  3 13]]\n",
      "Returns an array of elements only once (no dups) [ 3  5  6  8  9 10 12 13 17 18 19 20]\n",
      "Frequency of each element at their index based on uniq array [1 2 2 4 1 1 3 2 1 1 1 1]\n",
      "3\n",
      "8\n"
     ]
    }
   ],
   "source": [
    "arr = np.random.randint(1, 21, size=(1, 20), dtype=int)\n",
    "print(arr)\n",
    "\n",
    "print(\"Returns an array of elements only once (no dups)\", np.unique(arr)) \n",
    "uniq, freq = np.unique(arr, return_counts=True)\n",
    "print(\"Frequency of each element at their index based on uniq array\", freq)\n",
    "print(freq.argmax())\n",
    "print(uniq[freq.argmax()])"
   ]
  }
 ],
 "metadata": {
  "kernelspec": {
   "display_name": "Python 3",
   "language": "python",
   "name": "python3"
  },
  "language_info": {
   "codemirror_mode": {
    "name": "ipython",
    "version": 3
   },
   "file_extension": ".py",
   "mimetype": "text/x-python",
   "name": "python",
   "nbconvert_exporter": "python",
   "pygments_lexer": "ipython3",
   "version": "3.10.12"
  }
 },
 "nbformat": 4,
 "nbformat_minor": 5
}
