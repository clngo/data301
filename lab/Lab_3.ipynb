{
  "cells": [
    {
      "cell_type": "markdown",
      "metadata": {
        "id": "RCZgZLiDIlKn"
      },
      "source": [
        "#Assignment: Exploratory Data Analysis with the Titanic Dataset\n",
        "\n",
        "\n",
        "Finish the following tasks in the class using the dataset:\n",
        "https://github.com/sumonacalpoly/Datasets/blob/main/Titanic_train.csv\n",
        "\n",
        "The dataset contains information about 2206 passengers and crew members aboard the RMS Titanic when it sank on April 15, 1912. The Titanic dataset is typically used as a classification dataset. The key target variable is usually \"survived,\" which is a binary outcome indicating whether a passenger survived (1) or did not survive (0) the disaster. Consequently, many analyses and predictive models built on this dataset focus on classifying passengers into these two groups based on various features like age, gender, ticket class, and more.\n",
        "\n",
        "In this assignment, you will explore the distributions of key variables, compute medians, and create visualizations to better understand the data.\n",
        "\n",
        "**Learning Outcomes & Objectives:**\n",
        "\n",
        "- **Outcomes:**  \n",
        "  - Gain proficiency in exploratory data analysis (EDA) techniques using Python.\n",
        "  - Learn how to compute and interpret descriptive statistics (e.g., median) and visualize data distributions (histograms, KDE, box plots).\n",
        "  - Understand how to analyze relationships between variables—especially using appropriate correlation measures for classification (like point biserial correlation).\n",
        "  - Develop insights into socio-economic differences and survival patterns within the Titanic dataset.\n",
        "\n",
        "- **Objectives:**  \n",
        "  - Explore the Titanic dataset to uncover meaningful patterns in survival outcomes.\n",
        "  - Apply visualization techniques to compare distributions (e.g., fare differences across classes) and analyze categorical vs. continuous relationships.\n",
        "  - Use EDA as a foundation to inform feature engineering and subsequent predictive modeling.\n",
        "\n",
        "This assignment will provide a clear roadmap for understanding the data and the analytical techniques essential for effective EDA.\n",
        "\n",
        "**Answer the questions that follow and completet the code**"
      ]
    },
    {
      "cell_type": "markdown",
      "metadata": {
        "id": "UnsEZM04RqSz"
      },
      "source": [
        "**1 Read in the Titanic data set**"
      ]
    },
    {
      "cell_type": "code",
      "execution_count": 149,
      "metadata": {},
      "outputs": [],
      "source": [
        "import numpy as np\n",
        "import pandas as pd"
      ]
    },
    {
      "cell_type": "code",
      "execution_count": 150,
      "metadata": {
        "id": "QbCbGDb2IMZ5"
      },
      "outputs": [
        {
          "name": "stdout",
          "output_type": "stream",
          "text": [
            "Number of rows, columns: (891, 12)\n"
          ]
        },
        {
          "data": {
            "text/html": [
              "<div>\n",
              "<style scoped>\n",
              "    .dataframe tbody tr th:only-of-type {\n",
              "        vertical-align: middle;\n",
              "    }\n",
              "\n",
              "    .dataframe tbody tr th {\n",
              "        vertical-align: top;\n",
              "    }\n",
              "\n",
              "    .dataframe thead th {\n",
              "        text-align: right;\n",
              "    }\n",
              "</style>\n",
              "<table border=\"1\" class=\"dataframe\">\n",
              "  <thead>\n",
              "    <tr style=\"text-align: right;\">\n",
              "      <th></th>\n",
              "      <th>PassengerId</th>\n",
              "      <th>Survived</th>\n",
              "      <th>Pclass</th>\n",
              "      <th>Name</th>\n",
              "      <th>Sex</th>\n",
              "      <th>Age</th>\n",
              "      <th>SibSp</th>\n",
              "      <th>Parch</th>\n",
              "      <th>Ticket</th>\n",
              "      <th>Fare</th>\n",
              "      <th>Cabin</th>\n",
              "      <th>Embarked</th>\n",
              "    </tr>\n",
              "  </thead>\n",
              "  <tbody>\n",
              "    <tr>\n",
              "      <th>0</th>\n",
              "      <td>1</td>\n",
              "      <td>0</td>\n",
              "      <td>3</td>\n",
              "      <td>Braund, Mr. Owen Harris</td>\n",
              "      <td>male</td>\n",
              "      <td>22.0</td>\n",
              "      <td>1</td>\n",
              "      <td>0</td>\n",
              "      <td>A/5 21171</td>\n",
              "      <td>7.2500</td>\n",
              "      <td>NaN</td>\n",
              "      <td>S</td>\n",
              "    </tr>\n",
              "    <tr>\n",
              "      <th>1</th>\n",
              "      <td>2</td>\n",
              "      <td>1</td>\n",
              "      <td>1</td>\n",
              "      <td>Cumings, Mrs. John Bradley (Florence Briggs Th...</td>\n",
              "      <td>female</td>\n",
              "      <td>38.0</td>\n",
              "      <td>1</td>\n",
              "      <td>0</td>\n",
              "      <td>PC 17599</td>\n",
              "      <td>71.2833</td>\n",
              "      <td>C85</td>\n",
              "      <td>C</td>\n",
              "    </tr>\n",
              "    <tr>\n",
              "      <th>2</th>\n",
              "      <td>3</td>\n",
              "      <td>1</td>\n",
              "      <td>3</td>\n",
              "      <td>Heikkinen, Miss. Laina</td>\n",
              "      <td>female</td>\n",
              "      <td>26.0</td>\n",
              "      <td>0</td>\n",
              "      <td>0</td>\n",
              "      <td>STON/O2. 3101282</td>\n",
              "      <td>7.9250</td>\n",
              "      <td>NaN</td>\n",
              "      <td>S</td>\n",
              "    </tr>\n",
              "    <tr>\n",
              "      <th>3</th>\n",
              "      <td>4</td>\n",
              "      <td>1</td>\n",
              "      <td>1</td>\n",
              "      <td>Futrelle, Mrs. Jacques Heath (Lily May Peel)</td>\n",
              "      <td>female</td>\n",
              "      <td>35.0</td>\n",
              "      <td>1</td>\n",
              "      <td>0</td>\n",
              "      <td>113803</td>\n",
              "      <td>53.1000</td>\n",
              "      <td>C123</td>\n",
              "      <td>S</td>\n",
              "    </tr>\n",
              "    <tr>\n",
              "      <th>4</th>\n",
              "      <td>5</td>\n",
              "      <td>0</td>\n",
              "      <td>3</td>\n",
              "      <td>Allen, Mr. William Henry</td>\n",
              "      <td>male</td>\n",
              "      <td>35.0</td>\n",
              "      <td>0</td>\n",
              "      <td>0</td>\n",
              "      <td>373450</td>\n",
              "      <td>8.0500</td>\n",
              "      <td>NaN</td>\n",
              "      <td>S</td>\n",
              "    </tr>\n",
              "  </tbody>\n",
              "</table>\n",
              "</div>"
            ],
            "text/plain": [
              "   PassengerId  Survived  Pclass  \\\n",
              "0            1         0       3   \n",
              "1            2         1       1   \n",
              "2            3         1       3   \n",
              "3            4         1       1   \n",
              "4            5         0       3   \n",
              "\n",
              "                                                Name     Sex   Age  SibSp  \\\n",
              "0                            Braund, Mr. Owen Harris    male  22.0      1   \n",
              "1  Cumings, Mrs. John Bradley (Florence Briggs Th...  female  38.0      1   \n",
              "2                             Heikkinen, Miss. Laina  female  26.0      0   \n",
              "3       Futrelle, Mrs. Jacques Heath (Lily May Peel)  female  35.0      1   \n",
              "4                           Allen, Mr. William Henry    male  35.0      0   \n",
              "\n",
              "   Parch            Ticket     Fare Cabin Embarked  \n",
              "0      0         A/5 21171   7.2500   NaN        S  \n",
              "1      0          PC 17599  71.2833   C85        C  \n",
              "2      0  STON/O2. 3101282   7.9250   NaN        S  \n",
              "3      0            113803  53.1000  C123        S  \n",
              "4      0            373450   8.0500   NaN        S  "
            ]
          },
          "execution_count": 150,
          "metadata": {},
          "output_type": "execute_result"
        }
      ],
      "source": [
        "df = pd.read_csv(\"https://raw.githubusercontent.com/sumonacalpoly/Datasets/refs/heads/main/Titanic_train.csv\", encoding='latin-1')\n",
        "print(\"Number of rows, columns:\", df.shape)\n",
        "df.head(5)\n"
      ]
    },
    {
      "cell_type": "markdown",
      "metadata": {
        "id": "44A_2em0SLvV"
      },
      "source": [
        "**2 What is the observational unit?**\n",
        "Passengers\n",
        "\n"
      ]
    },
    {
      "cell_type": "markdown",
      "metadata": {
        "id": "IZZ9uNkHSTZy"
      },
      "source": [
        "**3. What column seems to be an appropriate index for this data set? Do you see any problems with using this column as the index?**\n",
        "(Hint: Try looking up \"Kelly, Mr. James\" or \"Green, Mr. George\" in this DataFrame.)\n",
        "\n"
      ]
    },
    {
      "cell_type": "code",
      "execution_count": 151,
      "metadata": {
        "id": "Gqa7Sw5ZSYY7"
      },
      "outputs": [],
      "source": [
        "# [ ] # YOUR CODE HERE (if you want to further investigate the uniqueness of the 'name' column)\n",
        "# For instance, you might try:\n",
        "# df = df.set_index(\"PassengerId\")\n",
        "# df.head(5)"
      ]
    },
    {
      "cell_type": "markdown",
      "metadata": {
        "id": "yRjdloSYSuJA"
      },
      "source": [
        "let’s set \"name\" as the index and then extract a DataFrame with information about the three members of the Widener family:\n",
        "\n",
        "Widener, Mr. George Dunton\n",
        "Widener, Mr. Harry Elkins\n",
        "Widener, Mrs. Eleanor\n",
        "Use the following code to Set 'name' as the index of the DataFrame\n",
        "`titanic_df.set_index(\"name\", inplace=True)`"
      ]
    },
    {
      "cell_type": "code",
      "execution_count": 152,
      "metadata": {},
      "outputs": [
        {
          "data": {
            "text/html": [
              "<div>\n",
              "<style scoped>\n",
              "    .dataframe tbody tr th:only-of-type {\n",
              "        vertical-align: middle;\n",
              "    }\n",
              "\n",
              "    .dataframe tbody tr th {\n",
              "        vertical-align: top;\n",
              "    }\n",
              "\n",
              "    .dataframe thead th {\n",
              "        text-align: right;\n",
              "    }\n",
              "</style>\n",
              "<table border=\"1\" class=\"dataframe\">\n",
              "  <thead>\n",
              "    <tr style=\"text-align: right;\">\n",
              "      <th></th>\n",
              "      <th>PassengerId</th>\n",
              "      <th>Survived</th>\n",
              "      <th>Pclass</th>\n",
              "      <th>Sex</th>\n",
              "      <th>Age</th>\n",
              "      <th>SibSp</th>\n",
              "      <th>Parch</th>\n",
              "      <th>Ticket</th>\n",
              "      <th>Fare</th>\n",
              "      <th>Cabin</th>\n",
              "      <th>Embarked</th>\n",
              "    </tr>\n",
              "    <tr>\n",
              "      <th>Name</th>\n",
              "      <th></th>\n",
              "      <th></th>\n",
              "      <th></th>\n",
              "      <th></th>\n",
              "      <th></th>\n",
              "      <th></th>\n",
              "      <th></th>\n",
              "      <th></th>\n",
              "      <th></th>\n",
              "      <th></th>\n",
              "      <th></th>\n",
              "    </tr>\n",
              "  </thead>\n",
              "  <tbody>\n",
              "    <tr>\n",
              "      <th>Braund, Mr. Owen Harris</th>\n",
              "      <td>1</td>\n",
              "      <td>0</td>\n",
              "      <td>3</td>\n",
              "      <td>male</td>\n",
              "      <td>22.0</td>\n",
              "      <td>1</td>\n",
              "      <td>0</td>\n",
              "      <td>A/5 21171</td>\n",
              "      <td>7.2500</td>\n",
              "      <td>NaN</td>\n",
              "      <td>S</td>\n",
              "    </tr>\n",
              "    <tr>\n",
              "      <th>Cumings, Mrs. John Bradley (Florence Briggs Thayer)</th>\n",
              "      <td>2</td>\n",
              "      <td>1</td>\n",
              "      <td>1</td>\n",
              "      <td>female</td>\n",
              "      <td>38.0</td>\n",
              "      <td>1</td>\n",
              "      <td>0</td>\n",
              "      <td>PC 17599</td>\n",
              "      <td>71.2833</td>\n",
              "      <td>C85</td>\n",
              "      <td>C</td>\n",
              "    </tr>\n",
              "    <tr>\n",
              "      <th>Heikkinen, Miss. Laina</th>\n",
              "      <td>3</td>\n",
              "      <td>1</td>\n",
              "      <td>3</td>\n",
              "      <td>female</td>\n",
              "      <td>26.0</td>\n",
              "      <td>0</td>\n",
              "      <td>0</td>\n",
              "      <td>STON/O2. 3101282</td>\n",
              "      <td>7.9250</td>\n",
              "      <td>NaN</td>\n",
              "      <td>S</td>\n",
              "    </tr>\n",
              "    <tr>\n",
              "      <th>Futrelle, Mrs. Jacques Heath (Lily May Peel)</th>\n",
              "      <td>4</td>\n",
              "      <td>1</td>\n",
              "      <td>1</td>\n",
              "      <td>female</td>\n",
              "      <td>35.0</td>\n",
              "      <td>1</td>\n",
              "      <td>0</td>\n",
              "      <td>113803</td>\n",
              "      <td>53.1000</td>\n",
              "      <td>C123</td>\n",
              "      <td>S</td>\n",
              "    </tr>\n",
              "    <tr>\n",
              "      <th>Allen, Mr. William Henry</th>\n",
              "      <td>5</td>\n",
              "      <td>0</td>\n",
              "      <td>3</td>\n",
              "      <td>male</td>\n",
              "      <td>35.0</td>\n",
              "      <td>0</td>\n",
              "      <td>0</td>\n",
              "      <td>373450</td>\n",
              "      <td>8.0500</td>\n",
              "      <td>NaN</td>\n",
              "      <td>S</td>\n",
              "    </tr>\n",
              "  </tbody>\n",
              "</table>\n",
              "</div>"
            ],
            "text/plain": [
              "                                                    PassengerId  Survived  \\\n",
              "Name                                                                        \n",
              "Braund, Mr. Owen Harris                                       1         0   \n",
              "Cumings, Mrs. John Bradley (Florence Briggs Tha...            2         1   \n",
              "Heikkinen, Miss. Laina                                        3         1   \n",
              "Futrelle, Mrs. Jacques Heath (Lily May Peel)                  4         1   \n",
              "Allen, Mr. William Henry                                      5         0   \n",
              "\n",
              "                                                    Pclass     Sex   Age  \\\n",
              "Name                                                                       \n",
              "Braund, Mr. Owen Harris                                  3    male  22.0   \n",
              "Cumings, Mrs. John Bradley (Florence Briggs Tha...       1  female  38.0   \n",
              "Heikkinen, Miss. Laina                                   3  female  26.0   \n",
              "Futrelle, Mrs. Jacques Heath (Lily May Peel)             1  female  35.0   \n",
              "Allen, Mr. William Henry                                 3    male  35.0   \n",
              "\n",
              "                                                    SibSp  Parch  \\\n",
              "Name                                                               \n",
              "Braund, Mr. Owen Harris                                 1      0   \n",
              "Cumings, Mrs. John Bradley (Florence Briggs Tha...      1      0   \n",
              "Heikkinen, Miss. Laina                                  0      0   \n",
              "Futrelle, Mrs. Jacques Heath (Lily May Peel)            1      0   \n",
              "Allen, Mr. William Henry                                0      0   \n",
              "\n",
              "                                                              Ticket     Fare  \\\n",
              "Name                                                                            \n",
              "Braund, Mr. Owen Harris                                    A/5 21171   7.2500   \n",
              "Cumings, Mrs. John Bradley (Florence Briggs Tha...          PC 17599  71.2833   \n",
              "Heikkinen, Miss. Laina                              STON/O2. 3101282   7.9250   \n",
              "Futrelle, Mrs. Jacques Heath (Lily May Peel)                  113803  53.1000   \n",
              "Allen, Mr. William Henry                                      373450   8.0500   \n",
              "\n",
              "                                                   Cabin Embarked  \n",
              "Name                                                               \n",
              "Braund, Mr. Owen Harris                              NaN        S  \n",
              "Cumings, Mrs. John Bradley (Florence Briggs Tha...   C85        C  \n",
              "Heikkinen, Miss. Laina                               NaN        S  \n",
              "Futrelle, Mrs. Jacques Heath (Lily May Peel)        C123        S  \n",
              "Allen, Mr. William Henry                             NaN        S  "
            ]
          },
          "execution_count": 152,
          "metadata": {},
          "output_type": "execute_result"
        }
      ],
      "source": [
        "df.set_index(\"Name\", inplace=True)\n",
        "df.head(5)"
      ]
    },
    {
      "cell_type": "markdown",
      "metadata": {
        "id": "37FtPEvNTEzP"
      },
      "source": [
        "**4. Extract rows corresponding to the Widener family**"
      ]
    },
    {
      "cell_type": "code",
      "execution_count": 153,
      "metadata": {
        "id": "XdwCMNreTG10"
      },
      "outputs": [
        {
          "name": "stdout",
          "output_type": "stream",
          "text": [
            "                           PassengerId  Survived  Pclass   Sex   Age  SibSp  \\\n",
            "Name                                                                          \n",
            "Widener, Mr. Harry Elkins          378         0       1  male  27.0      0   \n",
            "\n",
            "                           Parch  Ticket   Fare Cabin Embarked  \n",
            "Name                                                            \n",
            "Widener, Mr. Harry Elkins      2  113503  211.5   C82        C  \n"
          ]
        }
      ],
      "source": [
        "widener_family = df[df.index.str.contains(\"Widener\", case=False)]\n",
        "print(widener_family)"
      ]
    },
    {
      "cell_type": "markdown",
      "metadata": {
        "id": "3VmNbBwoV0KR"
      },
      "source": [
        "**5. Compute the Median Age of passengers.**\n",
        "\n",
        "Hint: Use the .median() method in pandas."
      ]
    },
    {
      "cell_type": "code",
      "execution_count": 154,
      "metadata": {
        "id": "KI-7dmOdb-H9"
      },
      "outputs": [
        {
          "name": "stdout",
          "output_type": "stream",
          "text": [
            "28.0\n"
          ]
        }
      ],
      "source": [
        "medianage = df[\"Age\"].median()\n",
        "print(medianage)"
      ]
    },
    {
      "cell_type": "markdown",
      "metadata": {
        "id": "cAvKx4XJcDx5"
      },
      "source": [
        "**6. Visualize the Age Distribution**:\n",
        "Create a histogram of the age variable to visualize its distribution."
      ]
    },
    {
      "cell_type": "code",
      "execution_count": 155,
      "metadata": {
        "id": "gWU6KqwUewpB"
      },
      "outputs": [
        {
          "data": {
            "text/plain": [
              "<Axes: ylabel='Frequency'>"
            ]
          },
          "execution_count": 155,
          "metadata": {},
          "output_type": "execute_result"
        },
        {
          "data": {
            "image/png": "[encoded data removed]",
            "text/plain": [
              "<Figure size 640x480 with 1 Axes>"
            ]
          },
          "metadata": {},
          "output_type": "display_data"
        }
      ],
      "source": [
        "df['Age'].plot.hist()\n"
      ]
    },
    {
      "cell_type": "markdown",
      "metadata": {
        "id": "z-7pC-Jve2F0"
      },
      "source": [
        "\n",
        "**7. Calculate both the mean and the median of the fare column.**\n",
        "\n"
      ]
    },
    {
      "cell_type": "code",
      "execution_count": 156,
      "metadata": {
        "id": "nqLkod7Ue6Cc"
      },
      "outputs": [
        {
          "name": "stdout",
          "output_type": "stream",
          "text": [
            "meanfare 32.204207968574636\n",
            "medianfare 14.4542\n"
          ]
        }
      ],
      "source": [
        "# YOUR CODE HERE: Calculate and print mean and median fare\n",
        "meanfare = df[\"Fare\"].mean()\n",
        "medianfare = df[\"Fare\"].median()\n",
        "\n",
        "print(\"meanfare\", meanfare)\n",
        "print(\"medianfare\", medianfare)\n"
      ]
    },
    {
      "cell_type": "markdown",
      "metadata": {
        "id": "ru5aiWuxheeX"
      },
      "source": [
        "**8. What does the difference between the mean and the median suggest about the fare distribution?**\n",
        "\n",
        "The difference represents there may be outliers that heavily influence the mean to be much greater than the median. It would look like a right-skewed graph because mean > median."
      ]
    },
    {
      "cell_type": "markdown",
      "metadata": {
        "id": "RUB5UGt9fAn-"
      },
      "source": [
        "**9. Create a box plot to visualize the distribution of fares across different passenger classes (pclass).**\n",
        "\n",
        "**10. What differences do you notice in the fare distributions among the classes?**"
      ]
    },
    {
      "cell_type": "code",
      "execution_count": 157,
      "metadata": {},
      "outputs": [
        {
          "data": {
            "image/png": "[encoded data removed]",
            "text/plain": [
              "<Figure size 640x480 with 1 Axes>"
            ]
          },
          "metadata": {},
          "output_type": "display_data"
        }
      ],
      "source": [
        "import seaborn as sns\n",
        "import matplotlib.pyplot as plt\n",
        "\n",
        "sns.boxplot(x=\"Pclass\", y=\"Fare\", data=df)\n",
        "\n",
        "plt.title(\"Fare Distribution by Passenger Class\")\n",
        "plt.xlabel(\"Passenger Class\")\n",
        "plt.ylabel(\"Fare ($)\")\n",
        "plt.show()\n",
        "\n",
        "# The fare distribution is much higher the lower the passenger class.\n"
      ]
    },
    {
      "cell_type": "code",
      "execution_count": null,
      "metadata": {},
      "outputs": [],
      "source": []
    },
    {
      "cell_type": "markdown",
      "metadata": {
        "id": "K7GSeF0ffL87"
      },
      "source": [
        "**11. Consider how the median fare and the spread of fares differ between classes. What might this indicate about the socio-economic differences among passengers?**\n",
        "\n",
        "\n",
        "The median fare and the spread of fares may describe the larger fare influence from lower passenger class.\n"
      ]
    },
    {
      "cell_type": "markdown",
      "metadata": {
        "id": "Kva9GOONfdpk"
      },
      "source": [
        "**12. Survival Rate Analysis by Passenger Class:**\n",
        "Create a bar plot that shows the survival rate (i.e., proportion of survivors) for each passenger class. Use the `pclass` and `survived` columns to calculate the survival rate."
      ]
    },
    {
      "cell_type": "code",
      "execution_count": 158,
      "metadata": {
        "id": "k32R8qnpfwB7"
      },
      "outputs": [
        {
          "name": "stdout",
          "output_type": "stream",
          "text": [
            "Pclass\n",
            "1    0.629630\n",
            "2    0.472826\n",
            "3    0.242363\n",
            "Name: Survived, dtype: float64\n"
          ]
        },
        {
          "data": {
            "image/png": "[encoded data removed]",
            "text/plain": [
              "<Figure size 640x480 with 1 Axes>"
            ]
          },
          "metadata": {},
          "output_type": "display_data"
        }
      ],
      "source": [
        "import matplotlib.pyplot as plt\n",
        "\n",
        "# Calculate survival rate per class\n",
        "survival_rate = df.groupby(\"Pclass\")[\"Survived\"].mean()\n",
        "print(survival_rate)\n",
        "\n",
        "# Create the bar plot\n",
        "fig, ax = plt.subplots()\n",
        "ax.bar(survival_rate.index.astype(str), survival_rate.values)\n",
        "\n",
        "# Set titles and labels\n",
        "ax.set_title(\"Survival Rate by Passenger Class\")\n",
        "ax.set_xlabel(\"Passenger Class\")\n",
        "ax.set_ylabel(\"Survival Rate\")\n",
        "\n",
        "plt.show()\n"
      ]
    },
    {
      "cell_type": "markdown",
      "metadata": {
        "id": "knxAXl9of4Rf"
      },
      "source": [
        "\n",
        "**13. What insights can you derive regarding the relationship between passenger class and survival rate?**\n",
        "\n",
        "There is a negative relationship such that the higher tha passenger class, the lower the survival rate. "
      ]
    },
    {
      "cell_type": "markdown",
      "metadata": {
        "id": "ceHyVARZgCu6"
      },
      "source": [
        "**14. Correlation Analysis Using Point Biserial Correlation**:\n",
        "For a continuous variable like fare or age and the binary target survived, compute the point biserial correlation. Use `scipy.stats.pointbiserialr` for this task."
      ]
    },
    {
      "cell_type": "code",
      "execution_count": 161,
      "metadata": {
        "id": "MRd_2eMTgLil"
      },
      "outputs": [
        {
          "name": "stdout",
          "output_type": "stream",
          "text": [
            "Point Biserial Correlation between Survived and Age: -0.07722109457217767 (p-value = 0.039124654013482446)\n",
            "Point Biserial Correlation between Survived and Fare: 0.26818861687447876 (p-value = 3.1559945704844404e-13)\n"
          ]
        }
      ],
      "source": [
        "from scipy.stats import pointbiserialr\n",
        "\n",
        "df = df.dropna(subset=['Fare', 'Age', 'Survived'])\n",
        "\n",
        "# YOUR CODE HERE: Compute point biserial correlation between age and survived\n",
        "corr_age, pval_age = pointbiserialr(df[\"Survived\"], df[\"Age\"])\n",
        "print(f\"Point Biserial Correlation between Survived and Age: {corr_age} (p-value = {pval_age})\")\n",
        "\n",
        "\n",
        "# YOUR CODE HERE: Compute point biserial correlation between fare and survived\n",
        "corr_fare, pval_fare = pointbiserialr(df[\"Survived\"], df[\"Fare\"])\n",
        "print(f\"Point Biserial Correlation between Survived and Fare: {corr_fare} (p-value = {pval_fare})\")\n",
        "\n"
      ]
    },
    {
      "cell_type": "markdown",
      "metadata": {
        "id": "2hsiQViFgRbB"
      },
      "source": [
        "**15. How strong are the associations between age/fare and survival? What might these correlations indicate about survival likelihood?**\n",
        "\n",
        "The association between survival and age seems low with around a negative 7% correlation. \n",
        "The association between survivla and fare is also low with around a postive 27% correlation.\n",
        "\n",
        "This may suggest that fares have a larger influence on surival than age."
      ]
    }
  ],
  "metadata": {
    "colab": {
      "provenance": []
    },
    "kernelspec": {
      "display_name": "Python 3",
      "name": "python3"
    },
    "language_info": {
      "codemirror_mode": {
        "name": "ipython",
        "version": 3
      },
      "file_extension": ".py",
      "mimetype": "text/x-python",
      "name": "python",
      "nbconvert_exporter": "python",
      "pygments_lexer": "ipython3",
      "version": "3.10.12"
    }
  },
  "nbformat": 4,
  "nbformat_minor": 0
}
