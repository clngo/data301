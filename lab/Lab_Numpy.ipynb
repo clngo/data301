{
  "cells": [
    {
      "cell_type": "markdown",
      "metadata": {
        "id": "YtBxJKfTeaxf"
      },
      "source": [
        "# Introductory NumPy lab: Please attempt all the questions and demo your answers to your intructor/TA within the due date.\n",
        "\n",
        "Learning Objectives of this Lab:\n",
        "\n",
        "* Create, manipulate, and reshape NumPy arrays.\n",
        "\n",
        "* Perform statistical analysis and aggregation on arrays.\n",
        "\n",
        "* Work with random data and array slicing.\n",
        "\n",
        "* Understand and use array operations such as element-wise operations, conditional replacements, and aggregation.\n",
        "\n",
        "* Gain practical skills with NumPy functions that are critical for data manipulation in Python.\n",
        "\n",
        "These learning outcomes of these exercises are to provide students with a strong foundation in using NumPy for data manipulation, which will be essential for future data science, machine learning, and scientific computing applications."
      ]
    },
    {
      "cell_type": "markdown",
      "metadata": {
        "id": "pzBLOpdAca6R"
      },
      "source": []
    },
    {
      "cell_type": "markdown",
      "metadata": {
        "id": "1HGBbFgmcOXW"
      },
      "source": [
        "# 1. Create a 3x3x3 array with random values"
      ]
    },
    {
      "cell_type": "code",
      "execution_count": 1,
      "metadata": {},
      "outputs": [
        {
          "data": {
            "text/plain": [
              "array([[[0.12659441, 0.24628528, 0.2167974 ],\n",
              "        [0.5334671 , 0.51664095, 0.20893097],\n",
              "        [0.49402135, 0.95335071, 0.55342676]],\n",
              "\n",
              "       [[0.54295363, 0.4230351 , 0.01645177],\n",
              "        [0.1957041 , 0.49585085, 0.50435852],\n",
              "        [0.66674095, 0.56537115, 0.15329257]],\n",
              "\n",
              "       [[0.87407814, 0.74313602, 0.15146318],\n",
              "        [0.38955863, 0.08391863, 0.34408091],\n",
              "        [0.63632613, 0.28010763, 0.33248849]]])"
            ]
          },
          "execution_count": 1,
          "metadata": {},
          "output_type": "execute_result"
        }
      ],
      "source": [
        "import numpy as np\n",
        "\n",
        "np.random.random((3, 3, 3))"
      ]
    },
    {
      "cell_type": "markdown",
      "metadata": {
        "id": "TtfULt2rcOXY"
      },
      "source": [
        "# 2.Create a 5x5 matrix with values 1,2,3,4 just below the diagonal"
      ]
    },
    {
      "cell_type": "code",
      "execution_count": 2,
      "metadata": {},
      "outputs": [
        {
          "name": "stdout",
          "output_type": "stream",
          "text": [
            "[[0. 0. 0. 0. 0.]\n",
            " [1. 0. 0. 0. 0.]\n",
            " [0. 1. 0. 0. 0.]\n",
            " [0. 0. 1. 0. 0.]\n",
            " [0. 0. 0. 1. 0.]]\n"
          ]
        }
      ],
      "source": [
        "np.array([[0, 0, 0, 0, 0],\n",
        "         [1, 0, 0, 0, 0],\n",
        "         [0, 2, 0, 0, 0],\n",
        "         [0, 0, 3, 0, 0],\n",
        "         [0, 0, 0, 4, 0]])\n",
        "\n",
        "eye_array = np.eye(5,k=-1)\n",
        "print(eye_array)"
      ]
    },
    {
      "cell_type": "markdown",
      "metadata": {
        "id": "7DI8w8sRcOXZ"
      },
      "source": [
        "# 3.Create a 8x8 matrix and fill it with a checkerboard pattern"
      ]
    },
    {
      "cell_type": "code",
      "execution_count": 3,
      "metadata": {},
      "outputs": [
        {
          "data": {
            "text/plain": [
              "array([[0, 1, 0, 1, 0, 1, 0, 1],\n",
              "       [1, 0, 1, 0, 1, 0, 1, 0],\n",
              "       [0, 1, 0, 1, 0, 1, 0, 1],\n",
              "       [1, 0, 1, 0, 1, 0, 1, 0],\n",
              "       [0, 1, 0, 1, 0, 1, 0, 1],\n",
              "       [1, 0, 1, 0, 1, 0, 1, 0],\n",
              "       [0, 1, 0, 1, 0, 1, 0, 1],\n",
              "       [1, 0, 1, 0, 1, 0, 1, 0]])"
            ]
          },
          "execution_count": 3,
          "metadata": {},
          "output_type": "execute_result"
        }
      ],
      "source": [
        "np.array([[0, 1, 0, 1, 0, 1, 0, 1],\n",
        "          [1, 0, 1, 0, 1, 0, 1, 0],\n",
        "          [0, 1, 0, 1, 0, 1, 0, 1],\n",
        "          [1, 0, 1, 0, 1, 0, 1, 0],\n",
        "          [0, 1, 0, 1, 0, 1, 0, 1],\n",
        "          [1, 0, 1, 0, 1, 0, 1, 0],\n",
        "          [0, 1, 0, 1, 0, 1, 0, 1],\n",
        "          [1, 0, 1, 0, 1, 0, 1, 0],])"
      ]
    },
    {
      "cell_type": "markdown",
      "metadata": {
        "id": "EFVRzaxncOXZ"
      },
      "source": [
        "# 4. Normalize a 5x5 random matrix"
      ]
    },
    {
      "cell_type": "code",
      "execution_count": 4,
      "metadata": {},
      "outputs": [
        {
          "name": "stdout",
          "output_type": "stream",
          "text": [
            "[[1 3 3 4 3]\n",
            " [4 1 6 2 2]\n",
            " [9 3 2 1 4]\n",
            " [9 9 3 4 8]\n",
            " [7 9 7 3 3]]\n"
          ]
        },
        {
          "data": {
            "text/plain": [
              "array([[0.   , 0.25 , 0.25 , 0.375, 0.25 ],\n",
              "       [0.375, 0.   , 0.625, 0.125, 0.125],\n",
              "       [1.   , 0.25 , 0.125, 0.   , 0.375],\n",
              "       [1.   , 1.   , 0.25 , 0.375, 0.875],\n",
              "       [0.75 , 1.   , 0.75 , 0.25 , 0.25 ]])"
            ]
          },
          "execution_count": 4,
          "metadata": {},
          "output_type": "execute_result"
        }
      ],
      "source": [
        "# Normalize entire matrix by rows\n",
        "df = np.random.randint(0, 10, size=(5, 5), dtype=int)\n",
        "print(df)\n",
        "dfmin = df.min()\n",
        "dfmax = df.max()\n",
        "(df-dfmin) / (dfmax - dfmin)"
      ]
    },
    {
      "cell_type": "code",
      "execution_count": 5,
      "metadata": {},
      "outputs": [
        {
          "name": "stdout",
          "output_type": "stream",
          "text": [
            "[[1 8 2 0 1]\n",
            " [5 0 7 9 9]\n",
            " [5 7 5 3 5]\n",
            " [3 0 4 2 7]\n",
            " [2 6 1 1 1]]\n"
          ]
        },
        {
          "data": {
            "text/plain": [
              "array([[0.        , 1.        , 0.16666667, 0.        , 0.        ],\n",
              "       [1.        , 0.        , 1.        , 1.        , 1.        ],\n",
              "       [1.        , 0.875     , 0.66666667, 0.33333333, 0.5       ],\n",
              "       [0.5       , 0.        , 0.5       , 0.22222222, 0.75      ],\n",
              "       [0.25      , 0.75      , 0.        , 0.11111111, 0.        ]])"
            ]
          },
          "execution_count": 5,
          "metadata": {},
          "output_type": "execute_result"
        }
      ],
      "source": [
        "# Normalize entire matrix by columns\n",
        "df = np.random.randint(0, 10, size=(5, 5), dtype=int)\n",
        "print(df)\n",
        "dfmin = df.min(axis = 0)\n",
        "dfmax = df.max(axis = 0)\n",
        "(df-dfmin) / (dfmax - dfmin)"
      ]
    },
    {
      "cell_type": "markdown",
      "metadata": {
        "id": "P2S8OT0OcOXZ"
      },
      "source": [
        "# 5.  How to find common values between two arrays?\n",
        "\n",
        "refer and study the method `intersect1d`"
      ]
    },
    {
      "cell_type": "code",
      "execution_count": 6,
      "metadata": {},
      "outputs": [
        {
          "name": "stdout",
          "output_type": "stream",
          "text": [
            "[False False False False False]\n"
          ]
        },
        {
          "data": {
            "text/plain": [
              "array([1, 5])"
            ]
          },
          "execution_count": 6,
          "metadata": {},
          "output_type": "execute_result"
        }
      ],
      "source": [
        "arr1 = np.array([1, 2, 3, 4, 5])\n",
        "arr2 = np.array([5, 6, 7, 8, 1])\n",
        "print(arr1 == arr2)\n",
        "np.intersect1d(arr1, arr2)"
      ]
    },
    {
      "cell_type": "markdown",
      "metadata": {
        "id": "lubKfNgDcOXa"
      },
      "source": [
        "# 6.How to get the dates of yesterday, today and tomorrow?"
      ]
    },
    {
      "cell_type": "code",
      "execution_count": 7,
      "metadata": {},
      "outputs": [
        {
          "name": "stdout",
          "output_type": "stream",
          "text": [
            "Today: 2025-04-14\n",
            "Yesterday: 2025-04-13\n",
            "Tomorrow: 2025-04-15\n"
          ]
        }
      ],
      "source": [
        "# https://www.w3resource.com/python-exercises/numpy/python-numpy-datetime-exercise-2.php\n",
        "\n",
        "print(\"Today:\", np.datetime64('today'))\n",
        "print(\"Yesterday:\", np.datetime64('today') - np.timedelta64(1))\n",
        "print(\"Tomorrow:\", np.datetime64('today') + np.timedelta64(1))"
      ]
    },
    {
      "cell_type": "markdown",
      "metadata": {
        "id": "jCGKkGP0cOXa"
      },
      "source": [
        "# 7. Consider two random array A and B, check if they are equal"
      ]
    },
    {
      "cell_type": "code",
      "execution_count": 8,
      "metadata": {},
      "outputs": [
        {
          "name": "stdout",
          "output_type": "stream",
          "text": [
            "[[7 4 8 3 5]]\n",
            "[[6 8 5 0 9]]\n"
          ]
        },
        {
          "data": {
            "text/plain": [
              "False"
            ]
          },
          "execution_count": 8,
          "metadata": {},
          "output_type": "execute_result"
        }
      ],
      "source": [
        "arrA = np.random.randint(0, 10, size=(1, 5), dtype=int)\n",
        "arrB = np.random.randint(0, 10, size=(1, 5), dtype=int)\n",
        "print(arrA)\n",
        "print(arrB)\n",
        "np.array_equal(arrA, arrB)\n"
      ]
    },
    {
      "cell_type": "markdown",
      "metadata": {
        "id": "gZctvewkcOXa"
      },
      "source": [
        "# 8.Create random vector of size 20 and replace the maximum value by 1 and minimum value by -1"
      ]
    },
    {
      "cell_type": "code",
      "execution_count": 9,
      "metadata": {},
      "outputs": [
        {
          "name": "stdout",
          "output_type": "stream",
          "text": [
            "[0.24979485 0.56233321 0.82327942 0.89737531 0.02576431 0.30266754\n",
            " 0.21099106 0.00265685 0.46198749 0.93512353 0.27173209 0.31261119\n",
            " 0.6369188  0.66357911 0.38670866 0.35519114 0.76187819 0.84822214\n",
            " 0.1179258  0.25732723]\n"
          ]
        },
        {
          "data": {
            "text/plain": [
              "array([ 0.24979485,  0.56233321,  0.82327942,  0.89737531,  0.02576431,\n",
              "        0.30266754,  0.21099106, -1.        ,  0.46198749,  1.        ,\n",
              "        0.27173209,  0.31261119,  0.6369188 ,  0.66357911,  0.38670866,\n",
              "        0.35519114,  0.76187819,  0.84822214,  0.1179258 ,  0.25732723])"
            ]
          },
          "execution_count": 9,
          "metadata": {},
          "output_type": "execute_result"
        }
      ],
      "source": [
        "df = np.random.random(20)\n",
        "print(df)\n",
        "df[df == df.max()] = 1\n",
        "df[df == df.min()] = -1\n",
        "df"
      ]
    },
    {
      "cell_type": "markdown",
      "metadata": {
        "id": "kCf0SJEtcOXa"
      },
      "source": [
        "# 9. How to print all the values of an array?"
      ]
    },
    {
      "cell_type": "code",
      "execution_count": 10,
      "metadata": {},
      "outputs": [
        {
          "name": "stdout",
          "output_type": "stream",
          "text": [
            "[[0.67700187 0.13809249 0.81895441 0.09651242 0.99922345]\n",
            " [0.92041441 0.5003309  0.94124795 0.40962638 0.66821941]\n",
            " [0.40465541 0.39246117 0.51514712 0.73277309 0.09888666]\n",
            " [0.36497609 0.38068274 0.9987671  0.17593758 0.405088  ]\n",
            " [0.39405738 0.12892051 0.19279198 0.58702535 0.84635864]]\n"
          ]
        }
      ],
      "source": [
        "print(np.random.random((5, 5)))"
      ]
    },
    {
      "cell_type": "markdown",
      "metadata": {
        "id": "9b4DkBj8cOXb"
      },
      "source": [
        "# 10.Subtract the mean of each row of a matrix"
      ]
    },
    {
      "cell_type": "code",
      "execution_count": 11,
      "metadata": {},
      "outputs": [
        {
          "name": "stdout",
          "output_type": "stream",
          "text": [
            "[[1 2 3]\n",
            " [4 5 6]\n",
            " [7 8 9]]\n",
            "[2. 5. 8.]\n",
            "[[2.]\n",
            " [5.]\n",
            " [8.]]\n"
          ]
        },
        {
          "data": {
            "text/plain": [
              "array([[-1.,  0.,  1.],\n",
              "       [-1.,  0.,  1.],\n",
              "       [-1.,  0.,  1.]])"
            ]
          },
          "execution_count": 11,
          "metadata": {},
          "output_type": "execute_result"
        }
      ],
      "source": [
        "# https://www.w3resource.com/python-exercises/numpy/python-numpy-exercise-182.php\n",
        "\n",
        "x = np.arange(1, 10).reshape(3, 3)\n",
        "print(x)\n",
        "print(x.mean(axis=1))\n",
        "print(x.mean(axis=1).reshape(3, 1))\n",
        "y = x-x.mean(axis=1).reshape(3, 1)\n",
        "y"
      ]
    },
    {
      "cell_type": "markdown",
      "metadata": {
        "id": "y1FoRbhBcOXb"
      },
      "source": [
        "# 11.Consider a given vector, how to add 1 to each element indexed by a second vector (be careful with repeated indices)?\n"
      ]
    },
    {
      "cell_type": "code",
      "execution_count": 36,
      "metadata": {},
      "outputs": [
        {
          "name": "stdout",
          "output_type": "stream",
          "text": [
            "[3 6 2 6 4 7 0 9 7 3]\n",
            "[1. 1. 1. 1. 1. 1. 1. 1. 1. 1.]\n",
            "[ 4.  7.  3.  7.  5.  8.  1. 10.  8.  4.]\n"
          ]
        }
      ],
      "source": [
        "x = np.random.randint(0, 10, 10)\n",
        "print(x)\n",
        "second_vector = np.ones(10)\n",
        "print(second_vector)\n",
        "print(x + second_vector)\n"
      ]
    },
    {
      "cell_type": "markdown",
      "metadata": {
        "id": "I6CglCpdcOXb"
      },
      "source": [
        "# 12.How to get the diagonal of a dot product?"
      ]
    },
    {
      "cell_type": "code",
      "execution_count": 13,
      "metadata": {},
      "outputs": [
        {
          "name": "stdout",
          "output_type": "stream",
          "text": [
            "[[0 1 2]\n",
            " [3 4 5]]\n",
            "[[0 1 2]\n",
            " [3 4 5]\n",
            " [6 7 8]]\n",
            "dot product of a, b\n",
            "[[15 18 21]\n",
            " [42 54 66]]\n"
          ]
        },
        {
          "data": {
            "text/plain": [
              "array([15, 54])"
            ]
          },
          "execution_count": 13,
          "metadata": {},
          "output_type": "execute_result"
        }
      ],
      "source": [
        "a = np.arange(6).reshape(2, 3)\n",
        "print(a)\n",
        "b = np.arange(9).reshape(3, 3)\n",
        "print(b)\n",
        "\n",
        "\n",
        "print(\"dot product of a, b\")\n",
        "print(np.dot(a, b))\n",
        "\n",
        "# print(\"dot product\")\n",
        "# print(np.dot(np.dot(a, b), a.T))\n",
        "\n",
        "np.diag(np.dot(a, b))"
      ]
    },
    {
      "cell_type": "markdown",
      "metadata": {
        "id": "_GYXL6WCcOXb"
      },
      "source": [
        "# 13.How to find the most frequent value in an array?"
      ]
    },
    {
      "cell_type": "code",
      "execution_count": 35,
      "metadata": {},
      "outputs": [
        {
          "name": "stdout",
          "output_type": "stream",
          "text": [
            "[[1 4 9 9 7 3 8 3 7 3]]\n",
            "[1 3 4 7 8 9] [1 3 1 2 1 2]\n",
            "1\n",
            "3\n"
          ]
        }
      ],
      "source": [
        "a = np.random.randint(10, size=(1, 10))\n",
        "print(a)\n",
        "\n",
        "uniq, freq = np.unique(a, return_counts=True)\n",
        "print(uniq, freq)\n",
        "print(freq.argmax()) #returns the index of the highest value\n",
        "print(uniq[freq.argmax()])"
      ]
    },
    {
      "cell_type": "markdown",
      "metadata": {
        "id": "BMQoUO5LcOXb"
      },
      "source": [
        "# 14.How to create a record array from a regular array?"
      ]
    },
    {
      "cell_type": "code",
      "execution_count": 15,
      "metadata": {},
      "outputs": [
        {
          "name": "stdout",
          "output_type": "stream",
          "text": [
            "[[8 0 9 1 9]\n",
            " [1 7 6 2 0]\n",
            " [9 3 9 6 9]]\n"
          ]
        },
        {
          "data": {
            "text/plain": [
              "rec.array([[8, 0, 9, 1, 9],\n",
              "           [1, 7, 6, 2, 0],\n",
              "           [9, 3, 9, 6, 9]],\n",
              "          dtype=int64)"
            ]
          },
          "execution_count": 15,
          "metadata": {},
          "output_type": "execute_result"
        }
      ],
      "source": [
        "a = np.random.randint(0, 10, size=(3, 5))\n",
        "print(a)\n",
        "\n",
        "record = np.rec.array(a)\n",
        "record"
      ]
    },
    {
      "cell_type": "markdown",
      "metadata": {
        "id": "hqP_fMyMdeCh"
      },
      "source": [
        "## 15. Create an array with values ranging from 0 to 1 with a step of 0.1."
      ]
    },
    {
      "cell_type": "code",
      "execution_count": 16,
      "metadata": {},
      "outputs": [
        {
          "name": "stdout",
          "output_type": "stream",
          "text": [
            "[0.  0.1 0.2 0.3 0.4 0.5 0.6 0.7 0.8 0.9 1. ]\n"
          ]
        }
      ],
      "source": [
        "# num_points = int((end - start) / step) + 1\n",
        "# 1 / 0.1 + 1 = 11\n",
        "x = np.linspace(0, 1, 11)\n",
        "print(x)"
      ]
    },
    {
      "cell_type": "markdown",
      "metadata": {
        "id": "pV3XwBD0dlg0"
      },
      "source": [
        "# 16. Create a 5x5 matrix and replace all the even numbers with 0."
      ]
    },
    {
      "cell_type": "code",
      "execution_count": 17,
      "metadata": {},
      "outputs": [
        {
          "name": "stdout",
          "output_type": "stream",
          "text": [
            "[[ 1  0  3  0  5]\n",
            " [ 0  7  0  9  0]\n",
            " [11  0 13  0 15]\n",
            " [ 0 17  0 19  0]\n",
            " [21  0 23  0 25]]\n"
          ]
        }
      ],
      "source": [
        "x = np.arange(1, 26).reshape(5, 5)\n",
        "x[x % 2 == 0] = 0\n",
        "\n",
        "print(x)\n"
      ]
    },
    {
      "cell_type": "markdown",
      "metadata": {
        "id": "mMOw2qB9doQ8"
      },
      "source": [
        "# 17. Create an array with values 1 to 9, and then use np.reshape() to reshape it into a 3x3 matrix. Study the `reshape()` method to answer this question\n",
        "\n"
      ]
    },
    {
      "cell_type": "code",
      "execution_count": 18,
      "metadata": {},
      "outputs": [
        {
          "name": "stdout",
          "output_type": "stream",
          "text": [
            "[[1 2 3]\n",
            " [4 5 6]\n",
            " [7 8 9]]\n"
          ]
        }
      ],
      "source": [
        "x = np.arange(1, 10).reshape(3, 3)\n",
        "print(x)"
      ]
    },
    {
      "cell_type": "markdown",
      "metadata": {},
      "source": [
        "# 18. Create a 1D array of random values and find the standard deviation and variance of the array. You can use Python's inbuilt methods `np.std()` and `np.var()` or write your own code for these methods.\n",
        "\n"
      ]
    },
    {
      "cell_type": "code",
      "execution_count": 19,
      "metadata": {},
      "outputs": [
        {
          "name": "stdout",
          "output_type": "stream",
          "text": [
            "[8 8 2 7 4 3 2 0 0 7]\n",
            "3.014962686336267\n",
            "9.09\n"
          ]
        }
      ],
      "source": [
        "x = np.random.randint(0, 10, size=(10))\n",
        "print(x)\n",
        "\n",
        "std = np.std(x)\n",
        "print(std)\n",
        "\n",
        "var = np.var(x)\n",
        "print(var)"
      ]
    },
    {
      "cell_type": "markdown",
      "metadata": {},
      "source": [
        "# 19. Given an array of numbers, find the indices where the value is greater than a given threshold. Refer to how the method `np.where()` works to answer this question.\n",
        "\n"
      ]
    },
    {
      "cell_type": "code",
      "execution_count": 20,
      "metadata": {},
      "outputs": [
        {
          "name": "stdout",
          "output_type": "stream",
          "text": [
            "[2 5 4 7 0 8 6 2 1 3]\n",
            "(array([0, 2, 4, 7, 8, 9]),)\n"
          ]
        }
      ],
      "source": [
        "x = np.random.randint(0, 10, size=(10))\n",
        "print(x)\n",
        "y = np.where(x < 5)\n",
        "print(y)"
      ]
    },
    {
      "cell_type": "markdown",
      "metadata": {},
      "source": [
        "# 20. Create two random arrays of size 3x3 and compute their element-wise addition and subtraction."
      ]
    },
    {
      "cell_type": "code",
      "execution_count": 21,
      "metadata": {},
      "outputs": [
        {
          "name": "stdout",
          "output_type": "stream",
          "text": [
            "[[8 6 5]\n",
            " [3 7 2]\n",
            " [8 8 2]]\n",
            "[[3 8 5]\n",
            " [5 5 1]\n",
            " [5 6 7]]\n",
            "addition: [[11 14 10]\n",
            " [ 8 12  3]\n",
            " [13 14  9]]\n",
            "subtraction: [[ 5 -2  0]\n",
            " [-2  2  1]\n",
            " [ 3  2 -5]]\n"
          ]
        }
      ],
      "source": [
        "arr1 = np.random.randint(0, 10, size=(3, 3))\n",
        "print(arr1)\n",
        "arr2 = np.random.randint(0, 10, size=(3, 3))\n",
        "print(arr2)\n",
        "\n",
        "print(\"addition:\", arr1 + arr2)\n",
        "print(\"subtraction:\", arr1 - arr2)\n"
      ]
    },
    {
      "cell_type": "markdown",
      "metadata": {},
      "source": [
        "Practice Problems"
      ]
    },
    {
      "cell_type": "code",
      "execution_count": 22,
      "metadata": {},
      "outputs": [
        {
          "data": {
            "text/plain": [
              "array([[0.48383122, 0.30433452, 0.83288809, 0.49705919, 0.28194643],\n",
              "       [0.34562534, 0.05457879, 0.40697752, 0.00214333, 0.54955857],\n",
              "       [0.0685121 , 0.83146635, 0.33045862, 0.18978598, 0.44993144],\n",
              "       [0.18594013, 0.40896631, 0.34616929, 0.46795428, 0.82864089],\n",
              "       [0.33871559, 0.15049671, 0.78587468, 0.86633219, 0.81305929]])"
            ]
          },
          "execution_count": 22,
          "metadata": {},
          "output_type": "execute_result"
        }
      ],
      "source": [
        "# Generate an array of shape 5 by 5 containin random numbers from uniform distribution\n",
        "np.random.uniform(size=(5, 5))"
      ]
    },
    {
      "cell_type": "code",
      "execution_count": 23,
      "metadata": {},
      "outputs": [
        {
          "data": {
            "text/plain": [
              "array([[1., 0., 0., 0., 0.],\n",
              "       [0., 1., 0., 0., 0.],\n",
              "       [0., 0., 1., 0., 0.],\n",
              "       [0., 0., 0., 1., 0.],\n",
              "       [0., 0., 0., 0., 1.]])"
            ]
          },
          "execution_count": 23,
          "metadata": {},
          "output_type": "execute_result"
        }
      ],
      "source": [
        "# Generate an array of shape 5 by 5 containing all one's in the diagonal\n",
        "eye_array = np.eye(5, 5)\n",
        "eye_array"
      ]
    },
    {
      "cell_type": "code",
      "execution_count": 24,
      "metadata": {},
      "outputs": [
        {
          "data": {
            "text/plain": [
              "array([[ 1., 10., 10., 10., 10.],\n",
              "       [10.,  1., 10., 10., 10.],\n",
              "       [10., 10.,  1., 10., 10.],\n",
              "       [10., 10., 10.,  1., 10.],\n",
              "       [10., 10., 10., 10.,  1.]])"
            ]
          },
          "execution_count": 24,
          "metadata": {},
          "output_type": "execute_result"
        }
      ],
      "source": [
        "# Modify the off-diagonal elements to contain the value 10\n",
        "eye_array[eye_array == 0] = 10\n",
        "eye_array"
      ]
    }
  ],
  "metadata": {
    "colab": {
      "provenance": []
    },
    "kernelspec": {
      "display_name": "Python 3",
      "language": "python",
      "name": "python3"
    },
    "language_info": {
      "codemirror_mode": {
        "name": "ipython",
        "version": 3
      },
      "file_extension": ".py",
      "mimetype": "text/x-python",
      "name": "python",
      "nbconvert_exporter": "python",
      "pygments_lexer": "ipython3",
      "version": "3.10.12"
    }
  },
  "nbformat": 4,
  "nbformat_minor": 0
}
