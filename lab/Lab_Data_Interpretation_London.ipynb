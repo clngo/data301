{
  "cells": [
    {
      "cell_type": "markdown",
      "metadata": {
        "id": "nVsbFRWEz-yX"
      },
      "source": [
        "# Working with structured data in Python using Pandas\n",
        "\n",
        "\n",
        "## Table of Contents\n",
        "\n",
        "1. [Introduction](#introduction)<br>\n",
        "2. [Series and DataFrames](#series)<br>\n",
        "3. [Cleaning Data](#cleaning)<br>\n",
        "4. [Selecting Data](#selection)<br>\n",
        "5. [Merging Data](#merging)<br>\n",
        "6. [Grouping Data](#grouping)<br>\n",
        "7. [Visualising Data](#visualise)<br>"
      ]
    },
    {
      "cell_type": "markdown",
      "metadata": {
        "id": "JHpXDzwjz-yY"
      },
      "source": [
        "<a id=\"introduction\"></a>\n",
        "## 1. Introduction\n",
        "\n",
        "A lot of data is **structured data**, which is data that is organized and formatted so it is easily readable, for example a table with variables as columns and records as rows, or key-value pairs in a noSQL database. As long as the data is formatted consistently and has multiple records with numbers, text and dates, you can probably read the data with [Pandas](https://pandas.pydata.org/pandas-docs/stable/index.html), an open-source Python package providing high-performance data manipulation and analysis."
      ]
    },
    {
      "cell_type": "markdown",
      "metadata": {
        "id": "lInkEv8Xz-yY"
      },
      "source": [
        "### Data\n",
        "\n",
        "The data that you will explore in this notebook is about the boroughs in London. Within Greater London there are [32 boroughs](https://en.wikipedia.org/wiki/London_boroughs). You can download the data from [data.gov.uk](https://data.gov.uk/dataset/248f5f04-23cf-4470-9216-0d0be9b877a8/london-borough-profiles-and-atlas) where this description is given:\n",
        "\n",
        "> The London Borough Profiles help paint a general picture of an area by presenting a range of headline indicator data to help show statistics covering demographic, economic, social and environmental datasets for each borough, alongside relevant comparator areas.\n",
        "\n"
      ]
    },
    {
      "cell_type": "code",
      "execution_count": 10,
      "metadata": {
        "id": "fVllfbK6z-yY"
      },
      "outputs": [],
      "source": [
        "import numpy as np\n",
        "import pandas as pd"
      ]
    },
    {
      "cell_type": "markdown",
      "metadata": {
        "id": "scPXHy-gz-yZ"
      },
      "source": [
        "** Read data from a CSV file using the `read_csv` function. Load a file by running the next cell:**\n",
        "\n",
        "This file is read directly from a URL: https://github.com/sumonacalpoly/Datasets/blob/main/london-borough-profiles.csv\n",
        "\n",
        "Use the following line"
      ]
    },
    {
      "cell_type": "code",
      "execution_count": 11,
      "metadata": {
        "id": "3u24rUiZ6dC2"
      },
      "outputs": [
        {
          "name": "stdout",
          "output_type": "stream",
          "text": [
            "Number of rows, columns: (38, 84)\n"
          ]
        }
      ],
      "source": [
        "df = pd.read_csv(\"https://raw.githubusercontent.com/sumonacalpoly/Datasets/main/london-borough-profiles.csv\", encoding='latin-1')\n",
        "print(\"Number of rows, columns:\", df.shape)"
      ]
    },
    {
      "cell_type": "markdown",
      "metadata": {
        "id": "tgEyBxVfz-yZ"
      },
      "source": [
        "**Question-1: How many columns and Rows are there in the dataset?**\n",
        "\n",
        "**Question-2: Display the first five and last five lines from the dataset.**\n",
        "\n",
        "\n",
        "\n",
        "\n"
      ]
    },
    {
      "cell_type": "code",
      "execution_count": 12,
      "metadata": {},
      "outputs": [
        {
          "data": {
            "text/html": [
              "<div>\n",
              "<style scoped>\n",
              "    .dataframe tbody tr th:only-of-type {\n",
              "        vertical-align: middle;\n",
              "    }\n",
              "\n",
              "    .dataframe tbody tr th {\n",
              "        vertical-align: top;\n",
              "    }\n",
              "\n",
              "    .dataframe thead th {\n",
              "        text-align: right;\n",
              "    }\n",
              "</style>\n",
              "<table border=\"1\" class=\"dataframe\">\n",
              "  <thead>\n",
              "    <tr style=\"text-align: right;\">\n",
              "      <th></th>\n",
              "      <th>Code</th>\n",
              "      <th>Area_name</th>\n",
              "      <th>Inner/_Outer_London</th>\n",
              "      <th>GLA_Population_Estimate_2017</th>\n",
              "      <th>GLA_Household_Estimate_2017</th>\n",
              "      <th>Inland_Area_(Hectares)</th>\n",
              "      <th>Population_density_(per_hectare)_2017</th>\n",
              "      <th>Average_Age,_2017</th>\n",
              "      <th>Proportion_of_population_aged_0-15,_2015</th>\n",
              "      <th>Proportion_of_population_of_working-age,_2015</th>\n",
              "      <th>...</th>\n",
              "      <th>Happiness_score_2011-14_(out_of_10)</th>\n",
              "      <th>Anxiety_score_2011-14_(out_of_10)</th>\n",
              "      <th>Childhood_Obesity_Prevalance_(%)_2015/16</th>\n",
              "      <th>People_aged_17+_with_diabetes_(%)</th>\n",
              "      <th>Mortality_rate_from_causes_considered_preventable_2012/14</th>\n",
              "      <th>Political_control_in_council</th>\n",
              "      <th>Proportion_of_seats_won_by_Conservatives_in_2014_election</th>\n",
              "      <th>Proportion_of_seats_won_by_Labour_in_2014_election</th>\n",
              "      <th>Proportion_of_seats_won_by_Lib_Dems_in_2014_election</th>\n",
              "      <th>Turnout_at_2014_local_elections</th>\n",
              "    </tr>\n",
              "  </thead>\n",
              "  <tbody>\n",
              "    <tr>\n",
              "      <th>0</th>\n",
              "      <td>E09000001</td>\n",
              "      <td>City of London</td>\n",
              "      <td>Inner London</td>\n",
              "      <td>8800.0</td>\n",
              "      <td>5326.0</td>\n",
              "      <td>290.0</td>\n",
              "      <td>30.3</td>\n",
              "      <td>43.2</td>\n",
              "      <td>11.4</td>\n",
              "      <td>73.1</td>\n",
              "      <td>...</td>\n",
              "      <td>6.0</td>\n",
              "      <td>5.6</td>\n",
              "      <td>NaN</td>\n",
              "      <td>2.6</td>\n",
              "      <td>129.0</td>\n",
              "      <td>NaN</td>\n",
              "      <td>NaN</td>\n",
              "      <td>NaN</td>\n",
              "      <td>NaN</td>\n",
              "      <td>NaN</td>\n",
              "    </tr>\n",
              "    <tr>\n",
              "      <th>1</th>\n",
              "      <td>E09000002</td>\n",
              "      <td>Barking and Dagenham</td>\n",
              "      <td>Outer London</td>\n",
              "      <td>209000.0</td>\n",
              "      <td>78188.0</td>\n",
              "      <td>3611.0</td>\n",
              "      <td>57.9</td>\n",
              "      <td>32.9</td>\n",
              "      <td>27.2</td>\n",
              "      <td>63.1</td>\n",
              "      <td>...</td>\n",
              "      <td>7.1</td>\n",
              "      <td>3.1</td>\n",
              "      <td>28.5</td>\n",
              "      <td>7.3</td>\n",
              "      <td>228.0</td>\n",
              "      <td>Lab</td>\n",
              "      <td>0.0</td>\n",
              "      <td>100.0</td>\n",
              "      <td>0.0</td>\n",
              "      <td>36.5</td>\n",
              "    </tr>\n",
              "    <tr>\n",
              "      <th>2</th>\n",
              "      <td>E09000003</td>\n",
              "      <td>Barnet</td>\n",
              "      <td>Outer London</td>\n",
              "      <td>389600.0</td>\n",
              "      <td>151423.0</td>\n",
              "      <td>8675.0</td>\n",
              "      <td>44.9</td>\n",
              "      <td>37.3</td>\n",
              "      <td>21.1</td>\n",
              "      <td>64.9</td>\n",
              "      <td>...</td>\n",
              "      <td>7.4</td>\n",
              "      <td>2.8</td>\n",
              "      <td>20.7</td>\n",
              "      <td>6.0</td>\n",
              "      <td>134.0</td>\n",
              "      <td>Cons</td>\n",
              "      <td>50.8</td>\n",
              "      <td>NaN</td>\n",
              "      <td>1.6</td>\n",
              "      <td>40.5</td>\n",
              "    </tr>\n",
              "    <tr>\n",
              "      <th>3</th>\n",
              "      <td>E09000004</td>\n",
              "      <td>Bexley</td>\n",
              "      <td>Outer London</td>\n",
              "      <td>244300.0</td>\n",
              "      <td>97736.0</td>\n",
              "      <td>6058.0</td>\n",
              "      <td>40.3</td>\n",
              "      <td>39.0</td>\n",
              "      <td>20.6</td>\n",
              "      <td>62.9</td>\n",
              "      <td>...</td>\n",
              "      <td>7.2</td>\n",
              "      <td>3.3</td>\n",
              "      <td>22.7</td>\n",
              "      <td>6.9</td>\n",
              "      <td>164.0</td>\n",
              "      <td>Cons</td>\n",
              "      <td>71.4</td>\n",
              "      <td>23.8</td>\n",
              "      <td>0.0</td>\n",
              "      <td>39.6</td>\n",
              "    </tr>\n",
              "    <tr>\n",
              "      <th>4</th>\n",
              "      <td>E09000005</td>\n",
              "      <td>Brent</td>\n",
              "      <td>Outer London</td>\n",
              "      <td>332100.0</td>\n",
              "      <td>121048.0</td>\n",
              "      <td>4323.0</td>\n",
              "      <td>76.8</td>\n",
              "      <td>35.6</td>\n",
              "      <td>20.9</td>\n",
              "      <td>67.8</td>\n",
              "      <td>...</td>\n",
              "      <td>7.2</td>\n",
              "      <td>2.9</td>\n",
              "      <td>24.3</td>\n",
              "      <td>7.9</td>\n",
              "      <td>169.0</td>\n",
              "      <td>Lab</td>\n",
              "      <td>9.5</td>\n",
              "      <td>88.9</td>\n",
              "      <td>1.6</td>\n",
              "      <td>36.3</td>\n",
              "    </tr>\n",
              "  </tbody>\n",
              "</table>\n",
              "<p>5 rows × 84 columns</p>\n",
              "</div>"
            ],
            "text/plain": [
              "        Code             Area_name Inner/_Outer_London  \\\n",
              "0  E09000001        City of London        Inner London   \n",
              "1  E09000002  Barking and Dagenham        Outer London   \n",
              "2  E09000003                Barnet        Outer London   \n",
              "3  E09000004                Bexley        Outer London   \n",
              "4  E09000005                 Brent        Outer London   \n",
              "\n",
              "   GLA_Population_Estimate_2017  GLA_Household_Estimate_2017  \\\n",
              "0                        8800.0                       5326.0   \n",
              "1                      209000.0                      78188.0   \n",
              "2                      389600.0                     151423.0   \n",
              "3                      244300.0                      97736.0   \n",
              "4                      332100.0                     121048.0   \n",
              "\n",
              "   Inland_Area_(Hectares)  Population_density_(per_hectare)_2017  \\\n",
              "0                   290.0                                   30.3   \n",
              "1                  3611.0                                   57.9   \n",
              "2                  8675.0                                   44.9   \n",
              "3                  6058.0                                   40.3   \n",
              "4                  4323.0                                   76.8   \n",
              "\n",
              "   Average_Age,_2017  Proportion_of_population_aged_0-15,_2015  \\\n",
              "0               43.2                                      11.4   \n",
              "1               32.9                                      27.2   \n",
              "2               37.3                                      21.1   \n",
              "3               39.0                                      20.6   \n",
              "4               35.6                                      20.9   \n",
              "\n",
              "   Proportion_of_population_of_working-age,_2015  ...  \\\n",
              "0                                           73.1  ...   \n",
              "1                                           63.1  ...   \n",
              "2                                           64.9  ...   \n",
              "3                                           62.9  ...   \n",
              "4                                           67.8  ...   \n",
              "\n",
              "   Happiness_score_2011-14_(out_of_10)  Anxiety_score_2011-14_(out_of_10)  \\\n",
              "0                                  6.0                                5.6   \n",
              "1                                  7.1                                3.1   \n",
              "2                                  7.4                                2.8   \n",
              "3                                  7.2                                3.3   \n",
              "4                                  7.2                                2.9   \n",
              "\n",
              "   Childhood_Obesity_Prevalance_(%)_2015/16  \\\n",
              "0                                       NaN   \n",
              "1                                      28.5   \n",
              "2                                      20.7   \n",
              "3                                      22.7   \n",
              "4                                      24.3   \n",
              "\n",
              "   People_aged_17+_with_diabetes_(%)  \\\n",
              "0                                2.6   \n",
              "1                                7.3   \n",
              "2                                6.0   \n",
              "3                                6.9   \n",
              "4                                7.9   \n",
              "\n",
              "   Mortality_rate_from_causes_considered_preventable_2012/14  \\\n",
              "0                                              129.0           \n",
              "1                                              228.0           \n",
              "2                                              134.0           \n",
              "3                                              164.0           \n",
              "4                                              169.0           \n",
              "\n",
              "  Political_control_in_council  \\\n",
              "0                          NaN   \n",
              "1                          Lab   \n",
              "2                         Cons   \n",
              "3                         Cons   \n",
              "4                          Lab   \n",
              "\n",
              "   Proportion_of_seats_won_by_Conservatives_in_2014_election  \\\n",
              "0                                                NaN           \n",
              "1                                                0.0           \n",
              "2                                               50.8           \n",
              "3                                               71.4           \n",
              "4                                                9.5           \n",
              "\n",
              "  Proportion_of_seats_won_by_Labour_in_2014_election  \\\n",
              "0                                                NaN   \n",
              "1                                              100.0   \n",
              "2                                                NaN   \n",
              "3                                               23.8   \n",
              "4                                               88.9   \n",
              "\n",
              "   Proportion_of_seats_won_by_Lib_Dems_in_2014_election  \\\n",
              "0                                                NaN      \n",
              "1                                                0.0      \n",
              "2                                                1.6      \n",
              "3                                                0.0      \n",
              "4                                                1.6      \n",
              "\n",
              "  Turnout_at_2014_local_elections  \n",
              "0                             NaN  \n",
              "1                            36.5  \n",
              "2                            40.5  \n",
              "3                            39.6  \n",
              "4                            36.3  \n",
              "\n",
              "[5 rows x 84 columns]"
            ]
          },
          "execution_count": 12,
          "metadata": {},
          "output_type": "execute_result"
        }
      ],
      "source": [
        "df.head(5)"
      ]
    },
    {
      "cell_type": "code",
      "execution_count": 13,
      "metadata": {},
      "outputs": [
        {
          "data": {
            "text/html": [
              "<div>\n",
              "<style scoped>\n",
              "    .dataframe tbody tr th:only-of-type {\n",
              "        vertical-align: middle;\n",
              "    }\n",
              "\n",
              "    .dataframe tbody tr th {\n",
              "        vertical-align: top;\n",
              "    }\n",
              "\n",
              "    .dataframe thead th {\n",
              "        text-align: right;\n",
              "    }\n",
              "</style>\n",
              "<table border=\"1\" class=\"dataframe\">\n",
              "  <thead>\n",
              "    <tr style=\"text-align: right;\">\n",
              "      <th></th>\n",
              "      <th>Code</th>\n",
              "      <th>Area_name</th>\n",
              "      <th>Inner/_Outer_London</th>\n",
              "      <th>GLA_Population_Estimate_2017</th>\n",
              "      <th>GLA_Household_Estimate_2017</th>\n",
              "      <th>Inland_Area_(Hectares)</th>\n",
              "      <th>Population_density_(per_hectare)_2017</th>\n",
              "      <th>Average_Age,_2017</th>\n",
              "      <th>Proportion_of_population_aged_0-15,_2015</th>\n",
              "      <th>Proportion_of_population_of_working-age,_2015</th>\n",
              "      <th>...</th>\n",
              "      <th>Happiness_score_2011-14_(out_of_10)</th>\n",
              "      <th>Anxiety_score_2011-14_(out_of_10)</th>\n",
              "      <th>Childhood_Obesity_Prevalance_(%)_2015/16</th>\n",
              "      <th>People_aged_17+_with_diabetes_(%)</th>\n",
              "      <th>Mortality_rate_from_causes_considered_preventable_2012/14</th>\n",
              "      <th>Political_control_in_council</th>\n",
              "      <th>Proportion_of_seats_won_by_Conservatives_in_2014_election</th>\n",
              "      <th>Proportion_of_seats_won_by_Labour_in_2014_election</th>\n",
              "      <th>Proportion_of_seats_won_by_Lib_Dems_in_2014_election</th>\n",
              "      <th>Turnout_at_2014_local_elections</th>\n",
              "    </tr>\n",
              "  </thead>\n",
              "  <tbody>\n",
              "    <tr>\n",
              "      <th>33</th>\n",
              "      <td>NaN</td>\n",
              "      <td>NaN</td>\n",
              "      <td>NaN</td>\n",
              "      <td>NaN</td>\n",
              "      <td>NaN</td>\n",
              "      <td>NaN</td>\n",
              "      <td>NaN</td>\n",
              "      <td>NaN</td>\n",
              "      <td>NaN</td>\n",
              "      <td>NaN</td>\n",
              "      <td>...</td>\n",
              "      <td>NaN</td>\n",
              "      <td>NaN</td>\n",
              "      <td>NaN</td>\n",
              "      <td>NaN</td>\n",
              "      <td>NaN</td>\n",
              "      <td>NaN</td>\n",
              "      <td>NaN</td>\n",
              "      <td>NaN</td>\n",
              "      <td>NaN</td>\n",
              "      <td>NaN</td>\n",
              "    </tr>\n",
              "    <tr>\n",
              "      <th>34</th>\n",
              "      <td>NaN</td>\n",
              "      <td>NaN</td>\n",
              "      <td>NaN</td>\n",
              "      <td>NaN</td>\n",
              "      <td>NaN</td>\n",
              "      <td>NaN</td>\n",
              "      <td>NaN</td>\n",
              "      <td>NaN</td>\n",
              "      <td>NaN</td>\n",
              "      <td>NaN</td>\n",
              "      <td>...</td>\n",
              "      <td>NaN</td>\n",
              "      <td>NaN</td>\n",
              "      <td>NaN</td>\n",
              "      <td>NaN</td>\n",
              "      <td>NaN</td>\n",
              "      <td>NaN</td>\n",
              "      <td>NaN</td>\n",
              "      <td>NaN</td>\n",
              "      <td>NaN</td>\n",
              "      <td>NaN</td>\n",
              "    </tr>\n",
              "    <tr>\n",
              "      <th>35</th>\n",
              "      <td>NaN</td>\n",
              "      <td>NaN</td>\n",
              "      <td>NaN</td>\n",
              "      <td>NaN</td>\n",
              "      <td>NaN</td>\n",
              "      <td>NaN</td>\n",
              "      <td>NaN</td>\n",
              "      <td>NaN</td>\n",
              "      <td>NaN</td>\n",
              "      <td>NaN</td>\n",
              "      <td>...</td>\n",
              "      <td>NaN</td>\n",
              "      <td>NaN</td>\n",
              "      <td>NaN</td>\n",
              "      <td>NaN</td>\n",
              "      <td>NaN</td>\n",
              "      <td>NaN</td>\n",
              "      <td>NaN</td>\n",
              "      <td>NaN</td>\n",
              "      <td>NaN</td>\n",
              "      <td>NaN</td>\n",
              "    </tr>\n",
              "    <tr>\n",
              "      <th>36</th>\n",
              "      <td>NaN</td>\n",
              "      <td>NaN</td>\n",
              "      <td>NaN</td>\n",
              "      <td>NaN</td>\n",
              "      <td>NaN</td>\n",
              "      <td>NaN</td>\n",
              "      <td>NaN</td>\n",
              "      <td>NaN</td>\n",
              "      <td>NaN</td>\n",
              "      <td>NaN</td>\n",
              "      <td>...</td>\n",
              "      <td>NaN</td>\n",
              "      <td>NaN</td>\n",
              "      <td>NaN</td>\n",
              "      <td>NaN</td>\n",
              "      <td>NaN</td>\n",
              "      <td>NaN</td>\n",
              "      <td>NaN</td>\n",
              "      <td>NaN</td>\n",
              "      <td>NaN</td>\n",
              "      <td>NaN</td>\n",
              "    </tr>\n",
              "    <tr>\n",
              "      <th>37</th>\n",
              "      <td>NaN</td>\n",
              "      <td>NaN</td>\n",
              "      <td>NaN</td>\n",
              "      <td>NaN</td>\n",
              "      <td>NaN</td>\n",
              "      <td>NaN</td>\n",
              "      <td>NaN</td>\n",
              "      <td>NaN</td>\n",
              "      <td>NaN</td>\n",
              "      <td>NaN</td>\n",
              "      <td>...</td>\n",
              "      <td>NaN</td>\n",
              "      <td>NaN</td>\n",
              "      <td>NaN</td>\n",
              "      <td>NaN</td>\n",
              "      <td>NaN</td>\n",
              "      <td>NaN</td>\n",
              "      <td>NaN</td>\n",
              "      <td>NaN</td>\n",
              "      <td>NaN</td>\n",
              "      <td>NaN</td>\n",
              "    </tr>\n",
              "  </tbody>\n",
              "</table>\n",
              "<p>5 rows × 84 columns</p>\n",
              "</div>"
            ],
            "text/plain": [
              "   Code Area_name Inner/_Outer_London  GLA_Population_Estimate_2017  \\\n",
              "33  NaN       NaN                 NaN                           NaN   \n",
              "34  NaN       NaN                 NaN                           NaN   \n",
              "35  NaN       NaN                 NaN                           NaN   \n",
              "36  NaN       NaN                 NaN                           NaN   \n",
              "37  NaN       NaN                 NaN                           NaN   \n",
              "\n",
              "    GLA_Household_Estimate_2017  Inland_Area_(Hectares)  \\\n",
              "33                          NaN                     NaN   \n",
              "34                          NaN                     NaN   \n",
              "35                          NaN                     NaN   \n",
              "36                          NaN                     NaN   \n",
              "37                          NaN                     NaN   \n",
              "\n",
              "    Population_density_(per_hectare)_2017  Average_Age,_2017  \\\n",
              "33                                    NaN                NaN   \n",
              "34                                    NaN                NaN   \n",
              "35                                    NaN                NaN   \n",
              "36                                    NaN                NaN   \n",
              "37                                    NaN                NaN   \n",
              "\n",
              "    Proportion_of_population_aged_0-15,_2015  \\\n",
              "33                                       NaN   \n",
              "34                                       NaN   \n",
              "35                                       NaN   \n",
              "36                                       NaN   \n",
              "37                                       NaN   \n",
              "\n",
              "    Proportion_of_population_of_working-age,_2015  ...  \\\n",
              "33                                            NaN  ...   \n",
              "34                                            NaN  ...   \n",
              "35                                            NaN  ...   \n",
              "36                                            NaN  ...   \n",
              "37                                            NaN  ...   \n",
              "\n",
              "    Happiness_score_2011-14_(out_of_10)  Anxiety_score_2011-14_(out_of_10)  \\\n",
              "33                                  NaN                                NaN   \n",
              "34                                  NaN                                NaN   \n",
              "35                                  NaN                                NaN   \n",
              "36                                  NaN                                NaN   \n",
              "37                                  NaN                                NaN   \n",
              "\n",
              "    Childhood_Obesity_Prevalance_(%)_2015/16  \\\n",
              "33                                       NaN   \n",
              "34                                       NaN   \n",
              "35                                       NaN   \n",
              "36                                       NaN   \n",
              "37                                       NaN   \n",
              "\n",
              "    People_aged_17+_with_diabetes_(%)  \\\n",
              "33                                NaN   \n",
              "34                                NaN   \n",
              "35                                NaN   \n",
              "36                                NaN   \n",
              "37                                NaN   \n",
              "\n",
              "    Mortality_rate_from_causes_considered_preventable_2012/14  \\\n",
              "33                                                NaN           \n",
              "34                                                NaN           \n",
              "35                                                NaN           \n",
              "36                                                NaN           \n",
              "37                                                NaN           \n",
              "\n",
              "   Political_control_in_council  \\\n",
              "33                          NaN   \n",
              "34                          NaN   \n",
              "35                          NaN   \n",
              "36                          NaN   \n",
              "37                          NaN   \n",
              "\n",
              "    Proportion_of_seats_won_by_Conservatives_in_2014_election  \\\n",
              "33                                                NaN           \n",
              "34                                                NaN           \n",
              "35                                                NaN           \n",
              "36                                                NaN           \n",
              "37                                                NaN           \n",
              "\n",
              "   Proportion_of_seats_won_by_Labour_in_2014_election  \\\n",
              "33                                                NaN   \n",
              "34                                                NaN   \n",
              "35                                                NaN   \n",
              "36                                                NaN   \n",
              "37                                                NaN   \n",
              "\n",
              "    Proportion_of_seats_won_by_Lib_Dems_in_2014_election  \\\n",
              "33                                                NaN      \n",
              "34                                                NaN      \n",
              "35                                                NaN      \n",
              "36                                                NaN      \n",
              "37                                                NaN      \n",
              "\n",
              "   Turnout_at_2014_local_elections  \n",
              "33                             NaN  \n",
              "34                             NaN  \n",
              "35                             NaN  \n",
              "36                             NaN  \n",
              "37                             NaN  \n",
              "\n",
              "[5 rows x 84 columns]"
            ]
          },
          "execution_count": 13,
          "metadata": {},
          "output_type": "execute_result"
        }
      ],
      "source": [
        "df.tail(5)"
      ]
    },
    {
      "cell_type": "markdown",
      "metadata": {
        "id": "4Rf5881uBInB"
      },
      "source": [
        "We Only keep the data from the 32 boroughs by removng the last 5 rows from the DataFrame:"
      ]
    },
    {
      "cell_type": "code",
      "execution_count": 14,
      "metadata": {
        "id": "8oykolXOBIV3"
      },
      "outputs": [
        {
          "data": {
            "text/html": [
              "<div>\n",
              "<style scoped>\n",
              "    .dataframe tbody tr th:only-of-type {\n",
              "        vertical-align: middle;\n",
              "    }\n",
              "\n",
              "    .dataframe tbody tr th {\n",
              "        vertical-align: top;\n",
              "    }\n",
              "\n",
              "    .dataframe thead th {\n",
              "        text-align: right;\n",
              "    }\n",
              "</style>\n",
              "<table border=\"1\" class=\"dataframe\">\n",
              "  <thead>\n",
              "    <tr style=\"text-align: right;\">\n",
              "      <th></th>\n",
              "      <th>Code</th>\n",
              "      <th>Area_name</th>\n",
              "      <th>Inner/_Outer_London</th>\n",
              "      <th>GLA_Population_Estimate_2017</th>\n",
              "      <th>GLA_Household_Estimate_2017</th>\n",
              "      <th>Inland_Area_(Hectares)</th>\n",
              "      <th>Population_density_(per_hectare)_2017</th>\n",
              "      <th>Average_Age,_2017</th>\n",
              "      <th>Proportion_of_population_aged_0-15,_2015</th>\n",
              "      <th>Proportion_of_population_of_working-age,_2015</th>\n",
              "      <th>...</th>\n",
              "      <th>Happiness_score_2011-14_(out_of_10)</th>\n",
              "      <th>Anxiety_score_2011-14_(out_of_10)</th>\n",
              "      <th>Childhood_Obesity_Prevalance_(%)_2015/16</th>\n",
              "      <th>People_aged_17+_with_diabetes_(%)</th>\n",
              "      <th>Mortality_rate_from_causes_considered_preventable_2012/14</th>\n",
              "      <th>Political_control_in_council</th>\n",
              "      <th>Proportion_of_seats_won_by_Conservatives_in_2014_election</th>\n",
              "      <th>Proportion_of_seats_won_by_Labour_in_2014_election</th>\n",
              "      <th>Proportion_of_seats_won_by_Lib_Dems_in_2014_election</th>\n",
              "      <th>Turnout_at_2014_local_elections</th>\n",
              "    </tr>\n",
              "  </thead>\n",
              "  <tbody>\n",
              "    <tr>\n",
              "      <th>0</th>\n",
              "      <td>E09000001</td>\n",
              "      <td>City of London</td>\n",
              "      <td>Inner London</td>\n",
              "      <td>8800.0</td>\n",
              "      <td>5326.0</td>\n",
              "      <td>290.0</td>\n",
              "      <td>30.3</td>\n",
              "      <td>43.2</td>\n",
              "      <td>11.4</td>\n",
              "      <td>73.1</td>\n",
              "      <td>...</td>\n",
              "      <td>6.0</td>\n",
              "      <td>5.6</td>\n",
              "      <td>NaN</td>\n",
              "      <td>2.6</td>\n",
              "      <td>129.0</td>\n",
              "      <td>NaN</td>\n",
              "      <td>NaN</td>\n",
              "      <td>NaN</td>\n",
              "      <td>NaN</td>\n",
              "      <td>NaN</td>\n",
              "    </tr>\n",
              "    <tr>\n",
              "      <th>1</th>\n",
              "      <td>E09000002</td>\n",
              "      <td>Barking and Dagenham</td>\n",
              "      <td>Outer London</td>\n",
              "      <td>209000.0</td>\n",
              "      <td>78188.0</td>\n",
              "      <td>3611.0</td>\n",
              "      <td>57.9</td>\n",
              "      <td>32.9</td>\n",
              "      <td>27.2</td>\n",
              "      <td>63.1</td>\n",
              "      <td>...</td>\n",
              "      <td>7.1</td>\n",
              "      <td>3.1</td>\n",
              "      <td>28.5</td>\n",
              "      <td>7.3</td>\n",
              "      <td>228.0</td>\n",
              "      <td>Lab</td>\n",
              "      <td>0.0</td>\n",
              "      <td>100.0</td>\n",
              "      <td>0.0</td>\n",
              "      <td>36.5</td>\n",
              "    </tr>\n",
              "    <tr>\n",
              "      <th>2</th>\n",
              "      <td>E09000003</td>\n",
              "      <td>Barnet</td>\n",
              "      <td>Outer London</td>\n",
              "      <td>389600.0</td>\n",
              "      <td>151423.0</td>\n",
              "      <td>8675.0</td>\n",
              "      <td>44.9</td>\n",
              "      <td>37.3</td>\n",
              "      <td>21.1</td>\n",
              "      <td>64.9</td>\n",
              "      <td>...</td>\n",
              "      <td>7.4</td>\n",
              "      <td>2.8</td>\n",
              "      <td>20.7</td>\n",
              "      <td>6.0</td>\n",
              "      <td>134.0</td>\n",
              "      <td>Cons</td>\n",
              "      <td>50.8</td>\n",
              "      <td>NaN</td>\n",
              "      <td>1.6</td>\n",
              "      <td>40.5</td>\n",
              "    </tr>\n",
              "    <tr>\n",
              "      <th>3</th>\n",
              "      <td>E09000004</td>\n",
              "      <td>Bexley</td>\n",
              "      <td>Outer London</td>\n",
              "      <td>244300.0</td>\n",
              "      <td>97736.0</td>\n",
              "      <td>6058.0</td>\n",
              "      <td>40.3</td>\n",
              "      <td>39.0</td>\n",
              "      <td>20.6</td>\n",
              "      <td>62.9</td>\n",
              "      <td>...</td>\n",
              "      <td>7.2</td>\n",
              "      <td>3.3</td>\n",
              "      <td>22.7</td>\n",
              "      <td>6.9</td>\n",
              "      <td>164.0</td>\n",
              "      <td>Cons</td>\n",
              "      <td>71.4</td>\n",
              "      <td>23.8</td>\n",
              "      <td>0.0</td>\n",
              "      <td>39.6</td>\n",
              "    </tr>\n",
              "    <tr>\n",
              "      <th>4</th>\n",
              "      <td>E09000005</td>\n",
              "      <td>Brent</td>\n",
              "      <td>Outer London</td>\n",
              "      <td>332100.0</td>\n",
              "      <td>121048.0</td>\n",
              "      <td>4323.0</td>\n",
              "      <td>76.8</td>\n",
              "      <td>35.6</td>\n",
              "      <td>20.9</td>\n",
              "      <td>67.8</td>\n",
              "      <td>...</td>\n",
              "      <td>7.2</td>\n",
              "      <td>2.9</td>\n",
              "      <td>24.3</td>\n",
              "      <td>7.9</td>\n",
              "      <td>169.0</td>\n",
              "      <td>Lab</td>\n",
              "      <td>9.5</td>\n",
              "      <td>88.9</td>\n",
              "      <td>1.6</td>\n",
              "      <td>36.3</td>\n",
              "    </tr>\n",
              "    <tr>\n",
              "      <th>5</th>\n",
              "      <td>E09000006</td>\n",
              "      <td>Bromley</td>\n",
              "      <td>Outer London</td>\n",
              "      <td>327900.0</td>\n",
              "      <td>140602.0</td>\n",
              "      <td>15013.0</td>\n",
              "      <td>21.8</td>\n",
              "      <td>40.2</td>\n",
              "      <td>19.9</td>\n",
              "      <td>62.6</td>\n",
              "      <td>...</td>\n",
              "      <td>7.4</td>\n",
              "      <td>3.3</td>\n",
              "      <td>16.0</td>\n",
              "      <td>5.2</td>\n",
              "      <td>148.0</td>\n",
              "      <td>Cons</td>\n",
              "      <td>85.0</td>\n",
              "      <td>11.7</td>\n",
              "      <td>0.0</td>\n",
              "      <td>40.8</td>\n",
              "    </tr>\n",
              "    <tr>\n",
              "      <th>6</th>\n",
              "      <td>E09000007</td>\n",
              "      <td>Camden</td>\n",
              "      <td>Inner London</td>\n",
              "      <td>242500.0</td>\n",
              "      <td>107654.0</td>\n",
              "      <td>2179.0</td>\n",
              "      <td>111.3</td>\n",
              "      <td>36.4</td>\n",
              "      <td>17.3</td>\n",
              "      <td>71.0</td>\n",
              "      <td>...</td>\n",
              "      <td>7.1</td>\n",
              "      <td>3.6</td>\n",
              "      <td>21.3</td>\n",
              "      <td>3.9</td>\n",
              "      <td>164.0</td>\n",
              "      <td>Lab</td>\n",
              "      <td>22.2</td>\n",
              "      <td>74.1</td>\n",
              "      <td>1.9</td>\n",
              "      <td>38.7</td>\n",
              "    </tr>\n",
              "    <tr>\n",
              "      <th>7</th>\n",
              "      <td>E09000008</td>\n",
              "      <td>Croydon</td>\n",
              "      <td>Outer London</td>\n",
              "      <td>386500.0</td>\n",
              "      <td>159010.0</td>\n",
              "      <td>8650.0</td>\n",
              "      <td>44.7</td>\n",
              "      <td>37.0</td>\n",
              "      <td>22.0</td>\n",
              "      <td>64.9</td>\n",
              "      <td>...</td>\n",
              "      <td>7.2</td>\n",
              "      <td>3.3</td>\n",
              "      <td>24.5</td>\n",
              "      <td>6.5</td>\n",
              "      <td>178.0</td>\n",
              "      <td>Lab</td>\n",
              "      <td>42.9</td>\n",
              "      <td>57.1</td>\n",
              "      <td>0.0</td>\n",
              "      <td>38.6</td>\n",
              "    </tr>\n",
              "    <tr>\n",
              "      <th>8</th>\n",
              "      <td>E09000009</td>\n",
              "      <td>Ealing</td>\n",
              "      <td>Outer London</td>\n",
              "      <td>351600.0</td>\n",
              "      <td>132663.0</td>\n",
              "      <td>5554.0</td>\n",
              "      <td>63.3</td>\n",
              "      <td>36.2</td>\n",
              "      <td>21.4</td>\n",
              "      <td>66.8</td>\n",
              "      <td>...</td>\n",
              "      <td>7.3</td>\n",
              "      <td>3.6</td>\n",
              "      <td>23.8</td>\n",
              "      <td>6.9</td>\n",
              "      <td>164.0</td>\n",
              "      <td>Lab</td>\n",
              "      <td>17.4</td>\n",
              "      <td>76.8</td>\n",
              "      <td>5.8</td>\n",
              "      <td>41.2</td>\n",
              "    </tr>\n",
              "    <tr>\n",
              "      <th>9</th>\n",
              "      <td>E09000010</td>\n",
              "      <td>Enfield</td>\n",
              "      <td>Outer London</td>\n",
              "      <td>333000.0</td>\n",
              "      <td>130328.0</td>\n",
              "      <td>8083.0</td>\n",
              "      <td>41.2</td>\n",
              "      <td>36.3</td>\n",
              "      <td>22.8</td>\n",
              "      <td>64.4</td>\n",
              "      <td>...</td>\n",
              "      <td>7.3</td>\n",
              "      <td>2.6</td>\n",
              "      <td>25.2</td>\n",
              "      <td>7.0</td>\n",
              "      <td>152.0</td>\n",
              "      <td>Lab</td>\n",
              "      <td>34.9</td>\n",
              "      <td>65.1</td>\n",
              "      <td>0.0</td>\n",
              "      <td>38.2</td>\n",
              "    </tr>\n",
              "  </tbody>\n",
              "</table>\n",
              "<p>10 rows × 84 columns</p>\n",
              "</div>"
            ],
            "text/plain": [
              "        Code             Area_name Inner/_Outer_London  \\\n",
              "0  E09000001        City of London        Inner London   \n",
              "1  E09000002  Barking and Dagenham        Outer London   \n",
              "2  E09000003                Barnet        Outer London   \n",
              "3  E09000004                Bexley        Outer London   \n",
              "4  E09000005                 Brent        Outer London   \n",
              "5  E09000006               Bromley        Outer London   \n",
              "6  E09000007                Camden        Inner London   \n",
              "7  E09000008               Croydon        Outer London   \n",
              "8  E09000009                Ealing        Outer London   \n",
              "9  E09000010               Enfield        Outer London   \n",
              "\n",
              "   GLA_Population_Estimate_2017  GLA_Household_Estimate_2017  \\\n",
              "0                        8800.0                       5326.0   \n",
              "1                      209000.0                      78188.0   \n",
              "2                      389600.0                     151423.0   \n",
              "3                      244300.0                      97736.0   \n",
              "4                      332100.0                     121048.0   \n",
              "5                      327900.0                     140602.0   \n",
              "6                      242500.0                     107654.0   \n",
              "7                      386500.0                     159010.0   \n",
              "8                      351600.0                     132663.0   \n",
              "9                      333000.0                     130328.0   \n",
              "\n",
              "   Inland_Area_(Hectares)  Population_density_(per_hectare)_2017  \\\n",
              "0                   290.0                                   30.3   \n",
              "1                  3611.0                                   57.9   \n",
              "2                  8675.0                                   44.9   \n",
              "3                  6058.0                                   40.3   \n",
              "4                  4323.0                                   76.8   \n",
              "5                 15013.0                                   21.8   \n",
              "6                  2179.0                                  111.3   \n",
              "7                  8650.0                                   44.7   \n",
              "8                  5554.0                                   63.3   \n",
              "9                  8083.0                                   41.2   \n",
              "\n",
              "   Average_Age,_2017  Proportion_of_population_aged_0-15,_2015  \\\n",
              "0               43.2                                      11.4   \n",
              "1               32.9                                      27.2   \n",
              "2               37.3                                      21.1   \n",
              "3               39.0                                      20.6   \n",
              "4               35.6                                      20.9   \n",
              "5               40.2                                      19.9   \n",
              "6               36.4                                      17.3   \n",
              "7               37.0                                      22.0   \n",
              "8               36.2                                      21.4   \n",
              "9               36.3                                      22.8   \n",
              "\n",
              "   Proportion_of_population_of_working-age,_2015  ...  \\\n",
              "0                                           73.1  ...   \n",
              "1                                           63.1  ...   \n",
              "2                                           64.9  ...   \n",
              "3                                           62.9  ...   \n",
              "4                                           67.8  ...   \n",
              "5                                           62.6  ...   \n",
              "6                                           71.0  ...   \n",
              "7                                           64.9  ...   \n",
              "8                                           66.8  ...   \n",
              "9                                           64.4  ...   \n",
              "\n",
              "   Happiness_score_2011-14_(out_of_10)  Anxiety_score_2011-14_(out_of_10)  \\\n",
              "0                                  6.0                                5.6   \n",
              "1                                  7.1                                3.1   \n",
              "2                                  7.4                                2.8   \n",
              "3                                  7.2                                3.3   \n",
              "4                                  7.2                                2.9   \n",
              "5                                  7.4                                3.3   \n",
              "6                                  7.1                                3.6   \n",
              "7                                  7.2                                3.3   \n",
              "8                                  7.3                                3.6   \n",
              "9                                  7.3                                2.6   \n",
              "\n",
              "   Childhood_Obesity_Prevalance_(%)_2015/16  \\\n",
              "0                                       NaN   \n",
              "1                                      28.5   \n",
              "2                                      20.7   \n",
              "3                                      22.7   \n",
              "4                                      24.3   \n",
              "5                                      16.0   \n",
              "6                                      21.3   \n",
              "7                                      24.5   \n",
              "8                                      23.8   \n",
              "9                                      25.2   \n",
              "\n",
              "   People_aged_17+_with_diabetes_(%)  \\\n",
              "0                                2.6   \n",
              "1                                7.3   \n",
              "2                                6.0   \n",
              "3                                6.9   \n",
              "4                                7.9   \n",
              "5                                5.2   \n",
              "6                                3.9   \n",
              "7                                6.5   \n",
              "8                                6.9   \n",
              "9                                7.0   \n",
              "\n",
              "   Mortality_rate_from_causes_considered_preventable_2012/14  \\\n",
              "0                                              129.0           \n",
              "1                                              228.0           \n",
              "2                                              134.0           \n",
              "3                                              164.0           \n",
              "4                                              169.0           \n",
              "5                                              148.0           \n",
              "6                                              164.0           \n",
              "7                                              178.0           \n",
              "8                                              164.0           \n",
              "9                                              152.0           \n",
              "\n",
              "  Political_control_in_council  \\\n",
              "0                          NaN   \n",
              "1                          Lab   \n",
              "2                         Cons   \n",
              "3                         Cons   \n",
              "4                          Lab   \n",
              "5                         Cons   \n",
              "6                          Lab   \n",
              "7                          Lab   \n",
              "8                          Lab   \n",
              "9                          Lab   \n",
              "\n",
              "   Proportion_of_seats_won_by_Conservatives_in_2014_election  \\\n",
              "0                                                NaN           \n",
              "1                                                0.0           \n",
              "2                                               50.8           \n",
              "3                                               71.4           \n",
              "4                                                9.5           \n",
              "5                                               85.0           \n",
              "6                                               22.2           \n",
              "7                                               42.9           \n",
              "8                                               17.4           \n",
              "9                                               34.9           \n",
              "\n",
              "  Proportion_of_seats_won_by_Labour_in_2014_election  \\\n",
              "0                                                NaN   \n",
              "1                                              100.0   \n",
              "2                                                NaN   \n",
              "3                                               23.8   \n",
              "4                                               88.9   \n",
              "5                                               11.7   \n",
              "6                                               74.1   \n",
              "7                                               57.1   \n",
              "8                                               76.8   \n",
              "9                                               65.1   \n",
              "\n",
              "   Proportion_of_seats_won_by_Lib_Dems_in_2014_election  \\\n",
              "0                                                NaN      \n",
              "1                                                0.0      \n",
              "2                                                1.6      \n",
              "3                                                0.0      \n",
              "4                                                1.6      \n",
              "5                                                0.0      \n",
              "6                                                1.9      \n",
              "7                                                0.0      \n",
              "8                                                5.8      \n",
              "9                                                0.0      \n",
              "\n",
              "  Turnout_at_2014_local_elections  \n",
              "0                             NaN  \n",
              "1                            36.5  \n",
              "2                            40.5  \n",
              "3                            39.6  \n",
              "4                            36.3  \n",
              "5                            40.8  \n",
              "6                            38.7  \n",
              "7                            38.6  \n",
              "8                            41.2  \n",
              "9                            38.2  \n",
              "\n",
              "[10 rows x 84 columns]"
            ]
          },
          "execution_count": 14,
          "metadata": {},
          "output_type": "execute_result"
        }
      ],
      "source": [
        "df = df.drop([33,34,35,36,37])\n",
        "df.head(10)"
      ]
    },
    {
      "cell_type": "markdown",
      "metadata": {
        "id": "acpdI2Zmz-yb"
      },
      "source": [
        "<a id=\"cleaning\"></a>\n",
        "## 2. Cleaning Data\n",
        "\n",
        "When exploring data there are always transformations needed to get it in the format you need for your analysis, visualisations or models. Below are only a few examples of the endless possibilities. The best way to learn is to find a dataset and try to answer questions with the data."
      ]
    },
    {
      "cell_type": "markdown",
      "metadata": {
        "id": "yvYTS3IZz-yb"
      },
      "source": [
        "First, let's make a copy of the Dataframe loaded from the URL:"
      ]
    },
    {
      "cell_type": "code",
      "execution_count": 15,
      "metadata": {
        "id": "iSGb5eLvz-yc"
      },
      "outputs": [],
      "source": [
        "boroughs = df.copy()\n"
      ]
    },
    {
      "cell_type": "markdown",
      "metadata": {
        "id": "7mDp8JGMz-yc"
      },
      "source": [
        "### Adding an index\n",
        "\n",
        "Indexing and selecting data is key to data analysis and creating visualizations. For more information on indexing have a look at the [documentation](https://pandas.pydata.org/pandas-docs/stable/user_guide/indexing.html).\n",
        "\n",
        "**Q3: Set the area code (`Code`) as the index, which will change the table slightly and display few rows of the dataset.**"
      ]
    },
    {
      "cell_type": "code",
      "execution_count": 16,
      "metadata": {},
      "outputs": [],
      "source": [
        "boroughs = boroughs.set_index(\"Code\")"
      ]
    },
    {
      "cell_type": "markdown",
      "metadata": {
        "id": "ZWIHSJZO88hS"
      },
      "source": [
        "As not all columns are needed, let's remove some. If you are interested in any of these, change the code and do not remove the columns."
      ]
    },
    {
      "cell_type": "code",
      "execution_count": 17,
      "metadata": {
        "id": "7nsAB2QD9AOg"
      },
      "outputs": [],
      "source": [
        "boroughs = boroughs.drop(columns=['GLA_Household_Estimate_2017',\n",
        "       'Proportion_of_population_aged_0-15,_2015',\n",
        "       'Proportion_of_population_of_working-age,_2015',\n",
        "       'Proportion_of_population_aged_65_and_over,_2015',\n",
        "       'Net_internal_migration_(2015)', 'Net_international_migration_(2015)',\n",
        "       'Net_natural_change_(2015)',\n",
        "       '%_of_largest_migrant_population_(2011)',\n",
        "       'Second_largest_migrant_population_by_country_of_birth_(2011)',\n",
        "       '%_of_second_largest_migrant_population_(2011)',\n",
        "       'Third_largest_migrant_population_by_country_of_birth_(2011)',\n",
        "       '%_of_third_largest_migrant_population_(2011)',\n",
        "       '%_of_population_from_BAME_groups_(2016)',\n",
        "       '%_people_aged_3+_whose_main_language_is_not_English_(2011_Census)',\n",
        "       'Overseas_nationals_entering_the_UK_(NINo),_(2015/16)',\n",
        "       'Largest_migrant_population_arrived_during_2015/16',\n",
        "       'Second_largest_migrant_population_arrived_during_2015/16',\n",
        "       'Third_largest_migrant_population_arrived_during_2015/16',\n",
        "       'Male_employment_rate_(2015)',\n",
        "       'Female_employment_rate_(2015)', 'Unemployment_rate_(2015)',\n",
        "       'Youth_Unemployment_(claimant)_rate_18-24_(Dec-15)',\n",
        "       'Proportion_of_16-18_year_olds_who_are_NEET_(%)_(2014)',\n",
        "       'Proportion_of_the_working-age_population_who_claim_out-of-work_benefits_(%)_(May-2016)',\n",
        "       '%_working-age_with_a_disability_(2015)',\n",
        "       'Proportion_of_working_age_people_with_no_qualifications_(%)_2015',\n",
        "       'Proportion_of_working_age_with_degree_or_equivalent_and_above_(%)_2015',\n",
        "       'Gross_Annual_Pay,_(2016)',\n",
        "       'Modelled_Household_median_income_estimates_2012/13',\n",
        "       '%_adults_that_volunteered_in_past_12_months_(2010/11_to_2012/13)',\n",
        "       'Number_of_jobs_by_workplace_(2014)',\n",
        "       '%_of_employment_that_is_in_public_sector_(2014)', 'Jobs_Density,_2015',\n",
        "       'Number_of_active_businesses,_2015',\n",
        "       'Two-year_business_survival_rates_(started_in_2013)',\n",
        "       'Crime_rates_per_thousand_population_2014/15',\n",
        "       'Fires_per_thousand_population_(2014)',\n",
        "       'Ambulance_incidents_per_hundred_population_(2014)',\n",
        "       'Average_Band_D_Council_Tax_charge_(£),_2015/16',\n",
        "       'New_Homes_(net)_2015/16_(provisional)',\n",
        "       'Homes_Owned_outright,_(2014)_%',\n",
        "       'Being_bought_with_mortgage_or_loan,_(2014)_%',\n",
        "       'Rented_from_Local_Authority_or_Housing_Association,_(2014)_%',\n",
        "       'Rented_from_Private_landlord,_(2014)_%',\n",
        "       'Total_carbon_emissions_(2014)',\n",
        "       'Household_Waste_Recycling_Rate,_2014/15',\n",
        "       'Number_of_cars,_(2011_Census)',\n",
        "       'Number_of_cars_per_household,_(2011_Census)',\n",
        "       '%_of_adults_who_cycle_at_least_once_per_month,_2014/15',\n",
        "       'Average_Public_Transport_Accessibility_score,_2014',\n",
        "       'Achievement_of_5_or_more_A*-_C_grades_at_GCSE_or_equivalent_including_English_and_Maths,_2013/14',\n",
        "       'Rates_of_Children_Looked_After_(2016)',\n",
        "       '%_of_pupils_whose_first_language_is_not_English_(2015)',\n",
        "       '%_children_living_in_out-of-work_households_(2015)',\n",
        "       'Male_life_expectancy,_(2012-14)', 'Female_life_expectancy,_(2012-14)',\n",
        "       'Teenage_conception_rate_(2014)',\n",
        "       'Life_satisfaction_score_2011-14_(out_of_10)',\n",
        "       'Worthwhileness_score_2011-14_(out_of_10)',\n",
        "       'Anxiety_score_2011-14_(out_of_10)',\n",
        "       'Childhood_Obesity_Prevalance_(%)_2015/16',\n",
        "       'People_aged_17+_with_diabetes_(%)',\n",
        "       'Mortality_rate_from_causes_considered_preventable_2012/14',\n",
        "       'Proportion_of_seats_won_by_Conservatives_in_2014_election',\n",
        "       'Proportion_of_seats_won_by_Labour_in_2014_election',\n",
        "       'Proportion_of_seats_won_by_Lib_Dems_in_2014_election'])"
      ]
    },
    {
      "cell_type": "code",
      "execution_count": 18,
      "metadata": {
        "colab": {
          "base_uri": "https://localhost:8080/"
        },
        "id": "tWgInUYw9DQ0",
        "outputId": "79480e57-0e9f-43c3-f54c-62e221df7256"
      },
      "outputs": [
        {
          "data": {
            "text/plain": [
              "Index(['Area_name', 'Inner/_Outer_London', 'GLA_Population_Estimate_2017',\n",
              "       'Inland_Area_(Hectares)', 'Population_density_(per_hectare)_2017',\n",
              "       'Average_Age,_2017', '%_of_resident_population_born_abroad_(2015)',\n",
              "       'Largest_migrant_population_by_country_of_birth_(2011)',\n",
              "       'New_migrant_(NINo)_rates,_(2015/16)', 'Employment_rate_(%)_(2015)',\n",
              "       'Gross_Annual_Pay_-_Male_(2016)', 'Gross_Annual_Pay_-_Female_(2016)',\n",
              "       'Median_House_Price,_2015', '%_of_area_that_is_Greenspace,_2005',\n",
              "       'Happiness_score_2011-14_(out_of_10)', 'Political_control_in_council',\n",
              "       'Turnout_at_2014_local_elections'],\n",
              "      dtype='object')"
            ]
          },
          "execution_count": 18,
          "metadata": {},
          "output_type": "execute_result"
        }
      ],
      "source": [
        "boroughs.columns"
      ]
    },
    {
      "cell_type": "markdown",
      "metadata": {
        "id": "EOurwaN09GMI"
      },
      "source": [
        "You can change names of columns using rename:"
      ]
    },
    {
      "cell_type": "code",
      "execution_count": 19,
      "metadata": {
        "id": "9qxQ5QRm9JDr"
      },
      "outputs": [],
      "source": [
        "boroughs.rename(columns={'Area_name':'Name',\n",
        "                'Inner/_Outer_London':'Inner/Outer',\n",
        "                'GLA_Population_Estimate_2017':'Population',\n",
        "                'Inland_Area_(Hectares)':'Area (ha)',\n",
        "                'Average_Age,_2017':'Average Age',\n",
        "                'Political_control_in_council':'Political control',\n",
        "                'Population_density_(per_hectare)_2017':'Population density (/ha)',\n",
        "                'New_migrant_(NINo)_rates,_(2015/16)':'New migrant rates',\n",
        "                'Happiness_score_2011-14_(out_of_10)':'Happiness score',\n",
        "                '%_of_resident_population_born_abroad_(2015)':'Population born abroad (%)',\n",
        "                'Employment_rate_(%)_(2015)':'Employment rate (%)',\n",
        "                'Turnout_at_2014_local_elections':'Turnout at local elections',\n",
        "                'Median_House_Price,_2015':'Median House Price',\n",
        "                \"Largest_migrant_population_by_country_of_birth_(2011)\":'Largest migrant population',\n",
        "                'Gross_Annual_Pay_-_Female_(2016)':'Gross Pay (Female)',\n",
        "                'Gross_Annual_Pay_-_Male_(2016)':'Gross Pay (Male)',\n",
        "                '%_of_area_that_is_Greenspace,_2005':'Greenspace (%)'},\n",
        "                 inplace=True)"
      ]
    },
    {
      "cell_type": "code",
      "execution_count": 20,
      "metadata": {
        "colab": {
          "base_uri": "https://localhost:8080/"
        },
        "id": "KESwL9K09M3M",
        "outputId": "97091a0d-630d-4f19-c084-f72fb6ffbe56"
      },
      "outputs": [
        {
          "data": {
            "text/plain": [
              "Index(['Name', 'Inner/Outer', 'Population', 'Area (ha)',\n",
              "       'Population density (/ha)', 'Average Age', 'Population born abroad (%)',\n",
              "       'Largest migrant population', 'New migrant rates',\n",
              "       'Employment rate (%)', 'Gross Pay (Male)', 'Gross Pay (Female)',\n",
              "       'Median House Price', 'Greenspace (%)', 'Happiness score',\n",
              "       'Political control', 'Turnout at local elections'],\n",
              "      dtype='object')"
            ]
          },
          "execution_count": 20,
          "metadata": {},
          "output_type": "execute_result"
        }
      ],
      "source": [
        "boroughs.columns"
      ]
    },
    {
      "cell_type": "code",
      "execution_count": 21,
      "metadata": {
        "colab": {
          "base_uri": "https://localhost:8080/",
          "height": 324
        },
        "id": "VE6gUdlm9PKM",
        "outputId": "95f346c7-9a15-464d-892c-cef0a7471b8b"
      },
      "outputs": [
        {
          "data": {
            "text/html": [
              "<div>\n",
              "<style scoped>\n",
              "    .dataframe tbody tr th:only-of-type {\n",
              "        vertical-align: middle;\n",
              "    }\n",
              "\n",
              "    .dataframe tbody tr th {\n",
              "        vertical-align: top;\n",
              "    }\n",
              "\n",
              "    .dataframe thead th {\n",
              "        text-align: right;\n",
              "    }\n",
              "</style>\n",
              "<table border=\"1\" class=\"dataframe\">\n",
              "  <thead>\n",
              "    <tr style=\"text-align: right;\">\n",
              "      <th></th>\n",
              "      <th>Name</th>\n",
              "      <th>Inner/Outer</th>\n",
              "      <th>Population</th>\n",
              "      <th>Area (ha)</th>\n",
              "      <th>Population density (/ha)</th>\n",
              "      <th>Average Age</th>\n",
              "      <th>Population born abroad (%)</th>\n",
              "      <th>Largest migrant population</th>\n",
              "      <th>New migrant rates</th>\n",
              "      <th>Employment rate (%)</th>\n",
              "      <th>Gross Pay (Male)</th>\n",
              "      <th>Gross Pay (Female)</th>\n",
              "      <th>Median House Price</th>\n",
              "      <th>Greenspace (%)</th>\n",
              "      <th>Happiness score</th>\n",
              "      <th>Political control</th>\n",
              "      <th>Turnout at local elections</th>\n",
              "    </tr>\n",
              "    <tr>\n",
              "      <th>Code</th>\n",
              "      <th></th>\n",
              "      <th></th>\n",
              "      <th></th>\n",
              "      <th></th>\n",
              "      <th></th>\n",
              "      <th></th>\n",
              "      <th></th>\n",
              "      <th></th>\n",
              "      <th></th>\n",
              "      <th></th>\n",
              "      <th></th>\n",
              "      <th></th>\n",
              "      <th></th>\n",
              "      <th></th>\n",
              "      <th></th>\n",
              "      <th></th>\n",
              "      <th></th>\n",
              "    </tr>\n",
              "  </thead>\n",
              "  <tbody>\n",
              "    <tr>\n",
              "      <th>E09000001</th>\n",
              "      <td>City of London</td>\n",
              "      <td>Inner London</td>\n",
              "      <td>8800.0</td>\n",
              "      <td>290.0</td>\n",
              "      <td>30.3</td>\n",
              "      <td>43.2</td>\n",
              "      <td>NaN</td>\n",
              "      <td>United States</td>\n",
              "      <td>152.2</td>\n",
              "      <td>64.6</td>\n",
              "      <td>NaN</td>\n",
              "      <td>NaN</td>\n",
              "      <td>799999.0</td>\n",
              "      <td>4.8</td>\n",
              "      <td>6.0</td>\n",
              "      <td>NaN</td>\n",
              "      <td>NaN</td>\n",
              "    </tr>\n",
              "    <tr>\n",
              "      <th>E09000002</th>\n",
              "      <td>Barking and Dagenham</td>\n",
              "      <td>Outer London</td>\n",
              "      <td>209000.0</td>\n",
              "      <td>3611.0</td>\n",
              "      <td>57.9</td>\n",
              "      <td>32.9</td>\n",
              "      <td>37.8</td>\n",
              "      <td>Nigeria</td>\n",
              "      <td>59.1</td>\n",
              "      <td>65.8</td>\n",
              "      <td>30104.0</td>\n",
              "      <td>24602.0</td>\n",
              "      <td>243500.0</td>\n",
              "      <td>33.6</td>\n",
              "      <td>7.1</td>\n",
              "      <td>Lab</td>\n",
              "      <td>36.5</td>\n",
              "    </tr>\n",
              "    <tr>\n",
              "      <th>E09000003</th>\n",
              "      <td>Barnet</td>\n",
              "      <td>Outer London</td>\n",
              "      <td>389600.0</td>\n",
              "      <td>8675.0</td>\n",
              "      <td>44.9</td>\n",
              "      <td>37.3</td>\n",
              "      <td>35.2</td>\n",
              "      <td>India</td>\n",
              "      <td>53.1</td>\n",
              "      <td>68.5</td>\n",
              "      <td>36475.0</td>\n",
              "      <td>31235.0</td>\n",
              "      <td>445000.0</td>\n",
              "      <td>41.3</td>\n",
              "      <td>7.4</td>\n",
              "      <td>Cons</td>\n",
              "      <td>40.5</td>\n",
              "    </tr>\n",
              "    <tr>\n",
              "      <th>E09000004</th>\n",
              "      <td>Bexley</td>\n",
              "      <td>Outer London</td>\n",
              "      <td>244300.0</td>\n",
              "      <td>6058.0</td>\n",
              "      <td>40.3</td>\n",
              "      <td>39.0</td>\n",
              "      <td>16.1</td>\n",
              "      <td>Nigeria</td>\n",
              "      <td>14.4</td>\n",
              "      <td>75.1</td>\n",
              "      <td>37881.0</td>\n",
              "      <td>28924.0</td>\n",
              "      <td>275000.0</td>\n",
              "      <td>31.7</td>\n",
              "      <td>7.2</td>\n",
              "      <td>Cons</td>\n",
              "      <td>39.6</td>\n",
              "    </tr>\n",
              "    <tr>\n",
              "      <th>E09000005</th>\n",
              "      <td>Brent</td>\n",
              "      <td>Outer London</td>\n",
              "      <td>332100.0</td>\n",
              "      <td>4323.0</td>\n",
              "      <td>76.8</td>\n",
              "      <td>35.6</td>\n",
              "      <td>53.9</td>\n",
              "      <td>India</td>\n",
              "      <td>100.9</td>\n",
              "      <td>69.5</td>\n",
              "      <td>30129.0</td>\n",
              "      <td>29600.0</td>\n",
              "      <td>407250.0</td>\n",
              "      <td>21.9</td>\n",
              "      <td>7.2</td>\n",
              "      <td>Lab</td>\n",
              "      <td>36.3</td>\n",
              "    </tr>\n",
              "  </tbody>\n",
              "</table>\n",
              "</div>"
            ],
            "text/plain": [
              "                           Name   Inner/Outer  Population  Area (ha)  \\\n",
              "Code                                                                   \n",
              "E09000001        City of London  Inner London      8800.0      290.0   \n",
              "E09000002  Barking and Dagenham  Outer London    209000.0     3611.0   \n",
              "E09000003                Barnet  Outer London    389600.0     8675.0   \n",
              "E09000004                Bexley  Outer London    244300.0     6058.0   \n",
              "E09000005                 Brent  Outer London    332100.0     4323.0   \n",
              "\n",
              "           Population density (/ha)  Average Age  Population born abroad (%)  \\\n",
              "Code                                                                           \n",
              "E09000001                      30.3         43.2                         NaN   \n",
              "E09000002                      57.9         32.9                        37.8   \n",
              "E09000003                      44.9         37.3                        35.2   \n",
              "E09000004                      40.3         39.0                        16.1   \n",
              "E09000005                      76.8         35.6                        53.9   \n",
              "\n",
              "          Largest migrant population  New migrant rates  Employment rate (%)  \\\n",
              "Code                                                                           \n",
              "E09000001              United States              152.2                 64.6   \n",
              "E09000002                    Nigeria               59.1                 65.8   \n",
              "E09000003                      India               53.1                 68.5   \n",
              "E09000004                    Nigeria               14.4                 75.1   \n",
              "E09000005                      India              100.9                 69.5   \n",
              "\n",
              "           Gross Pay (Male)  Gross Pay (Female)  Median House Price  \\\n",
              "Code                                                                  \n",
              "E09000001               NaN                 NaN            799999.0   \n",
              "E09000002           30104.0             24602.0            243500.0   \n",
              "E09000003           36475.0             31235.0            445000.0   \n",
              "E09000004           37881.0             28924.0            275000.0   \n",
              "E09000005           30129.0             29600.0            407250.0   \n",
              "\n",
              "           Greenspace (%)  Happiness score Political control  \\\n",
              "Code                                                           \n",
              "E09000001             4.8              6.0               NaN   \n",
              "E09000002            33.6              7.1               Lab   \n",
              "E09000003            41.3              7.4              Cons   \n",
              "E09000004            31.7              7.2              Cons   \n",
              "E09000005            21.9              7.2               Lab   \n",
              "\n",
              "           Turnout at local elections  \n",
              "Code                                   \n",
              "E09000001                         NaN  \n",
              "E09000002                        36.5  \n",
              "E09000003                        40.5  \n",
              "E09000004                        39.6  \n",
              "E09000005                        36.3  "
            ]
          },
          "execution_count": 21,
          "metadata": {},
          "output_type": "execute_result"
        }
      ],
      "source": [
        "boroughs.head()"
      ]
    },
    {
      "cell_type": "code",
      "execution_count": 22,
      "metadata": {
        "colab": {
          "base_uri": "https://localhost:8080/",
          "height": 335
        },
        "id": "4SB6aGhA9SPM",
        "outputId": "c258ea69-0c08-49bb-8f42-46d386fc2277"
      },
      "outputs": [
        {
          "data": {
            "text/html": [
              "<div>\n",
              "<style scoped>\n",
              "    .dataframe tbody tr th:only-of-type {\n",
              "        vertical-align: middle;\n",
              "    }\n",
              "\n",
              "    .dataframe tbody tr th {\n",
              "        vertical-align: top;\n",
              "    }\n",
              "\n",
              "    .dataframe thead th {\n",
              "        text-align: right;\n",
              "    }\n",
              "</style>\n",
              "<table border=\"1\" class=\"dataframe\">\n",
              "  <thead>\n",
              "    <tr style=\"text-align: right;\">\n",
              "      <th></th>\n",
              "      <th>Population</th>\n",
              "      <th>Area (ha)</th>\n",
              "      <th>Population density (/ha)</th>\n",
              "      <th>Average Age</th>\n",
              "      <th>Population born abroad (%)</th>\n",
              "      <th>New migrant rates</th>\n",
              "      <th>Employment rate (%)</th>\n",
              "      <th>Gross Pay (Male)</th>\n",
              "      <th>Gross Pay (Female)</th>\n",
              "      <th>Median House Price</th>\n",
              "      <th>Greenspace (%)</th>\n",
              "      <th>Happiness score</th>\n",
              "      <th>Turnout at local elections</th>\n",
              "    </tr>\n",
              "  </thead>\n",
              "  <tbody>\n",
              "    <tr>\n",
              "      <th>count</th>\n",
              "      <td>33.000000</td>\n",
              "      <td>33.000000</td>\n",
              "      <td>33.000000</td>\n",
              "      <td>33.000000</td>\n",
              "      <td>32.000000</td>\n",
              "      <td>33.000000</td>\n",
              "      <td>33.000000</td>\n",
              "      <td>23.000000</td>\n",
              "      <td>29.000000</td>\n",
              "      <td>3.300000e+01</td>\n",
              "      <td>33.000000</td>\n",
              "      <td>33.000000</td>\n",
              "      <td>32.000000</td>\n",
              "    </tr>\n",
              "    <tr>\n",
              "      <th>mean</th>\n",
              "      <td>267739.393939</td>\n",
              "      <td>4764.030303</td>\n",
              "      <td>74.475758</td>\n",
              "      <td>36.375758</td>\n",
              "      <td>36.512500</td>\n",
              "      <td>55.330303</td>\n",
              "      <td>72.715152</td>\n",
              "      <td>36554.565217</td>\n",
              "      <td>31006.344828</td>\n",
              "      <td>4.654680e+05</td>\n",
              "      <td>31.412121</td>\n",
              "      <td>7.209091</td>\n",
              "      <td>38.840625</td>\n",
              "    </tr>\n",
              "    <tr>\n",
              "      <th>std</th>\n",
              "      <td>75383.345058</td>\n",
              "      <td>3270.856878</td>\n",
              "      <td>39.390751</td>\n",
              "      <td>2.487849</td>\n",
              "      <td>10.495614</td>\n",
              "      <td>29.414659</td>\n",
              "      <td>4.219384</td>\n",
              "      <td>4263.657103</td>\n",
              "      <td>3578.444148</td>\n",
              "      <td>2.043563e+05</td>\n",
              "      <td>12.673120</td>\n",
              "      <td>0.249203</td>\n",
              "      <td>3.529220</td>\n",
              "    </tr>\n",
              "    <tr>\n",
              "      <th>min</th>\n",
              "      <td>8800.000000</td>\n",
              "      <td>290.000000</td>\n",
              "      <td>21.800000</td>\n",
              "      <td>31.400000</td>\n",
              "      <td>10.900000</td>\n",
              "      <td>14.400000</td>\n",
              "      <td>64.600000</td>\n",
              "      <td>30104.000000</td>\n",
              "      <td>24006.000000</td>\n",
              "      <td>2.435000e+05</td>\n",
              "      <td>4.800000</td>\n",
              "      <td>6.000000</td>\n",
              "      <td>29.800000</td>\n",
              "    </tr>\n",
              "    <tr>\n",
              "      <th>25%</th>\n",
              "      <td>231200.000000</td>\n",
              "      <td>2681.000000</td>\n",
              "      <td>44.900000</td>\n",
              "      <td>35.000000</td>\n",
              "      <td>32.350000</td>\n",
              "      <td>37.600000</td>\n",
              "      <td>69.200000</td>\n",
              "      <td>34189.000000</td>\n",
              "      <td>29204.000000</td>\n",
              "      <td>3.450000e+05</td>\n",
              "      <td>23.200000</td>\n",
              "      <td>7.200000</td>\n",
              "      <td>36.875000</td>\n",
              "    </tr>\n",
              "    <tr>\n",
              "      <th>50%</th>\n",
              "      <td>276200.000000</td>\n",
              "      <td>3762.000000</td>\n",
              "      <td>59.200000</td>\n",
              "      <td>36.200000</td>\n",
              "      <td>36.900000</td>\n",
              "      <td>53.500000</td>\n",
              "      <td>73.100000</td>\n",
              "      <td>36475.000000</td>\n",
              "      <td>30173.000000</td>\n",
              "      <td>4.100000e+05</td>\n",
              "      <td>31.700000</td>\n",
              "      <td>7.200000</td>\n",
              "      <td>38.500000</td>\n",
              "    </tr>\n",
              "    <tr>\n",
              "      <th>75%</th>\n",
              "      <td>321000.000000</td>\n",
              "      <td>5642.000000</td>\n",
              "      <td>108.900000</td>\n",
              "      <td>37.700000</td>\n",
              "      <td>41.850000</td>\n",
              "      <td>66.200000</td>\n",
              "      <td>75.400000</td>\n",
              "      <td>38372.500000</td>\n",
              "      <td>32657.000000</td>\n",
              "      <td>4.850000e+05</td>\n",
              "      <td>38.200000</td>\n",
              "      <td>7.300000</td>\n",
              "      <td>40.725000</td>\n",
              "    </tr>\n",
              "    <tr>\n",
              "      <th>max</th>\n",
              "      <td>389600.000000</td>\n",
              "      <td>15013.000000</td>\n",
              "      <td>155.600000</td>\n",
              "      <td>43.200000</td>\n",
              "      <td>54.100000</td>\n",
              "      <td>152.200000</td>\n",
              "      <td>79.600000</td>\n",
              "      <td>46627.000000</td>\n",
              "      <td>39132.000000</td>\n",
              "      <td>1.200000e+06</td>\n",
              "      <td>59.300000</td>\n",
              "      <td>7.600000</td>\n",
              "      <td>47.200000</td>\n",
              "    </tr>\n",
              "  </tbody>\n",
              "</table>\n",
              "</div>"
            ],
            "text/plain": [
              "          Population     Area (ha)  Population density (/ha)  Average Age  \\\n",
              "count      33.000000     33.000000                 33.000000    33.000000   \n",
              "mean   267739.393939   4764.030303                 74.475758    36.375758   \n",
              "std     75383.345058   3270.856878                 39.390751     2.487849   \n",
              "min      8800.000000    290.000000                 21.800000    31.400000   \n",
              "25%    231200.000000   2681.000000                 44.900000    35.000000   \n",
              "50%    276200.000000   3762.000000                 59.200000    36.200000   \n",
              "75%    321000.000000   5642.000000                108.900000    37.700000   \n",
              "max    389600.000000  15013.000000                155.600000    43.200000   \n",
              "\n",
              "       Population born abroad (%)  New migrant rates  Employment rate (%)  \\\n",
              "count                   32.000000          33.000000            33.000000   \n",
              "mean                    36.512500          55.330303            72.715152   \n",
              "std                     10.495614          29.414659             4.219384   \n",
              "min                     10.900000          14.400000            64.600000   \n",
              "25%                     32.350000          37.600000            69.200000   \n",
              "50%                     36.900000          53.500000            73.100000   \n",
              "75%                     41.850000          66.200000            75.400000   \n",
              "max                     54.100000         152.200000            79.600000   \n",
              "\n",
              "       Gross Pay (Male)  Gross Pay (Female)  Median House Price  \\\n",
              "count         23.000000           29.000000        3.300000e+01   \n",
              "mean       36554.565217        31006.344828        4.654680e+05   \n",
              "std         4263.657103         3578.444148        2.043563e+05   \n",
              "min        30104.000000        24006.000000        2.435000e+05   \n",
              "25%        34189.000000        29204.000000        3.450000e+05   \n",
              "50%        36475.000000        30173.000000        4.100000e+05   \n",
              "75%        38372.500000        32657.000000        4.850000e+05   \n",
              "max        46627.000000        39132.000000        1.200000e+06   \n",
              "\n",
              "       Greenspace (%)  Happiness score  Turnout at local elections  \n",
              "count       33.000000        33.000000                   32.000000  \n",
              "mean        31.412121         7.209091                   38.840625  \n",
              "std         12.673120         0.249203                    3.529220  \n",
              "min          4.800000         6.000000                   29.800000  \n",
              "25%         23.200000         7.200000                   36.875000  \n",
              "50%         31.700000         7.200000                   38.500000  \n",
              "75%         38.200000         7.300000                   40.725000  \n",
              "max         59.300000         7.600000                   47.200000  "
            ]
          },
          "execution_count": 22,
          "metadata": {},
          "output_type": "execute_result"
        }
      ],
      "source": [
        "boroughs.describe()"
      ]
    },
    {
      "cell_type": "code",
      "execution_count": 23,
      "metadata": {
        "id": "Sc4D-3sL9Vba"
      },
      "outputs": [],
      "source": [
        "boroughs = boroughs.replace('.', float('NaN'))"
      ]
    },
    {
      "cell_type": "markdown",
      "metadata": {
        "id": "mH2a74KSLiPk"
      },
      "source": [
        "**Note**: When reading data from CSV files or other sources, Pandas often infers the data type of columns. Sometimes, columns that should contain numbers might be assigned the 'object' data type (usually representing strings) if they contain any non-numeric values or formatting inconsistencies. This can hinder numerical analysis and operations. Therefore, `to_numeric` is used to explicitly convert such columns to the appropriate numeric type for further calculations."
      ]
    },
    {
      "cell_type": "code",
      "execution_count": 24,
      "metadata": {
        "colab": {
          "base_uri": "https://localhost:8080/",
          "height": 617
        },
        "id": "CsVXa_Mq7ev_",
        "outputId": "ab217da2-dc79-4455-9c70-fe6cfd1ffd1d"
      },
      "outputs": [],
      "source": [
        "boroughs['Population density (/ha)'] = pd.to_numeric(boroughs['Population density (/ha)'])\n",
        "boroughs['Population born abroad (%)'] = pd.to_numeric(boroughs['Population born abroad (%)'])\n",
        "boroughs['Gross Pay (Male)'] = pd.to_numeric(boroughs['Gross Pay (Male)'])\n",
        "boroughs['Gross Pay (Female)'] = pd.to_numeric(boroughs['Gross Pay (Female)'])\n",
        "boroughs['Median House Price'] = pd.to_numeric(boroughs['Median House Price'])\n",
        "boroughs['Greenspace (%)'] = pd.to_numeric(boroughs['Greenspace (%)'])\n",
        "boroughs['Turnout at local elections'] = pd.to_numeric(boroughs['Turnout at local elections'])\n",
        "\n",
        "#boroughs['Area (ha)'] = boroughs['Area (ha)'].str.replace(',', '')\n",
        "#boroughs['Area (ha)'] = pd.to_numeric(boroughs['Area (ha)'])\n",
        "boroughs['Area (ha)'] = boroughs['Area (ha)'].astype(str).str.replace(',', '')\n",
        "boroughs['Area (ha)'] = pd.to_numeric(boroughs['Area (ha)'])\n"
      ]
    },
    {
      "cell_type": "markdown",
      "metadata": {
        "id": "zOM5kgwVBok9"
      },
      "source": [
        "**Question-4: Check the data types of the dataset**"
      ]
    },
    {
      "cell_type": "code",
      "execution_count": 25,
      "metadata": {},
      "outputs": [
        {
          "data": {
            "text/plain": [
              "Code                                                          object\n",
              "Area_name                                                     object\n",
              "Inner/_Outer_London                                           object\n",
              "GLA_Population_Estimate_2017                                 float64\n",
              "GLA_Household_Estimate_2017                                  float64\n",
              "                                                              ...   \n",
              "Political_control_in_council                                  object\n",
              "Proportion_of_seats_won_by_Conservatives_in_2014_election    float64\n",
              "Proportion_of_seats_won_by_Labour_in_2014_election           float64\n",
              "Proportion_of_seats_won_by_Lib_Dems_in_2014_election         float64\n",
              "Turnout_at_2014_local_elections                              float64\n",
              "Length: 84, dtype: object"
            ]
          },
          "execution_count": 25,
          "metadata": {},
          "output_type": "execute_result"
        }
      ],
      "source": [
        "df.dtypes\n",
        "# object = string"
      ]
    },
    {
      "cell_type": "markdown",
      "metadata": {
        "id": "j9yxZ3tNz-yd"
      },
      "source": [
        "\n",
        "**Q5: Using iloc, write the code to select all rows and the first two columns of the boroughs DataFrame. Explain in your own words what is the meaning of the code line that you wrote**"
      ]
    },
    {
      "cell_type": "code",
      "execution_count": 26,
      "metadata": {},
      "outputs": [
        {
          "name": "stdout",
          "output_type": "stream",
          "text": [
            "                           Name   Inner/Outer\n",
            "Code                                         \n",
            "E09000001        City of London  Inner London\n",
            "E09000002  Barking and Dagenham  Outer London\n",
            "E09000003                Barnet  Outer London\n",
            "E09000004                Bexley  Outer London\n",
            "E09000005                 Brent  Outer London\n"
          ]
        }
      ],
      "source": [
        "print(boroughs.iloc[:, :2].head())\n",
        "\n",
        "#iloc = integer location - selects rows and columns by position, not label\n",
        "# first : - selects all rows \n",
        "# second :2 - select columns starting fromm 0 up to (but not including 2)"
      ]
    },
    {
      "cell_type": "markdown",
      "metadata": {
        "id": "37teOLzLz-ye"
      },
      "source": [
        "**Q6: Find the boroughs where the average age of the population is greater than 35.**"
      ]
    },
    {
      "cell_type": "code",
      "execution_count": 27,
      "metadata": {},
      "outputs": [
        {
          "data": {
            "text/html": [
              "<div>\n",
              "<style scoped>\n",
              "    .dataframe tbody tr th:only-of-type {\n",
              "        vertical-align: middle;\n",
              "    }\n",
              "\n",
              "    .dataframe tbody tr th {\n",
              "        vertical-align: top;\n",
              "    }\n",
              "\n",
              "    .dataframe thead th {\n",
              "        text-align: right;\n",
              "    }\n",
              "</style>\n",
              "<table border=\"1\" class=\"dataframe\">\n",
              "  <thead>\n",
              "    <tr style=\"text-align: right;\">\n",
              "      <th></th>\n",
              "      <th>Name</th>\n",
              "      <th>Inner/Outer</th>\n",
              "      <th>Population</th>\n",
              "      <th>Area (ha)</th>\n",
              "      <th>Population density (/ha)</th>\n",
              "      <th>Average Age</th>\n",
              "      <th>Population born abroad (%)</th>\n",
              "      <th>Largest migrant population</th>\n",
              "      <th>New migrant rates</th>\n",
              "      <th>Employment rate (%)</th>\n",
              "      <th>Gross Pay (Male)</th>\n",
              "      <th>Gross Pay (Female)</th>\n",
              "      <th>Median House Price</th>\n",
              "      <th>Greenspace (%)</th>\n",
              "      <th>Happiness score</th>\n",
              "      <th>Political control</th>\n",
              "      <th>Turnout at local elections</th>\n",
              "    </tr>\n",
              "    <tr>\n",
              "      <th>Code</th>\n",
              "      <th></th>\n",
              "      <th></th>\n",
              "      <th></th>\n",
              "      <th></th>\n",
              "      <th></th>\n",
              "      <th></th>\n",
              "      <th></th>\n",
              "      <th></th>\n",
              "      <th></th>\n",
              "      <th></th>\n",
              "      <th></th>\n",
              "      <th></th>\n",
              "      <th></th>\n",
              "      <th></th>\n",
              "      <th></th>\n",
              "      <th></th>\n",
              "      <th></th>\n",
              "    </tr>\n",
              "  </thead>\n",
              "  <tbody>\n",
              "    <tr>\n",
              "      <th>E09000001</th>\n",
              "      <td>City of London</td>\n",
              "      <td>Inner London</td>\n",
              "      <td>8800.0</td>\n",
              "      <td>290.0</td>\n",
              "      <td>30.3</td>\n",
              "      <td>43.2</td>\n",
              "      <td>NaN</td>\n",
              "      <td>United States</td>\n",
              "      <td>152.2</td>\n",
              "      <td>64.6</td>\n",
              "      <td>NaN</td>\n",
              "      <td>NaN</td>\n",
              "      <td>799999.0</td>\n",
              "      <td>4.8</td>\n",
              "      <td>6.0</td>\n",
              "      <td>NaN</td>\n",
              "      <td>NaN</td>\n",
              "    </tr>\n",
              "    <tr>\n",
              "      <th>E09000003</th>\n",
              "      <td>Barnet</td>\n",
              "      <td>Outer London</td>\n",
              "      <td>389600.0</td>\n",
              "      <td>8675.0</td>\n",
              "      <td>44.9</td>\n",
              "      <td>37.3</td>\n",
              "      <td>35.2</td>\n",
              "      <td>India</td>\n",
              "      <td>53.1</td>\n",
              "      <td>68.5</td>\n",
              "      <td>36475.0</td>\n",
              "      <td>31235.0</td>\n",
              "      <td>445000.0</td>\n",
              "      <td>41.3</td>\n",
              "      <td>7.4</td>\n",
              "      <td>Cons</td>\n",
              "      <td>40.5</td>\n",
              "    </tr>\n",
              "    <tr>\n",
              "      <th>E09000004</th>\n",
              "      <td>Bexley</td>\n",
              "      <td>Outer London</td>\n",
              "      <td>244300.0</td>\n",
              "      <td>6058.0</td>\n",
              "      <td>40.3</td>\n",
              "      <td>39.0</td>\n",
              "      <td>16.1</td>\n",
              "      <td>Nigeria</td>\n",
              "      <td>14.4</td>\n",
              "      <td>75.1</td>\n",
              "      <td>37881.0</td>\n",
              "      <td>28924.0</td>\n",
              "      <td>275000.0</td>\n",
              "      <td>31.7</td>\n",
              "      <td>7.2</td>\n",
              "      <td>Cons</td>\n",
              "      <td>39.6</td>\n",
              "    </tr>\n",
              "    <tr>\n",
              "      <th>E09000005</th>\n",
              "      <td>Brent</td>\n",
              "      <td>Outer London</td>\n",
              "      <td>332100.0</td>\n",
              "      <td>4323.0</td>\n",
              "      <td>76.8</td>\n",
              "      <td>35.6</td>\n",
              "      <td>53.9</td>\n",
              "      <td>India</td>\n",
              "      <td>100.9</td>\n",
              "      <td>69.5</td>\n",
              "      <td>30129.0</td>\n",
              "      <td>29600.0</td>\n",
              "      <td>407250.0</td>\n",
              "      <td>21.9</td>\n",
              "      <td>7.2</td>\n",
              "      <td>Lab</td>\n",
              "      <td>36.3</td>\n",
              "    </tr>\n",
              "    <tr>\n",
              "      <th>E09000006</th>\n",
              "      <td>Bromley</td>\n",
              "      <td>Outer London</td>\n",
              "      <td>327900.0</td>\n",
              "      <td>15013.0</td>\n",
              "      <td>21.8</td>\n",
              "      <td>40.2</td>\n",
              "      <td>18.3</td>\n",
              "      <td>India</td>\n",
              "      <td>14.4</td>\n",
              "      <td>75.3</td>\n",
              "      <td>42026.0</td>\n",
              "      <td>32491.0</td>\n",
              "      <td>374975.0</td>\n",
              "      <td>57.8</td>\n",
              "      <td>7.4</td>\n",
              "      <td>Cons</td>\n",
              "      <td>40.8</td>\n",
              "    </tr>\n",
              "    <tr>\n",
              "      <th>E09000007</th>\n",
              "      <td>Camden</td>\n",
              "      <td>Inner London</td>\n",
              "      <td>242500.0</td>\n",
              "      <td>2179.0</td>\n",
              "      <td>111.3</td>\n",
              "      <td>36.4</td>\n",
              "      <td>41.4</td>\n",
              "      <td>United States</td>\n",
              "      <td>60.7</td>\n",
              "      <td>69.2</td>\n",
              "      <td>NaN</td>\n",
              "      <td>36632.0</td>\n",
              "      <td>700000.0</td>\n",
              "      <td>24.8</td>\n",
              "      <td>7.1</td>\n",
              "      <td>Lab</td>\n",
              "      <td>38.7</td>\n",
              "    </tr>\n",
              "    <tr>\n",
              "      <th>E09000008</th>\n",
              "      <td>Croydon</td>\n",
              "      <td>Outer London</td>\n",
              "      <td>386500.0</td>\n",
              "      <td>8650.0</td>\n",
              "      <td>44.7</td>\n",
              "      <td>37.0</td>\n",
              "      <td>29.4</td>\n",
              "      <td>India</td>\n",
              "      <td>32.3</td>\n",
              "      <td>75.4</td>\n",
              "      <td>35839.0</td>\n",
              "      <td>29819.0</td>\n",
              "      <td>300000.0</td>\n",
              "      <td>37.1</td>\n",
              "      <td>7.2</td>\n",
              "      <td>Lab</td>\n",
              "      <td>38.6</td>\n",
              "    </tr>\n",
              "    <tr>\n",
              "      <th>E09000009</th>\n",
              "      <td>Ealing</td>\n",
              "      <td>Outer London</td>\n",
              "      <td>351600.0</td>\n",
              "      <td>5554.0</td>\n",
              "      <td>63.3</td>\n",
              "      <td>36.2</td>\n",
              "      <td>47.4</td>\n",
              "      <td>India</td>\n",
              "      <td>65.2</td>\n",
              "      <td>72.7</td>\n",
              "      <td>32185.0</td>\n",
              "      <td>29875.0</td>\n",
              "      <td>430000.0</td>\n",
              "      <td>30.9</td>\n",
              "      <td>7.3</td>\n",
              "      <td>Lab</td>\n",
              "      <td>41.2</td>\n",
              "    </tr>\n",
              "    <tr>\n",
              "      <th>E09000010</th>\n",
              "      <td>Enfield</td>\n",
              "      <td>Outer London</td>\n",
              "      <td>333000.0</td>\n",
              "      <td>8083.0</td>\n",
              "      <td>41.2</td>\n",
              "      <td>36.3</td>\n",
              "      <td>35.0</td>\n",
              "      <td>Turkey</td>\n",
              "      <td>43.8</td>\n",
              "      <td>73.0</td>\n",
              "      <td>35252.0</td>\n",
              "      <td>30222.0</td>\n",
              "      <td>320000.0</td>\n",
              "      <td>45.6</td>\n",
              "      <td>7.3</td>\n",
              "      <td>Lab</td>\n",
              "      <td>38.2</td>\n",
              "    </tr>\n",
              "    <tr>\n",
              "      <th>E09000013</th>\n",
              "      <td>Hammersmith and Fulham</td>\n",
              "      <td>Inner London</td>\n",
              "      <td>185300.0</td>\n",
              "      <td>1640.0</td>\n",
              "      <td>113.0</td>\n",
              "      <td>35.7</td>\n",
              "      <td>43.2</td>\n",
              "      <td>France</td>\n",
              "      <td>71.4</td>\n",
              "      <td>77.5</td>\n",
              "      <td>43845.0</td>\n",
              "      <td>34808.0</td>\n",
              "      <td>730000.0</td>\n",
              "      <td>19.1</td>\n",
              "      <td>7.2</td>\n",
              "      <td>Lab</td>\n",
              "      <td>37.6</td>\n",
              "    </tr>\n",
              "    <tr>\n",
              "      <th>E09000014</th>\n",
              "      <td>Haringey</td>\n",
              "      <td>Inner London</td>\n",
              "      <td>278000.0</td>\n",
              "      <td>2960.0</td>\n",
              "      <td>93.9</td>\n",
              "      <td>35.1</td>\n",
              "      <td>39.6</td>\n",
              "      <td>Poland</td>\n",
              "      <td>78.5</td>\n",
              "      <td>71.3</td>\n",
              "      <td>NaN</td>\n",
              "      <td>29513.0</td>\n",
              "      <td>432500.0</td>\n",
              "      <td>25.5</td>\n",
              "      <td>7.2</td>\n",
              "      <td>Lab</td>\n",
              "      <td>38.1</td>\n",
              "    </tr>\n",
              "    <tr>\n",
              "      <th>E09000015</th>\n",
              "      <td>Harrow</td>\n",
              "      <td>Outer London</td>\n",
              "      <td>252300.0</td>\n",
              "      <td>5046.0</td>\n",
              "      <td>50.0</td>\n",
              "      <td>38.3</td>\n",
              "      <td>49.6</td>\n",
              "      <td>India</td>\n",
              "      <td>65.4</td>\n",
              "      <td>73.9</td>\n",
              "      <td>NaN</td>\n",
              "      <td>29335.0</td>\n",
              "      <td>396150.0</td>\n",
              "      <td>34.6</td>\n",
              "      <td>7.3</td>\n",
              "      <td>Lab</td>\n",
              "      <td>40.7</td>\n",
              "    </tr>\n",
              "    <tr>\n",
              "      <th>E09000016</th>\n",
              "      <td>Havering</td>\n",
              "      <td>Outer London</td>\n",
              "      <td>254300.0</td>\n",
              "      <td>11235.0</td>\n",
              "      <td>22.6</td>\n",
              "      <td>40.3</td>\n",
              "      <td>10.9</td>\n",
              "      <td>Ireland</td>\n",
              "      <td>17.0</td>\n",
              "      <td>76.5</td>\n",
              "      <td>36539.0</td>\n",
              "      <td>27455.0</td>\n",
              "      <td>287500.0</td>\n",
              "      <td>59.3</td>\n",
              "      <td>7.2</td>\n",
              "      <td>No Overall Control</td>\n",
              "      <td>43.1</td>\n",
              "    </tr>\n",
              "    <tr>\n",
              "      <th>E09000017</th>\n",
              "      <td>Hillingdon</td>\n",
              "      <td>Outer London</td>\n",
              "      <td>301000.0</td>\n",
              "      <td>11570.0</td>\n",
              "      <td>26.0</td>\n",
              "      <td>36.4</td>\n",
              "      <td>32.4</td>\n",
              "      <td>India</td>\n",
              "      <td>35.8</td>\n",
              "      <td>73.2</td>\n",
              "      <td>36107.0</td>\n",
              "      <td>28778.0</td>\n",
              "      <td>350000.0</td>\n",
              "      <td>49.2</td>\n",
              "      <td>7.3</td>\n",
              "      <td>Cons</td>\n",
              "      <td>36.1</td>\n",
              "    </tr>\n",
              "    <tr>\n",
              "      <th>E09000018</th>\n",
              "      <td>Hounslow</td>\n",
              "      <td>Outer London</td>\n",
              "      <td>274200.0</td>\n",
              "      <td>5598.0</td>\n",
              "      <td>49.0</td>\n",
              "      <td>35.8</td>\n",
              "      <td>46.3</td>\n",
              "      <td>India</td>\n",
              "      <td>62.4</td>\n",
              "      <td>74.2</td>\n",
              "      <td>32235.0</td>\n",
              "      <td>27226.0</td>\n",
              "      <td>355000.0</td>\n",
              "      <td>39.6</td>\n",
              "      <td>7.4</td>\n",
              "      <td>Lab</td>\n",
              "      <td>36.8</td>\n",
              "    </tr>\n",
              "    <tr>\n",
              "      <th>E09000020</th>\n",
              "      <td>Kensington and Chelsea</td>\n",
              "      <td>Inner London</td>\n",
              "      <td>159000.0</td>\n",
              "      <td>1212.0</td>\n",
              "      <td>131.1</td>\n",
              "      <td>39.3</td>\n",
              "      <td>51.9</td>\n",
              "      <td>United States</td>\n",
              "      <td>66.2</td>\n",
              "      <td>68.2</td>\n",
              "      <td>NaN</td>\n",
              "      <td>NaN</td>\n",
              "      <td>1200000.0</td>\n",
              "      <td>15.1</td>\n",
              "      <td>7.6</td>\n",
              "      <td>Cons</td>\n",
              "      <td>29.8</td>\n",
              "    </tr>\n",
              "    <tr>\n",
              "      <th>E09000021</th>\n",
              "      <td>Kingston upon Thames</td>\n",
              "      <td>Outer London</td>\n",
              "      <td>175400.0</td>\n",
              "      <td>3726.0</td>\n",
              "      <td>47.1</td>\n",
              "      <td>37.1</td>\n",
              "      <td>29.8</td>\n",
              "      <td>Sri Lanka</td>\n",
              "      <td>27.5</td>\n",
              "      <td>74.4</td>\n",
              "      <td>41288.0</td>\n",
              "      <td>33400.0</td>\n",
              "      <td>410000.0</td>\n",
              "      <td>36.4</td>\n",
              "      <td>7.4</td>\n",
              "      <td>Cons</td>\n",
              "      <td>43.1</td>\n",
              "    </tr>\n",
              "    <tr>\n",
              "      <th>E09000024</th>\n",
              "      <td>Merton</td>\n",
              "      <td>Outer London</td>\n",
              "      <td>208100.0</td>\n",
              "      <td>3762.0</td>\n",
              "      <td>55.3</td>\n",
              "      <td>36.7</td>\n",
              "      <td>37.4</td>\n",
              "      <td>Poland</td>\n",
              "      <td>48.6</td>\n",
              "      <td>78.8</td>\n",
              "      <td>NaN</td>\n",
              "      <td>30722.0</td>\n",
              "      <td>415000.0</td>\n",
              "      <td>34.6</td>\n",
              "      <td>7.1</td>\n",
              "      <td>Lab</td>\n",
              "      <td>41.3</td>\n",
              "    </tr>\n",
              "    <tr>\n",
              "      <th>E09000026</th>\n",
              "      <td>Redbridge</td>\n",
              "      <td>Outer London</td>\n",
              "      <td>304200.0</td>\n",
              "      <td>5642.0</td>\n",
              "      <td>53.9</td>\n",
              "      <td>35.8</td>\n",
              "      <td>40.2</td>\n",
              "      <td>India</td>\n",
              "      <td>54.6</td>\n",
              "      <td>68.3</td>\n",
              "      <td>39272.0</td>\n",
              "      <td>29204.0</td>\n",
              "      <td>345000.0</td>\n",
              "      <td>40.6</td>\n",
              "      <td>7.3</td>\n",
              "      <td>Lab</td>\n",
              "      <td>39.7</td>\n",
              "    </tr>\n",
              "    <tr>\n",
              "      <th>E09000027</th>\n",
              "      <td>Richmond upon Thames</td>\n",
              "      <td>Outer London</td>\n",
              "      <td>197300.0</td>\n",
              "      <td>5741.0</td>\n",
              "      <td>34.4</td>\n",
              "      <td>38.8</td>\n",
              "      <td>23.7</td>\n",
              "      <td>Ireland</td>\n",
              "      <td>20.6</td>\n",
              "      <td>79.6</td>\n",
              "      <td>NaN</td>\n",
              "      <td>38499.0</td>\n",
              "      <td>575000.0</td>\n",
              "      <td>50.8</td>\n",
              "      <td>7.3</td>\n",
              "      <td>Cons</td>\n",
              "      <td>46.1</td>\n",
              "    </tr>\n",
              "    <tr>\n",
              "      <th>E09000029</th>\n",
              "      <td>Sutton</td>\n",
              "      <td>Outer London</td>\n",
              "      <td>202600.0</td>\n",
              "      <td>4385.0</td>\n",
              "      <td>46.2</td>\n",
              "      <td>38.9</td>\n",
              "      <td>23.1</td>\n",
              "      <td>Sri Lanka</td>\n",
              "      <td>16.1</td>\n",
              "      <td>78.2</td>\n",
              "      <td>36636.0</td>\n",
              "      <td>28540.0</td>\n",
              "      <td>320000.0</td>\n",
              "      <td>32.0</td>\n",
              "      <td>7.3</td>\n",
              "      <td>Lib Dem</td>\n",
              "      <td>42.6</td>\n",
              "    </tr>\n",
              "    <tr>\n",
              "      <th>E09000031</th>\n",
              "      <td>Waltham Forest</td>\n",
              "      <td>Outer London</td>\n",
              "      <td>276200.0</td>\n",
              "      <td>3881.0</td>\n",
              "      <td>71.2</td>\n",
              "      <td>35.1</td>\n",
              "      <td>37.2</td>\n",
              "      <td>Pakistan</td>\n",
              "      <td>83.9</td>\n",
              "      <td>73.1</td>\n",
              "      <td>33126.0</td>\n",
              "      <td>NaN</td>\n",
              "      <td>366569.0</td>\n",
              "      <td>31.4</td>\n",
              "      <td>7.1</td>\n",
              "      <td>Lab</td>\n",
              "      <td>37.6</td>\n",
              "    </tr>\n",
              "    <tr>\n",
              "      <th>E09000033</th>\n",
              "      <td>Westminster</td>\n",
              "      <td>Inner London</td>\n",
              "      <td>242100.0</td>\n",
              "      <td>2149.0</td>\n",
              "      <td>112.7</td>\n",
              "      <td>37.7</td>\n",
              "      <td>49.8</td>\n",
              "      <td>United States</td>\n",
              "      <td>72.0</td>\n",
              "      <td>65.6</td>\n",
              "      <td>46627.0</td>\n",
              "      <td>39132.0</td>\n",
              "      <td>920000.0</td>\n",
              "      <td>38.2</td>\n",
              "      <td>7.1</td>\n",
              "      <td>Cons</td>\n",
              "      <td>32.3</td>\n",
              "    </tr>\n",
              "  </tbody>\n",
              "</table>\n",
              "</div>"
            ],
            "text/plain": [
              "                             Name   Inner/Outer  Population  Area (ha)  \\\n",
              "Code                                                                     \n",
              "E09000001          City of London  Inner London      8800.0      290.0   \n",
              "E09000003                  Barnet  Outer London    389600.0     8675.0   \n",
              "E09000004                  Bexley  Outer London    244300.0     6058.0   \n",
              "E09000005                   Brent  Outer London    332100.0     4323.0   \n",
              "E09000006                 Bromley  Outer London    327900.0    15013.0   \n",
              "E09000007                  Camden  Inner London    242500.0     2179.0   \n",
              "E09000008                 Croydon  Outer London    386500.0     8650.0   \n",
              "E09000009                  Ealing  Outer London    351600.0     5554.0   \n",
              "E09000010                 Enfield  Outer London    333000.0     8083.0   \n",
              "E09000013  Hammersmith and Fulham  Inner London    185300.0     1640.0   \n",
              "E09000014                Haringey  Inner London    278000.0     2960.0   \n",
              "E09000015                  Harrow  Outer London    252300.0     5046.0   \n",
              "E09000016                Havering  Outer London    254300.0    11235.0   \n",
              "E09000017              Hillingdon  Outer London    301000.0    11570.0   \n",
              "E09000018                Hounslow  Outer London    274200.0     5598.0   \n",
              "E09000020  Kensington and Chelsea  Inner London    159000.0     1212.0   \n",
              "E09000021    Kingston upon Thames  Outer London    175400.0     3726.0   \n",
              "E09000024                  Merton  Outer London    208100.0     3762.0   \n",
              "E09000026               Redbridge  Outer London    304200.0     5642.0   \n",
              "E09000027    Richmond upon Thames  Outer London    197300.0     5741.0   \n",
              "E09000029                  Sutton  Outer London    202600.0     4385.0   \n",
              "E09000031          Waltham Forest  Outer London    276200.0     3881.0   \n",
              "E09000033             Westminster  Inner London    242100.0     2149.0   \n",
              "\n",
              "           Population density (/ha)  Average Age  Population born abroad (%)  \\\n",
              "Code                                                                           \n",
              "E09000001                      30.3         43.2                         NaN   \n",
              "E09000003                      44.9         37.3                        35.2   \n",
              "E09000004                      40.3         39.0                        16.1   \n",
              "E09000005                      76.8         35.6                        53.9   \n",
              "E09000006                      21.8         40.2                        18.3   \n",
              "E09000007                     111.3         36.4                        41.4   \n",
              "E09000008                      44.7         37.0                        29.4   \n",
              "E09000009                      63.3         36.2                        47.4   \n",
              "E09000010                      41.2         36.3                        35.0   \n",
              "E09000013                     113.0         35.7                        43.2   \n",
              "E09000014                      93.9         35.1                        39.6   \n",
              "E09000015                      50.0         38.3                        49.6   \n",
              "E09000016                      22.6         40.3                        10.9   \n",
              "E09000017                      26.0         36.4                        32.4   \n",
              "E09000018                      49.0         35.8                        46.3   \n",
              "E09000020                     131.1         39.3                        51.9   \n",
              "E09000021                      47.1         37.1                        29.8   \n",
              "E09000024                      55.3         36.7                        37.4   \n",
              "E09000026                      53.9         35.8                        40.2   \n",
              "E09000027                      34.4         38.8                        23.7   \n",
              "E09000029                      46.2         38.9                        23.1   \n",
              "E09000031                      71.2         35.1                        37.2   \n",
              "E09000033                     112.7         37.7                        49.8   \n",
              "\n",
              "          Largest migrant population  New migrant rates  Employment rate (%)  \\\n",
              "Code                                                                           \n",
              "E09000001              United States              152.2                 64.6   \n",
              "E09000003                      India               53.1                 68.5   \n",
              "E09000004                    Nigeria               14.4                 75.1   \n",
              "E09000005                      India              100.9                 69.5   \n",
              "E09000006                      India               14.4                 75.3   \n",
              "E09000007              United States               60.7                 69.2   \n",
              "E09000008                      India               32.3                 75.4   \n",
              "E09000009                      India               65.2                 72.7   \n",
              "E09000010                     Turkey               43.8                 73.0   \n",
              "E09000013                     France               71.4                 77.5   \n",
              "E09000014                     Poland               78.5                 71.3   \n",
              "E09000015                      India               65.4                 73.9   \n",
              "E09000016                    Ireland               17.0                 76.5   \n",
              "E09000017                      India               35.8                 73.2   \n",
              "E09000018                      India               62.4                 74.2   \n",
              "E09000020              United States               66.2                 68.2   \n",
              "E09000021                  Sri Lanka               27.5                 74.4   \n",
              "E09000024                     Poland               48.6                 78.8   \n",
              "E09000026                      India               54.6                 68.3   \n",
              "E09000027                    Ireland               20.6                 79.6   \n",
              "E09000029                  Sri Lanka               16.1                 78.2   \n",
              "E09000031                   Pakistan               83.9                 73.1   \n",
              "E09000033              United States               72.0                 65.6   \n",
              "\n",
              "           Gross Pay (Male)  Gross Pay (Female)  Median House Price  \\\n",
              "Code                                                                  \n",
              "E09000001               NaN                 NaN            799999.0   \n",
              "E09000003           36475.0             31235.0            445000.0   \n",
              "E09000004           37881.0             28924.0            275000.0   \n",
              "E09000005           30129.0             29600.0            407250.0   \n",
              "E09000006           42026.0             32491.0            374975.0   \n",
              "E09000007               NaN             36632.0            700000.0   \n",
              "E09000008           35839.0             29819.0            300000.0   \n",
              "E09000009           32185.0             29875.0            430000.0   \n",
              "E09000010           35252.0             30222.0            320000.0   \n",
              "E09000013           43845.0             34808.0            730000.0   \n",
              "E09000014               NaN             29513.0            432500.0   \n",
              "E09000015               NaN             29335.0            396150.0   \n",
              "E09000016           36539.0             27455.0            287500.0   \n",
              "E09000017           36107.0             28778.0            350000.0   \n",
              "E09000018           32235.0             27226.0            355000.0   \n",
              "E09000020               NaN                 NaN           1200000.0   \n",
              "E09000021           41288.0             33400.0            410000.0   \n",
              "E09000024               NaN             30722.0            415000.0   \n",
              "E09000026           39272.0             29204.0            345000.0   \n",
              "E09000027               NaN             38499.0            575000.0   \n",
              "E09000029           36636.0             28540.0            320000.0   \n",
              "E09000031           33126.0                 NaN            366569.0   \n",
              "E09000033           46627.0             39132.0            920000.0   \n",
              "\n",
              "           Greenspace (%)  Happiness score   Political control  \\\n",
              "Code                                                             \n",
              "E09000001             4.8              6.0                 NaN   \n",
              "E09000003            41.3              7.4                Cons   \n",
              "E09000004            31.7              7.2                Cons   \n",
              "E09000005            21.9              7.2                 Lab   \n",
              "E09000006            57.8              7.4                Cons   \n",
              "E09000007            24.8              7.1                 Lab   \n",
              "E09000008            37.1              7.2                 Lab   \n",
              "E09000009            30.9              7.3                 Lab   \n",
              "E09000010            45.6              7.3                 Lab   \n",
              "E09000013            19.1              7.2                 Lab   \n",
              "E09000014            25.5              7.2                 Lab   \n",
              "E09000015            34.6              7.3                 Lab   \n",
              "E09000016            59.3              7.2  No Overall Control   \n",
              "E09000017            49.2              7.3                Cons   \n",
              "E09000018            39.6              7.4                 Lab   \n",
              "E09000020            15.1              7.6                Cons   \n",
              "E09000021            36.4              7.4                Cons   \n",
              "E09000024            34.6              7.1                 Lab   \n",
              "E09000026            40.6              7.3                 Lab   \n",
              "E09000027            50.8              7.3                Cons   \n",
              "E09000029            32.0              7.3             Lib Dem   \n",
              "E09000031            31.4              7.1                 Lab   \n",
              "E09000033            38.2              7.1                Cons   \n",
              "\n",
              "           Turnout at local elections  \n",
              "Code                                   \n",
              "E09000001                         NaN  \n",
              "E09000003                        40.5  \n",
              "E09000004                        39.6  \n",
              "E09000005                        36.3  \n",
              "E09000006                        40.8  \n",
              "E09000007                        38.7  \n",
              "E09000008                        38.6  \n",
              "E09000009                        41.2  \n",
              "E09000010                        38.2  \n",
              "E09000013                        37.6  \n",
              "E09000014                        38.1  \n",
              "E09000015                        40.7  \n",
              "E09000016                        43.1  \n",
              "E09000017                        36.1  \n",
              "E09000018                        36.8  \n",
              "E09000020                        29.8  \n",
              "E09000021                        43.1  \n",
              "E09000024                        41.3  \n",
              "E09000026                        39.7  \n",
              "E09000027                        46.1  \n",
              "E09000029                        42.6  \n",
              "E09000031                        37.6  \n",
              "E09000033                        32.3  "
            ]
          },
          "execution_count": 27,
          "metadata": {},
          "output_type": "execute_result"
        }
      ],
      "source": [
        "boroughs[boroughs['Average Age'] > 35]\n"
      ]
    },
    {
      "cell_type": "markdown",
      "metadata": {
        "id": "K4TSkQQHz-ye"
      },
      "source": [
        "**Which borough has the largest population density per hectare in 2017?**"
      ]
    },
    {
      "cell_type": "code",
      "execution_count": 28,
      "metadata": {},
      "outputs": [
        {
          "data": {
            "text/html": [
              "<div>\n",
              "<style scoped>\n",
              "    .dataframe tbody tr th:only-of-type {\n",
              "        vertical-align: middle;\n",
              "    }\n",
              "\n",
              "    .dataframe tbody tr th {\n",
              "        vertical-align: top;\n",
              "    }\n",
              "\n",
              "    .dataframe thead th {\n",
              "        text-align: right;\n",
              "    }\n",
              "</style>\n",
              "<table border=\"1\" class=\"dataframe\">\n",
              "  <thead>\n",
              "    <tr style=\"text-align: right;\">\n",
              "      <th></th>\n",
              "      <th>Name</th>\n",
              "      <th>Population density (/ha)</th>\n",
              "    </tr>\n",
              "    <tr>\n",
              "      <th>Code</th>\n",
              "      <th></th>\n",
              "      <th></th>\n",
              "    </tr>\n",
              "  </thead>\n",
              "  <tbody>\n",
              "    <tr>\n",
              "      <th>E09000019</th>\n",
              "      <td>Islington</td>\n",
              "      <td>155.6</td>\n",
              "    </tr>\n",
              "  </tbody>\n",
              "</table>\n",
              "</div>"
            ],
            "text/plain": [
              "                Name  Population density (/ha)\n",
              "Code                                          \n",
              "E09000019  Islington                     155.6"
            ]
          },
          "execution_count": 28,
          "metadata": {},
          "output_type": "execute_result"
        }
      ],
      "source": [
        "popdensity = boroughs['Population density (/ha)']\n",
        "max_density = popdensity.max()\n",
        "boroughs[popdensity == max_density][['Name', 'Population density (/ha)']]\n"
      ]
    },
    {
      "cell_type": "markdown",
      "metadata": {
        "id": "m7IQK06wz-ye"
      },
      "source": [
        "**Q7: What are the maximum and minimum number of new migrants in 2015/2016? And for which boroughs?**\n",
        "\n",
        "* Print a value with `print()`  "
      ]
    },
    {
      "cell_type": "code",
      "execution_count": 29,
      "metadata": {},
      "outputs": [
        {
          "name": "stdout",
          "output_type": "stream",
          "text": [
            "Max new migrant rates: 152.2\n",
            "Min new migrant rates: 14.4\n"
          ]
        }
      ],
      "source": [
        "# new migrant rates already in 2015/2016 by dataset\n",
        "print(\"Max new migrant rates:\", boroughs[\"New migrant rates\"].max())\n",
        "print(\"Min new migrant rates:\", boroughs[\"New migrant rates\"].min())"
      ]
    },
    {
      "cell_type": "markdown",
      "metadata": {
        "id": "EBiGFy7gz-yf"
      },
      "source": [
        "**Q8: Which borough is happiest?**\n",
        "\n",
        "* To extract an entire row use `idxmax()` which returns column with maximum value, and `.loc[]` to return row of the index\n",
        "\n",
        "\n"
      ]
    },
    {
      "cell_type": "code",
      "execution_count": 30,
      "metadata": {},
      "outputs": [
        {
          "name": "stdout",
          "output_type": "stream",
          "text": [
            "E09000020\n"
          ]
        },
        {
          "data": {
            "text/plain": [
              "Name                          Kensington and Chelsea\n",
              "Inner/Outer                             Inner London\n",
              "Population                                  159000.0\n",
              "Area (ha)                                     1212.0\n",
              "Population density (/ha)                       131.1\n",
              "Average Age                                     39.3\n",
              "Population born abroad (%)                      51.9\n",
              "Largest migrant population             United States\n",
              "New migrant rates                               66.2\n",
              "Employment rate (%)                             68.2\n",
              "Gross Pay (Male)                                 NaN\n",
              "Gross Pay (Female)                               NaN\n",
              "Median House Price                         1200000.0\n",
              "Greenspace (%)                                  15.1\n",
              "Happiness score                                  7.6\n",
              "Political control                               Cons\n",
              "Turnout at local elections                      29.8\n",
              "Name: E09000020, dtype: object"
            ]
          },
          "execution_count": 30,
          "metadata": {},
          "output_type": "execute_result"
        }
      ],
      "source": [
        "happiest = boroughs['Happiness score'].idxmax()\n",
        "print(happiest)\n",
        "boroughs.loc[happiest]\n",
        "\n",
        "# 'Happiness score': This column contains the average happiness score (out of 10).\n",
        "\n",
        "# .idxmax(): Finds the index (borough code) of the maximum happiness score.\n",
        "\n",
        "# .loc[...]: Retrieves the entire row for that borough.\n"
      ]
    },
    {
      "cell_type": "markdown",
      "metadata": {
        "id": "o1yL_t6_z-yf"
      },
      "source": [
        "<a id=\"merging\"></a>\n",
        "##   Merging Data\n",
        "\n",
        "Pandas has several different options to combine or merge data. The [documentation](https://pandas.pydata.org/pandas-docs/stable/user_guide/merging.html) has lots of examples."
      ]
    },
    {
      "cell_type": "markdown",
      "metadata": {
        "id": "oc7WORB7z-yf"
      },
      "source": [
        "Let's create two new Dataframes to explore this: `cities` and `cities2`"
      ]
    },
    {
      "cell_type": "code",
      "execution_count": 31,
      "metadata": {
        "id": "MmTWPWEiz-yf"
      },
      "outputs": [],
      "source": [
        "data = {'city':       ['London','Manchester','Birmingham','Leeds','Glasgow'],\n",
        "        'population': [9787426,  2553379,     2440986,    1777934,1209143],\n",
        "        'area':       [1737.9,   630.3,       598.9,      487.8,  368.5 ]}\n",
        "cities = pd.DataFrame(data)\n",
        "data2 = {'city':       ['Liverpool','Southampton'],\n",
        "        'population': [864122,  855569],\n",
        "        'area':       [199.6,   192.0]}\n",
        "cities2 = pd.DataFrame(data2)\n"
      ]
    },
    {
      "cell_type": "code",
      "execution_count": 32,
      "metadata": {
        "id": "lwKvMRfsz-yf"
      },
      "outputs": [],
      "source": [
        "data = {'city': ['London','Manchester','Birmingham','Leeds','Glasgow'],\n",
        "        'density': [5630,4051,4076,3645,3390]}\n",
        "cities3 = pd.DataFrame(data)"
      ]
    },
    {
      "cell_type": "code",
      "execution_count": 33,
      "metadata": {},
      "outputs": [
        {
          "data": {
            "text/html": [
              "<div>\n",
              "<style scoped>\n",
              "    .dataframe tbody tr th:only-of-type {\n",
              "        vertical-align: middle;\n",
              "    }\n",
              "\n",
              "    .dataframe tbody tr th {\n",
              "        vertical-align: top;\n",
              "    }\n",
              "\n",
              "    .dataframe thead th {\n",
              "        text-align: right;\n",
              "    }\n",
              "</style>\n",
              "<table border=\"1\" class=\"dataframe\">\n",
              "  <thead>\n",
              "    <tr style=\"text-align: right;\">\n",
              "      <th></th>\n",
              "      <th>city</th>\n",
              "      <th>population</th>\n",
              "      <th>area</th>\n",
              "    </tr>\n",
              "  </thead>\n",
              "  <tbody>\n",
              "    <tr>\n",
              "      <th>0</th>\n",
              "      <td>London</td>\n",
              "      <td>9787426</td>\n",
              "      <td>1737.9</td>\n",
              "    </tr>\n",
              "    <tr>\n",
              "      <th>1</th>\n",
              "      <td>Manchester</td>\n",
              "      <td>2553379</td>\n",
              "      <td>630.3</td>\n",
              "    </tr>\n",
              "    <tr>\n",
              "      <th>2</th>\n",
              "      <td>Birmingham</td>\n",
              "      <td>2440986</td>\n",
              "      <td>598.9</td>\n",
              "    </tr>\n",
              "    <tr>\n",
              "      <th>3</th>\n",
              "      <td>Leeds</td>\n",
              "      <td>1777934</td>\n",
              "      <td>487.8</td>\n",
              "    </tr>\n",
              "    <tr>\n",
              "      <th>4</th>\n",
              "      <td>Glasgow</td>\n",
              "      <td>1209143</td>\n",
              "      <td>368.5</td>\n",
              "    </tr>\n",
              "  </tbody>\n",
              "</table>\n",
              "</div>"
            ],
            "text/plain": [
              "         city  population    area\n",
              "0      London     9787426  1737.9\n",
              "1  Manchester     2553379   630.3\n",
              "2  Birmingham     2440986   598.9\n",
              "3       Leeds     1777934   487.8\n",
              "4     Glasgow     1209143   368.5"
            ]
          },
          "execution_count": 33,
          "metadata": {},
          "output_type": "execute_result"
        }
      ],
      "source": [
        "cities"
      ]
    },
    {
      "cell_type": "code",
      "execution_count": 34,
      "metadata": {},
      "outputs": [
        {
          "data": {
            "text/html": [
              "<div>\n",
              "<style scoped>\n",
              "    .dataframe tbody tr th:only-of-type {\n",
              "        vertical-align: middle;\n",
              "    }\n",
              "\n",
              "    .dataframe tbody tr th {\n",
              "        vertical-align: top;\n",
              "    }\n",
              "\n",
              "    .dataframe thead th {\n",
              "        text-align: right;\n",
              "    }\n",
              "</style>\n",
              "<table border=\"1\" class=\"dataframe\">\n",
              "  <thead>\n",
              "    <tr style=\"text-align: right;\">\n",
              "      <th></th>\n",
              "      <th>city</th>\n",
              "      <th>population</th>\n",
              "      <th>area</th>\n",
              "    </tr>\n",
              "  </thead>\n",
              "  <tbody>\n",
              "    <tr>\n",
              "      <th>0</th>\n",
              "      <td>Liverpool</td>\n",
              "      <td>864122</td>\n",
              "      <td>199.6</td>\n",
              "    </tr>\n",
              "    <tr>\n",
              "      <th>1</th>\n",
              "      <td>Southampton</td>\n",
              "      <td>855569</td>\n",
              "      <td>192.0</td>\n",
              "    </tr>\n",
              "  </tbody>\n",
              "</table>\n",
              "</div>"
            ],
            "text/plain": [
              "          city  population   area\n",
              "0    Liverpool      864122  199.6\n",
              "1  Southampton      855569  192.0"
            ]
          },
          "execution_count": 34,
          "metadata": {},
          "output_type": "execute_result"
        }
      ],
      "source": [
        "cities2"
      ]
    },
    {
      "cell_type": "code",
      "execution_count": 35,
      "metadata": {
        "colab": {
          "base_uri": "https://localhost:8080/",
          "height": 206
        },
        "id": "jwarI3GZz-yf",
        "outputId": "53f500cd-0529-413a-fb62-ed75b6b006bd"
      },
      "outputs": [
        {
          "data": {
            "text/html": [
              "<div>\n",
              "<style scoped>\n",
              "    .dataframe tbody tr th:only-of-type {\n",
              "        vertical-align: middle;\n",
              "    }\n",
              "\n",
              "    .dataframe tbody tr th {\n",
              "        vertical-align: top;\n",
              "    }\n",
              "\n",
              "    .dataframe thead th {\n",
              "        text-align: right;\n",
              "    }\n",
              "</style>\n",
              "<table border=\"1\" class=\"dataframe\">\n",
              "  <thead>\n",
              "    <tr style=\"text-align: right;\">\n",
              "      <th></th>\n",
              "      <th>city</th>\n",
              "      <th>density</th>\n",
              "    </tr>\n",
              "  </thead>\n",
              "  <tbody>\n",
              "    <tr>\n",
              "      <th>0</th>\n",
              "      <td>London</td>\n",
              "      <td>5630</td>\n",
              "    </tr>\n",
              "    <tr>\n",
              "      <th>1</th>\n",
              "      <td>Manchester</td>\n",
              "      <td>4051</td>\n",
              "    </tr>\n",
              "    <tr>\n",
              "      <th>2</th>\n",
              "      <td>Birmingham</td>\n",
              "      <td>4076</td>\n",
              "    </tr>\n",
              "    <tr>\n",
              "      <th>3</th>\n",
              "      <td>Leeds</td>\n",
              "      <td>3645</td>\n",
              "    </tr>\n",
              "    <tr>\n",
              "      <th>4</th>\n",
              "      <td>Glasgow</td>\n",
              "      <td>3390</td>\n",
              "    </tr>\n",
              "  </tbody>\n",
              "</table>\n",
              "</div>"
            ],
            "text/plain": [
              "         city  density\n",
              "0      London     5630\n",
              "1  Manchester     4051\n",
              "2  Birmingham     4076\n",
              "3       Leeds     3645\n",
              "4     Glasgow     3390"
            ]
          },
          "execution_count": 35,
          "metadata": {},
          "output_type": "execute_result"
        }
      ],
      "source": [
        "cities3"
      ]
    },
    {
      "cell_type": "markdown",
      "metadata": {
        "id": "SKSCc3Toz-yf"
      },
      "source": [
        "An extra column can be added with `.merge()` with an outer join using the city names:"
      ]
    },
    {
      "cell_type": "code",
      "execution_count": 36,
      "metadata": {
        "colab": {
          "base_uri": "https://localhost:8080/",
          "height": 206
        },
        "id": "CfKho4V_z-yf",
        "outputId": "468097f3-2ebf-4ed5-966a-c371fc33eba2"
      },
      "outputs": [
        {
          "data": {
            "text/html": [
              "<div>\n",
              "<style scoped>\n",
              "    .dataframe tbody tr th:only-of-type {\n",
              "        vertical-align: middle;\n",
              "    }\n",
              "\n",
              "    .dataframe tbody tr th {\n",
              "        vertical-align: top;\n",
              "    }\n",
              "\n",
              "    .dataframe thead th {\n",
              "        text-align: right;\n",
              "    }\n",
              "</style>\n",
              "<table border=\"1\" class=\"dataframe\">\n",
              "  <thead>\n",
              "    <tr style=\"text-align: right;\">\n",
              "      <th></th>\n",
              "      <th>city</th>\n",
              "      <th>population</th>\n",
              "      <th>area</th>\n",
              "      <th>density</th>\n",
              "    </tr>\n",
              "  </thead>\n",
              "  <tbody>\n",
              "    <tr>\n",
              "      <th>0</th>\n",
              "      <td>Birmingham</td>\n",
              "      <td>2440986</td>\n",
              "      <td>598.9</td>\n",
              "      <td>4076</td>\n",
              "    </tr>\n",
              "    <tr>\n",
              "      <th>1</th>\n",
              "      <td>Glasgow</td>\n",
              "      <td>1209143</td>\n",
              "      <td>368.5</td>\n",
              "      <td>3390</td>\n",
              "    </tr>\n",
              "    <tr>\n",
              "      <th>2</th>\n",
              "      <td>Leeds</td>\n",
              "      <td>1777934</td>\n",
              "      <td>487.8</td>\n",
              "      <td>3645</td>\n",
              "    </tr>\n",
              "    <tr>\n",
              "      <th>3</th>\n",
              "      <td>London</td>\n",
              "      <td>9787426</td>\n",
              "      <td>1737.9</td>\n",
              "      <td>5630</td>\n",
              "    </tr>\n",
              "    <tr>\n",
              "      <th>4</th>\n",
              "      <td>Manchester</td>\n",
              "      <td>2553379</td>\n",
              "      <td>630.3</td>\n",
              "      <td>4051</td>\n",
              "    </tr>\n",
              "  </tbody>\n",
              "</table>\n",
              "</div>"
            ],
            "text/plain": [
              "         city  population    area  density\n",
              "0  Birmingham     2440986   598.9     4076\n",
              "1     Glasgow     1209143   368.5     3390\n",
              "2       Leeds     1777934   487.8     3645\n",
              "3      London     9787426  1737.9     5630\n",
              "4  Manchester     2553379   630.3     4051"
            ]
          },
          "execution_count": 36,
          "metadata": {},
          "output_type": "execute_result"
        }
      ],
      "source": [
        "cities = pd.merge(cities, cities3, how='outer', sort=True,on='city')\n",
        "cities"
      ]
    },
    {
      "cell_type": "markdown",
      "metadata": {
        "id": "v7ge-eS1R-m4"
      },
      "source": [
        "**Question-9:**\n",
        "\n",
        "Which city has the highest population density, and how does it compare to the average population density of all the cities in the dataset? Interpret your result.\n",
        "\n",
        "use the formula to calculate the population density:\n",
        "`population density =\n",
        "population / area`\n"
      ]
    },
    {
      "cell_type": "code",
      "execution_count": 37,
      "metadata": {},
      "outputs": [
        {
          "name": "stdout",
          "output_type": "stream",
          "text": [
            "Highest Population Density: London\n",
            "Average Population Density: 4158.4\n"
          ]
        }
      ],
      "source": [
        "maxpopdensidx = cities[\"density\"].idxmax()\n",
        "print(\"Highest Population Density:\", cities.loc[maxpopdensidx][\"city\"])\n",
        "print(\"Average Population Density:\", cities[\"density\"].mean())\n"
      ]
    },
    {
      "cell_type": "markdown",
      "metadata": {
        "id": "7WMwlUw2z-yf"
      },
      "source": [
        "<a id=\"grouping\"></a>\n",
        "## Grouping Data - Explanation and Steps to help complete the tasks that follow\n",
        "\n",
        "Grouping data is a quick way to calculate values for classes in your DataFrame."
      ]
    },
    {
      "cell_type": "code",
      "execution_count": 38,
      "metadata": {
        "id": "VzA2zAMWVBgn"
      },
      "outputs": [],
      "source": [
        "# Add a 'region' column to the 'cities' DataFrame\n",
        "cities['region'] = ['London', 'North West', 'West Midlands', 'Yorkshire and the Humber', 'Scotland']\n",
        "\n",
        "\n",
        "# Group by 'region' and calculate total population for each region\n",
        "grouped_by_region = cities.groupby('region')['population'].sum()\n"
      ]
    },
    {
      "cell_type": "code",
      "execution_count": 39,
      "metadata": {
        "colab": {
          "base_uri": "https://localhost:8080/",
          "height": 206
        },
        "id": "UedUqNnSVFSG",
        "outputId": "78c5e7b2-759e-4547-8549-f3748af69385"
      },
      "outputs": [
        {
          "data": {
            "text/html": [
              "<div>\n",
              "<style scoped>\n",
              "    .dataframe tbody tr th:only-of-type {\n",
              "        vertical-align: middle;\n",
              "    }\n",
              "\n",
              "    .dataframe tbody tr th {\n",
              "        vertical-align: top;\n",
              "    }\n",
              "\n",
              "    .dataframe thead th {\n",
              "        text-align: right;\n",
              "    }\n",
              "</style>\n",
              "<table border=\"1\" class=\"dataframe\">\n",
              "  <thead>\n",
              "    <tr style=\"text-align: right;\">\n",
              "      <th></th>\n",
              "      <th>city</th>\n",
              "      <th>population</th>\n",
              "      <th>area</th>\n",
              "      <th>density</th>\n",
              "      <th>region</th>\n",
              "    </tr>\n",
              "  </thead>\n",
              "  <tbody>\n",
              "    <tr>\n",
              "      <th>0</th>\n",
              "      <td>Birmingham</td>\n",
              "      <td>2440986</td>\n",
              "      <td>598.9</td>\n",
              "      <td>4076</td>\n",
              "      <td>London</td>\n",
              "    </tr>\n",
              "    <tr>\n",
              "      <th>1</th>\n",
              "      <td>Glasgow</td>\n",
              "      <td>1209143</td>\n",
              "      <td>368.5</td>\n",
              "      <td>3390</td>\n",
              "      <td>North West</td>\n",
              "    </tr>\n",
              "    <tr>\n",
              "      <th>2</th>\n",
              "      <td>Leeds</td>\n",
              "      <td>1777934</td>\n",
              "      <td>487.8</td>\n",
              "      <td>3645</td>\n",
              "      <td>West Midlands</td>\n",
              "    </tr>\n",
              "    <tr>\n",
              "      <th>3</th>\n",
              "      <td>London</td>\n",
              "      <td>9787426</td>\n",
              "      <td>1737.9</td>\n",
              "      <td>5630</td>\n",
              "      <td>Yorkshire and the Humber</td>\n",
              "    </tr>\n",
              "    <tr>\n",
              "      <th>4</th>\n",
              "      <td>Manchester</td>\n",
              "      <td>2553379</td>\n",
              "      <td>630.3</td>\n",
              "      <td>4051</td>\n",
              "      <td>Scotland</td>\n",
              "    </tr>\n",
              "  </tbody>\n",
              "</table>\n",
              "</div>"
            ],
            "text/plain": [
              "         city  population    area  density                    region\n",
              "0  Birmingham     2440986   598.9     4076                    London\n",
              "1     Glasgow     1209143   368.5     3390                North West\n",
              "2       Leeds     1777934   487.8     3645             West Midlands\n",
              "3      London     9787426  1737.9     5630  Yorkshire and the Humber\n",
              "4  Manchester     2553379   630.3     4051                  Scotland"
            ]
          },
          "execution_count": 39,
          "metadata": {},
          "output_type": "execute_result"
        }
      ],
      "source": [
        "cities"
      ]
    },
    {
      "cell_type": "markdown",
      "metadata": {
        "id": "xUOeuSDAStY3"
      },
      "source": [
        "**Question-10:**\n",
        "Determine which region has the highest total population. Additionally, rank the cities within each region by population in descending order. How does this ranking help in understanding population distribution across different regions?\"\n"
      ]
    },
    {
      "cell_type": "code",
      "execution_count": 40,
      "metadata": {},
      "outputs": [
        {
          "name": "stdout",
          "output_type": "stream",
          "text": [
            "Highest total population region: Yorkshire and the Humber\n",
            "         city  population    area  density                    region\n",
            "0  Birmingham     2440986   598.9     4076                    London\n",
            "1     Glasgow     1209143   368.5     3390                North West\n",
            "4  Manchester     2553379   630.3     4051                  Scotland\n",
            "2       Leeds     1777934   487.8     3645             West Midlands\n",
            "3      London     9787426  1737.9     5630  Yorkshire and the Humber\n"
          ]
        }
      ],
      "source": [
        "print(\"Highest total population region:\", cities.loc[cities[\"population\"].idxmax()][\"region\"])\n",
        "print(cities.sort_values(by=[\"region\", \"population\"], ascending=[True, False]))"
      ]
    },
    {
      "cell_type": "markdown",
      "metadata": {
        "id": "G_6j5I7Ez-yg"
      },
      "source": [
        "<a id=\"visualise\"></a>\n",
        "##  Visualising Data\n",
        "\n",
        "Pandas uses [`Matplotlib`](https://matplotlib.org/users/index.html) as the default for visualisations.\n",
        "\n",
        "Import the package and also add the magic line starting with `%` to output the charts within the notebook:\n",
        "\n",
        "Use the following code as reference - it is suggested to first go over these examples and then answer the questions that follow"
      ]
    },
    {
      "cell_type": "code",
      "execution_count": 41,
      "metadata": {
        "id": "JHyl5U8rz-yg"
      },
      "outputs": [],
      "source": [
        "import matplotlib.pyplot as plt\n",
        "\n",
        "%matplotlib inline"
      ]
    },
    {
      "cell_type": "code",
      "execution_count": 42,
      "metadata": {
        "id": "A5jAwBddz-yg"
      },
      "outputs": [],
      "source": [
        "boroughs = boroughs.reset_index()"
      ]
    },
    {
      "cell_type": "markdown",
      "metadata": {
        "id": "EhWpB6G5z-yg"
      },
      "source": [
        "The default plot is a line chart that uses the index for the x-axis:"
      ]
    },
    {
      "cell_type": "code",
      "execution_count": 43,
      "metadata": {
        "colab": {
          "base_uri": "https://localhost:8080/",
          "height": 430
        },
        "id": "MZaIjMNyz-yg",
        "outputId": "71c6fa95-4516-470f-abf0-4257d87a7db8"
      },
      "outputs": [
        {
          "data": {
            "image/png": "[encoded data removed]",
            "text/plain": [
              "<Figure size 640x480 with 1 Axes>"
            ]
          },
          "metadata": {},
          "output_type": "display_data"
        }
      ],
      "source": [
        "boroughs['Employment rate (%)'].plot();"
      ]
    },
    {
      "cell_type": "markdown",
      "metadata": {
        "id": "mGfWYGnaz-yg"
      },
      "source": [
        "To create a plot that makes more sense for this data have a look at the [documentation](https://pandas.pydata.org/pandas-docs/stable/user_guide/visualization.html) for all options.\n",
        "\n",
        "For the above example, a histogram might work better. You can change the number of `bins` to get the desired output:"
      ]
    },
    {
      "cell_type": "code",
      "execution_count": 44,
      "metadata": {
        "colab": {
          "base_uri": "https://localhost:8080/",
          "height": 430
        },
        "id": "qmAXhCz7z-yg",
        "outputId": "396484be-e6e4-4ee6-9aa7-642ec7e5da28"
      },
      "outputs": [
        {
          "data": {
            "image/png": "[encoded data removed]",
            "text/plain": [
              "<Figure size 640x480 with 1 Axes>"
            ]
          },
          "metadata": {},
          "output_type": "display_data"
        }
      ],
      "source": [
        "boroughs['Employment rate (%)'].plot.hist(bins=10);"
      ]
    },
    {
      "cell_type": "markdown",
      "metadata": {
        "id": "BtQrE5Kkz-yg"
      },
      "source": [
        "Change the size of the histogram with the `figsize` option:"
      ]
    },
    {
      "cell_type": "code",
      "execution_count": 45,
      "metadata": {
        "colab": {
          "base_uri": "https://localhost:8080/",
          "height": 445
        },
        "id": "_kgLDrJgz-yg",
        "outputId": "fd185d72-5ae2-4cbc-c0f0-15797a67119a"
      },
      "outputs": [
        {
          "data": {
            "image/png": "[encoded data removed]",
            "text/plain": [
              "<Figure size 1000x500 with 1 Axes>"
            ]
          },
          "metadata": {},
          "output_type": "display_data"
        }
      ],
      "source": [
        "boroughs['Employment rate (%)'].plot.hist(bins=15,figsize=(10,5));"
      ]
    },
    {
      "cell_type": "markdown",
      "metadata": {
        "id": "XScoaMjYz-yg"
      },
      "source": [
        "Within the plot command you can select the data directly. The below histogram shows the Employment rate for Outer London only:"
      ]
    },
    {
      "cell_type": "code",
      "execution_count": 46,
      "metadata": {
        "colab": {
          "base_uri": "https://localhost:8080/",
          "height": 445
        },
        "id": "Ia2w5oiRz-yg",
        "outputId": "c58e8c2a-b9bb-4417-a8f4-81cc7026f2f5"
      },
      "outputs": [
        {
          "data": {
            "image/png": "[encoded data removed]",
            "text/plain": [
              "<Figure size 1000x500 with 1 Axes>"
            ]
          },
          "metadata": {},
          "output_type": "display_data"
        }
      ],
      "source": [
        "boroughs['Employment rate (%)'][boroughs['Inner/Outer']=='Outer London'].plot.hist(bins=15,figsize=(10,5));"
      ]
    },
    {
      "cell_type": "markdown",
      "metadata": {
        "id": "UCLLzA_5z-yh"
      },
      "source": [
        "To add the Employment rate for Inner London, repeat the plot command with a different selection of the data:"
      ]
    },
    {
      "cell_type": "code",
      "execution_count": 47,
      "metadata": {
        "colab": {
          "base_uri": "https://localhost:8080/",
          "height": 445
        },
        "id": "IO0aD2mqz-yh",
        "outputId": "41374b4b-68a4-4f1e-96a3-0bea90fdac06"
      },
      "outputs": [
        {
          "data": {
            "image/png": "[encoded data removed]",
            "text/plain": [
              "<Figure size 1000x500 with 1 Axes>"
            ]
          },
          "metadata": {},
          "output_type": "display_data"
        }
      ],
      "source": [
        "boroughs['Employment rate (%)'][boroughs['Inner/Outer']=='Outer London'].plot.hist(bins=15,figsize=(10,5));\n",
        "boroughs['Employment rate (%)'][boroughs['Inner/Outer']=='Inner London'].plot.hist(bins=15,figsize=(10,5));"
      ]
    },
    {
      "cell_type": "markdown",
      "metadata": {
        "id": "E0G3tyk_z-yh"
      },
      "source": [
        "The above plot is difficult to read as the histograms have overlapped. You can fix this by changing the colours and making them transparant.\n",
        "    \n",
        "To add a legend each histogram needs to be assigned to an object `ax`. With `legend()` you can then add a legend. With `plt.xlabel()` you can also add a label for the x-axis (this works similar for the y-axis):"
      ]
    },
    {
      "cell_type": "code",
      "execution_count": 48,
      "metadata": {
        "colab": {
          "base_uri": "https://localhost:8080/",
          "height": 465
        },
        "id": "0y3TmYmgz-yh",
        "outputId": "5bf79bee-b47f-4cb7-b027-d94ae809850d"
      },
      "outputs": [
        {
          "data": {
            "image/png": "[encoded data removed]",
            "text/plain": [
              "<Figure size 1000x500 with 1 Axes>"
            ]
          },
          "metadata": {},
          "output_type": "display_data"
        }
      ],
      "source": [
        "ax = boroughs['Employment rate (%)'][boroughs['Inner/Outer']=='Outer London'].plot.hist(\n",
        "    bins=15,figsize=(10,5),alpha=0.5,color='#1A4D3B');\n",
        "ax = boroughs['Employment rate (%)'][boroughs['Inner/Outer']=='Inner London'].plot.hist(\n",
        "    bins=15,figsize=(10,5),alpha=0.5,color='#4D1A39');\n",
        "ax.legend(['Outer London','Inner London'])\n",
        "plt.xlabel('Employment rate (%)');"
      ]
    },
    {
      "cell_type": "markdown",
      "metadata": {
        "id": "XyUxXWC7z-yh"
      },
      "source": [
        "There are various options available to change every aspect of your chart. Below are some examples to get you started.\n",
        "        \n"
      ]
    },
    {
      "cell_type": "code",
      "execution_count": 49,
      "metadata": {
        "colab": {
          "base_uri": "https://localhost:8080/",
          "height": 457
        },
        "id": "V5wvjqa2z-yh",
        "outputId": "8f08d460-f8ed-4b92-f415-84316577661f"
      },
      "outputs": [
        {
          "data": {
            "image/png": "[encoded data removed]",
            "text/plain": [
              "<Figure size 640x480 with 1 Axes>"
            ]
          },
          "metadata": {},
          "output_type": "display_data"
        }
      ],
      "source": [
        "boroughs['Population density (/ha)'].plot.hist(\n",
        "    bins=15,\n",
        "    title=\"Population Density (/ha)\",\n",
        "    legend=False,\n",
        "    fontsize=14,\n",
        "    grid=False,\n",
        "    linestyle='--',\n",
        "    edgecolor='black',\n",
        "    color='darkred',\n",
        "    linewidth=3);"
      ]
    },
    {
      "cell_type": "markdown",
      "metadata": {
        "id": "8sJBTNSLz-yh"
      },
      "source": [
        "## Seaborn\n",
        "\n",
        "Seaborn is a Python data visualization library based on matplotlib. It is an easy to use visualisation package that works well with Pandas DataFrames.\n",
        "\n",
        "Below are a few examples using Seaborn.\n",
        "\n",
        "Refer to this [documentation](https://seaborn.pydata.org/index.html) for information on lots of plots you can create."
      ]
    },
    {
      "cell_type": "code",
      "execution_count": 50,
      "metadata": {
        "id": "L1BXIxi8z-yh"
      },
      "outputs": [],
      "source": [
        "import seaborn as sns"
      ]
    },
    {
      "cell_type": "markdown",
      "metadata": {
        "id": "uzM3B60Iz-yh"
      },
      "source": [
        "Let's look at a distribution plot using `distplot`, which shows a distribution of the data.\n",
        "\n",
        "Use the `dropna()` function to remove rows and columns with Null/NaN values:"
      ]
    },
    {
      "cell_type": "code",
      "execution_count": 51,
      "metadata": {
        "colab": {
          "base_uri": "https://localhost:8080/",
          "height": 645
        },
        "id": "AV2Sakl7z-yh",
        "outputId": "d335d988-3a55-4637-929f-abb6881dadcf"
      },
      "outputs": [
        {
          "name": "stderr",
          "output_type": "stream",
          "text": [
            "/tmp/ipykernel_71633/2662100469.py:1: UserWarning: \n",
            "\n",
            "`distplot` is a deprecated function and will be removed in seaborn v0.14.0.\n",
            "\n",
            "Please adapt your code to use either `displot` (a figure-level function with\n",
            "similar flexibility) or `histplot` (an axes-level function for histograms).\n",
            "\n",
            "For a guide to updating your code to use the new functions, please see\n",
            "https://gist.github.com/mwaskom/de44147ed2974457ad6372750bbe5751\n",
            "\n",
            "  sns.distplot(boroughs['Population density (/ha)'].dropna());\n"
          ]
        },
        {
          "data": {
            "image/png": "[encoded data removed]",
            "text/plain": [
              "<Figure size 640x480 with 1 Axes>"
            ]
          },
          "metadata": {},
          "output_type": "display_data"
        }
      ],
      "source": [
        "sns.distplot(boroughs['Population density (/ha)'].dropna());"
      ]
    },
    {
      "cell_type": "markdown",
      "metadata": {
        "id": "w0Np27w3z-yh"
      },
      "source": [
        "<You can create categorical plots with `catplot`. There are categorical scatter plots, distribution plots and estimate plots. The `kind` parameter selects the function to use, for instance box, violin, swarm ,bar, stripplot and boxen.\n",
        "    \n",
        "The default representation in catplot() uses a scatter plot:"
      ]
    },
    {
      "cell_type": "code",
      "execution_count": 52,
      "metadata": {
        "colab": {
          "base_uri": "https://localhost:8080/",
          "height": 506
        },
        "id": "c0vxK_FLz-yh",
        "outputId": "0f2cf5d2-e3b7-4c68-ef0e-17fb13425053"
      },
      "outputs": [
        {
          "data": {
            "image/png": "[encoded data removed]",
            "text/plain": [
              "<Figure size 511.111x500 with 1 Axes>"
            ]
          },
          "metadata": {},
          "output_type": "display_data"
        }
      ],
      "source": [
        "sns.catplot(x='Turnout at local elections', y='Political control', data=boroughs);"
      ]
    },
    {
      "cell_type": "markdown",
      "metadata": {
        "id": "IMJ63yGSz-yh"
      },
      "source": [
        "Also try `kind=\"swarm\"`, `kind=\"box\"` or `kind=\"violin\"`:"
      ]
    },
    {
      "cell_type": "code",
      "execution_count": 53,
      "metadata": {
        "colab": {
          "base_uri": "https://localhost:8080/",
          "height": 506
        },
        "id": "vmyD4A1Dz-yh",
        "outputId": "4c47119c-8859-419e-f5d3-b315a9b1c537"
      },
      "outputs": [
        {
          "data": {
            "image/png": "[encoded data removed]",
            "text/plain": [
              "<Figure size 511.111x500 with 1 Axes>"
            ]
          },
          "metadata": {},
          "output_type": "display_data"
        }
      ],
      "source": [
        "sns.catplot(x='Median House Price', y='Name', kind='swarm', data=boroughs);"
      ]
    },
    {
      "cell_type": "code",
      "execution_count": 54,
      "metadata": {
        "colab": {
          "base_uri": "https://localhost:8080/",
          "height": 507
        },
        "id": "Kp8EBnEhz-yi",
        "outputId": "1fb77fbc-0c55-452e-bcae-dc914b294546"
      },
      "outputs": [
        {
          "data": {
            "image/png": "[encoded data removed]",
            "text/plain": [
              "<Figure size 511.111x500 with 1 Axes>"
            ]
          },
          "metadata": {},
          "output_type": "display_data"
        }
      ],
      "source": [
        "sns.catplot(x='Employment rate (%)', y='Largest migrant population', kind=\"box\", data=boroughs);"
      ]
    },
    {
      "cell_type": "code",
      "execution_count": 55,
      "metadata": {
        "colab": {
          "base_uri": "https://localhost:8080/",
          "height": 506
        },
        "id": "Xe2XDCH5z-yi",
        "outputId": "9fb25308-2a35-4551-8217-be4d55e538fb"
      },
      "outputs": [
        {
          "data": {
            "image/png": "[encoded data removed]",
            "text/plain": [
              "<Figure size 511.111x500 with 1 Axes>"
            ]
          },
          "metadata": {},
          "output_type": "display_data"
        }
      ],
      "source": [
        "sns.catplot(x='Turnout at local elections', y='Political control', kind=\"violin\", data=boroughs);"
      ]
    },
    {
      "cell_type": "markdown",
      "metadata": {
        "id": "ow21ZUEkz-yi"
      },
      "source": [
        "\n",
        "\n",
        "**Q11: Create two histograms that compare the Gross Annual pay for Male and Female Employees using `.plot.hist()`**\n",
        "\n",
        "* To add two histograms to one plot you can repeat `.plot()` in the same cell\n",
        "* Add a legend by assiging each histogram to an object `ax`, which is used to create a legend"
      ]
    },
    {
      "cell_type": "code",
      "execution_count": 56,
      "metadata": {
        "colab": {
          "base_uri": "https://localhost:8080/",
          "height": 487
        },
        "id": "foBqHofI_7cw",
        "outputId": "4e14b89a-4944-400e-8ffd-cc0715abeb34"
      },
      "outputs": [
        {
          "data": {
            "image/png": "[encoded data removed]",
            "text/plain": [
              "<Figure size 1000x500 with 1 Axes>"
            ]
          },
          "metadata": {},
          "output_type": "display_data"
        }
      ],
      "source": [
        "import matplotlib.pyplot as plt\n",
        "\n",
        "# Create the first histogram for Male Gross Pay\n",
        "ax = boroughs['Gross Pay (Male)'].plot.hist(bins=15, figsize=(10, 5), alpha=0.5, color='blue')\n",
        "\n",
        "# Create the second histogram for Female Gross Pay on the same plot\n",
        "ax = boroughs['Gross Pay (Female)'].plot.hist(bins=15, figsize=(10, 5), alpha=0.5, color='red')\n",
        "\n",
        "# Add a legend to differentiate the histograms\n",
        "ax.legend(['Male Gross Pay', 'Female Gross Pay'])\n",
        "\n",
        "# Add a title and labels for clarity\n",
        "plt.title('Comparison of Gross Annual Pay for Male and Female Employees')\n",
        "plt.xlabel('Gross Annual Pay')\n",
        "plt.ylabel('Frequency')\n",
        "\n",
        "# Display the plot\n",
        "plt.show()"
      ]
    },
    {
      "cell_type": "markdown",
      "metadata": {
        "id": "IVPdxc0Kz-yi"
      },
      "source": [
        "**Q12:Create a bar plot comparing the median house prices for different boroughs**\n",
        "\n",
        "* To customise the size of your maps, use the example of `[fig, ax]`, which customises the figsize for each map in other examples above"
      ]
    },
    {
      "cell_type": "code",
      "execution_count": 60,
      "metadata": {},
      "outputs": [
        {
          "data": {
            "image/png": "[encoded data removed]",
            "text/plain": [
              "<Figure size 1400x600 with 1 Axes>"
            ]
          },
          "metadata": {},
          "output_type": "display_data"
        }
      ],
      "source": [
        "\n",
        "# Create figure and axis objects with a custom size\n",
        "fig, ax = plt.subplots(figsize=(14, 6))  # You can adjust the size as needed\n",
        "\n",
        "# Create the bar plot\n",
        "ax.bar(boroughs[\"Name\"], boroughs[\"Median House Price\"], width=0.5)\n",
        "\n",
        "# Set titles and labels\n",
        "ax.set_title(\"Median House Prices in London\")\n",
        "ax.set_xlabel(\"Boroughs\")\n",
        "ax.set_ylabel(\"Median House Price\")\n",
        "\n",
        "# Rotate x-axis labels for better readability\n",
        "plt.xticks(rotation=90)\n",
        "\n",
        "# Show the plot\n",
        "plt.tight_layout()\n",
        "plt.show()\n"
      ]
    },
    {
      "cell_type": "markdown",
      "metadata": {
        "id": "DHWXX-57M3Ya"
      },
      "source": [
        "**Q13: Considering the observed trends in the London Boroughs dataset, how do economic indicators like employment rate and median house price correlate with social factors like happiness and greenspace percentage in Inner London compared to Outer London?**\n",
        "\n",
        "\n",
        "\n",
        "-- Is there a significant difference in the correlation between employment rate and happiness score between Inner and Outer London boroughs?\n",
        "\n",
        "-- Does the percentage of greenspace have a stronger influence on median house prices in Inner London compared to Outer London?print Inner London Correlation and Outer London Correlation values. Explain your Interpretation.\n",
        "\n",
        "-- Are boroughs with higher employment rates in Inner London also associated with higher happiness scores despite potentially lower greenspace availability?\n"
      ]
    },
    {
      "cell_type": "code",
      "execution_count": 58,
      "metadata": {},
      "outputs": [
        {
          "name": "stdout",
          "output_type": "stream",
          "text": [
            "Inner Happy Corr: 0.4643234760911259\n",
            "outer_happy_corr 0.04995759854803414\n"
          ]
        }
      ],
      "source": [
        "inner = boroughs[boroughs[\"Inner/Outer\"] == \"Inner London\"]\n",
        "outer = boroughs[boroughs[\"Inner/Outer\"] == \"Outer London\"]\n",
        "\n",
        "inner_happy_corr = inner[\"Employment rate (%)\"].corr(inner[\"Happiness score\"])\n",
        "outer_happy_corr = outer[\"Employment rate (%)\"].corr(outer[\"Happiness score\"])\n",
        "print(\"Inner Happy Corr:\", inner_happy_corr)\n",
        "print(\"outer_happy_corr\", outer_happy_corr)\n"
      ]
    },
    {
      "cell_type": "markdown",
      "metadata": {},
      "source": [
        "There is a signficiant difference in correlation between the inner and outer London boroughs."
      ]
    },
    {
      "cell_type": "code",
      "execution_count": 59,
      "metadata": {},
      "outputs": [
        {
          "name": "stdout",
          "output_type": "stream",
          "text": [
            "inner_green_corr -0.09199414583591418\n",
            "outer_green_corr 0.0706610279982677\n"
          ]
        }
      ],
      "source": [
        "inner_green_corr = inner[\"Greenspace (%)\"].corr(inner[\"Median House Price\"])\n",
        "outer_green_corr = outer[\"Greenspace (%)\"].corr(outer[\"Median House Price\"])\n",
        "\n",
        "print(\"inner_green_corr\", inner_green_corr)\n",
        "print(\"outer_green_corr\", outer_green_corr)"
      ]
    },
    {
      "cell_type": "markdown",
      "metadata": {},
      "source": [
        "There is a low correlation between the greenspace and median house prices for both inner and outer London boroughs. \n",
        "\n",
        "As the greenspace % increases, the median house price decreases in the inner London boroughs.\n",
        "\n",
        "As the greenspace % increases, the median house price increases in the outer London boroughs."
      ]
    }
  ],
  "metadata": {
    "colab": {
      "provenance": []
    },
    "kernelspec": {
      "display_name": "Python 3",
      "language": "python",
      "name": "python3"
    },
    "language_info": {
      "codemirror_mode": {
        "name": "ipython",
        "version": 3
      },
      "file_extension": ".py",
      "mimetype": "text/x-python",
      "name": "python",
      "nbconvert_exporter": "python",
      "pygments_lexer": "ipython3",
      "version": "3.10.12"
    }
  },
  "nbformat": 4,
  "nbformat_minor": 0
}
