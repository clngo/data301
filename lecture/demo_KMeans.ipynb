{
  "cells": [
    {
      "cell_type": "markdown",
      "metadata": {
        "id": "tzVH67bCfbzr"
      },
      "source": [
        "**kmeans.fit(X)**\n",
        "-- Fits the KMeans model to the data X.\n",
        "\n",
        "\n",
        "-- Computes cluster centers (centroids).\n",
        "\n",
        "-- Assigns each point to a cluster internally, but does not return the cluster labels.\n",
        "\n",
        "-- Output: Nothing (returns the model itself with fitted parameters).\n",
        "\n",
        "-- To get labels: Use `kmeans.labels_` after fitting.\n",
        "\n",
        "**kmeans.fit_predict(X)**\n",
        "\n",
        "-- Combines fitting and predicting.\n",
        "\n",
        "-- Additionally, returns the predicted cluster labels for each point in X.\n",
        "\n",
        "-- Output: An array of cluster labels."
      ]
    },
    {
      "cell_type": "code",
      "execution_count": 1,
      "metadata": {
        "colab": {
          "base_uri": "https://localhost:8080/",
          "height": 161
        },
        "id": "JYDaFPcX3kzM",
        "outputId": "fa5dd392-bb5c-41a9-dcb2-17686ccb0e36"
      },
      "outputs": [
        {
          "data": {
            "text/html": [
              "<div>\n",
              "<style scoped>\n",
              "    .dataframe tbody tr th:only-of-type {\n",
              "        vertical-align: middle;\n",
              "    }\n",
              "\n",
              "    .dataframe tbody tr th {\n",
              "        vertical-align: top;\n",
              "    }\n",
              "\n",
              "    .dataframe thead th {\n",
              "        text-align: right;\n",
              "    }\n",
              "</style>\n",
              "<table border=\"1\" class=\"dataframe\">\n",
              "  <thead>\n",
              "    <tr style=\"text-align: right;\">\n",
              "      <th></th>\n",
              "      <th>Cluster</th>\n",
              "      <th>Mapped Label</th>\n",
              "      <th>Used for</th>\n",
              "    </tr>\n",
              "  </thead>\n",
              "  <tbody>\n",
              "    <tr>\n",
              "      <th>0</th>\n",
              "      <td>0</td>\n",
              "      <td>0</td>\n",
              "      <td>Train → for mapping</td>\n",
              "    </tr>\n",
              "    <tr>\n",
              "      <th>1</th>\n",
              "      <td>1</td>\n",
              "      <td>1</td>\n",
              "      <td>Train → for mapping</td>\n",
              "    </tr>\n",
              "    <tr>\n",
              "      <th>2</th>\n",
              "      <td>2</td>\n",
              "      <td>2</td>\n",
              "      <td>Train → for mapping</td>\n",
              "    </tr>\n",
              "  </tbody>\n",
              "</table>\n",
              "</div>"
            ],
            "text/plain": [
              "   Cluster  Mapped Label             Used for\n",
              "0        0             0  Train → for mapping\n",
              "1        1             1  Train → for mapping\n",
              "2        2             2  Train → for mapping"
            ]
          },
          "metadata": {},
          "output_type": "display_data"
        },
        {
          "name": "stdout",
          "output_type": "stream",
          "text": [
            "Test Accuracy: 0.9629629629629629\n"
          ]
        }
      ],
      "source": [
        "from sklearn.model_selection import train_test_split\n",
        "from sklearn.datasets import make_blobs # Import make_blobs\n",
        "from sklearn.cluster import KMeans # Import KMeans\n",
        "from scipy.stats import mode # Import mode\n",
        "from sklearn.metrics import accuracy_score # Import accuracy_score\n",
        "import pandas as pd # Import pandas\n",
        "import numpy as np # Import numpy\n",
        "\n",
        "\n",
        "# Small toy dataset with 3 true classes\n",
        "X, y_true = make_blobs(n_samples=90, centers=3, cluster_std=0.70, random_state=0)\n",
        "\n",
        "# Split into train and test sets\n",
        "X_train, X_test, y_train, y_test = train_test_split(X, y_true, test_size=0.3, random_state=42)\n",
        "\n",
        "# Fit KMeans on the training data\n",
        "kmeans = KMeans(n_clusters=3, random_state=42)\n",
        "y_train_pred = kmeans.fit_predict(X_train)\n",
        "\n",
        "# Build mapping from predicted cluster → true label (on training set)\n",
        "def get_cluster_label_mapping(y_true_train, y_pred_train):\n",
        "    mapping = {}\n",
        "    for cluster in np.unique(y_pred_train):\n",
        "        mask = (y_pred_train == cluster)\n",
        "        mapped_label = mode(y_true_train[mask], keepdims=True).mode[0]\n",
        "        mapping[cluster] = mapped_label\n",
        "    return mapping\n",
        "\n",
        "cluster_to_label = get_cluster_label_mapping(y_train, y_train_pred)\n",
        "\n",
        "# Predict on test data and apply mapping\n",
        "y_test_pred_clusters = kmeans.predict(X_test)\n",
        "y_test_pred_labels = np.array([cluster_to_label[cluster] for cluster in y_test_pred_clusters])\n",
        "\n",
        "# Evaluate accuracy on the test set\n",
        "test_accuracy = accuracy_score(y_test, y_test_pred_labels)\n",
        "\n",
        "# Show mapping and result\n",
        "results_df = pd.DataFrame({\n",
        "    \"Cluster\": list(cluster_to_label.keys()),\n",
        "    \"Mapped Label\": list(cluster_to_label.values())\n",
        "})\n",
        "results_df[\"Used for\"] = \"Train → for mapping\"\n",
        "\n",
        "display(results_df)\n",
        "\n",
        "# Print the test accuracy\n",
        "print(f\"Test Accuracy: {test_accuracy}\")\n"
      ]
    },
    {
      "cell_type": "code",
      "execution_count": 2,
      "metadata": {
        "colab": {
          "base_uri": "https://localhost:8080/",
          "height": 175
        },
        "id": "yltvXCJb4clI",
        "outputId": "41e7d7fe-c1b6-4f87-d9b7-26340e269ef2"
      },
      "outputs": [
        {
          "data": {
            "text/html": [
              "<div>\n",
              "<style scoped>\n",
              "    .dataframe tbody tr th:only-of-type {\n",
              "        vertical-align: middle;\n",
              "    }\n",
              "\n",
              "    .dataframe tbody tr th {\n",
              "        vertical-align: top;\n",
              "    }\n",
              "\n",
              "    .dataframe thead th {\n",
              "        text-align: right;\n",
              "    }\n",
              "</style>\n",
              "<table border=\"1\" class=\"dataframe\">\n",
              "  <thead>\n",
              "    <tr style=\"text-align: right;\">\n",
              "      <th>True Label</th>\n",
              "      <th>0</th>\n",
              "      <th>1</th>\n",
              "      <th>2</th>\n",
              "    </tr>\n",
              "    <tr>\n",
              "      <th>Cluster</th>\n",
              "      <th></th>\n",
              "      <th></th>\n",
              "      <th></th>\n",
              "    </tr>\n",
              "  </thead>\n",
              "  <tbody>\n",
              "    <tr>\n",
              "      <th>0</th>\n",
              "      <td>20</td>\n",
              "      <td>0</td>\n",
              "      <td>0</td>\n",
              "    </tr>\n",
              "    <tr>\n",
              "      <th>1</th>\n",
              "      <td>1</td>\n",
              "      <td>20</td>\n",
              "      <td>0</td>\n",
              "    </tr>\n",
              "    <tr>\n",
              "      <th>2</th>\n",
              "      <td>0</td>\n",
              "      <td>0</td>\n",
              "      <td>22</td>\n",
              "    </tr>\n",
              "  </tbody>\n",
              "</table>\n",
              "</div>"
            ],
            "text/plain": [
              "True Label   0   1   2\n",
              "Cluster               \n",
              "0           20   0   0\n",
              "1            1  20   0\n",
              "2            0   0  22"
            ]
          },
          "metadata": {},
          "output_type": "display_data"
        }
      ],
      "source": [
        "# Show which true labels were assigned to each cluster in training data\n",
        "from collections import Counter\n",
        "\n",
        "# For each cluster in training data, show the distribution of true labels\n",
        "cluster_label_distribution = {}\n",
        "for cluster in np.unique(y_train_pred):\n",
        "    mask = (y_train_pred == cluster)\n",
        "    true_labels_in_cluster = y_train[mask]\n",
        "    label_counts = dict(Counter(true_labels_in_cluster))\n",
        "    cluster_label_distribution[cluster] = label_counts\n",
        "\n",
        "# Convert to DataFrame for display\n",
        "dist_df = pd.DataFrame.from_dict(cluster_label_distribution, orient='index').fillna(0).astype(int)\n",
        "dist_df.index.name = 'Cluster'\n",
        "dist_df.columns.name = 'True Label'\n",
        "\n",
        "display(dist_df)  # Use display from IPython.display\n",
        "\n"
      ]
    },
    {
      "cell_type": "markdown",
      "metadata": {
        "id": "JcwlK6FZ4ref"
      },
      "source": [
        "Cluster 2 was mapped to label 0 because, during training, all the data points in Cluster 2 had true label 0 (21 out of 21 points). This majority voting approach ensures each cluster gets assigned the most representative label."
      ]
    },
    {
      "cell_type": "code",
      "execution_count": 3,
      "metadata": {
        "colab": {
          "base_uri": "https://localhost:8080/",
          "height": 407
        },
        "id": "A9uus6t34L_x",
        "outputId": "c2e18781-0a50-4a7b-bea1-514255a19c48"
      },
      "outputs": [
        {
          "data": {
            "image/png": "[encoded data removed]",
            "text/plain": [
              "<Figure size 1000x400 with 2 Axes>"
            ]
          },
          "metadata": {},
          "output_type": "display_data"
        }
      ],
      "source": [
        "import matplotlib.pyplot as plt\n",
        "\n",
        "# Plot training data with true labels\n",
        "plt.figure(figsize=(10, 4))\n",
        "\n",
        "# Plot 1: Training data with true labels\n",
        "plt.subplot(1, 2, 1)\n",
        "plt.scatter(X_train[:, 0], X_train[:, 1], c=y_train, cmap='viridis', edgecolor='k', s=50)\n",
        "plt.title(\"Training Data (True Labels)\")\n",
        "plt.xlabel(\"Feature 1\")\n",
        "plt.ylabel(\"Feature 2\")\n",
        "\n",
        "# Plot 2: Training data with predicted clusters\n",
        "plt.subplot(1, 2, 2)\n",
        "plt.scatter(X_train[:, 0], X_train[:, 1], c=y_train_pred, cmap='tab10', edgecolor='k', s=50)\n",
        "plt.title(\"Training Data (KMeans Clusters)\")\n",
        "plt.xlabel(\"Feature 1\")\n",
        "plt.ylabel(\"Feature 2\")\n",
        "\n",
        "plt.tight_layout()\n",
        "plt.show()\n"
      ]
    },
    {
      "cell_type": "code",
      "execution_count": 5,
      "metadata": {
        "id": "x1qUV5QmAR3Y"
      },
      "outputs": [
        {
          "name": "stdout",
          "output_type": "stream",
          "text": [
            "Adjusted Rand Index (ARI): 0.9532\n"
          ]
        },
        {
          "ename": "NameError",
          "evalue": "name 'nmi' is not defined",
          "output_type": "error",
          "traceback": [
            "\u001b[0;31m---------------------------------------------------------------------------\u001b[0m",
            "\u001b[0;31mNameError\u001b[0m                                 Traceback (most recent call last)",
            "Cell \u001b[0;32mIn[5], line 9\u001b[0m\n\u001b[1;32m      7\u001b[0m \u001b[38;5;66;03m# Step 4: Print results\u001b[39;00m\n\u001b[1;32m      8\u001b[0m \u001b[38;5;28mprint\u001b[39m(\u001b[38;5;124mf\u001b[39m\u001b[38;5;124m\"\u001b[39m\u001b[38;5;124mAdjusted Rand Index (ARI): \u001b[39m\u001b[38;5;132;01m{\u001b[39;00mari\u001b[38;5;132;01m:\u001b[39;00m\u001b[38;5;124m.4f\u001b[39m\u001b[38;5;132;01m}\u001b[39;00m\u001b[38;5;124m\"\u001b[39m)\n\u001b[0;32m----> 9\u001b[0m \u001b[38;5;28mprint\u001b[39m(\u001b[38;5;124mf\u001b[39m\u001b[38;5;124m\"\u001b[39m\u001b[38;5;124mNormalized Mutual Information (NMI): \u001b[39m\u001b[38;5;132;01m{\u001b[39;00m\u001b[43mnmi\u001b[49m\u001b[38;5;132;01m:\u001b[39;00m\u001b[38;5;124m.4f\u001b[39m\u001b[38;5;132;01m}\u001b[39;00m\u001b[38;5;124m\"\u001b[39m)\n\u001b[1;32m     10\u001b[0m \u001b[38;5;28mprint\u001b[39m(\u001b[38;5;124mf\u001b[39m\u001b[38;5;124m\"\u001b[39m\u001b[38;5;124mSilhouette Score: \u001b[39m\u001b[38;5;132;01m{\u001b[39;00msil_score\u001b[38;5;132;01m:\u001b[39;00m\u001b[38;5;124m.4f\u001b[39m\u001b[38;5;132;01m}\u001b[39;00m\u001b[38;5;124m\"\u001b[39m)\n",
            "\u001b[0;31mNameError\u001b[0m: name 'nmi' is not defined"
          ]
        }
      ],
      "source": [
        "# Step 3: Evaluate clustering performance\n",
        "import sklearn\n",
        "ari = sklearn.metrics.adjusted_rand_score(y_train, y_train_pred)\n",
        "\n",
        "sil_score = sklearn.metrics.silhouette_score(X_train, y_train_pred)\n",
        "\n",
        "# Step 4: Print results\n",
        "print(f\"Adjusted Rand Index (ARI): {ari:.4f}\")\n",
        "print(f\"Normalized Mutual Information (NMI): {nmi:.4f}\")\n",
        "print(f\"Silhouette Score: {sil_score:.4f}\")"
      ]
    },
    {
      "cell_type": "markdown",
      "metadata": {
        "id": "sUzVJQuV87Mv"
      },
      "source": [
        "# code example using 2 true labels and 4 KMeans clusters"
      ]
    },
    {
      "cell_type": "code",
      "execution_count": 6,
      "metadata": {
        "colab": {
          "base_uri": "https://localhost:8080/"
        },
        "id": "lqfaiYmO89wZ",
        "outputId": "76fb7768-dea6-4a1f-a872-ea6ab1a462e3"
      },
      "outputs": [
        {
          "name": "stdout",
          "output_type": "stream",
          "text": [
            "                                Metric     Score\n",
            "0             Accuracy (after mapping)  1.000000\n",
            "1            Adjusted Rand Index (ARI)  0.706999\n",
            "2  Normalized Mutual Information (NMI)  0.743133\n",
            "True Label   1    0\n",
            "Cluster            \n",
            "0           12    0\n",
            "2           35    0\n",
            "3           53    0\n",
            "1            0  100\n"
          ]
        }
      ],
      "source": [
        "from sklearn.model_selection import train_test_split\n",
        "from sklearn.datasets import make_blobs # Import make_blobs\n",
        "from sklearn.cluster import KMeans # Import KMeans\n",
        "from scipy.stats import mode # Import mode\n",
        "from sklearn.metrics import accuracy_score # Import accuracy_score\n",
        "import pandas as pd # Import pandas\n",
        "import numpy as np # Import numpy\n",
        "#Import the adjusted_rand_score and normalized_mutual_info_score\n",
        "from sklearn.metrics import adjusted_rand_score, normalized_mutual_info_score\n",
        "\n",
        "# Generate toy data with 2 true classes\n",
        "X, y_true = make_blobs(n_samples=200, centers=2, cluster_std=1.0, random_state=42)\n",
        "\n",
        "# Apply KMeans with k = 4 clusters (overclustering)\n",
        "kmeans_over = KMeans(n_clusters=4, random_state=42)\n",
        "y_pred_clusters = kmeans_over.fit_predict(X)\n",
        "\n",
        "# Mapping each cluster to the most frequent true label\n",
        "def map_clusters_to_labels_overclustering(y_true, y_pred):\n",
        "    labels = np.zeros_like(y_pred)\n",
        "    for cluster in np.unique(y_pred):\n",
        "        mask = (y_pred == cluster)\n",
        "        labels[mask] = mode(y_true[mask], keepdims=True).mode[0]\n",
        "    return labels\n",
        "\n",
        "# Map and compute accuracy\n",
        "y_pred_mapped = map_clusters_to_labels_overclustering(y_true, y_pred_clusters)\n",
        "accuracy = accuracy_score(y_true, y_pred_mapped)\n",
        "ari = adjusted_rand_score(y_true, y_pred_clusters)\n",
        "nmi = normalized_mutual_info_score(y_true, y_pred_clusters)\n",
        "\n",
        "# Label distribution per cluster\n",
        "from collections import Counter\n",
        "cluster_label_distribution = {}\n",
        "for cluster in np.unique(y_pred_clusters):\n",
        "    mask = (y_pred_clusters == cluster)\n",
        "    true_labels = y_true[mask]\n",
        "    label_counts = dict(Counter(true_labels))\n",
        "    cluster_label_distribution[cluster] = label_counts\n",
        "\n",
        "# Prepare display tables\n",
        "distribution_df = pd.DataFrame.from_dict(cluster_label_distribution, orient='index').fillna(0).astype(int)\n",
        "distribution_df.index.name = 'Cluster'\n",
        "distribution_df.columns.name = 'True Label'\n",
        "\n",
        "results_df = pd.DataFrame({\n",
        "    \"Metric\": [\"Accuracy (after mapping)\", \"Adjusted Rand Index (ARI)\", \"Normalized Mutual Information (NMI)\"],\n",
        "    \"Score\": [accuracy, ari, nmi]\n",
        "})\n",
        "\n",
        "print(results_df)\n",
        "print(distribution_df)"
      ]
    },
    {
      "cell_type": "markdown",
      "metadata": {
        "id": "OXG5nWSr_CL4"
      },
      "source": [
        "True Label Distribution per Cluster – showing how each of the 4 clusters corresponds to the 2 true labels.\n",
        "\n",
        "Evaluation Metrics – even though mapped accuracy is 100%, more reliable indicators like ARI and NMI reflect the nuance due to overclustering."
      ]
    },
    {
      "cell_type": "markdown",
      "metadata": {
        "id": "UaoRpsgK_J7S"
      },
      "source": [
        "**Why is Adjusted Rand Index (ARI) low even when Accuracy = 1.0?**\n",
        "\n",
        "Adjusted Rand Index (ARI) compares the agreement between two clusterings (true vs predicted) without remapping labels and corrects for chance.\n",
        "\n",
        "It penalizes:\n",
        "\n",
        "Overclustering: When k > number of true classes, multiple clusters may correspond to the same class — and ARI will consider this as fragmentation.\n",
        "\n",
        "Label mismatch: It doesn’t just reward matching labels but checks pairwise similarity:\n",
        "\n",
        "For every pair of points, ARI checks whether they are:\n",
        "\n",
        "in the same cluster in both y_true and y_pred\n",
        "\n",
        "or in different clusters in both.\n",
        "\n",
        "*  ARI < 1:True labels: {0, 1}\n",
        "\n",
        "- Predicted clusters: {0, 1, 2, 3} (oversegmentation of actual classes)\n",
        "\n",
        "- ARI sees this as:\n",
        "\n",
        "-- Some points that should be in the same group (same true label) are now split into different clusters → false negatives\n",
        "\n",
        "-- Some points that shouldn’t be in the same group (different true labels) but end up in same cluster → false positives\n",
        "\n",
        "-- Even if remapping makes it look perfect, overclustering disturbs pairwise agreement, which ARI detects."
      ]
    },
    {
      "cell_type": "code",
      "execution_count": 7,
      "metadata": {
        "id": "FdxYBi3-_vbW"
      },
      "outputs": [
        {
          "name": "stdout",
          "output_type": "stream",
          "text": [
            "Adjusted Rand Index (ARI): 1.0000\n",
            "Silhouette Score: 0.6596\n"
          ]
        }
      ],
      "source": [
        "from sklearn.datasets import make_blobs\n",
        "from sklearn.cluster import KMeans\n",
        "from sklearn.metrics import adjusted_rand_score, normalized_mutual_info_score, silhouette_score\n",
        "\n",
        "# Step 1: Generate synthetic data\n",
        "X, y_true = make_blobs(n_samples=300, centers=3, cluster_std=0.60, random_state=0)\n",
        "\n",
        "# Step 2: Apply KMeans clustering\n",
        "kmeans = KMeans(n_clusters=3, random_state=0)\n",
        "y_pred = kmeans.fit_predict(X)\n",
        "\n",
        "# Step 3: Evaluate clustering performance\n",
        "ari = adjusted_rand_score(y_true, y_pred)\n",
        "nmi = normalized_mutual_info_score(y_true, y_pred)\n",
        "sil_score = silhouette_score(X, y_pred)\n",
        "\n",
        "# Step 4: Print results\n",
        "print(f\"Adjusted Rand Index (ARI): {ari:.4f}\")\n",
        "print(f\"Silhouette Score: {sil_score:.4f}\")\n"
      ]
    },
    {
      "cell_type": "markdown",
      "metadata": {
        "id": "vfO_i5JF__5x"
      },
      "source": [
        "#K fold CV\n",
        "\n",
        "We can’t do a train/test split in the usual way, but you can evaluate cluster consistency using:\n",
        "\n",
        "**Silhouette Score with K-Fold CV:**\n",
        "We split the dataset into folds and assess how well the clustering structure generalizes."
      ]
    },
    {
      "cell_type": "code",
      "execution_count": 8,
      "metadata": {
        "id": "ZX3MA1x4ABVx"
      },
      "outputs": [
        {
          "name": "stdout",
          "output_type": "stream",
          "text": [
            "Average Silhouette Score across folds: 0.6589\n"
          ]
        }
      ],
      "source": [
        "from sklearn.model_selection import KFold\n",
        "from sklearn.cluster import KMeans\n",
        "from sklearn.metrics import silhouette_score\n",
        "import numpy as np\n",
        "from sklearn.datasets import make_blobs\n",
        "\n",
        "# Create synthetic data (no y_true used here)\n",
        "X, _ = make_blobs(n_samples=300, centers=3, cluster_std=0.60, random_state=0)\n",
        "\n",
        "kf = KFold(n_splits=5, shuffle=True, random_state=42)\n",
        "sil_scores = []\n",
        "\n",
        "for train_idx, val_idx in kf.split(X):\n",
        "    X_train, X_val = X[train_idx], X[val_idx]\n",
        "    kmeans = KMeans(n_clusters=3, random_state=0)\n",
        "    kmeans.fit(X_train)\n",
        "\n",
        "    # Predict clusters for validation set using trained centroids\n",
        "    y_val_pred = kmeans.predict(X_val)\n",
        "\n",
        "    # Silhouette score only uses X and predicted labels\n",
        "    score = silhouette_score(X_val, y_val_pred)\n",
        "    sil_scores.append(score)\n",
        "\n",
        "print(f\"Average Silhouette Score across folds: {np.mean(sil_scores):.4f}\")\n"
      ]
    }
  ],
  "metadata": {
    "colab": {
      "provenance": []
    },
    "kernelspec": {
      "display_name": "Python 3",
      "name": "python3"
    },
    "language_info": {
      "codemirror_mode": {
        "name": "ipython",
        "version": 3
      },
      "file_extension": ".py",
      "mimetype": "text/x-python",
      "name": "python",
      "nbconvert_exporter": "python",
      "pygments_lexer": "ipython3",
      "version": "3.10.12"
    }
  },
  "nbformat": 4,
  "nbformat_minor": 0
}
