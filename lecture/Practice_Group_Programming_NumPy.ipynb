{
  "cells": [
    {
      "cell_type": "markdown",
      "metadata": {
        "id": "Air5SQ1sNOMH"
      },
      "source": [
        "# In Class Practice Session on Introduction to NumPy Arrays: Creation, Operations, and Performance Comparison: Pair-Wise Group Programming\n",
        "\n",
        "## Submission Due: April 9\n",
        "\n",
        "Each group of two members should solve the following questions.  \n",
        "\n",
        "**Incentive:**\n",
        "\n",
        "The group who solves these questions first will each receive a small reward!\n",
        "\n",
        "Reference material: Kindly refer to the Reading materials to complete this task:\n",
        "\n",
        "-- `ReadingMaterial_Computation_on_arrays_ufuncs.ipynb`\n",
        "\n",
        "-- `ReadingMaterial_Ufunctions_Broadcasting.ipynb`\n",
        "\n",
        "-- `ReadingMaterials_DateTimeFunctions.ipynb`\n",
        "\n",
        "-- `Lec_Intro_NumPy.ipynb`\n",
        "\n",
        "-- Your own curiosity to search for information!"
      ]
    },
    {
      "cell_type": "markdown",
      "metadata": {
        "id": "v4IySIZyO2R7"
      },
      "source": []
    },
    {
      "cell_type": "code",
      "execution_count": 2,
      "metadata": {
        "id": "HJMFROTpOy_P"
      },
      "outputs": [],
      "source": [
        "import numpy as np"
      ]
    },
    {
      "cell_type": "markdown",
      "metadata": {
        "id": "ICCiXP0hOn86"
      },
      "source": [
        " **Array Creation and Attributes**"
      ]
    },
    {
      "cell_type": "markdown",
      "metadata": {
        "id": "lH4wg8PZhFU5"
      },
      "source": [
        " - **What function would you use to create an array with values ranging from 0 to 5 with a step of 0.5?Use: num_points = int((end - start) / step) + 1 to get the number of data points**"
      ]
    },
    {
      "cell_type": "code",
      "execution_count": 36,
      "metadata": {
        "id": "pEMRn9I7hGGq"
      },
      "outputs": [
        {
          "name": "stdout",
          "output_type": "stream",
          "text": [
            "[0.  0.5 1.  1.5 2.  2.5 3.  3.5 4.  4.5 5. ]\n"
          ]
        }
      ],
      "source": [
        "#write your code in this space\n",
        "x = np.linspace(0, 5, 11)\n",
        "print(x)"
      ]
    },
    {
      "cell_type": "markdown",
      "metadata": {
        "id": "sa_qFImLhNxO"
      },
      "source": [
        " **Array Indexing and Slicing**"
      ]
    },
    {
      "cell_type": "markdown",
      "metadata": {
        "id": "MXAr4xvuhZ_w"
      },
      "source": [
        "**How can you extract elements from an array that are greater than 6 using boolean indexing?**"
      ]
    },
    {
      "cell_type": "code",
      "execution_count": 40,
      "metadata": {
        "id": "ACw221u8hamh"
      },
      "outputs": [
        {
          "name": "stdout",
          "output_type": "stream",
          "text": [
            "[0 1 2 3 4 5 6 7 8 9]\n",
            "[7 8 9]\n"
          ]
        }
      ],
      "source": [
        "#write your code in this space\n",
        "x = np.arange(0, 10)\n",
        "print(x)\n",
        "mask = x > 6\n",
        "new = x[mask]\n",
        "print(new)"
      ]
    },
    {
      "cell_type": "markdown",
      "metadata": {
        "id": "V6SdKlqnhgk7"
      },
      "source": [
        " **If you want to slice the first two rows of a 2D array, what syntax would you use?**\n",
        "\n"
      ]
    },
    {
      "cell_type": "code",
      "execution_count": 47,
      "metadata": {
        "id": "6P3zNdZBhi79"
      },
      "outputs": [
        {
          "name": "stdout",
          "output_type": "stream",
          "text": [
            "[[0 1 2]\n",
            " [3 4 5]]\n"
          ]
        }
      ],
      "source": [
        "#write your code in this space\n",
        "x = np.array([[0, 1, 2], [3, 4, 5], [5, 6, 7]])\n",
        "print(x[0:2])"
      ]
    },
    {
      "cell_type": "markdown",
      "metadata": {
        "id": "mLYw44ILDMyS"
      },
      "source": [
        "**What is the purpose of `np.random.seed()`**\n",
        "\n",
        "Answer: When specifying a seed value, the same random sequence of generated numbers will be the same. This enables you to reproduce the same generated numbers.\n",
        "\n",
        "\n",
        "\n",
        "\n",
        "\n",
        "\n",
        "\n",
        "\n",
        "\n",
        "\n",
        "\n",
        "\n",
        "\n",
        "\n"
      ]
    },
    {
      "cell_type": "markdown",
      "metadata": {},
      "source": []
    },
    {
      "cell_type": "markdown",
      "metadata": {
        "id": "_wa9DwzCDSxI"
      },
      "source": [
        "\n",
        "**What does `dtype` tell you about a NumPy array?**\n",
        "\n",
        "\n",
        "\n",
        "\n",
        "\n",
        "\n",
        "\n",
        "\n"
      ]
    },
    {
      "cell_type": "markdown",
      "metadata": {},
      "source": [
        "Dtype is short for data type, which describes the data type of the elements in the array."
      ]
    },
    {
      "cell_type": "markdown",
      "metadata": {
        "id": "dLHOp3PDDbHz"
      },
      "source": [
        "**What is a ufunction and state one advantage of the utility of ufunctions**\n",
        "\n",
        "Answer: Universal Functionsare vectorized, allowing operations to the entire arrays without looping elements. This is incredibly much faster for performance and efficiency. "
      ]
    },
    {
      "cell_type": "markdown",
      "metadata": {
        "id": "W0E8rMUQDqVv"
      },
      "source": [
        "**What is meant by Braodcasting and where would you use it?**\n",
        "Answer: Ufuncs supports broadcasting, which performs operations on arrays of different shapes and sizes to automatically adjust to make their dimensions compatible for element-wise operations. For example, an arrary can have each of its elements multipled by a scalar as it broadcasts the operation"
      ]
    },
    {
      "cell_type": "markdown",
      "metadata": {
        "id": "bXZwcl_zhqDR"
      },
      "source": [
        "**Reshaping Arrays**"
      ]
    },
    {
      "cell_type": "markdown",
      "metadata": {
        "id": "GxmJCEXrhqrO"
      },
      "source": [
        "- **How would you reshape a 2x3 array into a 3x2 array?**"
      ]
    },
    {
      "cell_type": "code",
      "execution_count": null,
      "metadata": {
        "id": "Gy0BVejhhvBx"
      },
      "outputs": [],
      "source": [
        "#write your code in this space\n",
        "\n"
      ]
    },
    {
      "cell_type": "markdown",
      "metadata": {
        "id": "bNdaf0-nh9RY"
      },
      "source": [
        "**After reshaping an array, how can you modify one element in the new array without changing the original array?**"
      ]
    },
    {
      "cell_type": "code",
      "execution_count": null,
      "metadata": {
        "id": "ZXoBqHsUh9-D"
      },
      "outputs": [],
      "source": [
        "#write your code in this space\n",
        "\n",
        "\n"
      ]
    },
    {
      "cell_type": "markdown",
      "metadata": {
        "id": "XEyle58SiEUq"
      },
      "source": [
        "**Array Operations**"
      ]
    },
    {
      "cell_type": "markdown",
      "metadata": {
        "id": "eIWajpEhiE5z"
      },
      "source": [
        "- **Write the code to perform element-wise addition of two arrays `a = np.array([10, 20, 30])` and `b = np.array([1, 2, 3])`.**"
      ]
    },
    {
      "cell_type": "code",
      "execution_count": null,
      "metadata": {
        "id": "q7gfWrvSiJtY"
      },
      "outputs": [],
      "source": [
        "#write your code in this space\n",
        "\n",
        "\n",
        "\n"
      ]
    },
    {
      "cell_type": "markdown",
      "metadata": {
        "id": "bnVnLmG0iWAv"
      },
      "source": [
        " - **How would you perform matrix multiplication on two 2x2 matrices in NumPy?**"
      ]
    },
    {
      "cell_type": "code",
      "execution_count": null,
      "metadata": {
        "id": "_ImR9mhnieTs"
      },
      "outputs": [],
      "source": [
        "#write your code in this space\n",
        "\n",
        "\n"
      ]
    },
    {
      "cell_type": "markdown",
      "metadata": {
        "id": "9wI9kxxiiqgZ"
      },
      "source": [
        "- **How do you generate an array of random numbers with shape (2, 3) using NumPy?**"
      ]
    },
    {
      "cell_type": "code",
      "execution_count": null,
      "metadata": {
        "id": "YD7PrlCkiqJq"
      },
      "outputs": [],
      "source": [
        "#write your code in this space\n",
        "\n",
        "\n",
        "\n"
      ]
    },
    {
      "cell_type": "markdown",
      "metadata": {
        "id": "eu3n9afMizuR"
      },
      "source": [
        " **Array Aggregation Functions**\n",
        "   - **Write the code to find the sum, max, min, and mean of a 2D NumPy array.**\n",
        "     "
      ]
    },
    {
      "cell_type": "code",
      "execution_count": null,
      "metadata": {
        "id": "dOsXmjBOi6r0"
      },
      "outputs": [
        {
          "name": "stdout",
          "output_type": "stream",
          "text": [
            "[[0 7]\n",
            " [2 1]\n",
            " [7 1]\n",
            " [2 9]\n",
            " [1 2]]\n",
            "Sum:  32\n",
            "Mean:  3.2\n",
            "Min: 0\n",
            "Max: 9\n"
          ]
        }
      ],
      "source": [
        "#write your code in this space\n",
        "\n",
        "x = np.random.randint(0, 10, size=(5, 2))\n",
        "print(x)\n",
        "\n",
        "print(\"Sum: \", np.sum(x))\n",
        "print(\"Mean: \", np.mean(x))\n",
        "print(\"Min:\", np.min(x))\n",
        "print(\"Max:\", np.max(x))\n"
      ]
    },
    {
      "cell_type": "markdown",
      "metadata": {
        "id": "xZFAi5T9jDUX"
      },
      "source": [
        " - **How can you calculate the mean of each column of a 2D array?**"
      ]
    },
    {
      "cell_type": "code",
      "execution_count": 17,
      "metadata": {
        "id": "HJEXL_IAjEgy"
      },
      "outputs": [
        {
          "name": "stdout",
          "output_type": "stream",
          "text": [
            "[[0 7]\n",
            " [2 1]\n",
            " [7 1]\n",
            " [2 9]\n",
            " [1 2]]\n"
          ]
        },
        {
          "data": {
            "text/plain": [
              "array([2.4, 4. ])"
            ]
          },
          "execution_count": 17,
          "metadata": {},
          "output_type": "execute_result"
        }
      ],
      "source": [
        "#write your code in this space\n",
        "\n",
        "print(x)\n",
        "x.mean(axis=0)\n"
      ]
    },
    {
      "cell_type": "markdown",
      "metadata": {
        "id": "efKed0IwjLRw"
      },
      "source": [
        " - **What is the result of adding an integer array to a float array in NumPy? Create two arrays to show your result**"
      ]
    },
    {
      "cell_type": "code",
      "execution_count": null,
      "metadata": {
        "id": "o72y1ylOjmC2"
      },
      "outputs": [
        {
          "name": "stdout",
          "output_type": "stream",
          "text": [
            "[ 0.  5. 10. 15. 20.]\n",
            "[ 0  5 10 15 20]\n"
          ]
        },
        {
          "data": {
            "text/plain": [
              "array([ 0., 10., 20., 30., 40.])"
            ]
          },
          "execution_count": 23,
          "metadata": {},
          "output_type": "execute_result"
        }
      ],
      "source": [
        "#write your code in this space\n",
        "x = np.linspace(0, 20, 5)\n",
        "print(x)\n",
        "y = np.arange(0, 21, 5)\n",
        "print(y)\n",
        "\n",
        "x + y # both becomes float"
      ]
    },
    {
      "cell_type": "markdown",
      "metadata": {
        "id": "q5QHhPGs1MFh"
      },
      "source": [
        "**Array Creation with Specific Functions**\n",
        "\n",
        "- **Write the code to create the following array: array([0. , 0.5, 1. , 1.5, 2. , 2.5, 3. , 3.5, 4. , 4.5])**"
      ]
    },
    {
      "cell_type": "code",
      "execution_count": null,
      "metadata": {
        "id": "HZLSAJs_1Tsy"
      },
      "outputs": [],
      "source": [
        "#write your code in this space\n",
        "\n",
        "\n",
        "\n"
      ]
    },
    {
      "cell_type": "markdown",
      "metadata": {
        "id": "tYCefhRm1sRi"
      },
      "source": [
        "- **How do you create an array with values ranging from 10 (inclusive) to 50 (exclusive), with a step size of 2?**"
      ]
    },
    {
      "cell_type": "code",
      "execution_count": null,
      "metadata": {
        "id": "FUztHZgR1s1v"
      },
      "outputs": [],
      "source": [
        "#write your code in this space\n",
        "\n",
        "\n",
        "\n",
        "\n"
      ]
    },
    {
      "cell_type": "markdown",
      "metadata": {
        "id": "9T7Wf7v62kYr"
      },
      "source": [
        "**Compare the time performance of adding three 50x50 arrays using a Python loop versus using a NumPy universal function (ufunc) by leveraging Python's time module for measuring execution time.**"
      ]
    },
    {
      "cell_type": "code",
      "execution_count": null,
      "metadata": {
        "id": "d50A01Iv3VCf"
      },
      "outputs": [],
      "source": [
        "#write your code in this space\n",
        "\n",
        "\n",
        "\n",
        "\n",
        "\n",
        "\n",
        "\n",
        "\n",
        "\n",
        "\n",
        "\n",
        "\n",
        "\n",
        "\n",
        "\n",
        "\n",
        "\n",
        "\n",
        "\n",
        "\n",
        "\n",
        "\n",
        "\n",
        "\n",
        "\n"
      ]
    }
  ],
  "metadata": {
    "colab": {
      "provenance": []
    },
    "kernelspec": {
      "display_name": "Python 3",
      "name": "python3"
    },
    "language_info": {
      "codemirror_mode": {
        "name": "ipython",
        "version": 3
      },
      "file_extension": ".py",
      "mimetype": "text/x-python",
      "name": "python",
      "nbconvert_exporter": "python",
      "pygments_lexer": "ipython3",
      "version": "3.10.12"
    }
  },
  "nbformat": 4,
  "nbformat_minor": 0
}
