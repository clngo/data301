{
  "cells": [
    {
      "cell_type": "markdown",
      "metadata": {
        "id": "FbsdNL36qg-k"
      },
      "source": [
        "![](../docs/banner.png)"
      ]
    },
    {
      "cell_type": "markdown",
      "metadata": {
        "id": "OKDhJC4Zttl9"
      },
      "source": [
        "Book: Python Data Science Handbook:\n",
        "\n",
        "https://github.com/jakevdp/PythonDataScienceHandbook\n",
        "\n",
        "Chapter: 02.02-The-Basics-Of-NumPy-Arrays.ipynb"
      ]
    },
    {
      "cell_type": "markdown",
      "metadata": {
        "id": "toPUTLp-qg-l"
      },
      "source": [
        "# Chapter: Introduction to NumPy"
      ]
    },
    {
      "cell_type": "markdown",
      "metadata": {
        "id": "tynAFFQKdr0F"
      },
      "source": []
    },
    {
      "cell_type": "markdown",
      "metadata": {
        "id": "sBrbnWNgqg-l",
        "toc": true
      },
      "source": [
        "<h2>Chapter Outline<span class=\"tocSkip\"></span></h2>\n",
        "<hr>\n",
        "<div class=\"toc\"><ul class=\"toc-item\"><li><span><a href=\"#1.-Introduction-to-NumPy\" data-toc-modified-id=\"1.-Introduction-to-NumPy-1\">1. Introduction to NumPy</a></span></li><li><span><a href=\"#2.-NumPy-Arrays\" data-toc-modified-id=\"2.-NumPy-Arrays-2\">2. NumPy Arrays</a></span></li><li><span><a href=\"#3.-Array-Operations-and-Broadcasting\" data-toc-modified-id=\"3.-Array-Operations-and-Vectorization-3\">3. Array Operations and Broadcasting</a></span></li><li><span><a href=\"#4.-Indexing-and-slicing\" data-toc-modified-id=\"4.-Indexing-and-slicing-4\">4. Indexing and slicing</a></span></li><li><span><a href=\"#5.-More-Useful-NumPy-Functions\" data-toc-modified-id=\"5.-More-Useful-NumPy-Functions-5\">5. More Useful NumPy Functions</a></span></li></ul></div>"
      ]
    },
    {
      "cell_type": "markdown",
      "metadata": {
        "id": "EHV4xARCqg-m"
      },
      "source": [
        "## Chapter Learning Objectives\n",
        "<hr>"
      ]
    },
    {
      "cell_type": "markdown",
      "metadata": {
        "id": "wHZ_z821qg-m"
      },
      "source": [
        "- Use NumPy to create arrays with built-in functions inlcuding `np.array()`, `np.arange()`, `np.linspace()` and `np.full()`, `np.zeros()`, `np.ones()`\n",
        "- Be able to access values from a NumPy array by numeric indexing and slicing and boolean indexing\n",
        "- Perform mathematical operations on and with arrays.\n",
        "- Understand how to use built-in NumPy functions like `np.sum()`, `np.mean()`, `np.log()` as stand alone functions or as methods of numpy arrays."
      ]
    },
    {
      "cell_type": "markdown",
      "metadata": {
        "id": "tGW9NQ7gqg-m"
      },
      "source": [
        "## Introduction to NumPy\n",
        "\n",
        "NumPy stands for \"Numerical Python\" and it is the standard Python library used for working with arrays (i.e., vectors & matrices), linear algerba, and other numerical computations. NumPy is written in C, making NumPy arrays faster and more memory efficient than Python lists or arrays.\n",
        "\n",
        "NumPy can be installed using `conda` (if not already):\n",
        "\n",
        "```\n",
        "conda install numpy\n",
        "```\n",
        "\n",
        "*   NumPy is a Python package and it stands for numerical python\n",
        "\n",
        "*   It is a fundamental package for numerical computations in Python\n",
        "\n",
        "* Supports N-dimensional array objects that can be used for processing multidimensional data\n",
        "\n",
        "* NumPy array are by default Homogeneous, which means data inside an array must be of the same Datatype.\n",
        "\n",
        "* NumPy offers comprehensive mathematical functions, random number generators, linear algebra routines, Fourier transforms, and more.\n",
        "\n",
        "* Supports different data-types\n",
        "\n",
        "\n",
        "# Array\n",
        "\n",
        "Arrays are \"n-dimensional\" data structures that can contain all the basic Python data types, e.g., floats, integers, strings etc, but works best with numeric data.\n",
        "\n",
        "* An array is a data structure that stores values of same data type\n",
        "* Lists can contain values corresponding to different data types\n",
        "* Arrays in python can only contain values corresponding to same data type\n",
        "\n",
        "# NumPy Array\n",
        "\n",
        "* A numpy array is a grid of values, all of the same type, and is indexed by a tuple of non-negative integers\n",
        "\n",
        "* The number of dimensions is the rank of the array\n",
        "\n",
        "* The shape of an array is a tuple of integers giving the size of the array along each dimension\n",
        "\n",
        "* NumPy arrays (\"ndarrays\") are homogenous, which means that items in the array should be of the same type.  "
      ]
    },
    {
      "cell_type": "markdown",
      "metadata": {
        "id": "yYKSufvLqg-n"
      },
      "source": [
        "Usually we import numpy with the alias `np` (to avoid having to type out n-u-m-p-y every time we want to use it).\n",
        "\n",
        "Note: `import` is a keyword in Python  that means:\n",
        "\n",
        "\"Bring in code from somewhere else so I can use it here.\"\n",
        "\n",
        "More specifically:\n",
        "\n",
        "`import` allows you to reuse functionality (like functions, classes, constants) that someone else (or you) has written, without having to rewrite it yourself. You are telling Python to bring in the `numpy` library, and let me refer to it as `np` so I don’t have to type `numpy` every time.\""
      ]
    },
    {
      "cell_type": "code",
      "execution_count": 1,
      "metadata": {
        "id": "uu2TewiXqg-n"
      },
      "outputs": [],
      "source": [
        "import numpy as np"
      ]
    },
    {
      "cell_type": "markdown",
      "metadata": {
        "id": "ADhHemilqg-n"
      },
      "source": [
        "A numpy array is sort of like a list:"
      ]
    },
    {
      "cell_type": "code",
      "execution_count": 2,
      "metadata": {
        "colab": {
          "base_uri": "https://localhost:8080/"
        },
        "id": "IRz8eWBoqg-n",
        "outputId": "209f4344-e2dc-4bfe-ce26-fadfb8fe3d86"
      },
      "outputs": [
        {
          "data": {
            "text/plain": [
              "[11, 2, -3, 40, 77]"
            ]
          },
          "execution_count": 2,
          "metadata": {},
          "output_type": "execute_result"
        }
      ],
      "source": [
        "my_list = [11, 2, -3, 40, 77]\n",
        "my_list"
      ]
    },
    {
      "cell_type": "code",
      "execution_count": 3,
      "metadata": {
        "colab": {
          "base_uri": "https://localhost:8080/"
        },
        "id": "ss0twuc5qg-o",
        "outputId": "5b43bb3d-564b-476a-af0e-b9a02b45aece"
      },
      "outputs": [
        {
          "data": {
            "text/plain": [
              "array([1, 2, 3, 4, 5])"
            ]
          },
          "execution_count": 3,
          "metadata": {},
          "output_type": "execute_result"
        }
      ],
      "source": [
        "my_array = np.array([1, 2, 3, 4, 5])\n",
        "my_array"
      ]
    },
    {
      "cell_type": "markdown",
      "metadata": {
        "id": "kZ2fGn9Jqg-o"
      },
      "source": [
        "But it has the type `ndarray`:"
      ]
    },
    {
      "cell_type": "code",
      "execution_count": 4,
      "metadata": {
        "colab": {
          "base_uri": "https://localhost:8080/"
        },
        "id": "jD5XpPBKqg-o",
        "outputId": "65d57ca4-1a7c-4859-ea68-5e8497426e06"
      },
      "outputs": [
        {
          "data": {
            "text/plain": [
              "numpy.ndarray"
            ]
          },
          "execution_count": 4,
          "metadata": {},
          "output_type": "execute_result"
        }
      ],
      "source": [
        "type(my_array)"
      ]
    },
    {
      "cell_type": "markdown",
      "metadata": {
        "id": "gKafWRIHqg-o"
      },
      "source": [
        "Unlike a list, arrays can only hold a single type (usually numbers):"
      ]
    },
    {
      "cell_type": "code",
      "execution_count": 5,
      "metadata": {
        "colab": {
          "base_uri": "https://localhost:8080/"
        },
        "id": "7GAVH5rHqg-o",
        "outputId": "5bf7cc78-c71e-4d65-a3a5-159e40e35b23"
      },
      "outputs": [
        {
          "data": {
            "text/plain": [
              "[1, 'hi']"
            ]
          },
          "execution_count": 5,
          "metadata": {},
          "output_type": "execute_result"
        }
      ],
      "source": [
        "my_list = [1, \"hi\"]\n",
        "my_list"
      ]
    },
    {
      "cell_type": "code",
      "execution_count": 6,
      "metadata": {
        "colab": {
          "base_uri": "https://localhost:8080/"
        },
        "id": "JcBdaLnCmIva",
        "outputId": "4066e76a-94a6-4e4b-c9ae-6ca767ea6afa"
      },
      "outputs": [
        {
          "data": {
            "text/plain": [
              "array(['1', 'hi'], dtype='<U21')"
            ]
          },
          "execution_count": 6,
          "metadata": {},
          "output_type": "execute_result"
        }
      ],
      "source": [
        "my_array = np.array((1, \"hi\"))\n",
        "my_array"
      ]
    },
    {
      "cell_type": "code",
      "execution_count": 7,
      "metadata": {
        "id": "4jS-A7apmaOq"
      },
      "outputs": [
        {
          "data": {
            "text/plain": [
              "array(['1', 'hi'], dtype='<U21')"
            ]
          },
          "execution_count": 7,
          "metadata": {},
          "output_type": "execute_result"
        }
      ],
      "source": [
        "my_array = np.array([1, \"hi\"])\n",
        "my_array  #you can use either square brackets or curved brackets when creating a NumPy array"
      ]
    },
    {
      "cell_type": "markdown",
      "metadata": {
        "id": "fNwdSiXYqg-p"
      },
      "source": [
        "Above: NumPy converted the integer `1` into the string `'1'`!"
      ]
    },
    {
      "cell_type": "code",
      "execution_count": 8,
      "metadata": {
        "colab": {
          "base_uri": "https://localhost:8080/"
        },
        "id": "p27_ITqombCt",
        "outputId": "90ea0484-f502-4f67-ff62-90775bbb4c4f"
      },
      "outputs": [
        {
          "data": {
            "text/plain": [
              "array([ 1. ,  2.9,  3. ,  4. , -5. ])"
            ]
          },
          "execution_count": 8,
          "metadata": {},
          "output_type": "execute_result"
        }
      ],
      "source": [
        "my_array = np.array([1, 2.9, 3, 4, -5])\n",
        "my_array #all numbers are converted to float"
      ]
    },
    {
      "cell_type": "markdown",
      "metadata": {
        "id": "0EEor0Orqg-p"
      },
      "source": [
        "### Summary\n",
        "\n",
        "ndarrays are typically created using two main methods:\n",
        "1. From existing data (usually lists or tuples) using `np.array()`, like we saw above; or,\n",
        "2. Using built-in functions such as `np.arange()`, `np.linspace()`, `np.zeros()`, etc."
      ]
    },
    {
      "cell_type": "markdown",
      "metadata": {
        "id": "oy9gIwDsnX2v"
      },
      "source": [
        "### Creating multi-dimensional arrays"
      ]
    },
    {
      "cell_type": "code",
      "execution_count": 9,
      "metadata": {
        "colab": {
          "base_uri": "https://localhost:8080/"
        },
        "id": "9MkK2QA4qg-p",
        "outputId": "96477333-693b-44e1-b046-e22629de0bcc"
      },
      "outputs": [
        {
          "data": {
            "text/plain": [
              "array([1, 2, 3])"
            ]
          },
          "execution_count": 9,
          "metadata": {},
          "output_type": "execute_result"
        }
      ],
      "source": [
        "my_list = [1, 2, 3]\n",
        "np.array(my_list)"
      ]
    },
    {
      "cell_type": "markdown",
      "metadata": {
        "id": "8-8biKb3qg-p"
      },
      "source": [
        "Just like you can have \"multi-dimensional lists\" (by nesting lists in lists), you can have multi-dimensional arrays (indicated by double square brackets `[[ ]]`):"
      ]
    },
    {
      "cell_type": "code",
      "execution_count": 10,
      "metadata": {
        "colab": {
          "base_uri": "https://localhost:8080/"
        },
        "id": "APRnPQ7qqg-p",
        "outputId": "c231b9b3-dcb2-4d79-af1f-20fbbb7d36f9"
      },
      "outputs": [
        {
          "data": {
            "text/plain": [
              "[[1, 2], [3, 4], [5, 6]]"
            ]
          },
          "execution_count": 10,
          "metadata": {},
          "output_type": "execute_result"
        }
      ],
      "source": [
        "list_2d = [[1, 2], [3, 4], [5, 6]]\n",
        "list_2d"
      ]
    },
    {
      "cell_type": "code",
      "execution_count": 11,
      "metadata": {
        "colab": {
          "base_uri": "https://localhost:8080/"
        },
        "id": "rUBy6kKZqg-p",
        "outputId": "9e363d53-412d-424c-f3ca-ea65d5063fe2"
      },
      "outputs": [
        {
          "data": {
            "text/plain": [
              "array([[1, 2],\n",
              "       [3, 4],\n",
              "       [5, 6]])"
            ]
          },
          "execution_count": 11,
          "metadata": {},
          "output_type": "execute_result"
        }
      ],
      "source": [
        "array_2d = np.array(list_2d)\n",
        "array_2d"
      ]
    },
    {
      "cell_type": "code",
      "execution_count": 12,
      "metadata": {
        "id": "k_bMuPHCnk1X"
      },
      "outputs": [],
      "source": [
        "list_2d_mix = [[1, 2], [3.1, 4.5], [5, 6]]"
      ]
    },
    {
      "cell_type": "code",
      "execution_count": 13,
      "metadata": {
        "colab": {
          "base_uri": "https://localhost:8080/"
        },
        "id": "lDOg3tslno2L",
        "outputId": "106f319c-9956-4d49-b81e-4b68e74132b7"
      },
      "outputs": [
        {
          "data": {
            "text/plain": [
              "array([[1. , 2. ],\n",
              "       [3.1, 4.5],\n",
              "       [5. , 6. ]])"
            ]
          },
          "execution_count": 13,
          "metadata": {},
          "output_type": "execute_result"
        }
      ],
      "source": [
        "array_2d_mix = np.array(list_2d_mix)\n",
        "array_2d_mix"
      ]
    },
    {
      "cell_type": "markdown",
      "metadata": {
        "id": "c9MvRh02qg-p"
      },
      "source": [
        "You'll probably use the built-in numpy array creators quite often. Here are some common ones (hint - don't forget to check the docstrings for help with these functions, if you're in Jupyter, remeber the `shift + tab` shortcut):"
      ]
    },
    {
      "cell_type": "code",
      "execution_count": 14,
      "metadata": {
        "colab": {
          "base_uri": "https://localhost:8080/"
        },
        "id": "2_0dbLGHqg-p",
        "outputId": "222ed1bb-9155-454a-d4dd-d0b62e3bd71c"
      },
      "outputs": [
        {
          "data": {
            "text/plain": [
              "array([1, 2, 3, 4])"
            ]
          },
          "execution_count": 14,
          "metadata": {},
          "output_type": "execute_result"
        }
      ],
      "source": [
        "np.arange(1, 5)  # from 1 inclusive to 5 exclusive"
      ]
    },
    {
      "cell_type": "code",
      "execution_count": 15,
      "metadata": {
        "colab": {
          "base_uri": "https://localhost:8080/"
        },
        "id": "Ag2gglZWqg-p",
        "outputId": "cfa4eaea-f211-4609-c45e-075b1b05f567"
      },
      "outputs": [
        {
          "data": {
            "text/plain": [
              "array([ 0,  2,  4,  6,  8, 10])"
            ]
          },
          "execution_count": 15,
          "metadata": {},
          "output_type": "execute_result"
        }
      ],
      "source": [
        "np.arange(0, 11, 2)  # step by 2 from 0 to 10"
      ]
    },
    {
      "cell_type": "code",
      "execution_count": 16,
      "metadata": {
        "colab": {
          "base_uri": "https://localhost:8080/"
        },
        "id": "ucWx00dSqg-p",
        "outputId": "4debdb01-d033-4d04-ec03-6c3d2221edf3"
      },
      "outputs": [
        {
          "data": {
            "text/plain": [
              "array([ 0. ,  2.5,  5. ,  7.5, 10. ])"
            ]
          },
          "execution_count": 16,
          "metadata": {},
          "output_type": "execute_result"
        }
      ],
      "source": [
        "np.linspace(0, 10, 5)  # 5 equally spaced points between 0 and 10"
      ]
    },
    {
      "cell_type": "code",
      "execution_count": 17,
      "metadata": {
        "colab": {
          "base_uri": "https://localhost:8080/"
        },
        "id": "t039rkLmqg-q",
        "outputId": "84856622-6fac-47a2-df96-269784772b7f"
      },
      "outputs": [
        {
          "data": {
            "text/plain": [
              "array([[1., 1.],\n",
              "       [1., 1.]])"
            ]
          },
          "execution_count": 17,
          "metadata": {},
          "output_type": "execute_result"
        }
      ],
      "source": [
        "np.ones((2, 2))  # an array of ones with size 2 x 2"
      ]
    },
    {
      "cell_type": "code",
      "execution_count": 18,
      "metadata": {
        "colab": {
          "base_uri": "https://localhost:8080/"
        },
        "id": "yxcNr4j9qg-q",
        "outputId": "b3f1cdc3-3334-458a-d9c1-f78ff394fbe9"
      },
      "outputs": [
        {
          "data": {
            "text/plain": [
              "array([[0., 0., 0.],\n",
              "       [0., 0., 0.]])"
            ]
          },
          "execution_count": 18,
          "metadata": {},
          "output_type": "execute_result"
        }
      ],
      "source": [
        "np.zeros((2, 3))  # an array of zeros with size 2 x 3"
      ]
    },
    {
      "cell_type": "code",
      "execution_count": 19,
      "metadata": {
        "colab": {
          "base_uri": "https://localhost:8080/"
        },
        "id": "Y0z0_ztaqg-q",
        "outputId": "2cc24025-4cda-4627-df0b-efc46a9a138b"
      },
      "outputs": [
        {
          "data": {
            "text/plain": [
              "array([[3.14, 3.14, 3.14],\n",
              "       [3.14, 3.14, 3.14],\n",
              "       [3.14, 3.14, 3.14]])"
            ]
          },
          "execution_count": 19,
          "metadata": {},
          "output_type": "execute_result"
        }
      ],
      "source": [
        "np.full((3, 3), 3.14)  # an array of the number 3.14 with size 3 x 3"
      ]
    },
    {
      "cell_type": "code",
      "execution_count": 20,
      "metadata": {
        "colab": {
          "base_uri": "https://localhost:8080/"
        },
        "id": "6KNUlz62qg-q",
        "outputId": "55bbb58a-e4ff-498e-a74e-8b7db1218152"
      },
      "outputs": [
        {
          "data": {
            "text/plain": [
              "array([[[3.14, 3.14, 3.14],\n",
              "        [3.14, 3.14, 3.14],\n",
              "        [3.14, 3.14, 3.14]],\n",
              "\n",
              "       [[3.14, 3.14, 3.14],\n",
              "        [3.14, 3.14, 3.14],\n",
              "        [3.14, 3.14, 3.14]],\n",
              "\n",
              "       [[3.14, 3.14, 3.14],\n",
              "        [3.14, 3.14, 3.14],\n",
              "        [3.14, 3.14, 3.14]]])"
            ]
          },
          "execution_count": 20,
          "metadata": {},
          "output_type": "execute_result"
        }
      ],
      "source": [
        "np.full((3, 3, 3), 3.14)  # an array of the number 3.14 with size 3 x 3 x 3"
      ]
    },
    {
      "cell_type": "code",
      "execution_count": 21,
      "metadata": {
        "colab": {
          "base_uri": "https://localhost:8080/"
        },
        "id": "YFDPmV07qg-q",
        "outputId": "1067dde3-c037-4fa1-8f3e-ab4547a7d374"
      },
      "outputs": [
        {
          "data": {
            "text/plain": [
              "array([[0.38039852, 0.85880644],\n",
              "       [0.44789973, 0.65986574],\n",
              "       [0.87398722, 0.38884491],\n",
              "       [0.33694582, 0.37043821],\n",
              "       [0.12225254, 0.75943558]])"
            ]
          },
          "execution_count": 21,
          "metadata": {},
          "output_type": "execute_result"
        }
      ],
      "source": [
        "np.random.rand(5, 2)  # random numbers uniformly distributed from 0 to 1 with size 5 x 2"
      ]
    },
    {
      "cell_type": "markdown",
      "metadata": {
        "id": "NdLtGtqv0VyY"
      },
      "source": [
        "## NumPy Array Attributes\n",
        "There are many useful attributes/methods that can be called off numpy arrays."
      ]
    },
    {
      "cell_type": "markdown",
      "metadata": {
        "id": "IcQ2EnvWqg-q"
      },
      "source": [
        "List of useful attributes/methods that can be called off numpy arrays:"
      ]
    },
    {
      "cell_type": "code",
      "execution_count": 22,
      "metadata": {
        "colab": {
          "base_uri": "https://localhost:8080/"
        },
        "id": "8YjzqeRDqg-q",
        "outputId": "602e4f97-b334-4da1-9b30-1f01465c5d46"
      },
      "outputs": [
        {
          "name": "stdout",
          "output_type": "stream",
          "text": [
            "['T', '__abs__', '__add__', '__and__', '__array__', '__array_finalize__', '__array_function__', '__array_interface__', '__array_namespace__', '__array_priority__', '__array_struct__', '__array_ufunc__', '__array_wrap__', '__bool__', '__class__', '__class_getitem__', '__complex__', '__contains__', '__copy__', '__deepcopy__', '__delattr__', '__delitem__', '__dir__', '__divmod__', '__dlpack__', '__dlpack_device__', '__doc__', '__eq__', '__float__', '__floordiv__', '__format__', '__ge__', '__getattribute__', '__getitem__', '__gt__', '__hash__', '__iadd__', '__iand__', '__ifloordiv__', '__ilshift__', '__imatmul__', '__imod__', '__imul__', '__index__', '__init__', '__init_subclass__', '__int__', '__invert__', '__ior__', '__ipow__', '__irshift__', '__isub__', '__iter__', '__itruediv__', '__ixor__', '__le__', '__len__', '__lshift__', '__lt__', '__matmul__', '__mod__', '__mul__', '__ne__', '__neg__', '__new__', '__or__', '__pos__', '__pow__', '__radd__', '__rand__', '__rdivmod__', '__reduce__', '__reduce_ex__', '__repr__', '__rfloordiv__', '__rlshift__', '__rmatmul__', '__rmod__', '__rmul__', '__ror__', '__rpow__', '__rrshift__', '__rshift__', '__rsub__', '__rtruediv__', '__rxor__', '__setattr__', '__setitem__', '__setstate__', '__sizeof__', '__str__', '__sub__', '__subclasshook__', '__truediv__', '__xor__', 'all', 'any', 'argmax', 'argmin', 'argpartition', 'argsort', 'astype', 'base', 'byteswap', 'choose', 'clip', 'compress', 'conj', 'conjugate', 'copy', 'ctypes', 'cumprod', 'cumsum', 'data', 'device', 'diagonal', 'dot', 'dtype', 'dump', 'dumps', 'fill', 'flags', 'flat', 'flatten', 'getfield', 'imag', 'item', 'itemset', 'itemsize', 'mT', 'max', 'mean', 'min', 'nbytes', 'ndim', 'newbyteorder', 'nonzero', 'partition', 'prod', 'ptp', 'put', 'ravel', 'real', 'repeat', 'reshape', 'resize', 'round', 'searchsorted', 'setfield', 'setflags', 'shape', 'size', 'sort', 'squeeze', 'std', 'strides', 'sum', 'swapaxes', 'take', 'to_device', 'tobytes', 'tofile', 'tolist', 'tostring', 'trace', 'transpose', 'var', 'view']\n"
          ]
        }
      ],
      "source": [
        "print(dir(np.ndarray))"
      ]
    },
    {
      "cell_type": "markdown",
      "metadata": {
        "id": "X9NCZHzV0sQD"
      },
      "source": [
        "## Dimension of an Array\n",
        "\n",
        "*Dimension tells you how many directions an array has: A scalar has 0 dimensions, a vector has 1 dimension, a matrix has 2 dimensions, and so on.\n",
        "You can access the dimension of an array using the `.ndim `attribute.\n",
        "\n",
        "*Shape tells you how many elements are along each direction/axis: For example, an array with shape (3, 4) has 3 rows and 4 columns.\n",
        "You can access the shape of an array using the `.shape` attribute.\n"
      ]
    },
    {
      "cell_type": "code",
      "execution_count": 23,
      "metadata": {
        "id": "msEKB1Pv6hnz"
      },
      "outputs": [],
      "source": [
        "import numpy as np\n",
        "\n",
        "# Create a 2D array\n",
        "arr = np.array([[1, 2, 3], [4, 5, 6]])\n",
        "\n",
        "# Get the dimension\n",
        "dimension = arr.ndim  # Output: 2\n",
        "\n",
        "# Get the shape\n",
        "shape = arr.shape  # Output: (2, 3)"
      ]
    },
    {
      "cell_type": "markdown",
      "metadata": {
        "id": "7Kw0TykV6jvj"
      },
      "source": [
        "\n",
        "Examples:\n",
        "\n",
        "We'll start by defining three random arrays, a one-dimensional, two-dimensional, and three-dimensional array. We'll use NumPy's random number generator, which we will seed with a set value in order to ensure that the same random arrays are generated each time this code is run:"
      ]
    },
    {
      "cell_type": "code",
      "execution_count": 24,
      "metadata": {
        "id": "brohvP4I0z-U"
      },
      "outputs": [],
      "source": [
        "import numpy as np\n",
        "np.random.seed(0)  # seed for reproducibility\n",
        "\n",
        "x1 = np.random.randint(10, size=6)  # One-dimensional array\n",
        "x2 = np.random.randint(10, size=(3, 4))  # Two-dimensional array\n",
        "x3 = np.random.randint(10, size=(3, 4, 5))  # Three-dimensional array"
      ]
    },
    {
      "cell_type": "markdown",
      "metadata": {
        "id": "FI1wYuev0y3h"
      },
      "source": [
        "Each array has attributes `ndim` (the number of dimensions), shape (the size of each dimension), and size (the total size of the array):"
      ]
    },
    {
      "cell_type": "code",
      "execution_count": 25,
      "metadata": {
        "id": "NRtRtbfO0-Fc"
      },
      "outputs": [
        {
          "name": "stdout",
          "output_type": "stream",
          "text": [
            "x3 ndim:  3\n",
            "x3 shape: (3, 4, 5)\n",
            "x3 size:  60\n"
          ]
        }
      ],
      "source": [
        "print(\"x3 ndim: \", x3.ndim)\n",
        "print(\"x3 shape:\", x3.shape)\n",
        "print(\"x3 size: \", x3.size)"
      ]
    },
    {
      "cell_type": "markdown",
      "metadata": {
        "id": "NfYnKkXM1wFX"
      },
      "source": [
        "Another example:"
      ]
    },
    {
      "cell_type": "markdown",
      "metadata": {
        "id": "3uNiE2ty6YZO"
      },
      "source": []
    },
    {
      "cell_type": "code",
      "execution_count": null,
      "metadata": {
        "id": "JjboV47f6Xh6"
      },
      "outputs": [],
      "source": []
    },
    {
      "cell_type": "code",
      "execution_count": 26,
      "metadata": {
        "id": "VAi3P5KC1yPP"
      },
      "outputs": [
        {
          "data": {
            "text/plain": [
              "array([[0.65279032, 0.63505887],\n",
              "       [0.99529957, 0.58185033],\n",
              "       [0.41436859, 0.4746975 ],\n",
              "       [0.6235101 , 0.33800761],\n",
              "       [0.67475232, 0.31720174]])"
            ]
          },
          "execution_count": 26,
          "metadata": {},
          "output_type": "execute_result"
        }
      ],
      "source": [
        "x = np.random.rand(5, 2)\n",
        "x"
      ]
    },
    {
      "cell_type": "markdown",
      "metadata": {
        "id": "R5SJkvDl0-qm"
      },
      "source": [
        "Another useful attribute is the `dtype`, the data type of the array"
      ]
    },
    {
      "cell_type": "code",
      "execution_count": 27,
      "metadata": {
        "id": "C-CJN32y1I34"
      },
      "outputs": [
        {
          "name": "stdout",
          "output_type": "stream",
          "text": [
            "dtype: int64\n"
          ]
        }
      ],
      "source": [
        "print(\"dtype:\", x3.dtype)"
      ]
    },
    {
      "cell_type": "markdown",
      "metadata": {
        "id": "VDV_72M51LW7"
      },
      "source": [
        "Other attributes include `itemsize`, which lists the size (in bytes) of each array element, and `nbytes`, which lists the total size (in bytes) of the array:"
      ]
    },
    {
      "cell_type": "code",
      "execution_count": 28,
      "metadata": {
        "id": "Xo1YfHVg1qhH"
      },
      "outputs": [
        {
          "name": "stdout",
          "output_type": "stream",
          "text": [
            "itemsize: 8 bytes\n",
            "nbytes: 480 bytes\n"
          ]
        }
      ],
      "source": [
        "print(\"itemsize:\", x3.itemsize, \"bytes\")\n",
        "print(\"nbytes:\", x3.nbytes, \"bytes\")"
      ]
    },
    {
      "cell_type": "code",
      "execution_count": 29,
      "metadata": {
        "colab": {
          "base_uri": "https://localhost:8080/"
        },
        "id": "-4rVWsoeqg-r",
        "outputId": "65c22f04-fc3a-4e17-9351-41d8f87fb33a"
      },
      "outputs": [
        {
          "data": {
            "text/plain": [
              "array([[0.65279032, 0.99529957, 0.41436859, 0.6235101 , 0.67475232],\n",
              "       [0.63505887, 0.58185033, 0.4746975 , 0.33800761, 0.31720174]])"
            ]
          },
          "execution_count": 29,
          "metadata": {},
          "output_type": "execute_result"
        }
      ],
      "source": [
        "x.transpose()"
      ]
    },
    {
      "cell_type": "code",
      "execution_count": 30,
      "metadata": {
        "colab": {
          "base_uri": "https://localhost:8080/"
        },
        "id": "qAnbc9Ruqg-r",
        "outputId": "eb3360d9-c96d-4acb-d3c0-2a3e65b85120"
      },
      "outputs": [
        {
          "data": {
            "text/plain": [
              "np.float64(0.5707536958539337)"
            ]
          },
          "execution_count": 30,
          "metadata": {},
          "output_type": "execute_result"
        }
      ],
      "source": [
        "x.mean()"
      ]
    },
    {
      "cell_type": "markdown",
      "metadata": {
        "id": "6-qWtpjy2N_l"
      },
      "source": [
        "`astype(int)` is a method used to change the data type of a NumPy array to integers."
      ]
    },
    {
      "cell_type": "code",
      "execution_count": 31,
      "metadata": {
        "colab": {
          "base_uri": "https://localhost:8080/"
        },
        "id": "BLfj3Iadqg-r",
        "outputId": "c7a2904f-9af2-428e-a222-70318c8dfbed"
      },
      "outputs": [
        {
          "name": "stdout",
          "output_type": "stream",
          "text": [
            "[ 1  3  5 -9 -7 -8]\n"
          ]
        }
      ],
      "source": [
        "import numpy as np\n",
        "\n",
        "arr = np.array([1.2, 3.4, 5.6, -9, -7.1,-8.6])\n",
        "arr_int = arr.astype(int)\n",
        "\n",
        "print(arr_int)  # Output: [1 3 5]"
      ]
    },
    {
      "cell_type": "markdown",
      "metadata": {
        "id": "tqnnLODiqg-r"
      },
      "source": [
        "### Array Shapes"
      ]
    },
    {
      "cell_type": "markdown",
      "metadata": {
        "id": "SUN1p-u_qg-r"
      },
      "source": [
        "As you just saw above, arrays can be of any dimension, shape and size you desire. In fact, there are three main array attributes you need to know to work out the characteristics of an array:\n",
        "- `.ndim`: the number of dimensions of an array\n",
        "- `.shape`: the number of elements in each dimension (like calling `len()` on each dimension)\n",
        "- `.size`: the total number of elements in an array (i.e., the product of `.shape`)"
      ]
    },
    {
      "cell_type": "code",
      "execution_count": 32,
      "metadata": {
        "colab": {
          "base_uri": "https://localhost:8080/"
        },
        "id": "AceL_aSLqg-r",
        "outputId": "1616a4ed-9ed0-470c-e07f-7e4ccb733e0d"
      },
      "outputs": [
        {
          "name": "stdout",
          "output_type": "stream",
          "text": [
            "Dimensions: 1\n",
            "     Shape: (3,)\n",
            "      Size: 3\n"
          ]
        }
      ],
      "source": [
        "array_1d = np.ones(3)\n",
        "print(f\"Dimensions: {array_1d.ndim}\")\n",
        "print(f\"     Shape: {array_1d.shape}\")\n",
        "print(f\"      Size: {array_1d.size}\")"
      ]
    },
    {
      "cell_type": "markdown",
      "metadata": {
        "id": "Xb7oLKiuqg-r"
      },
      "source": [
        "Let's turn that print action into a function and try out some other arrays:"
      ]
    },
    {
      "cell_type": "code",
      "execution_count": 33,
      "metadata": {
        "id": "Ejz0EDSKqg-r"
      },
      "outputs": [],
      "source": [
        "def print_array(x):\n",
        "    print(f\"Dimensions: {x.ndim}\")\n",
        "    print(f\"     Shape: {x.shape}\")\n",
        "    print(f\"      Size: {x.size}\")\n",
        "    print(\"\")\n",
        "    print(x)"
      ]
    },
    {
      "cell_type": "code",
      "execution_count": 34,
      "metadata": {
        "colab": {
          "base_uri": "https://localhost:8080/"
        },
        "id": "J1LLnEMtqg-r",
        "outputId": "31c23363-1b51-4614-f188-2dd9b8c7f646"
      },
      "outputs": [
        {
          "name": "stdout",
          "output_type": "stream",
          "text": [
            "Dimensions: 2\n",
            "     Shape: (3, 2)\n",
            "      Size: 6\n",
            "\n",
            "[[1. 1.]\n",
            " [1. 1.]\n",
            " [1. 1.]]\n"
          ]
        }
      ],
      "source": [
        "array_2d = np.ones((3, 2))\n",
        "print_array(array_2d)"
      ]
    },
    {
      "cell_type": "code",
      "execution_count": 35,
      "metadata": {
        "colab": {
          "base_uri": "https://localhost:8080/"
        },
        "id": "TJzw0B4Yqg-r",
        "outputId": "134d3b7b-2bde-473b-e006-d14c604ef1a2"
      },
      "outputs": [
        {
          "name": "stdout",
          "output_type": "stream",
          "text": [
            "Dimensions: 4\n",
            "     Shape: (1, 2, 3, 4)\n",
            "      Size: 24\n",
            "\n",
            "[[[[1. 1. 1. 1.]\n",
            "   [1. 1. 1. 1.]\n",
            "   [1. 1. 1. 1.]]\n",
            "\n",
            "  [[1. 1. 1. 1.]\n",
            "   [1. 1. 1. 1.]\n",
            "   [1. 1. 1. 1.]]]]\n"
          ]
        }
      ],
      "source": [
        "array_4d = np.ones((1, 2, 3, 4))\n",
        "print_array(array_4d)"
      ]
    },
    {
      "cell_type": "markdown",
      "metadata": {
        "id": "cdyUL-wSqg-r"
      },
      "source": [
        "After 3 dimensions, printing arrays starts getting pretty messy. As you can see above, the number of square brackets (`[ ]`) in the printed output indicate how many dimensions there are: for example, above, the output starts with 4 square brackets `[[[[` indicative of a 4D array."
      ]
    },
    {
      "cell_type": "markdown",
      "metadata": {
        "id": "hvJfyrgxqg-s"
      },
      "source": [
        "### 1-d Arrays"
      ]
    },
    {
      "cell_type": "markdown",
      "metadata": {
        "id": "Ql8F-_zVqg-s"
      },
      "source": [
        "One of the most confusing things about numpy is 1-d arrays (vectors) can have 3 possible shapes!"
      ]
    },
    {
      "cell_type": "code",
      "execution_count": 36,
      "metadata": {
        "colab": {
          "base_uri": "https://localhost:8080/"
        },
        "id": "1ruNyKC6qg-s",
        "outputId": "ec71e61e-9c2e-4c32-a2f2-7d2cfcc615fa"
      },
      "outputs": [
        {
          "name": "stdout",
          "output_type": "stream",
          "text": [
            "Dimensions: 1\n",
            "     Shape: (5,)\n",
            "      Size: 5\n",
            "\n",
            "[1. 1. 1. 1. 1.]\n"
          ]
        }
      ],
      "source": [
        "x = np.ones(5)\n",
        "print_array(x)"
      ]
    },
    {
      "cell_type": "code",
      "execution_count": 37,
      "metadata": {
        "colab": {
          "base_uri": "https://localhost:8080/"
        },
        "id": "UKAgMCrOqg-s",
        "outputId": "df3e40b5-4255-45ab-b647-85a654a3c0bf"
      },
      "outputs": [
        {
          "name": "stdout",
          "output_type": "stream",
          "text": [
            "Dimensions: 2\n",
            "     Shape: (1, 5)\n",
            "      Size: 5\n",
            "\n",
            "[[1. 1. 1. 1. 1.]]\n"
          ]
        }
      ],
      "source": [
        "y = np.ones((1, 5))\n",
        "print_array(y)"
      ]
    },
    {
      "cell_type": "code",
      "execution_count": 38,
      "metadata": {
        "colab": {
          "base_uri": "https://localhost:8080/"
        },
        "id": "NiOTU8qbqg-s",
        "outputId": "9d7fd625-5a41-4bae-bdf1-1eb4f65f2836"
      },
      "outputs": [
        {
          "name": "stdout",
          "output_type": "stream",
          "text": [
            "Dimensions: 2\n",
            "     Shape: (5, 1)\n",
            "      Size: 5\n",
            "\n",
            "[[1.]\n",
            " [1.]\n",
            " [1.]\n",
            " [1.]\n",
            " [1.]]\n"
          ]
        }
      ],
      "source": [
        "z = np.ones((5, 1))\n",
        "print_array(z)"
      ]
    },
    {
      "cell_type": "markdown",
      "metadata": {
        "id": "Z0gisN63qg-s"
      },
      "source": [
        "We can use `np.array_equal()` to determine if two arrays have the same shape and elements:"
      ]
    },
    {
      "cell_type": "code",
      "execution_count": 39,
      "metadata": {
        "colab": {
          "base_uri": "https://localhost:8080/"
        },
        "id": "ubiqaNbfqg-s",
        "outputId": "114cb251-3479-4b98-b5d0-42fd90303ba7"
      },
      "outputs": [
        {
          "data": {
            "text/plain": [
              "True"
            ]
          },
          "execution_count": 39,
          "metadata": {},
          "output_type": "execute_result"
        }
      ],
      "source": [
        "np.array_equal(x, x)"
      ]
    },
    {
      "cell_type": "code",
      "execution_count": 40,
      "metadata": {
        "colab": {
          "base_uri": "https://localhost:8080/"
        },
        "id": "W-IXY3CNqg-s",
        "outputId": "258c0e1e-c52f-4328-a70e-4cede235f8f2"
      },
      "outputs": [
        {
          "data": {
            "text/plain": [
              "False"
            ]
          },
          "execution_count": 40,
          "metadata": {},
          "output_type": "execute_result"
        }
      ],
      "source": [
        "np.array_equal(x, y)"
      ]
    },
    {
      "cell_type": "code",
      "execution_count": 41,
      "metadata": {
        "colab": {
          "base_uri": "https://localhost:8080/"
        },
        "id": "AbiGiwqXqg-s",
        "outputId": "31e1d4e8-0c88-46d5-acae-57dd1743fd15"
      },
      "outputs": [
        {
          "data": {
            "text/plain": [
              "False"
            ]
          },
          "execution_count": 41,
          "metadata": {},
          "output_type": "execute_result"
        }
      ],
      "source": [
        "np.array_equal(x, z)"
      ]
    },
    {
      "cell_type": "code",
      "execution_count": 42,
      "metadata": {
        "colab": {
          "base_uri": "https://localhost:8080/"
        },
        "id": "jO4nYr6nqg-s",
        "outputId": "d35af039-93b4-431b-f899-5021f5bda89e"
      },
      "outputs": [
        {
          "data": {
            "text/plain": [
              "False"
            ]
          },
          "execution_count": 42,
          "metadata": {},
          "output_type": "execute_result"
        }
      ],
      "source": [
        "np.array_equal(y, z)"
      ]
    },
    {
      "cell_type": "markdown",
      "metadata": {
        "id": "SesYl352qg-s"
      },
      "source": [
        "The shape of your 1-d arrays can actually have big implications on your mathematical oeprations!"
      ]
    },
    {
      "cell_type": "code",
      "execution_count": 43,
      "metadata": {
        "colab": {
          "base_uri": "https://localhost:8080/"
        },
        "id": "Kt_9ocbjqg-s",
        "outputId": "ec3fde0f-d17e-499f-f609-2e65ddcd943a"
      },
      "outputs": [
        {
          "name": "stdout",
          "output_type": "stream",
          "text": [
            "x: [1. 1. 1. 1. 1.]\n",
            "y: [[1. 1. 1. 1. 1.]]\n",
            "z: [[1.]\n",
            " [1.]\n",
            " [1.]\n",
            " [1.]\n",
            " [1.]]\n"
          ]
        }
      ],
      "source": [
        "print(f\"x: {x}\")\n",
        "print(f\"y: {y}\")\n",
        "print(f\"z: {z}\")"
      ]
    },
    {
      "cell_type": "code",
      "execution_count": 44,
      "metadata": {
        "colab": {
          "base_uri": "https://localhost:8080/"
        },
        "id": "1JvZXsRYqg-s",
        "outputId": "772490be-dfd4-4291-a7f1-d3196e54cba6"
      },
      "outputs": [
        {
          "data": {
            "text/plain": [
              "array([[2., 2., 2., 2., 2.]])"
            ]
          },
          "execution_count": 44,
          "metadata": {},
          "output_type": "execute_result"
        }
      ],
      "source": [
        "x + y  # makes sense"
      ]
    },
    {
      "cell_type": "code",
      "execution_count": 45,
      "metadata": {
        "colab": {
          "base_uri": "https://localhost:8080/"
        },
        "id": "XxtnrKTQqg-s",
        "outputId": "dd6d5bdb-5ba1-4039-f8f9-909a73e8d179"
      },
      "outputs": [
        {
          "data": {
            "text/plain": [
              "array([[2., 2., 2., 2., 2.],\n",
              "       [2., 2., 2., 2., 2.],\n",
              "       [2., 2., 2., 2., 2.],\n",
              "       [2., 2., 2., 2., 2.],\n",
              "       [2., 2., 2., 2., 2.]])"
            ]
          },
          "execution_count": 45,
          "metadata": {},
          "output_type": "execute_result"
        }
      ],
      "source": [
        "y + z  # wait, what?"
      ]
    },
    {
      "cell_type": "markdown",
      "metadata": {
        "id": "H0TKSVYOqg-t"
      },
      "source": [
        "What happened in the cell above is \"broadcasting\" and we'll discuss it below."
      ]
    },
    {
      "cell_type": "markdown",
      "metadata": {
        "id": "7pzMRvEJqg-t"
      },
      "source": [
        "##  Array Operations  \n",
        "<hr>"
      ]
    },
    {
      "cell_type": "markdown",
      "metadata": {
        "id": "P8G6Q3rWqg-t"
      },
      "source": [
        "### Elementwise operations\n",
        "\n",
        "Elementwise operations refer to operations applied to each element of an array or between the paired elements of two arrays."
      ]
    },
    {
      "cell_type": "code",
      "execution_count": 46,
      "metadata": {
        "colab": {
          "base_uri": "https://localhost:8080/"
        },
        "id": "jykpKgaBqg-t",
        "outputId": "6f74273c-ec40-49e2-e9e2-9da7da6cc91b"
      },
      "outputs": [
        {
          "data": {
            "text/plain": [
              "array([1., 1., 1., 1.])"
            ]
          },
          "execution_count": 46,
          "metadata": {},
          "output_type": "execute_result"
        }
      ],
      "source": [
        "x = np.ones(4)\n",
        "x"
      ]
    },
    {
      "cell_type": "code",
      "execution_count": 47,
      "metadata": {
        "colab": {
          "base_uri": "https://localhost:8080/"
        },
        "id": "lCfPdVEsqg-t",
        "outputId": "dabd7d89-600c-4022-c4cb-4bf6861f853e"
      },
      "outputs": [
        {
          "data": {
            "text/plain": [
              "array([2., 2., 2., 2.])"
            ]
          },
          "execution_count": 47,
          "metadata": {},
          "output_type": "execute_result"
        }
      ],
      "source": [
        "y = x + 1\n",
        "y"
      ]
    },
    {
      "cell_type": "code",
      "execution_count": 48,
      "metadata": {
        "colab": {
          "base_uri": "https://localhost:8080/"
        },
        "id": "l8a1CR0Bqg-t",
        "outputId": "703d8501-3b6a-43de-9cdd-7b7a3e7d457f"
      },
      "outputs": [
        {
          "data": {
            "text/plain": [
              "array([-1., -1., -1., -1.])"
            ]
          },
          "execution_count": 48,
          "metadata": {},
          "output_type": "execute_result"
        }
      ],
      "source": [
        "x - y"
      ]
    },
    {
      "cell_type": "code",
      "execution_count": 49,
      "metadata": {
        "colab": {
          "base_uri": "https://localhost:8080/"
        },
        "id": "-HGs_YN7qg-t",
        "outputId": "48f43f1d-c12b-4fc4-df86-00e1e2775c1e"
      },
      "outputs": [
        {
          "data": {
            "text/plain": [
              "array([False, False, False, False])"
            ]
          },
          "execution_count": 49,
          "metadata": {},
          "output_type": "execute_result"
        }
      ],
      "source": [
        "x == y"
      ]
    },
    {
      "cell_type": "code",
      "execution_count": 50,
      "metadata": {
        "colab": {
          "base_uri": "https://localhost:8080/"
        },
        "id": "Zod2mMo0qg-t",
        "outputId": "2346a515-0eda-494f-f661-7a3bab61fc4b"
      },
      "outputs": [
        {
          "data": {
            "text/plain": [
              "array([2., 2., 2., 2.])"
            ]
          },
          "execution_count": 50,
          "metadata": {},
          "output_type": "execute_result"
        }
      ],
      "source": [
        "x * y"
      ]
    },
    {
      "cell_type": "code",
      "execution_count": 51,
      "metadata": {
        "colab": {
          "base_uri": "https://localhost:8080/"
        },
        "id": "ehw1xYFPqg-t",
        "outputId": "18f921c4-37ac-4bdb-ff80-de46c6c80895"
      },
      "outputs": [
        {
          "data": {
            "text/plain": [
              "array([1., 1., 1., 1.])"
            ]
          },
          "execution_count": 51,
          "metadata": {},
          "output_type": "execute_result"
        }
      ],
      "source": [
        "x ** y"
      ]
    },
    {
      "cell_type": "code",
      "execution_count": 52,
      "metadata": {
        "colab": {
          "base_uri": "https://localhost:8080/"
        },
        "id": "6g5TMUBYqg-t",
        "outputId": "2d4fbe12-0716-489d-c469-b43f3c3ea80b"
      },
      "outputs": [
        {
          "data": {
            "text/plain": [
              "array([0.5, 0.5, 0.5, 0.5])"
            ]
          },
          "execution_count": 52,
          "metadata": {},
          "output_type": "execute_result"
        }
      ],
      "source": [
        "x / y"
      ]
    },
    {
      "cell_type": "code",
      "execution_count": 53,
      "metadata": {
        "colab": {
          "base_uri": "https://localhost:8080/"
        },
        "id": "l8rXbTwRqg-t",
        "outputId": "3bacf7d9-8887-4b73-875b-f794e0521f8f"
      },
      "outputs": [
        {
          "data": {
            "text/plain": [
              "False"
            ]
          },
          "execution_count": 53,
          "metadata": {},
          "output_type": "execute_result"
        }
      ],
      "source": [
        "np.array_equal(x, y)"
      ]
    },
    {
      "cell_type": "markdown",
      "metadata": {
        "id": "l5CQtE5vqg-w"
      },
      "source": [
        "Concepts of indexing should be pretty familiar by now. Indexing arrays is similar to indexing lists but there are just more dimensions."
      ]
    },
    {
      "cell_type": "markdown",
      "metadata": {
        "id": "8XzPeKlNqg-w"
      },
      "source": [
        "### Numeric Indexing"
      ]
    },
    {
      "cell_type": "code",
      "execution_count": 54,
      "metadata": {
        "colab": {
          "base_uri": "https://localhost:8080/"
        },
        "id": "K_uUdr38qg-w",
        "outputId": "2fe1edef-0b24-4842-f767-8455363f988b"
      },
      "outputs": [
        {
          "data": {
            "text/plain": [
              "array([0, 1, 2, 3, 4, 5, 6, 7, 8, 9])"
            ]
          },
          "execution_count": 54,
          "metadata": {},
          "output_type": "execute_result"
        }
      ],
      "source": [
        "x = np.arange(10)\n",
        "x"
      ]
    },
    {
      "cell_type": "code",
      "execution_count": 55,
      "metadata": {
        "colab": {
          "base_uri": "https://localhost:8080/"
        },
        "id": "2zAgG1j4qg-w",
        "outputId": "677f1b4a-6666-4c03-faed-4c39c7b5e31c"
      },
      "outputs": [
        {
          "data": {
            "text/plain": [
              "np.int64(3)"
            ]
          },
          "execution_count": 55,
          "metadata": {},
          "output_type": "execute_result"
        }
      ],
      "source": [
        "x[3]"
      ]
    },
    {
      "cell_type": "code",
      "execution_count": 56,
      "metadata": {
        "colab": {
          "base_uri": "https://localhost:8080/"
        },
        "id": "fQmNvK6Fqg-w",
        "outputId": "b2c5092d-8202-47a8-a00d-885ec30c9e7c"
      },
      "outputs": [
        {
          "data": {
            "text/plain": [
              "array([2, 3, 4, 5, 6, 7, 8, 9])"
            ]
          },
          "execution_count": 56,
          "metadata": {},
          "output_type": "execute_result"
        }
      ],
      "source": [
        "x[2:]"
      ]
    },
    {
      "cell_type": "code",
      "execution_count": 57,
      "metadata": {
        "colab": {
          "base_uri": "https://localhost:8080/"
        },
        "id": "o5mFianYqg-x",
        "outputId": "7fc370d3-e8be-48a6-cf3c-7f5a6d45ac36"
      },
      "outputs": [
        {
          "data": {
            "text/plain": [
              "array([0, 1, 2, 3])"
            ]
          },
          "execution_count": 57,
          "metadata": {},
          "output_type": "execute_result"
        }
      ],
      "source": [
        "x[:4]"
      ]
    },
    {
      "cell_type": "code",
      "execution_count": 58,
      "metadata": {
        "colab": {
          "base_uri": "https://localhost:8080/"
        },
        "id": "fzOPB0gOqg-x",
        "outputId": "8d45568c-8d28-4ffc-990a-fa1a31822297"
      },
      "outputs": [
        {
          "data": {
            "text/plain": [
              "array([2, 3, 4])"
            ]
          },
          "execution_count": 58,
          "metadata": {},
          "output_type": "execute_result"
        }
      ],
      "source": [
        "x[2:5]"
      ]
    },
    {
      "cell_type": "code",
      "execution_count": 59,
      "metadata": {
        "colab": {
          "base_uri": "https://localhost:8080/"
        },
        "id": "tnLDMHccqg-x",
        "outputId": "75e223ea-1ec9-4904-da25-a76207efcd26"
      },
      "outputs": [
        {
          "data": {
            "text/plain": [
              "array([2])"
            ]
          },
          "execution_count": 59,
          "metadata": {},
          "output_type": "execute_result"
        }
      ],
      "source": [
        "x[2:3]"
      ]
    },
    {
      "cell_type": "code",
      "execution_count": 60,
      "metadata": {
        "colab": {
          "base_uri": "https://localhost:8080/"
        },
        "id": "ztK0wCBZqg-x",
        "outputId": "f430d934-9e27-4842-f5ce-ccb04ee7d111"
      },
      "outputs": [
        {
          "data": {
            "text/plain": [
              "np.int64(9)"
            ]
          },
          "execution_count": 60,
          "metadata": {},
          "output_type": "execute_result"
        }
      ],
      "source": [
        "x[-1]"
      ]
    },
    {
      "cell_type": "code",
      "execution_count": 61,
      "metadata": {
        "colab": {
          "base_uri": "https://localhost:8080/"
        },
        "id": "DRri5oXxqg-x",
        "outputId": "a5323edd-9dd4-4157-c444-c50fe8213760"
      },
      "outputs": [
        {
          "data": {
            "text/plain": [
              "np.int64(8)"
            ]
          },
          "execution_count": 61,
          "metadata": {},
          "output_type": "execute_result"
        }
      ],
      "source": [
        "x[-2]"
      ]
    },
    {
      "cell_type": "code",
      "execution_count": 62,
      "metadata": {
        "colab": {
          "base_uri": "https://localhost:8080/"
        },
        "id": "BtckTgFiqg-x",
        "outputId": "b05e8e5b-feb8-4704-bf6d-171a9b06412d",
        "scrolled": true
      },
      "outputs": [
        {
          "data": {
            "text/plain": [
              "array([5, 4, 3, 2, 1])"
            ]
          },
          "execution_count": 62,
          "metadata": {},
          "output_type": "execute_result"
        }
      ],
      "source": [
        "x[5:0:-1]"
      ]
    },
    {
      "cell_type": "markdown",
      "metadata": {
        "id": "oB51RVj-qg-x"
      },
      "source": [
        "For 2D arrays:"
      ]
    },
    {
      "cell_type": "code",
      "execution_count": 63,
      "metadata": {
        "colab": {
          "base_uri": "https://localhost:8080/"
        },
        "id": "B-fVYyPDqg-x",
        "outputId": "85b7bbe0-ced2-4f8f-83af-2223f28214b5"
      },
      "outputs": [
        {
          "data": {
            "text/plain": [
              "array([[5, 9, 3, 0, 5, 0],\n",
              "       [1, 2, 4, 2, 0, 3],\n",
              "       [2, 0, 7, 5, 9, 0],\n",
              "       [2, 7, 2, 9, 2, 3]])"
            ]
          },
          "execution_count": 63,
          "metadata": {},
          "output_type": "execute_result"
        }
      ],
      "source": [
        "x = np.random.randint(10, size=(4, 6))\n",
        "x"
      ]
    },
    {
      "cell_type": "code",
      "execution_count": 64,
      "metadata": {
        "colab": {
          "base_uri": "https://localhost:8080/"
        },
        "id": "JBf6Uovwqg-x",
        "outputId": "0c79c0c4-1350-4245-87f0-c1c8b89efa12"
      },
      "outputs": [
        {
          "data": {
            "text/plain": [
              "np.int64(2)"
            ]
          },
          "execution_count": 64,
          "metadata": {},
          "output_type": "execute_result"
        }
      ],
      "source": [
        "x[3, 4]  # do this"
      ]
    },
    {
      "cell_type": "code",
      "execution_count": 65,
      "metadata": {
        "colab": {
          "base_uri": "https://localhost:8080/"
        },
        "id": "EV630UsNqg-x",
        "outputId": "9c997bb8-e3c3-485b-fe6e-9f2fa36b4e6b"
      },
      "outputs": [
        {
          "data": {
            "text/plain": [
              "np.int64(2)"
            ]
          },
          "execution_count": 65,
          "metadata": {},
          "output_type": "execute_result"
        }
      ],
      "source": [
        "x[3][4]  # i do not like this as much"
      ]
    },
    {
      "cell_type": "code",
      "execution_count": 66,
      "metadata": {
        "colab": {
          "base_uri": "https://localhost:8080/"
        },
        "id": "1qtUvHymqg-x",
        "outputId": "d59fff95-7414-4511-cbe7-c7ba06c9a439"
      },
      "outputs": [
        {
          "data": {
            "text/plain": [
              "array([2, 7, 2, 9, 2, 3])"
            ]
          },
          "execution_count": 66,
          "metadata": {},
          "output_type": "execute_result"
        }
      ],
      "source": [
        "x[3]"
      ]
    },
    {
      "cell_type": "code",
      "execution_count": 67,
      "metadata": {
        "colab": {
          "base_uri": "https://localhost:8080/"
        },
        "id": "5JbXrsibqg-x",
        "outputId": "a7fc970c-9e2a-4eba-ac50-c86551a1095d"
      },
      "outputs": [
        {
          "data": {
            "text/plain": [
              "4"
            ]
          },
          "execution_count": 67,
          "metadata": {},
          "output_type": "execute_result"
        }
      ],
      "source": [
        "len(x)  # generally, just confusing"
      ]
    },
    {
      "cell_type": "code",
      "execution_count": 68,
      "metadata": {
        "colab": {
          "base_uri": "https://localhost:8080/"
        },
        "id": "Lu5xO9Fyqg-y",
        "outputId": "41c0d1c2-8d91-4435-dac3-177882749009"
      },
      "outputs": [
        {
          "data": {
            "text/plain": [
              "(4, 6)"
            ]
          },
          "execution_count": 68,
          "metadata": {},
          "output_type": "execute_result"
        }
      ],
      "source": [
        "x.shape"
      ]
    },
    {
      "cell_type": "code",
      "execution_count": 69,
      "metadata": {
        "colab": {
          "base_uri": "https://localhost:8080/"
        },
        "id": "LViMI4O-qg-y",
        "outputId": "5063bb40-94fd-4782-f325-649771054f9a"
      },
      "outputs": [
        {
          "data": {
            "text/plain": [
              "array([3, 4, 7, 2])"
            ]
          },
          "execution_count": 69,
          "metadata": {},
          "output_type": "execute_result"
        }
      ],
      "source": [
        "x[:, 2]  # column number 2"
      ]
    },
    {
      "cell_type": "code",
      "execution_count": 70,
      "metadata": {
        "colab": {
          "base_uri": "https://localhost:8080/"
        },
        "id": "_oQ4MA7nqg-y",
        "outputId": "4224834f-8f5b-41b2-d691-c27320c1638b"
      },
      "outputs": [
        {
          "data": {
            "text/plain": [
              "array([[2, 0, 7],\n",
              "       [2, 7, 2]])"
            ]
          },
          "execution_count": 70,
          "metadata": {},
          "output_type": "execute_result"
        }
      ],
      "source": [
        "x[2:, :3]"
      ]
    },
    {
      "cell_type": "code",
      "execution_count": 71,
      "metadata": {
        "colab": {
          "base_uri": "https://localhost:8080/"
        },
        "id": "mYPOCmV2qg-y",
        "outputId": "ebc82498-207c-4a65-9d3a-b76b3c05d6f5"
      },
      "outputs": [
        {
          "data": {
            "text/plain": [
              "array([[5, 1, 2, 2],\n",
              "       [9, 2, 0, 7],\n",
              "       [3, 4, 7, 2],\n",
              "       [0, 2, 5, 9],\n",
              "       [5, 0, 9, 2],\n",
              "       [0, 3, 0, 3]])"
            ]
          },
          "execution_count": 71,
          "metadata": {},
          "output_type": "execute_result"
        }
      ],
      "source": [
        "x.T"
      ]
    },
    {
      "cell_type": "code",
      "execution_count": 72,
      "metadata": {
        "colab": {
          "base_uri": "https://localhost:8080/"
        },
        "id": "_kPGy15yqg-y",
        "outputId": "0d6b9f03-a7dd-4fa3-f25d-d40b6a1b995d"
      },
      "outputs": [
        {
          "data": {
            "text/plain": [
              "array([[5, 9, 3, 0, 5, 0],\n",
              "       [1, 2, 4, 2, 0, 3],\n",
              "       [2, 0, 7, 5, 9, 0],\n",
              "       [2, 7, 2, 9, 2, 3]])"
            ]
          },
          "execution_count": 72,
          "metadata": {},
          "output_type": "execute_result"
        }
      ],
      "source": [
        "x"
      ]
    },
    {
      "cell_type": "code",
      "execution_count": 73,
      "metadata": {
        "colab": {
          "base_uri": "https://localhost:8080/"
        },
        "id": "j6B0y02Cqg-y",
        "outputId": "d6c9a0a9-db36-4206-f2df-fd47ecfa70bf"
      },
      "outputs": [
        {
          "data": {
            "text/plain": [
              "array([[     5,      9,      3,      0,      5,      0],\n",
              "       [     1, 555555,      4,      2,      0,      3],\n",
              "       [     2,      0,      7,      5,      9,      0],\n",
              "       [     2,      7,      2,      9,      2,      3]])"
            ]
          },
          "execution_count": 73,
          "metadata": {},
          "output_type": "execute_result"
        }
      ],
      "source": [
        "x[1, 1] = 555555\n",
        "x"
      ]
    },
    {
      "cell_type": "code",
      "execution_count": 74,
      "metadata": {
        "colab": {
          "base_uri": "https://localhost:8080/"
        },
        "id": "ySKyd90Xqg-y",
        "outputId": "c55297e5-af96-4ede-ad0f-af70a3becf1d"
      },
      "outputs": [
        {
          "data": {
            "text/plain": [
              "array([0., 0., 0., 0., 0.])"
            ]
          },
          "execution_count": 74,
          "metadata": {},
          "output_type": "execute_result"
        }
      ],
      "source": [
        "z = np.zeros(5)\n",
        "z"
      ]
    },
    {
      "cell_type": "code",
      "execution_count": 75,
      "metadata": {
        "colab": {
          "base_uri": "https://localhost:8080/"
        },
        "id": "MClPc-vZqg-y",
        "outputId": "00fa967c-2a4c-4602-9624-f07b283890f9"
      },
      "outputs": [
        {
          "data": {
            "text/plain": [
              "array([5., 0., 0., 0., 0.])"
            ]
          },
          "execution_count": 75,
          "metadata": {},
          "output_type": "execute_result"
        }
      ],
      "source": [
        "z[0] = 5\n",
        "z"
      ]
    },
    {
      "cell_type": "markdown",
      "metadata": {
        "id": "jbqmKa5Vqg-y"
      },
      "source": [
        "### Boolean Indexing"
      ]
    },
    {
      "cell_type": "code",
      "execution_count": 76,
      "metadata": {
        "colab": {
          "base_uri": "https://localhost:8080/"
        },
        "id": "WP0etgK4qg-y",
        "jupyter": {
          "outputs_hidden": false
        },
        "outputId": "14f25bee-905d-48fd-a338-77993046c68b"
      },
      "outputs": [
        {
          "data": {
            "text/plain": [
              "array([0.91823547, 0.21682214, 0.56518887, 0.86510256, 0.50896896,\n",
              "       0.91672295, 0.92115761, 0.08311249, 0.27771856, 0.0093567 ])"
            ]
          },
          "execution_count": 76,
          "metadata": {},
          "output_type": "execute_result"
        }
      ],
      "source": [
        "x = np.random.rand(10)\n",
        "x"
      ]
    },
    {
      "cell_type": "code",
      "execution_count": 77,
      "metadata": {
        "colab": {
          "base_uri": "https://localhost:8080/"
        },
        "id": "3dla7z6yqg-y",
        "jupyter": {
          "outputs_hidden": false
        },
        "outputId": "71565a50-e28c-4894-b132-31a9f8b67eab"
      },
      "outputs": [
        {
          "data": {
            "text/plain": [
              "array([1.91823547, 1.21682214, 1.56518887, 1.86510256, 1.50896896,\n",
              "       1.91672295, 1.92115761, 1.08311249, 1.27771856, 1.0093567 ])"
            ]
          },
          "execution_count": 77,
          "metadata": {},
          "output_type": "execute_result"
        }
      ],
      "source": [
        "x + 1"
      ]
    },
    {
      "cell_type": "code",
      "execution_count": 78,
      "metadata": {
        "colab": {
          "base_uri": "https://localhost:8080/"
        },
        "id": "THK2c339qg-y",
        "jupyter": {
          "outputs_hidden": false
        },
        "outputId": "9105a366-23eb-4744-fe8c-cc2b73dc73af"
      },
      "outputs": [
        {
          "data": {
            "text/plain": [
              "array([ True, False,  True,  True,  True,  True,  True, False, False,\n",
              "       False])"
            ]
          },
          "execution_count": 78,
          "metadata": {},
          "output_type": "execute_result"
        }
      ],
      "source": [
        "x_thresh = x > 0.5\n",
        "x_thresh"
      ]
    },
    {
      "cell_type": "code",
      "execution_count": 79,
      "metadata": {
        "colab": {
          "base_uri": "https://localhost:8080/"
        },
        "id": "ToD4ce2fqg-y",
        "jupyter": {
          "outputs_hidden": false
        },
        "outputId": "c6b82f86-5251-40bc-953a-3f76e6c1dfdb"
      },
      "outputs": [
        {
          "data": {
            "text/plain": [
              "array([0.5       , 0.21682214, 0.5       , 0.5       , 0.5       ,\n",
              "       0.5       , 0.5       , 0.08311249, 0.27771856, 0.0093567 ])"
            ]
          },
          "execution_count": 79,
          "metadata": {},
          "output_type": "execute_result"
        }
      ],
      "source": [
        "x[x_thresh] = 0.5  # set all elements  > 0.5 to be equal to 0.5\n",
        "x"
      ]
    },
    {
      "cell_type": "code",
      "execution_count": 80,
      "metadata": {
        "colab": {
          "base_uri": "https://localhost:8080/"
        },
        "id": "59Dx7XNeqg-y",
        "outputId": "c7897a77-f068-488a-ca2a-2418a51ccdae"
      },
      "outputs": [
        {
          "data": {
            "text/plain": [
              "array([0.84234208, 0.64717414, 0.84138612, 0.26473016, 0.39782075,\n",
              "       0.55282148, 0.16494046, 0.36980809, 0.14644176, 0.56961841])"
            ]
          },
          "execution_count": 80,
          "metadata": {},
          "output_type": "execute_result"
        }
      ],
      "source": [
        "x = np.random.rand(10)\n",
        "x"
      ]
    },
    {
      "cell_type": "code",
      "execution_count": 81,
      "metadata": {
        "colab": {
          "base_uri": "https://localhost:8080/"
        },
        "id": "l9D-HoESqg-z",
        "outputId": "0762667a-d45e-489a-86f2-d58d399dd9b3"
      },
      "outputs": [
        {
          "data": {
            "text/plain": [
              "array([0.5       , 0.5       , 0.5       , 0.26473016, 0.39782075,\n",
              "       0.5       , 0.16494046, 0.36980809, 0.14644176, 0.5       ])"
            ]
          },
          "execution_count": 81,
          "metadata": {},
          "output_type": "execute_result"
        }
      ],
      "source": [
        "x[x > 0.5] = 0.5\n",
        "x"
      ]
    },
    {
      "cell_type": "markdown",
      "metadata": {
        "id": "wsgI3Yb7qg-z"
      },
      "source": [
        "##  More Useful NumPy Functions"
      ]
    },
    {
      "cell_type": "markdown",
      "metadata": {
        "id": "nfQ9nUZgqg-z"
      },
      "source": [
        "Numpy has many built-in functions for mathematical operations, really it has almost every numerical operation you might want to do in its library. I'm not going to explore the whole library here, but as an example of some of the available functions, consider working out the hypotenuse of a triangle that with sides 3m and 4m:\n",
        "\n",
        "![](img/chapter5/triangle.png)"
      ]
    },
    {
      "cell_type": "code",
      "execution_count": 82,
      "metadata": {
        "id": "v1jHrXncqg-z"
      },
      "outputs": [],
      "source": [
        "sides = np.array([3, 4])"
      ]
    },
    {
      "cell_type": "markdown",
      "metadata": {
        "id": "3I-XULoOqg-z"
      },
      "source": [
        "There are several ways we could solve this problem. We could directly use Pythagoras's Theorem:\n",
        "\n",
        "$$c = \\sqrt{a^2+b^2}$$"
      ]
    },
    {
      "cell_type": "code",
      "execution_count": 83,
      "metadata": {
        "colab": {
          "base_uri": "https://localhost:8080/"
        },
        "id": "YaOYyQV6qg-z",
        "outputId": "a592bb75-508f-4470-c082-0cce4b887243"
      },
      "outputs": [
        {
          "data": {
            "text/plain": [
              "np.float64(5.0)"
            ]
          },
          "execution_count": 83,
          "metadata": {},
          "output_type": "execute_result"
        }
      ],
      "source": [
        "np.sqrt(np.sum([np.power(sides[0], 2), np.power(sides[1], 2)]))"
      ]
    },
    {
      "cell_type": "markdown",
      "metadata": {
        "id": "_wrIYwYWqg-z"
      },
      "source": [
        "We can leverage the fact that we're dealing with a numpy array and apply a \"vectorized\" operation (more on that in a bit) to the whole vector at one time:"
      ]
    },
    {
      "cell_type": "code",
      "execution_count": 84,
      "metadata": {
        "colab": {
          "base_uri": "https://localhost:8080/"
        },
        "id": "VE2DYS9Xqg-z",
        "outputId": "7ecbadeb-a5cb-4c68-bf85-13e84fd8aa35"
      },
      "outputs": [
        {
          "data": {
            "text/plain": [
              "np.float64(5.0)"
            ]
          },
          "execution_count": 84,
          "metadata": {},
          "output_type": "execute_result"
        }
      ],
      "source": [
        "(sides ** 2).sum() ** 0.5"
      ]
    },
    {
      "cell_type": "markdown",
      "metadata": {
        "id": "vivCTx5iqg-z"
      },
      "source": [
        "Or we can simply use a numpy built-in function (if it exists):"
      ]
    },
    {
      "cell_type": "code",
      "execution_count": 85,
      "metadata": {
        "colab": {
          "base_uri": "https://localhost:8080/"
        },
        "id": "zSZvu-L2qg-z",
        "outputId": "bea778c0-a248-4a4b-9ff4-d5c8d097a47d"
      },
      "outputs": [
        {
          "data": {
            "text/plain": [
              "np.float64(5.0)"
            ]
          },
          "execution_count": 85,
          "metadata": {},
          "output_type": "execute_result"
        }
      ],
      "source": [
        "np.linalg.norm(sides)  # you'll learn more about norms in 573"
      ]
    },
    {
      "cell_type": "code",
      "execution_count": 86,
      "metadata": {
        "colab": {
          "base_uri": "https://localhost:8080/"
        },
        "id": "O31h1v0Mqg-z",
        "outputId": "0adc5b78-cfc4-4ccb-e2e6-bcb39bfae120"
      },
      "outputs": [
        {
          "data": {
            "text/plain": [
              "np.float64(5.0)"
            ]
          },
          "execution_count": 86,
          "metadata": {},
          "output_type": "execute_result"
        }
      ],
      "source": [
        "np.hypot(*sides)"
      ]
    },
    {
      "cell_type": "markdown",
      "metadata": {
        "id": "j70yXEw5qg-z"
      },
      "source": [
        "### Vectorization"
      ]
    },
    {
      "cell_type": "markdown",
      "metadata": {
        "id": "kCN-YwYcqg-z"
      },
      "source": [
        " Because numpy arrays are homogenous (contain the same dtype), we don't need to check that we can perform an operation on elements of a sequence before we do the operation which results in a huge speed-up. You can kind of think of this concept as NumPy being able to perform an operation on the whole array at the same time rather than one-by-one. You can read more about vectorization [here](https://www.pythonlikeyoumeanit.com/Module3_IntroducingNumpy/VectorizedOperations.html) but all you need to know is that most operations in NumPy are vectorized, so just try to do things at an \"array-level\" rather than an \"element-level\", e.g.:"
      ]
    },
    {
      "cell_type": "code",
      "execution_count": 87,
      "metadata": {
        "colab": {
          "base_uri": "https://localhost:8080/"
        },
        "id": "4vfvi_y7qg-z",
        "outputId": "9e2314d7-9e93-4198-b4b2-7d500234d6e1"
      },
      "outputs": [
        {
          "data": {
            "text/plain": [
              "array([ 0,  1,  4,  9, 16])"
            ]
          },
          "execution_count": 87,
          "metadata": {},
          "output_type": "execute_result"
        }
      ],
      "source": [
        "# DONT DO THIS\n",
        "array = np.array(range(5))\n",
        "for i, element in enumerate(array):\n",
        "    array[i] = element ** 2\n",
        "array"
      ]
    },
    {
      "cell_type": "code",
      "execution_count": 88,
      "metadata": {
        "id": "K2vG7su5qg-z"
      },
      "outputs": [],
      "source": [
        "# DO THIS\n",
        "array = np.array(range(5))\n",
        "array **= 2"
      ]
    },
    {
      "cell_type": "markdown",
      "metadata": {
        "id": "ejqMaalsqg-z"
      },
      "source": [
        "Let's do a quick timing experiment:"
      ]
    },
    {
      "cell_type": "code",
      "execution_count": 89,
      "metadata": {
        "colab": {
          "base_uri": "https://localhost:8080/"
        },
        "id": "YF335cfYqg-z",
        "outputId": "a7e40ad0-e710-41a7-8b78-d23de3349742"
      },
      "outputs": [
        {
          "name": "stdout",
          "output_type": "stream",
          "text": [
            "Vectorized operation is 3.34x faster than looping here.\n"
          ]
        }
      ],
      "source": [
        "# loop method\n",
        "array = np.array(range(5))\n",
        "time_loop = %timeit -q -o -r 3 for i, element in enumerate(array): array[i] = element ** 2\n",
        "# vectorized method\n",
        "array = np.array(range(5))\n",
        "time_vec = %timeit -q -o -r 3 array ** 2\n",
        "print(f\"Vectorized operation is {time_loop.average / time_vec.average:.2f}x faster than looping here.\")"
      ]
    },
    {
      "cell_type": "markdown",
      "metadata": {
        "id": "9JijpIY3rGps"
      },
      "source": [
        "# Practice Questions\n",
        "\n",
        "1. What is the meaning of this code: `np.random.randint(1, 10, size=6)`\n",
        "\n",
        "2.  What is the meaning of this code: `x = np.random.randint(10, size=6)`\n",
        "\n",
        "\n",
        "3. What is the difference between `np.array()` and `np.zeros()`?  \n",
        "\n",
        "4. How do you create a NumPy array with values from 1 to 10, inclusive?  \n",
        "\n",
        "5. What does `arr.dtype` tell you about a NumPy array?  \n",
        "\n",
        "\n",
        "6. How can you access the element at the second row and third column of a 2D array?  \n",
        "\n",
        "\n",
        "7. What is the purpose of `np.random.seed()`?\n",
        "\n",
        "\n",
        "\n"
      ]
    },
    {
      "cell_type": "markdown",
      "metadata": {
        "id": "G9ahQW_3EX-g"
      },
      "source": [
        "1. What is the meaning of this code: `np.random.randint(1, 10, size=6)`\n",
        "\n",
        "`np.random.randint()` This part uses NumPy's random number generator to create an array of random integers. The code creates an array named values containing 6 random integers between 1 (inclusive) and 10 (exclusive). So, the array values will contain 6 numbers picked randomly from the set: {1, 2, 3, 4, 5, 6, 7, 8, 9}.\n",
        "\n",
        "2.  What is the meaning of this code: `x = np.random.randint(10, size=6)`\n",
        "\n",
        "The code creates an array named x containing 6 random integers between 0 (inclusive) and 10 (exclusive). So, x will have 6 numbers picked randomly from the set: {0, 1, 2, 3, 4, 5, 6, 7, 8, 9}.\n",
        "\n",
        "3. What is the difference between `np.array()` and `np.zeros()`?  \n",
        "\n",
        "* `np.array()` creates an array from existing data (like a list or tuple).\n",
        "* `np.zeros()` creates an array filled with zeros, where you specify the shape and data type.\n",
        "\n",
        "4. How do you create a NumPy array with values from 1 to 10, inclusive? (Tests knowledge of np.arange() or similar functions)\n",
        "\n",
        "`arr = np.arange(1, 11)` # np.arange() is like Python's range() but creates an array\n",
        "\n",
        "\n",
        "5. What does `arr.dtype` tell you about a NumPy array?  \n",
        "\n",
        "`arr.dtype` tells you the data type of the elements in the array (e.g., int64, float32, etc.). It's important for understanding how the data is stored and the operations that can be performed on it.\n",
        "\n",
        "\n",
        "6. How can you access the element at the second row and third column of a 2D array?  \n",
        "\n",
        "`arr_2d = np.array([[1, 2, 3], [4, 5, 6]])`\n",
        "\n",
        "`element = arr_2d[1, 2]  # Access element at row 1, column 2 (which is 6)`\n",
        "\n",
        "\n",
        "7. What is the purpose of `np.random.seed()`?\n",
        "\n",
        "`np.random.seed()` sets the seed for the random number generator. This ensures that you get the same sequence of random numbers each time you run your code with the same seed value, which is useful for reproducibility.\n",
        "\n"
      ]
    }
  ],
  "metadata": {
    "colab": {
      "provenance": []
    },
    "kernelspec": {
      "display_name": "Python 3",
      "language": "python",
      "name": "python3"
    },
    "language_info": {
      "codemirror_mode": {
        "name": "ipython",
        "version": 3
      },
      "file_extension": ".py",
      "mimetype": "text/x-python",
      "name": "python",
      "nbconvert_exporter": "python",
      "pygments_lexer": "ipython3",
      "version": "3.10.12"
    },
    "toc": {
      "base_numbering": 1,
      "nav_menu": {},
      "number_sections": false,
      "sideBar": true,
      "skip_h1_title": true,
      "title_cell": "Lecture Outline",
      "title_sidebar": "Contents",
      "toc_cell": true,
      "toc_position": {},
      "toc_section_display": true,
      "toc_window_display": true
    }
  },
  "nbformat": 4,
  "nbformat_minor": 0
}
