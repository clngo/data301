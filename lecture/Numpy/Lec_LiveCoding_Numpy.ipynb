{
  "cells": [
    {
      "cell_type": "code",
      "execution_count": 89,
      "metadata": {
        "id": "SRtsyoI1edbR"
      },
      "outputs": [],
      "source": [
        "import numpy as np"
      ]
    },
    {
      "cell_type": "code",
      "execution_count": 90,
      "metadata": {
        "id": "WFQ2NqojedW9"
      },
      "outputs": [
        {
          "name": "stdout",
          "output_type": "stream",
          "text": [
            "[0 1 2 3 4 5 6 7 8 9]\n",
            "<class 'numpy.ndarray'>\n"
          ]
        }
      ],
      "source": [
        "#generate an array\n",
        "my_array = np.arange(10) #10 represents the stop value & default start counting from 0\n",
        "print(my_array)\n",
        "#print the data type\n",
        "print(type(my_array))"
      ]
    },
    {
      "cell_type": "code",
      "execution_count": 91,
      "metadata": {
        "id": "1X2eJqjGedTd"
      },
      "outputs": [
        {
          "name": "stdout",
          "output_type": "stream",
          "text": [
            "[1 2 3 4 5 6 7]\n"
          ]
        }
      ],
      "source": [
        "my_arrange = np.arange(1,8)\n",
        "print(my_arrange)"
      ]
    },
    {
      "cell_type": "code",
      "execution_count": 92,
      "metadata": {
        "id": "_fA1xOTsedMK"
      },
      "outputs": [
        {
          "name": "stdout",
          "output_type": "stream",
          "text": [
            "[1 3 5 7 9]\n"
          ]
        }
      ],
      "source": [
        "#include only the odd digits: start, stop, step\n",
        "my_array = np.arange(1,10,2)\n",
        "print(my_array)"
      ]
    },
    {
      "cell_type": "code",
      "execution_count": 93,
      "metadata": {
        "id": "rn9tnEMVedIq"
      },
      "outputs": [],
      "source": [
        "#we can also have step size as a floating point\n",
        "my_array = np.arange(1,10,0.5)"
      ]
    },
    {
      "cell_type": "code",
      "execution_count": 94,
      "metadata": {
        "id": "gcMAtLH9hxuc"
      },
      "outputs": [
        {
          "data": {
            "text/plain": [
              "array([-1. , -0.5,  0. ,  0.5,  1. ,  1.5,  2. ,  2.5,  3. ,  3.5,  4. ,\n",
              "        4.5,  5. ,  5.5,  6. ,  6.5,  7. ,  7.5,  8. ,  8.5,  9. ])"
            ]
          },
          "execution_count": 94,
          "metadata": {},
          "output_type": "execute_result"
        }
      ],
      "source": [
        "#we can also have negative numbers\n",
        "my_array = np.arange(-1,9.25,0.5)\n",
        "\n",
        "#so we can use arange to generate all kinds of sequences\n",
        "my_array"
      ]
    },
    {
      "cell_type": "markdown",
      "metadata": {
        "id": "OOQi7X_fhxcv"
      },
      "source": []
    },
    {
      "cell_type": "markdown",
      "metadata": {
        "id": "2cVf-deXhnxm"
      },
      "source": [
        "Arrays can be generated from lists as well"
      ]
    },
    {
      "cell_type": "code",
      "execution_count": 95,
      "metadata": {
        "colab": {
          "base_uri": "https://localhost:8080/"
        },
        "id": "zV4Q3JbIU_fR",
        "outputId": "9a7c2ab1-4bce-4005-90f3-f1e542fac0b8"
      },
      "outputs": [
        {
          "name": "stdout",
          "output_type": "stream",
          "text": [
            "[1.  2.3 4. ]\n"
          ]
        }
      ],
      "source": [
        "import numpy as np\n",
        "from_list = np.array([1,2.3,4])\n",
        "print(from_list)"
      ]
    },
    {
      "cell_type": "markdown",
      "metadata": {
        "id": "Jy1fzNHsiE8f"
      },
      "source": [
        "### Purpose of converting list to array:\n",
        "a list can store all kinds of data types such as a list, floating, dictionary, etc. But this flexibility wastes a lot of resources. For example: a boolean takes less ,memory space than a string since it can take only two values. But for a string datatype consider a single character, it can be either 26 lowercase letters, or either one of 26 lowercase letters or either of 10 digits or either one of the 10+ punctuation symbols. So for one single character there are 70+ available options. Thus it may not be efficient to store boolean and string data types in the same list.\n",
        "On the other hand hand, we can specify the amount of memory space to numpy  arrays inorder to store the data only if they are of the same type."
      ]
    },
    {
      "cell_type": "code",
      "execution_count": 96,
      "metadata": {
        "id": "NvmZ2KFeElmh"
      },
      "outputs": [
        {
          "name": "stdout",
          "output_type": "stream",
          "text": [
            "<class 'numpy.int64'>\n"
          ]
        }
      ],
      "source": [
        "from_list = np.array([1,2,3])\n",
        "print(type(from_list[0]))"
      ]
    },
    {
      "cell_type": "markdown",
      "metadata": {
        "id": "Q2n44CeIE1oD"
      },
      "source": [
        "Question: Do we really need 64 bits to store these three numbers?\n",
        "To confirm this, we need to convert these decimal numbers into binary numbers:\n",
        "```\n",
        "Decimal    Binary\n",
        "1            01\n",
        "2            10\n",
        "3            11\n",
        "```\n",
        "\n",
        "So realistically our biggest number `3` takes only 2 bits. So we don't really need 64 bits to store these three integer (decimal) numbers. We need to specify a data type argument to set the number of bits to store these numbers."
      ]
    },
    {
      "cell_type": "code",
      "execution_count": 97,
      "metadata": {
        "id": "ehS6WeceF8yj"
      },
      "outputs": [
        {
          "name": "stdout",
          "output_type": "stream",
          "text": [
            "<class 'numpy.int8'>\n"
          ]
        }
      ],
      "source": [
        "from_list = np.array([1,2,3],dtype = np.int8)\n",
        "print(type(from_list[0]))"
      ]
    },
    {
      "cell_type": "markdown",
      "metadata": {
        "id": "jxHEh5PlF9H0"
      },
      "source": [
        "But just because we are taking less space to store these numbers, it does not mean that our code has become efficient that is it takes less time. Execution or time efficiency depends on the hardware and operating system."
      ]
    },
    {
      "cell_type": "markdown",
      "metadata": {
        "id": "_dXWTqASHiVS"
      },
      "source": [
        "## Multi Dimensional Dimensional Arrays\n",
        "\n",
        "* Two Dimensional Arrays\n",
        "\n",
        "-- Option 1: Use two dimensional lists\n",
        "\n",
        "-- Option 2: Use arange with two arange as a list or tuple"
      ]
    },
    {
      "cell_type": "code",
      "execution_count": 98,
      "metadata": {
        "colab": {
          "base_uri": "https://localhost:8080/"
        },
        "id": "RxNm0k7HIACY",
        "outputId": "ad722e15-244b-4943-94aa-c5c0b95a7872"
      },
      "outputs": [
        {
          "name": "stdout",
          "output_type": "stream",
          "text": [
            "[[1 2 3]\n",
            " [4 5 6]]\n"
          ]
        }
      ],
      "source": [
        "#Option-1: 2D array\n",
        "import numpy as np\n",
        "from_list = np.array([[1,2,3],[4,5,6]],dtype = np.int8)\n",
        "print(from_list)"
      ]
    },
    {
      "cell_type": "code",
      "execution_count": 99,
      "metadata": {
        "id": "0hPLCj8UJQ9E"
      },
      "outputs": [],
      "source": [
        "#Option-2: using arange passing a list or tuple\n",
        "array_2d = np.array((np.arange(0,3),np.arange(3,6)))\n"
      ]
    },
    {
      "cell_type": "code",
      "execution_count": 100,
      "metadata": {
        "colab": {
          "base_uri": "https://localhost:8080/"
        },
        "id": "XS2l_p2aJrE2",
        "outputId": "3ce614c5-d44d-43d8-be5b-63b828676347"
      },
      "outputs": [
        {
          "name": "stdout",
          "output_type": "stream",
          "text": [
            "2D shape: (2, 3)\n"
          ]
        }
      ],
      "source": [
        "#verify if it is a two dimensional array or not\n",
        "print(\"2D shape:\",array_2d.shape)"
      ]
    },
    {
      "cell_type": "code",
      "execution_count": 101,
      "metadata": {
        "colab": {
          "base_uri": "https://localhost:8080/"
        },
        "id": "E_xWOwa0J-zK",
        "outputId": "84a5b73e-1f48-4d9f-c949-13acf1ced60b"
      },
      "outputs": [
        {
          "name": "stdout",
          "output_type": "stream",
          "text": [
            "[[0 1]\n",
            " [2 3]\n",
            " [4 5]]\n",
            "\n",
            "\n",
            "[[0 1]\n",
            " [2 3]\n",
            " [4 5]]\n"
          ]
        }
      ],
      "source": [
        "#Changing the shape of the array using reshape\n",
        "array_2D = array_2d.reshape(3,2)\n",
        "print(array_2D)\n",
        "print(\"\\n\")\n",
        "#or\n",
        "array_2d = np.arange(0,6).reshape(3,2)\n",
        "print(array_2d)"
      ]
    },
    {
      "cell_type": "code",
      "execution_count": 102,
      "metadata": {
        "colab": {
          "base_uri": "https://localhost:8080/"
        },
        "id": "3AnFFsUmKJZr",
        "outputId": "50058087-3b45-4784-d6e0-89e9bb004f40"
      },
      "outputs": [
        {
          "data": {
            "text/plain": [
              "array([0, 1, 2, 3, 4, 5])"
            ]
          },
          "execution_count": 102,
          "metadata": {},
          "output_type": "execute_result"
        }
      ],
      "source": [
        "#flattened array\n",
        "array_1d = array_2d.reshape(6)\n",
        "array_1d\n"
      ]
    },
    {
      "cell_type": "markdown",
      "metadata": {
        "id": "1Uk7qJ_26_H8"
      },
      "source": [
        "* Three Dimensional Arrays\n",
        "```\n",
        "array.reshape(depth, rows, columns)\n",
        "```\n",
        "```\n",
        "array_3D = np.arange(18).reshape(3,2,3)\n",
        "```\n",
        "The first argument (3) is the number of layers or depth (how many 2D matrices you have).\n",
        "\n",
        "The second argument (2) is the number of rows in each 2D matrix.\n",
        "\n",
        "The third argument (3) is the number of columns in each row of the 2D matrix."
      ]
    },
    {
      "cell_type": "code",
      "execution_count": null,
      "metadata": {
        "colab": {
          "base_uri": "https://localhost:8080/"
        },
        "id": "0H0jRDJLLPm5",
        "outputId": "5122ba7a-9bbc-4701-d8b9-0eb4e091f581"
      },
      "outputs": [],
      "source": []
    },
    {
      "cell_type": "code",
      "execution_count": 103,
      "metadata": {
        "colab": {
          "base_uri": "https://localhost:8080/"
        },
        "id": "WvL1pm7559h-",
        "outputId": "1eafc719-e590-4af0-db18-dba309ca1f59"
      },
      "outputs": [
        {
          "data": {
            "text/plain": [
              "array([[[ 0,  1],\n",
              "        [ 2,  3]],\n",
              "\n",
              "       [[ 4,  5],\n",
              "        [ 6,  7]],\n",
              "\n",
              "       [[ 8,  9],\n",
              "        [10, 11]]])"
            ]
          },
          "execution_count": 103,
          "metadata": {},
          "output_type": "execute_result"
        }
      ],
      "source": [
        "# Create a 3D matrix with 2x2 matrices\n",
        "array_3D_2x2 = np.arange(12).reshape(3, 2, 2)\n",
        "array_3D_2x2"
      ]
    },
    {
      "cell_type": "markdown",
      "metadata": {
        "id": "IQLiSodHLiMR"
      },
      "source": [
        "**Sometime we don't know which values to store in an array**\n",
        "So we create empty arrays: Numpy has 4 options:"
      ]
    },
    {
      "cell_type": "code",
      "execution_count": 104,
      "metadata": {
        "id": "_QCruQ3tNlzJ"
      },
      "outputs": [
        {
          "name": "stdout",
          "output_type": "stream",
          "text": [
            "[[0. 0.]\n",
            " [0. 0.]]\n"
          ]
        }
      ],
      "source": [
        "empty_array1 = np.zeros((2,2))\n",
        "print(empty_array1)"
      ]
    },
    {
      "cell_type": "code",
      "execution_count": 105,
      "metadata": {
        "id": "9g_ThmgnNsQr"
      },
      "outputs": [
        {
          "name": "stdout",
          "output_type": "stream",
          "text": [
            "[[1. 1.]\n",
            " [1. 1.]]\n"
          ]
        }
      ],
      "source": [
        "empty_array2 = np.ones((2,2))\n",
        "print(empty_array2)"
      ]
    },
    {
      "cell_type": "code",
      "execution_count": 106,
      "metadata": {
        "id": "Ohswhi1YNxhQ"
      },
      "outputs": [
        {
          "name": "stdout",
          "output_type": "stream",
          "text": [
            "[[1. 1.]\n",
            " [1. 1.]]\n"
          ]
        }
      ],
      "source": [
        "\n",
        "empty_array3 = np.empty((2,2))\n",
        "print(empty_array3) #we get similar results to np.zero()"
      ]
    },
    {
      "cell_type": "code",
      "execution_count": 107,
      "metadata": {
        "id": "0CHl-oi_OAbH"
      },
      "outputs": [
        {
          "name": "stdout",
          "output_type": "stream",
          "text": [
            "[[[5.13881633e-310 0.00000000e+000]\n",
            "  [0.00000000e+000 0.00000000e+000]]\n",
            "\n",
            " [[0.00000000e+000 0.00000000e+000]\n",
            "  [0.00000000e+000 0.00000000e+000]]]\n"
          ]
        }
      ],
      "source": [
        "#if we change the shape we get different result\n",
        "empty_array3 = np.empty((2,2,2))\n",
        "print(empty_array3)\n",
        "#empty returns random values. PRolematic: since it returns unexpected values"
      ]
    },
    {
      "cell_type": "code",
      "execution_count": 108,
      "metadata": {
        "id": "s04p-vVaOVsx"
      },
      "outputs": [
        {
          "name": "stdout",
          "output_type": "stream",
          "text": [
            "[[1. 0. 0.]\n",
            " [0. 1. 0.]\n",
            " [0. 0. 1.]]\n"
          ]
        }
      ],
      "source": [
        "empty_array4 = np.eye((3))\n",
        "print(empty_array4)"
      ]
    },
    {
      "cell_type": "code",
      "execution_count": 109,
      "metadata": {
        "id": "ZZ9yBwoNOdet"
      },
      "outputs": [
        {
          "name": "stdout",
          "output_type": "stream",
          "text": [
            "[[0. 0. 0.]\n",
            " [1. 0. 0.]\n",
            " [0. 1. 0.]]\n"
          ]
        }
      ],
      "source": [
        "#We are not limited to the main diagonal only. We can set the value of 1 above and below the main diagonal\n",
        "#setting the value 1 below the diagonal using k value\n",
        "eye_array = np.eye(3,k=-1)\n",
        "print(eye_array)"
      ]
    },
    {
      "cell_type": "code",
      "execution_count": 110,
      "metadata": {
        "id": "RsMHrhn_O9sB"
      },
      "outputs": [
        {
          "name": "stdout",
          "output_type": "stream",
          "text": [
            "[[0. 1. 0.]\n",
            " [0. 0. 1.]\n",
            " [0. 0. 0.]]\n"
          ]
        }
      ],
      "source": [
        "eye_array = np.eye(3,k=1)\n",
        "print(eye_array)"
      ]
    },
    {
      "cell_type": "markdown",
      "metadata": {
        "id": "x3Fw_cwMEnUo"
      },
      "source": [
        "### Random Arrays:\n",
        "\n",
        "* `np.random.randint(low, high, size)`\n",
        "Generates a random integer array from a specified range (low to high), with the specified shape (size).\n",
        "\n",
        "  -- Parameters:\n",
        "\n",
        "  -- low: Lower bound (inclusive).\n",
        "\n",
        "  -- high: Upper bound (exclusive).\n",
        "\n",
        "  -- size: The shape of the output array.\n",
        "\n",
        "\n",
        "\n",
        "* `np.random.rand(size)`\n",
        "Generates an array of random floats between 0 and 1, following a uniform distribution. The size specifies the shape of the array.\n",
        "\n",
        "  -- Parameters:\n",
        "\n",
        "  -- size: The shape of the output array (e.g., (3, 3) for a 3x3 array).\n",
        "\n",
        "* `np.random.randn(size)`\n",
        "Generates a random array with values sampled from a standard normal distribution (mean = 0, standard deviation = 1).\n",
        "\n",
        "  -- Parameters:\n",
        "\n",
        "  -- size: The shape of the output array.\n",
        "\n",
        "* `np.random.uniform(low, high, size)`\n",
        "Generates a random array with values sampled from a uniform distribution between low and high."
      ]
    },
    {
      "cell_type": "code",
      "execution_count": 111,
      "metadata": {
        "colab": {
          "base_uri": "https://localhost:8080/"
        },
        "id": "SYNPirA_E1nT",
        "outputId": "be05348f-bbf7-4465-ce4f-f30bd6f8fcb4"
      },
      "outputs": [
        {
          "name": "stdout",
          "output_type": "stream",
          "text": [
            "[[0 5 3]\n",
            " [2 9 0]\n",
            " [8 9 1]]\n"
          ]
        }
      ],
      "source": [
        "import numpy as np\n",
        "array = np.random.randint(0, 10, size=(3, 3))\n",
        "print(array)\n",
        "#This will generate a 3x3 array of random integers between 0 (inclusive) and 10 (exclusive).\n"
      ]
    },
    {
      "cell_type": "code",
      "execution_count": 112,
      "metadata": {
        "colab": {
          "base_uri": "https://localhost:8080/"
        },
        "id": "DOVA7fZrFMr4",
        "outputId": "adff45a0-cc00-45da-b318-331ca6d6fa54"
      },
      "outputs": [
        {
          "name": "stdout",
          "output_type": "stream",
          "text": [
            "[[0.9238945  0.52032196 0.43273675]\n",
            " [0.86797768 0.34369641 0.84140076]\n",
            " [0.64704957 0.0520596  0.75268601]]\n"
          ]
        }
      ],
      "source": [
        "array = np.random.rand(3, 3)\n",
        "print(array)\n",
        "#This will generate a 3x3 array of random floats between 0 and 1."
      ]
    },
    {
      "cell_type": "code",
      "execution_count": 113,
      "metadata": {
        "colab": {
          "base_uri": "https://localhost:8080/"
        },
        "id": "xE7mublwG0P3",
        "outputId": "afbf8ead-707d-489f-9303-fac21798c07e"
      },
      "outputs": [
        {
          "name": "stdout",
          "output_type": "stream",
          "text": [
            "[[-0.22938795 -0.37002086 -1.16077708]\n",
            " [ 0.11696411  0.02179981  0.06443952]\n",
            " [ 0.3235947  -0.58883296  1.99496324]]\n"
          ]
        }
      ],
      "source": [
        "array = np.random.randn(3, 3)\n",
        "print(array)\n"
      ]
    },
    {
      "cell_type": "code",
      "execution_count": 114,
      "metadata": {
        "colab": {
          "base_uri": "https://localhost:8080/"
        },
        "id": "_hvWtH5rG6y0",
        "outputId": "71e00a4b-acb5-4b06-ea96-ed65b8f76605"
      },
      "outputs": [
        {
          "name": "stdout",
          "output_type": "stream",
          "text": [
            "[[2.14533803 3.62835202 7.93896747]\n",
            " [8.13237884 4.55515313 1.99858661]\n",
            " [6.27030059 4.94706959 2.83681645]]\n"
          ]
        }
      ],
      "source": [
        "array = np.random.uniform(0, 10, size=(3, 3))\n",
        "print(array)\n"
      ]
    },
    {
      "cell_type": "markdown",
      "metadata": {
        "id": "57TJlPMUPGzK"
      },
      "source": [
        "### Manipulate the values of the eye array"
      ]
    },
    {
      "cell_type": "code",
      "execution_count": 115,
      "metadata": {
        "id": "W9gI372LPB6_"
      },
      "outputs": [
        {
          "name": "stdout",
          "output_type": "stream",
          "text": [
            "[[5. 1. 5.]\n",
            " [5. 5. 1.]\n",
            " [5. 5. 5.]]\n"
          ]
        }
      ],
      "source": [
        "eye_array = np.eye(3,k=1)\n",
        "eye_array[eye_array == 0] = 5\n",
        "print(eye_array)"
      ]
    },
    {
      "cell_type": "code",
      "execution_count": 116,
      "metadata": {
        "id": "VtAv0o6MPU47"
      },
      "outputs": [
        {
          "name": "stdout",
          "output_type": "stream",
          "text": [
            "[[ 5. 10.  5.]\n",
            " [ 5.  5. 10.]\n",
            " [ 5.  5.  5.]]\n"
          ]
        }
      ],
      "source": [
        "#change all values which are < 2 to 10\n",
        "eye_array[eye_array < 2] = 10\n",
        "print(eye_array)"
      ]
    },
    {
      "cell_type": "markdown",
      "metadata": {
        "id": "FnKIL7adPnou"
      },
      "source": [
        "## Array Slicing"
      ]
    },
    {
      "cell_type": "code",
      "execution_count": 117,
      "metadata": {
        "id": "__kyHvdXPpvG"
      },
      "outputs": [],
      "source": [
        "eye_array[:2] = 3 #selecting first two rows"
      ]
    },
    {
      "cell_type": "code",
      "execution_count": 118,
      "metadata": {
        "id": "q7NOJiudPt8c"
      },
      "outputs": [],
      "source": [
        "#selecting all last rows except for the first row\n",
        "eye_array[1:] = 5"
      ]
    },
    {
      "cell_type": "code",
      "execution_count": 119,
      "metadata": {
        "id": "6Bw5UMPOP3_S"
      },
      "outputs": [],
      "source": [
        "#change only the second column to 2\n",
        "eye_array[:,1]=2"
      ]
    },
    {
      "cell_type": "code",
      "execution_count": 120,
      "metadata": {
        "id": "L7SpQdspQFSZ"
      },
      "outputs": [],
      "source": [
        "#we can select from the end of the array: change the last column\n",
        "eye_array[:,-1] = 4"
      ]
    },
    {
      "cell_type": "code",
      "execution_count": 121,
      "metadata": {
        "id": "Ipiey4u6QNp_"
      },
      "outputs": [
        {
          "name": "stdout",
          "output_type": "stream",
          "text": [
            "[[ 3.  2.  4.]\n",
            " [-1. -1.  4.]\n",
            " [-1. -1.  4.]]\n"
          ]
        }
      ],
      "source": [
        "#select the last two rows and first 2 columns and change the values to -1\n",
        "eye_array[1:,:2] = -1\n",
        "print(eye_array)"
      ]
    },
    {
      "cell_type": "markdown",
      "metadata": {
        "id": "LAZpwtBBQws1"
      },
      "source": [
        "## Sort Arrays"
      ]
    },
    {
      "cell_type": "code",
      "execution_count": 125,
      "metadata": {
        "id": "0u7zmb3-QzWX"
      },
      "outputs": [
        {
          "name": "stdout",
          "output_type": "stream",
          "text": [
            "original Array \n",
            "\n",
            "[[ 3.  2.  4.]\n",
            " [-1. -1.  4.]\n",
            " [-1. -1.  4.]]\n",
            "second sort\n",
            "[[ 2.  3.  4.]\n",
            " [-1. -1.  4.]\n",
            " [-1. -1.  4.]]\n",
            "\n",
            "Sorting by Colm\n",
            "[[-1. -1.  4.]\n",
            " [-1. -1.  4.]\n",
            " [ 3.  2.  4.]]\n"
          ]
        }
      ],
      "source": [
        "print(\"original Array\",\"\\n\")\n",
        "print(eye_array)\n",
        "\n",
        "print(\"second sort\")\n",
        "sorted = np.sort(eye_array)\n",
        "print(sorted) #quick sort sorting by rows default -1 (either rows or colm)\n",
        "#comparing with th original array\n",
        "\n",
        "print(\"\\nSorting by Colm\")\n",
        "sorted = np.sort(eye_array,axis = 0)\n",
        "print(sorted)\n",
        "#other sorting algorithm\n",
        "#np.sort(eye_array,axis = 0,kind=\"mergesort\")"
      ]
    },
    {
      "cell_type": "markdown",
      "metadata": {
        "id": "3XkTU4TJ3BIN"
      },
      "source": [
        "### copy arrays - duplicates of an array can be created by two methods\n",
        "* view(): any modifications to the values of a duplicate of the original array will also modify the values within the original array. No modifications of the shape happens if we change the shape\n",
        "\n",
        "* copy(): any modifications to a duplicate of the original will not  modify the values of the original array"
      ]
    },
    {
      "cell_type": "code",
      "execution_count": 123,
      "metadata": {
        "id": "NK73wEn_20jh"
      },
      "outputs": [
        {
          "ename": "NameError",
          "evalue": "name 'sorted_array' is not defined",
          "output_type": "error",
          "traceback": [
            "\u001b[0;31m---------------------------------------------------------------------------\u001b[0m",
            "\u001b[0;31mNameError\u001b[0m                                 Traceback (most recent call last)",
            "Cell \u001b[0;32mIn[123], line 1\u001b[0m\n\u001b[0;32m----> 1\u001b[0m my_view \u001b[38;5;241m=\u001b[39m \u001b[43msorted_array\u001b[49m\u001b[38;5;241m.\u001b[39mview()\n\u001b[1;32m      2\u001b[0m my_copy \u001b[38;5;241m=\u001b[39m sorted_array\u001b[38;5;241m.\u001b[39mcopy()\n\u001b[1;32m      4\u001b[0m \u001b[38;5;66;03m#assign all values of my_view to 4\u001b[39;00m\n",
            "\u001b[0;31mNameError\u001b[0m: name 'sorted_array' is not defined"
          ]
        }
      ],
      "source": [
        "my_view = sorted_array.view()\n",
        "my_copy = sorted_array.copy()\n",
        "\n",
        "#assign all values of my_view to 4\n",
        "my_view[:] = 4\n",
        "print(my_view,\"\\n\")\n",
        "print(sorted_array) #we see that we have modified the original array"
      ]
    },
    {
      "cell_type": "code",
      "execution_count": null,
      "metadata": {
        "id": "ngT-3KFm4D6m"
      },
      "outputs": [],
      "source": [
        "#assign all values of my_copy to 4\n",
        "my_copy[:] = 4\n",
        "print(my_copy,\"\\n\")\n",
        "print(sorted_array)"
      ]
    },
    {
      "cell_type": "code",
      "execution_count": null,
      "metadata": {
        "id": "6z8dvZVC4jnX"
      },
      "outputs": [],
      "source": [
        "#will shape of the original array change if we change the chape of the duplicate via the view array method?\n",
        "my_view = my_view.reshape(3,3,1)\n",
        "print(my_view,\"\\n\")\n",
        "print(sorted_array)"
      ]
    }
  ],
  "metadata": {
    "colab": {
      "provenance": []
    },
    "kernelspec": {
      "display_name": "Python 3",
      "name": "python3"
    },
    "language_info": {
      "codemirror_mode": {
        "name": "ipython",
        "version": 3
      },
      "file_extension": ".py",
      "mimetype": "text/x-python",
      "name": "python",
      "nbconvert_exporter": "python",
      "pygments_lexer": "ipython3",
      "version": "3.10.12"
    }
  },
  "nbformat": 4,
  "nbformat_minor": 0
}
